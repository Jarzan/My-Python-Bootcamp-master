{
 "cells": [
  {
   "cell_type": "markdown",
   "metadata": {},
   "source": [
    "# Complete-Python-Bootcamp: My \"Sandbox\" for the Course"
   ]
  },
  {
   "cell_type": "markdown",
   "metadata": {},
   "source": [
    "### Kurssi aloitettu 16. kesäkuuta 2019"
   ]
  },
  {
   "cell_type": "markdown",
   "metadata": {},
   "source": [
    "Huom: Kirjoitan näille sivuille osiokohtaisesti huomioita ja muistiinpanoja sekä erinäistä koodiprotoilua."
   ]
  },
  {
   "cell_type": "markdown",
   "metadata": {},
   "source": [
    "## 2.5. Command line"
   ]
  },
  {
   "cell_type": "code",
   "execution_count": 1,
   "metadata": {},
   "outputs": [
    {
     "data": {
      "text/plain": [
       "'/Users/jarijokela/Opiskelu/Ohjelmointi/Python/UdemyPythonBootcamp/Complete-Python-Bootcamp-master'"
      ]
     },
     "execution_count": 1,
     "metadata": {},
     "output_type": "execute_result"
    }
   ],
   "source": [
    "pwd"
   ]
  },
  {
   "cell_type": "markdown",
   "metadata": {},
   "source": [
    "Takaisin ylempään kansioon: cd .."
   ]
  },
  {
   "cell_type": "markdown",
   "metadata": {},
   "source": [
    "## 2.7. Running Python Code"
   ]
  },
  {
   "cell_type": "code",
   "execution_count": 2,
   "metadata": {},
   "outputs": [
    {
     "name": "stdout",
     "output_type": "stream",
     "text": [
      "Aina tämä hemmetin Hello World! Keksikää viddu jotain uutta!!!\n"
     ]
    }
   ],
   "source": [
    "print('Aina tämä hemmetin Hello World!' + ' Keksikää viddu jotain uutta!!!')"
   ]
  },
  {
   "cell_type": "markdown",
   "metadata": {},
   "source": [
    "## 3.16 String Properties"
   ]
  },
  {
   "cell_type": "code",
   "execution_count": 6,
   "metadata": {},
   "outputs": [],
   "source": [
    "x = 'No morjesta taas maailma!!!'"
   ]
  },
  {
   "cell_type": "code",
   "execution_count": 7,
   "metadata": {},
   "outputs": [],
   "source": [
    "X = x.upper()"
   ]
  },
  {
   "cell_type": "code",
   "execution_count": 8,
   "metadata": {},
   "outputs": [
    {
     "data": {
      "text/plain": [
       "'NO MORJESTA TAAS MAAILMA!!!'"
      ]
     },
     "execution_count": 8,
     "metadata": {},
     "output_type": "execute_result"
    }
   ],
   "source": [
    "X"
   ]
  },
  {
   "cell_type": "code",
   "execution_count": 9,
   "metadata": {},
   "outputs": [],
   "source": [
    "äx = X.lower()"
   ]
  },
  {
   "cell_type": "code",
   "execution_count": 10,
   "metadata": {},
   "outputs": [
    {
     "data": {
      "text/plain": [
       "'no morjesta taas maailma!!!'"
      ]
     },
     "execution_count": 10,
     "metadata": {},
     "output_type": "execute_result"
    }
   ],
   "source": [
    "äx"
   ]
  },
  {
   "cell_type": "markdown",
   "metadata": {},
   "source": [
    "- split()-stringmetodi luo listan stringeistä:"
   ]
  },
  {
   "cell_type": "code",
   "execution_count": 11,
   "metadata": {},
   "outputs": [],
   "source": [
    "xlist = x.split()"
   ]
  },
  {
   "cell_type": "code",
   "execution_count": 12,
   "metadata": {},
   "outputs": [
    {
     "data": {
      "text/plain": [
       "['No', 'morjesta', 'taas', 'maailma!!!']"
      ]
     },
     "execution_count": 12,
     "metadata": {},
     "output_type": "execute_result"
    }
   ],
   "source": [
    "xlist"
   ]
  },
  {
   "cell_type": "code",
   "execution_count": 13,
   "metadata": {},
   "outputs": [],
   "source": [
    "a = 'Hi this is a string'"
   ]
  },
  {
   "cell_type": "code",
   "execution_count": 14,
   "metadata": {},
   "outputs": [],
   "source": [
    "alist = a.split()"
   ]
  },
  {
   "cell_type": "code",
   "execution_count": 15,
   "metadata": {},
   "outputs": [
    {
     "data": {
      "text/plain": [
       "['Hi', 'this', 'is', 'a', 'string']"
      ]
     },
     "execution_count": 15,
     "metadata": {},
     "output_type": "execute_result"
    }
   ],
   "source": [
    "alist"
   ]
  },
  {
   "cell_type": "code",
   "execution_count": 16,
   "metadata": {},
   "outputs": [],
   "source": [
    "ailist = a.split('i')"
   ]
  },
  {
   "cell_type": "code",
   "execution_count": 17,
   "metadata": {},
   "outputs": [
    {
     "data": {
      "text/plain": [
       "['H', ' th', 's ', 's a str', 'ng']"
      ]
     },
     "execution_count": 17,
     "metadata": {},
     "output_type": "execute_result"
    }
   ],
   "source": [
    "ailist"
   ]
  },
  {
   "cell_type": "markdown",
   "metadata": {},
   "source": [
    "- Printtaus:"
   ]
  },
  {
   "cell_type": "code",
   "execution_count": 16,
   "metadata": {},
   "outputs": [
    {
     "name": "stdout",
     "output_type": "stream",
     "text": [
      "Helloprintti\n"
     ]
    }
   ],
   "source": [
    "print('Helloprintti')"
   ]
  },
  {
   "cell_type": "markdown",
   "metadata": {},
   "source": [
    "## 3.18. Print formating with strings"
   ]
  },
  {
   "cell_type": "markdown",
   "metadata": {},
   "source": [
    "- Stringin print-formatointi .format()-metodilla:"
   ]
  },
  {
   "cell_type": "code",
   "execution_count": 17,
   "metadata": {},
   "outputs": [
    {
     "name": "stdout",
     "output_type": "stream",
     "text": [
      "This is a string INSERTED TO THE END.\n"
     ]
    }
   ],
   "source": [
    "print('This is a string {}.'.format('INSERTED TO THE END'))"
   ]
  },
  {
   "cell_type": "code",
   "execution_count": 18,
   "metadata": {},
   "outputs": [
    {
     "name": "stdout",
     "output_type": "stream",
     "text": [
      "The fox brown quick clever.\n"
     ]
    }
   ],
   "source": [
    "print('The {} {} {} {}.'.format('fox', 'brown', 'quick', 'clever'))"
   ]
  },
  {
   "cell_type": "code",
   "execution_count": 19,
   "metadata": {},
   "outputs": [
    {
     "name": "stdout",
     "output_type": "stream",
     "text": [
      "The clever quick brown fox.\n"
     ]
    }
   ],
   "source": [
    "print('The {3} {2} {1} {0}.'.format('fox', 'brown', 'quick', 'clever'))"
   ]
  },
  {
   "cell_type": "code",
   "execution_count": 20,
   "metadata": {},
   "outputs": [
    {
     "name": "stdout",
     "output_type": "stream",
     "text": [
      "The clever brown quick fox.\n"
     ]
    }
   ],
   "source": [
    "print('The {c} {b} {q} {f}.'.format(f='fox', b='brown', q='quick', c='clever'))"
   ]
  },
  {
   "cell_type": "markdown",
   "metadata": {},
   "source": [
    "- DOT format method"
   ]
  },
  {
   "cell_type": "code",
   "execution_count": 21,
   "metadata": {},
   "outputs": [],
   "source": [
    "result = 100 / 666"
   ]
  },
  {
   "cell_type": "code",
   "execution_count": 22,
   "metadata": {},
   "outputs": [
    {
     "data": {
      "text/plain": [
       "0.15015015015015015"
      ]
     },
     "execution_count": 22,
     "metadata": {},
     "output_type": "execute_result"
    }
   ],
   "source": [
    "result"
   ]
  },
  {
   "cell_type": "markdown",
   "metadata": {},
   "source": [
    "float formatting follows {value:width.precision f}  Esimerkiksi näin:"
   ]
  },
  {
   "cell_type": "code",
   "execution_count": 23,
   "metadata": {},
   "outputs": [
    {
     "name": "stdout",
     "output_type": "stream",
     "text": [
      "The result was 0.150150150.\n"
     ]
    }
   ],
   "source": [
    "print('The result was {r:1.9f}.'.format(r=result))"
   ]
  },
  {
   "cell_type": "markdown",
   "metadata": {},
   "source": [
    "HUOMAA: width-parametri lisää vain whitespacea arvo eteen, eli aika hyödytön."
   ]
  },
  {
   "cell_type": "markdown",
   "metadata": {},
   "source": [
    "### f-string metodi:"
   ]
  },
  {
   "cell_type": "code",
   "execution_count": 24,
   "metadata": {},
   "outputs": [],
   "source": [
    "name = 'Jallu'"
   ]
  },
  {
   "cell_type": "code",
   "execution_count": 25,
   "metadata": {},
   "outputs": [
    {
     "name": "stdout",
     "output_type": "stream",
     "text": [
      "Hello, my name is Jallu.\n"
     ]
    }
   ],
   "source": [
    "print('Hello, my name is {}.'.format(name))"
   ]
  },
  {
   "cell_type": "markdown",
   "metadata": {},
   "source": [
    "- Vastaavasti sama f-string-metodilla toteutettuna:"
   ]
  },
  {
   "cell_type": "code",
   "execution_count": 26,
   "metadata": {},
   "outputs": [
    {
     "name": "stdout",
     "output_type": "stream",
     "text": [
      "Hello, my name is Jallu.\n"
     ]
    }
   ],
   "source": [
    "print(f'Hello, my name is {name}.')"
   ]
  },
  {
   "cell_type": "code",
   "execution_count": 27,
   "metadata": {},
   "outputs": [],
   "source": [
    "name = 'Hjalmari Ilmari'\n",
    "age = 53"
   ]
  },
  {
   "cell_type": "code",
   "execution_count": 28,
   "metadata": {},
   "outputs": [
    {
     "name": "stdout",
     "output_type": "stream",
     "text": [
      "Hello, my name is Hjalmari Ilmari and I am 53 years old.\n"
     ]
    }
   ],
   "source": [
    "print(f'Hello, my name is {name} and I am {age} years old.')"
   ]
  },
  {
   "cell_type": "markdown",
   "metadata": {},
   "source": [
    "## 3.20. Lists"
   ]
  },
  {
   "cell_type": "code",
   "execution_count": 29,
   "metadata": {},
   "outputs": [],
   "source": [
    "my_list = [1, 2, 3]"
   ]
  },
  {
   "cell_type": "code",
   "execution_count": 30,
   "metadata": {},
   "outputs": [
    {
     "data": {
      "text/plain": [
       "3"
      ]
     },
     "execution_count": 30,
     "metadata": {},
     "output_type": "execute_result"
    }
   ],
   "source": [
    "len(my_list)"
   ]
  },
  {
   "cell_type": "code",
   "execution_count": 31,
   "metadata": {},
   "outputs": [
    {
     "data": {
      "text/plain": [
       "3"
      ]
     },
     "execution_count": 31,
     "metadata": {},
     "output_type": "execute_result"
    }
   ],
   "source": [
    "my_list[2]"
   ]
  },
  {
   "cell_type": "code",
   "execution_count": 32,
   "metadata": {},
   "outputs": [
    {
     "data": {
      "text/plain": [
       "[2, 3]"
      ]
     },
     "execution_count": 32,
     "metadata": {},
     "output_type": "execute_result"
    }
   ],
   "source": [
    "my_list[1:]"
   ]
  },
  {
   "cell_type": "code",
   "execution_count": 33,
   "metadata": {},
   "outputs": [],
   "source": [
    "another_list = ['four', 'five', 'sixx']"
   ]
  },
  {
   "cell_type": "code",
   "execution_count": 34,
   "metadata": {},
   "outputs": [],
   "source": [
    "new_list = my_list + another_list"
   ]
  },
  {
   "cell_type": "code",
   "execution_count": 35,
   "metadata": {},
   "outputs": [
    {
     "data": {
      "text/plain": [
       "[1, 2, 3, 'four', 'five', 'sixx']"
      ]
     },
     "execution_count": 35,
     "metadata": {},
     "output_type": "execute_result"
    }
   ],
   "source": [
    "new_list"
   ]
  },
  {
   "cell_type": "code",
   "execution_count": 36,
   "metadata": {},
   "outputs": [],
   "source": [
    "new_list[-1] = 'six'"
   ]
  },
  {
   "cell_type": "code",
   "execution_count": 37,
   "metadata": {},
   "outputs": [
    {
     "data": {
      "text/plain": [
       "[1, 2, 3, 'four', 'five', 'six']"
      ]
     },
     "execution_count": 37,
     "metadata": {},
     "output_type": "execute_result"
    }
   ],
   "source": [
    "new_list"
   ]
  },
  {
   "cell_type": "code",
   "execution_count": 38,
   "metadata": {},
   "outputs": [],
   "source": [
    "new_list.append('seven')"
   ]
  },
  {
   "cell_type": "code",
   "execution_count": 39,
   "metadata": {},
   "outputs": [
    {
     "data": {
      "text/plain": [
       "[1, 2, 3, 'four', 'five', 'six', 'seven']"
      ]
     },
     "execution_count": 39,
     "metadata": {},
     "output_type": "execute_result"
    }
   ],
   "source": [
    "new_list"
   ]
  },
  {
   "cell_type": "code",
   "execution_count": 40,
   "metadata": {},
   "outputs": [
    {
     "data": {
      "text/plain": [
       "'seven'"
      ]
     },
     "execution_count": 40,
     "metadata": {},
     "output_type": "execute_result"
    }
   ],
   "source": [
    "new_list.pop()"
   ]
  },
  {
   "cell_type": "code",
   "execution_count": 41,
   "metadata": {},
   "outputs": [
    {
     "data": {
      "text/plain": [
       "[1, 2, 3, 'four', 'five', 'six']"
      ]
     },
     "execution_count": 41,
     "metadata": {},
     "output_type": "execute_result"
    }
   ],
   "source": [
    "new_list"
   ]
  },
  {
   "cell_type": "code",
   "execution_count": 42,
   "metadata": {},
   "outputs": [],
   "source": [
    "popped_item = new_list.pop()"
   ]
  },
  {
   "cell_type": "code",
   "execution_count": 43,
   "metadata": {},
   "outputs": [
    {
     "data": {
      "text/plain": [
       "'six'"
      ]
     },
     "execution_count": 43,
     "metadata": {},
     "output_type": "execute_result"
    }
   ],
   "source": [
    "popped_item"
   ]
  },
  {
   "cell_type": "code",
   "execution_count": 44,
   "metadata": {},
   "outputs": [],
   "source": [
    "pop_first = new_list.pop(0)"
   ]
  },
  {
   "cell_type": "code",
   "execution_count": 45,
   "metadata": {},
   "outputs": [
    {
     "data": {
      "text/plain": [
       "1"
      ]
     },
     "execution_count": 45,
     "metadata": {},
     "output_type": "execute_result"
    }
   ],
   "source": [
    "pop_first"
   ]
  },
  {
   "cell_type": "code",
   "execution_count": 46,
   "metadata": {},
   "outputs": [],
   "source": [
    "alpha_list = ['a', 'e', 'x', 'b']\n",
    "num_list = [90, 6, 3, 78]"
   ]
  },
  {
   "cell_type": "code",
   "execution_count": 47,
   "metadata": {},
   "outputs": [],
   "source": [
    "alpha_list.sort()"
   ]
  },
  {
   "cell_type": "code",
   "execution_count": 48,
   "metadata": {},
   "outputs": [
    {
     "data": {
      "text/plain": [
       "['a', 'b', 'e', 'x']"
      ]
     },
     "execution_count": 48,
     "metadata": {},
     "output_type": "execute_result"
    }
   ],
   "source": [
    "alpha_list"
   ]
  },
  {
   "cell_type": "markdown",
   "metadata": {},
   "source": [
    "HUOMAA: sort()-metodi ei palauta mitään, joten et voi myöskään osoittaa sitä muuttujalle:"
   ]
  },
  {
   "cell_type": "code",
   "execution_count": 49,
   "metadata": {},
   "outputs": [],
   "source": [
    "sorted_list = alpha_list.sort()"
   ]
  },
  {
   "cell_type": "code",
   "execution_count": 50,
   "metadata": {},
   "outputs": [],
   "source": [
    "sorted_list"
   ]
  },
  {
   "cell_type": "code",
   "execution_count": 51,
   "metadata": {},
   "outputs": [
    {
     "data": {
      "text/plain": [
       "NoneType"
      ]
     },
     "execution_count": 51,
     "metadata": {},
     "output_type": "execute_result"
    }
   ],
   "source": [
    "type(sorted_list)"
   ]
  },
  {
   "cell_type": "markdown",
   "metadata": {},
   "source": [
    "Ts. lista pitää ensin sortata ja vasta sen jälkeen osoittaa sortattu lista uudelle muuttujalle!!!"
   ]
  },
  {
   "cell_type": "code",
   "execution_count": 52,
   "metadata": {},
   "outputs": [],
   "source": [
    "num_list.sort()\n",
    "new_numl = num_list"
   ]
  },
  {
   "cell_type": "code",
   "execution_count": 53,
   "metadata": {},
   "outputs": [
    {
     "data": {
      "text/plain": [
       "[3, 6, 78, 90]"
      ]
     },
     "execution_count": 53,
     "metadata": {},
     "output_type": "execute_result"
    }
   ],
   "source": [
    "new_numl"
   ]
  },
  {
   "cell_type": "code",
   "execution_count": 54,
   "metadata": {},
   "outputs": [],
   "source": [
    "new_numl.reverse()"
   ]
  },
  {
   "cell_type": "code",
   "execution_count": 55,
   "metadata": {},
   "outputs": [
    {
     "data": {
      "text/plain": [
       "[90, 78, 6, 3]"
      ]
     },
     "execution_count": 55,
     "metadata": {},
     "output_type": "execute_result"
    }
   ],
   "source": [
    "new_numl"
   ]
  },
  {
   "cell_type": "markdown",
   "metadata": {},
   "source": [
    "## 3.22. Dictionaries in Python"
   ]
  },
  {
   "cell_type": "code",
   "execution_count": 56,
   "metadata": {},
   "outputs": [],
   "source": [
    "my_dict = {'key1': 'value1', 'key2': 'value2'}"
   ]
  },
  {
   "cell_type": "code",
   "execution_count": 57,
   "metadata": {},
   "outputs": [
    {
     "data": {
      "text/plain": [
       "{'key1': 'value1', 'key2': 'value2'}"
      ]
     },
     "execution_count": 57,
     "metadata": {},
     "output_type": "execute_result"
    }
   ],
   "source": [
    "my_dict"
   ]
  },
  {
   "cell_type": "code",
   "execution_count": 58,
   "metadata": {},
   "outputs": [
    {
     "data": {
      "text/plain": [
       "'value1'"
      ]
     },
     "execution_count": 58,
     "metadata": {},
     "output_type": "execute_result"
    }
   ],
   "source": [
    "my_dict['key1']"
   ]
  },
  {
   "cell_type": "code",
   "execution_count": 59,
   "metadata": {},
   "outputs": [],
   "source": [
    "price = {'apples': 1.99, 'oranges': 0.99, 'milk': 2.99}"
   ]
  },
  {
   "cell_type": "code",
   "execution_count": 60,
   "metadata": {},
   "outputs": [
    {
     "data": {
      "text/plain": [
       "{'apples': 1.99, 'oranges': 0.99, 'milk': 2.99}"
      ]
     },
     "execution_count": 60,
     "metadata": {},
     "output_type": "execute_result"
    }
   ],
   "source": [
    "price"
   ]
  },
  {
   "cell_type": "code",
   "execution_count": 61,
   "metadata": {},
   "outputs": [
    {
     "data": {
      "text/plain": [
       "1.99"
      ]
     },
     "execution_count": 61,
     "metadata": {},
     "output_type": "execute_result"
    }
   ],
   "source": [
    "price['apples']"
   ]
  },
  {
   "cell_type": "code",
   "execution_count": 62,
   "metadata": {},
   "outputs": [],
   "source": [
    "d = {'k1': 123, 'k2': [0, 1, 2], 'k3': {'key': 500}}"
   ]
  },
  {
   "cell_type": "code",
   "execution_count": 63,
   "metadata": {},
   "outputs": [
    {
     "data": {
      "text/plain": [
       "{'k1': 123, 'k2': [0, 1, 2], 'k3': {'key': 500}}"
      ]
     },
     "execution_count": 63,
     "metadata": {},
     "output_type": "execute_result"
    }
   ],
   "source": [
    "d"
   ]
  },
  {
   "cell_type": "code",
   "execution_count": 64,
   "metadata": {},
   "outputs": [
    {
     "data": {
      "text/plain": [
       "[0, 1, 2]"
      ]
     },
     "execution_count": 64,
     "metadata": {},
     "output_type": "execute_result"
    }
   ],
   "source": [
    "d['k2']"
   ]
  },
  {
   "cell_type": "code",
   "execution_count": 65,
   "metadata": {},
   "outputs": [
    {
     "data": {
      "text/plain": [
       "500"
      ]
     },
     "execution_count": 65,
     "metadata": {},
     "output_type": "execute_result"
    }
   ],
   "source": [
    "d['k3']['key']"
   ]
  },
  {
   "cell_type": "code",
   "execution_count": 66,
   "metadata": {},
   "outputs": [],
   "source": [
    "dict = {'key1': ['a', 'b', 'c']}"
   ]
  },
  {
   "cell_type": "code",
   "execution_count": 67,
   "metadata": {},
   "outputs": [
    {
     "data": {
      "text/plain": [
       "'C'"
      ]
     },
     "execution_count": 67,
     "metadata": {},
     "output_type": "execute_result"
    }
   ],
   "source": [
    "dict['key1'][2].upper()"
   ]
  },
  {
   "cell_type": "code",
   "execution_count": 68,
   "metadata": {},
   "outputs": [],
   "source": [
    "d1 = {'k1': 100, 'k2': 200}"
   ]
  },
  {
   "cell_type": "code",
   "execution_count": 69,
   "metadata": {},
   "outputs": [],
   "source": [
    "d1['k3'] = 300"
   ]
  },
  {
   "cell_type": "code",
   "execution_count": 70,
   "metadata": {},
   "outputs": [
    {
     "data": {
      "text/plain": [
       "{'k1': 100, 'k2': 200, 'k3': 300}"
      ]
     },
     "execution_count": 70,
     "metadata": {},
     "output_type": "execute_result"
    }
   ],
   "source": [
    "d1"
   ]
  },
  {
   "cell_type": "code",
   "execution_count": 71,
   "metadata": {},
   "outputs": [],
   "source": [
    "d1['k1'] = 'NEW VALUE'"
   ]
  },
  {
   "cell_type": "code",
   "execution_count": 72,
   "metadata": {},
   "outputs": [
    {
     "data": {
      "text/plain": [
       "{'k1': 'NEW VALUE', 'k2': 200, 'k3': 300}"
      ]
     },
     "execution_count": 72,
     "metadata": {},
     "output_type": "execute_result"
    }
   ],
   "source": [
    "d1"
   ]
  },
  {
   "cell_type": "code",
   "execution_count": 73,
   "metadata": {},
   "outputs": [],
   "source": [
    "d2 = {'k1': 100, 'k2': 200, 'k3': 300}"
   ]
  },
  {
   "cell_type": "code",
   "execution_count": 74,
   "metadata": {},
   "outputs": [
    {
     "data": {
      "text/plain": [
       "dict_keys(['k1', 'k2', 'k3'])"
      ]
     },
     "execution_count": 74,
     "metadata": {},
     "output_type": "execute_result"
    }
   ],
   "source": [
    "d2.keys()"
   ]
  },
  {
   "cell_type": "code",
   "execution_count": 75,
   "metadata": {},
   "outputs": [
    {
     "data": {
      "text/plain": [
       "dict_values([100, 200, 300])"
      ]
     },
     "execution_count": 75,
     "metadata": {},
     "output_type": "execute_result"
    }
   ],
   "source": [
    "d2.values()"
   ]
  },
  {
   "cell_type": "code",
   "execution_count": 76,
   "metadata": {},
   "outputs": [
    {
     "data": {
      "text/plain": [
       "dict_items([('k1', 100), ('k2', 200), ('k3', 300)])"
      ]
     },
     "execution_count": 76,
     "metadata": {},
     "output_type": "execute_result"
    }
   ],
   "source": [
    "d2.items()"
   ]
  },
  {
   "cell_type": "markdown",
   "metadata": {},
   "source": [
    "## 3.24. Tuples with Python"
   ]
  },
  {
   "cell_type": "code",
   "execution_count": 77,
   "metadata": {},
   "outputs": [],
   "source": [
    "t = (1, 2, 3)"
   ]
  },
  {
   "cell_type": "code",
   "execution_count": 78,
   "metadata": {},
   "outputs": [],
   "source": [
    "l = [1, 2, 3]"
   ]
  },
  {
   "cell_type": "code",
   "execution_count": 79,
   "metadata": {},
   "outputs": [
    {
     "data": {
      "text/plain": [
       "tuple"
      ]
     },
     "execution_count": 79,
     "metadata": {},
     "output_type": "execute_result"
    }
   ],
   "source": [
    "type(t)"
   ]
  },
  {
   "cell_type": "code",
   "execution_count": 80,
   "metadata": {},
   "outputs": [
    {
     "data": {
      "text/plain": [
       "list"
      ]
     },
     "execution_count": 80,
     "metadata": {},
     "output_type": "execute_result"
    }
   ],
   "source": [
    "type(l)"
   ]
  },
  {
   "cell_type": "code",
   "execution_count": 81,
   "metadata": {},
   "outputs": [
    {
     "data": {
      "text/plain": [
       "3"
      ]
     },
     "execution_count": 81,
     "metadata": {},
     "output_type": "execute_result"
    }
   ],
   "source": [
    "len(t)"
   ]
  },
  {
   "cell_type": "code",
   "execution_count": 82,
   "metadata": {},
   "outputs": [],
   "source": [
    "t = ('one', 2)"
   ]
  },
  {
   "cell_type": "code",
   "execution_count": 83,
   "metadata": {},
   "outputs": [
    {
     "data": {
      "text/plain": [
       "'one'"
      ]
     },
     "execution_count": 83,
     "metadata": {},
     "output_type": "execute_result"
    }
   ],
   "source": [
    "t[0]"
   ]
  },
  {
   "cell_type": "code",
   "execution_count": 84,
   "metadata": {},
   "outputs": [],
   "source": [
    "t = ('a', 'a', 'b')"
   ]
  },
  {
   "cell_type": "code",
   "execution_count": 85,
   "metadata": {},
   "outputs": [
    {
     "data": {
      "text/plain": [
       "2"
      ]
     },
     "execution_count": 85,
     "metadata": {},
     "output_type": "execute_result"
    }
   ],
   "source": [
    "t.count('a')"
   ]
  },
  {
   "cell_type": "code",
   "execution_count": 86,
   "metadata": {},
   "outputs": [
    {
     "data": {
      "text/plain": [
       "0"
      ]
     },
     "execution_count": 86,
     "metadata": {},
     "output_type": "execute_result"
    }
   ],
   "source": [
    "t.index('a')"
   ]
  },
  {
   "cell_type": "markdown",
   "metadata": {},
   "source": [
    "## 3.25. Sets in Python"
   ]
  },
  {
   "cell_type": "code",
   "execution_count": 87,
   "metadata": {},
   "outputs": [],
   "source": [
    "myset = set()"
   ]
  },
  {
   "cell_type": "code",
   "execution_count": 88,
   "metadata": {},
   "outputs": [
    {
     "data": {
      "text/plain": [
       "set()"
      ]
     },
     "execution_count": 88,
     "metadata": {},
     "output_type": "execute_result"
    }
   ],
   "source": [
    "myset"
   ]
  },
  {
   "cell_type": "code",
   "execution_count": 89,
   "metadata": {},
   "outputs": [],
   "source": [
    "myset.add(1)"
   ]
  },
  {
   "cell_type": "code",
   "execution_count": 90,
   "metadata": {},
   "outputs": [
    {
     "data": {
      "text/plain": [
       "{1}"
      ]
     },
     "execution_count": 90,
     "metadata": {},
     "output_type": "execute_result"
    }
   ],
   "source": [
    "myset"
   ]
  },
  {
   "cell_type": "code",
   "execution_count": 91,
   "metadata": {},
   "outputs": [],
   "source": [
    "myset.add(2)"
   ]
  },
  {
   "cell_type": "code",
   "execution_count": 92,
   "metadata": {},
   "outputs": [],
   "source": [
    "myset.add(2)"
   ]
  },
  {
   "cell_type": "code",
   "execution_count": 93,
   "metadata": {},
   "outputs": [
    {
     "data": {
      "text/plain": [
       "{1, 2}"
      ]
     },
     "execution_count": 93,
     "metadata": {},
     "output_type": "execute_result"
    }
   ],
   "source": [
    "myset"
   ]
  },
  {
   "cell_type": "code",
   "execution_count": 94,
   "metadata": {},
   "outputs": [],
   "source": [
    "my_list_for_set = [1,1,1,1,1,2,2,2,2,2,3,3,3,3,3,3]"
   ]
  },
  {
   "cell_type": "code",
   "execution_count": 95,
   "metadata": {},
   "outputs": [
    {
     "data": {
      "text/plain": [
       "{1, 2, 3}"
      ]
     },
     "execution_count": 95,
     "metadata": {},
     "output_type": "execute_result"
    }
   ],
   "source": [
    "set(my_list_for_set)"
   ]
  },
  {
   "cell_type": "code",
   "execution_count": 96,
   "metadata": {},
   "outputs": [
    {
     "name": "stdout",
     "output_type": "stream",
     "text": [
      "/Users/jarijokela/anaconda3/bin/python3\n"
     ]
    }
   ],
   "source": [
    "!which python3"
   ]
  },
  {
   "cell_type": "code",
   "execution_count": 97,
   "metadata": {},
   "outputs": [
    {
     "name": "stdout",
     "output_type": "stream",
     "text": [
      "Python 3.7.5\n"
     ]
    }
   ],
   "source": [
    "!python3 --version"
   ]
  },
  {
   "cell_type": "markdown",
   "metadata": {},
   "source": [
    "## 3.26. Booleans in Python"
   ]
  },
  {
   "cell_type": "code",
   "execution_count": 98,
   "metadata": {},
   "outputs": [
    {
     "data": {
      "text/plain": [
       "False"
      ]
     },
     "execution_count": 98,
     "metadata": {},
     "output_type": "execute_result"
    }
   ],
   "source": [
    "1 > 2"
   ]
  },
  {
   "cell_type": "markdown",
   "metadata": {},
   "source": [
    "## 3.27. I/O with Basic Files in Python"
   ]
  },
  {
   "cell_type": "markdown",
   "metadata": {},
   "source": [
    "Tässä esimerkki tiedostoonkirjoittamisesta (uusi tiedosto on jarifile.txt):"
   ]
  },
  {
   "cell_type": "code",
   "execution_count": 18,
   "metadata": {},
   "outputs": [
    {
     "name": "stdout",
     "output_type": "stream",
     "text": [
      "Writing jallufile20.txt\n"
     ]
    }
   ],
   "source": [
    "%%writefile jallufile20.txt\n",
    "Terve,\n",
    "Testailen tässä miten jallufileen kirjoittaminen\n",
    "täältä notebookista onnistuu suoraan.\n",
    "Tänään on 29.03.2019 klo 21:43"
   ]
  },
  {
   "cell_type": "code",
   "execution_count": 19,
   "metadata": {},
   "outputs": [],
   "source": [
    "myfile = open('jallufile20.txt')"
   ]
  },
  {
   "cell_type": "code",
   "execution_count": 20,
   "metadata": {},
   "outputs": [
    {
     "data": {
      "text/plain": [
       "'Terve,\\nTestailen tässä miten jallufileen kirjoittaminen\\ntäältä notebookista onnistuu suoraan.\\nTänään on 29.03.2019 klo 21:43\\n'"
      ]
     },
     "execution_count": 20,
     "metadata": {},
     "output_type": "execute_result"
    }
   ],
   "source": [
    "myfile.read()"
   ]
  },
  {
   "cell_type": "code",
   "execution_count": 21,
   "metadata": {},
   "outputs": [
    {
     "data": {
      "text/plain": [
       "''"
      ]
     },
     "execution_count": 21,
     "metadata": {},
     "output_type": "execute_result"
    }
   ],
   "source": [
    "myfile.read()"
   ]
  },
  {
   "cell_type": "markdown",
   "metadata": {},
   "source": [
    "Yllä näkyy vain tyhjä string, koska read()-metodi on jättänyt lukukursorin jarifilen loppuun joten kursori palautetaan alkuun näin:"
   ]
  },
  {
   "cell_type": "code",
   "execution_count": 22,
   "metadata": {},
   "outputs": [
    {
     "data": {
      "text/plain": [
       "0"
      ]
     },
     "execution_count": 22,
     "metadata": {},
     "output_type": "execute_result"
    }
   ],
   "source": [
    "myfile.seek(0)"
   ]
  },
  {
   "cell_type": "code",
   "execution_count": 23,
   "metadata": {},
   "outputs": [
    {
     "data": {
      "text/plain": [
       "'Terve,\\nTestailen tässä miten jallufileen kirjoittaminen\\ntäältä notebookista onnistuu suoraan.\\nTänään on 29.03.2019 klo 21:43\\n'"
      ]
     },
     "execution_count": 23,
     "metadata": {},
     "output_type": "execute_result"
    }
   ],
   "source": [
    "myfile.read()"
   ]
  },
  {
   "cell_type": "code",
   "execution_count": 25,
   "metadata": {},
   "outputs": [
    {
     "data": {
      "text/plain": [
       "0"
      ]
     },
     "execution_count": 25,
     "metadata": {},
     "output_type": "execute_result"
    }
   ],
   "source": [
    "myfile.seek(0)"
   ]
  },
  {
   "cell_type": "markdown",
   "metadata": {},
   "source": [
    "Readlines() palauttaa listan jossa yksi rivi on aina yksi listan string-alkio (HUOMAA: newline-merkki vielä lopussa):"
   ]
  },
  {
   "cell_type": "code",
   "execution_count": 26,
   "metadata": {},
   "outputs": [
    {
     "data": {
      "text/plain": [
       "['Terve,\\n',\n",
       " 'Testailen tässä miten jallufileen kirjoittaminen\\n',\n",
       " 'täältä notebookista onnistuu suoraan.\\n',\n",
       " 'Tänään on 29.03.2019 klo 21:43\\n']"
      ]
     },
     "execution_count": 26,
     "metadata": {},
     "output_type": "execute_result"
    }
   ],
   "source": [
    "myfile.readlines()"
   ]
  },
  {
   "cell_type": "markdown",
   "metadata": {},
   "source": [
    "MacOS:ssä filen avaaminen tässä kansiossa: myfile = open(/Users/jarijokela/Opiskelu/Ohjelmointi/Python/UdemyPythonBootcamp/Complete-Python-Bootcamp-master/jarifile.txt)"
   ]
  },
  {
   "cell_type": "markdown",
   "metadata": {},
   "source": [
    "HUOM: Muista että mikäli avaat tiedoston open()-metodilla, tulee se käytön jälkeen myöskin sulkea close()-metodilla!!!"
   ]
  },
  {
   "cell_type": "code",
   "execution_count": 27,
   "metadata": {},
   "outputs": [],
   "source": [
    "with open('jallufile20.txt') as my_new_file:\n",
    "    contents = my_new_file.read()"
   ]
  },
  {
   "cell_type": "markdown",
   "metadata": {},
   "source": [
    "TÄMÄN JÄLKEEN VOIT HUOLETTA KÄYTTÄÄ CONTENTS-MUUTTUJAA KOODISSASI."
   ]
  },
  {
   "cell_type": "code",
   "execution_count": 28,
   "metadata": {},
   "outputs": [
    {
     "data": {
      "text/plain": [
       "'Terve,\\nTestailen tässä miten jallufileen kirjoittaminen\\ntäältä notebookista onnistuu suoraan.\\nTänään on 29.03.2019 klo 21:43\\n'"
      ]
     },
     "execution_count": 28,
     "metadata": {},
     "output_type": "execute_result"
    }
   ],
   "source": [
    "contents"
   ]
  },
  {
   "cell_type": "code",
   "execution_count": 109,
   "metadata": {},
   "outputs": [],
   "source": [
    "with open('jallufile.txt',mode='r') as my_read_file:\n",
    "    contents = my_read_file.read()"
   ]
  },
  {
   "cell_type": "code",
   "execution_count": 110,
   "metadata": {},
   "outputs": [
    {
     "data": {
      "text/plain": [
       "'Terve,\\nTestailen tässä miten jallufileen kirjoittaminen\\ntäältä notebookista onnistuu suoraan.\\nTänään on 31.10.2019 klo 20:58\\n'"
      ]
     },
     "execution_count": 110,
     "metadata": {},
     "output_type": "execute_result"
    }
   ],
   "source": [
    "contents"
   ]
  },
  {
   "cell_type": "code",
   "execution_count": 111,
   "metadata": {},
   "outputs": [
    {
     "name": "stdout",
     "output_type": "stream",
     "text": [
      "Overwriting my_new_file.txt\n"
     ]
    }
   ],
   "source": [
    "%%writefile my_new_file.txt\n",
    "Ykkönen ensimmäisellä.\n",
    "Kakkonen toisella.\n",
    "Kolmonen kolmannella."
   ]
  },
  {
   "cell_type": "code",
   "execution_count": 112,
   "metadata": {},
   "outputs": [
    {
     "name": "stdout",
     "output_type": "stream",
     "text": [
      "Ykkönen ensimmäisellä.\n",
      "Kakkonen toisella.\n",
      "Kolmonen kolmannella.\n",
      "\n"
     ]
    }
   ],
   "source": [
    "with open('my_new_file.txt',mode='r') as f:\n",
    "    print(f.read())"
   ]
  },
  {
   "cell_type": "code",
   "execution_count": 113,
   "metadata": {},
   "outputs": [],
   "source": [
    "with open('my_new_file.txt',mode='a') as fa:\n",
    "    fa.write('\\nNelonen neljännellä.')"
   ]
  },
  {
   "cell_type": "code",
   "execution_count": 114,
   "metadata": {},
   "outputs": [
    {
     "name": "stdout",
     "output_type": "stream",
     "text": [
      "Ykkönen ensimmäisellä.\n",
      "Kakkonen toisella.\n",
      "Kolmonen kolmannella.\n",
      "\n",
      "Nelonen neljännellä.\n"
     ]
    }
   ],
   "source": [
    "with open('my_new_file.txt',mode='r') as f:\n",
    "    print(f.read())"
   ]
  },
  {
   "cell_type": "code",
   "execution_count": 115,
   "metadata": {},
   "outputs": [],
   "source": [
    "with open('justiinanottaw.txt',mode='w') as f:\n",
    "    f.write('hölöpön pölöpön! :D .')"
   ]
  },
  {
   "cell_type": "code",
   "execution_count": 116,
   "metadata": {},
   "outputs": [
    {
     "name": "stdout",
     "output_type": "stream",
     "text": [
      "hölöpön pölöpön! :D .\n"
     ]
    }
   ],
   "source": [
    "with open('justiinanottaw.txt',mode='r') as f:\n",
    "    print(f.read())"
   ]
  },
  {
   "cell_type": "markdown",
   "metadata": {},
   "source": [
    "## 4.31. Comparison Operators in Python"
   ]
  },
  {
   "cell_type": "code",
   "execution_count": 117,
   "metadata": {},
   "outputs": [
    {
     "data": {
      "text/plain": [
       "True"
      ]
     },
     "execution_count": 117,
     "metadata": {},
     "output_type": "execute_result"
    }
   ],
   "source": [
    "2.0 == 2"
   ]
  },
  {
   "cell_type": "markdown",
   "metadata": {},
   "source": [
    "## 4.32. Chaining comparison Operators in Python"
   ]
  },
  {
   "cell_type": "code",
   "execution_count": 118,
   "metadata": {},
   "outputs": [
    {
     "data": {
      "text/plain": [
       "True"
      ]
     },
     "execution_count": 118,
     "metadata": {},
     "output_type": "execute_result"
    }
   ],
   "source": [
    "1 < 2 and 2 < 3"
   ]
  },
  {
   "cell_type": "code",
   "execution_count": 119,
   "metadata": {},
   "outputs": [
    {
     "data": {
      "text/plain": [
       "True"
      ]
     },
     "execution_count": 119,
     "metadata": {},
     "output_type": "execute_result"
    }
   ],
   "source": [
    "100 == 1 or 2 == 2"
   ]
  },
  {
   "cell_type": "code",
   "execution_count": 120,
   "metadata": {},
   "outputs": [
    {
     "data": {
      "text/plain": [
       "True"
      ]
     },
     "execution_count": 120,
     "metadata": {},
     "output_type": "execute_result"
    }
   ],
   "source": [
    "not 1 == 2"
   ]
  },
  {
   "cell_type": "markdown",
   "metadata": {},
   "source": [
    "## 5.33. If Elif and Else Statements in Python"
   ]
  },
  {
   "cell_type": "code",
   "execution_count": 1,
   "metadata": {},
   "outputs": [
    {
     "name": "stdout",
     "output_type": "stream",
     "text": [
      "FEED ME!\n"
     ]
    }
   ],
   "source": [
    "Hungry = True\n",
    "if Hungry:\n",
    "    print('FEED ME!')\n",
    "else:\n",
    "    print('NOT HUNGRY')"
   ]
  },
  {
   "cell_type": "code",
   "execution_count": 2,
   "metadata": {},
   "outputs": [
    {
     "name": "stdout",
     "output_type": "stream",
     "text": [
      "Just hanging around!\n"
     ]
    }
   ],
   "source": [
    "loc = 'Game'\n",
    "\n",
    "if loc == 'Auto Shop':\n",
    "    print('Cars are cool!')\n",
    "elif loc == 'Bank':\n",
    "    print('Money is cool!')\n",
    "elif loc == 'Store':\n",
    "    print('Welcome to the store!')\n",
    "else:\n",
    "    print('Just hanging around!')\n"
   ]
  },
  {
   "cell_type": "markdown",
   "metadata": {},
   "source": [
    "## 5.34. For Loops in Python"
   ]
  },
  {
   "cell_type": "code",
   "execution_count": 29,
   "metadata": {},
   "outputs": [],
   "source": [
    "mylist = [1, 2, 3, 4, 5, 6, 7, 8, 9, 10]"
   ]
  },
  {
   "cell_type": "code",
   "execution_count": 30,
   "metadata": {},
   "outputs": [
    {
     "name": "stdout",
     "output_type": "stream",
     "text": [
      "1\n",
      "2\n",
      "3\n",
      "4\n",
      "5\n",
      "6\n",
      "7\n",
      "8\n",
      "9\n",
      "10\n"
     ]
    }
   ],
   "source": [
    "for i in mylist:\n",
    "    print(i)"
   ]
  },
  {
   "cell_type": "code",
   "execution_count": 31,
   "metadata": {},
   "outputs": [
    {
     "name": "stdout",
     "output_type": "stream",
     "text": [
      "Odd number: 1\n",
      "Even number: 2\n",
      "Odd number: 3\n",
      "Even number: 4\n",
      "Odd number: 5\n",
      "Even number: 6\n",
      "Odd number: 7\n",
      "Even number: 8\n",
      "Odd number: 9\n",
      "Even number: 10\n"
     ]
    }
   ],
   "source": [
    "for i in mylist:\n",
    "    if i % 2 == 0:\n",
    "        print(f'Even number: {i}')\n",
    "    else:\n",
    "        print(f'Odd number: {i}')\n"
   ]
  },
  {
   "cell_type": "code",
   "execution_count": 32,
   "metadata": {},
   "outputs": [
    {
     "name": "stdout",
     "output_type": "stream",
     "text": [
      "55\n"
     ]
    }
   ],
   "source": [
    "list_sum = 0\n",
    "\n",
    "for num in mylist:\n",
    "    list_sum = list_sum + num\n",
    "    \n",
    "print(list_sum)"
   ]
  },
  {
   "cell_type": "markdown",
   "metadata": {},
   "source": [
    "Tämä osoittaa että loop-muuttujan muodolla ei ole mitään merkitystä:"
   ]
  },
  {
   "cell_type": "code",
   "execution_count": 33,
   "metadata": {},
   "outputs": [
    {
     "name": "stdout",
     "output_type": "stream",
     "text": [
      "T\n",
      "e\n",
      "r\n",
      "v\n",
      "e\n"
     ]
    }
   ],
   "source": [
    "for _ in 'Terve':\n",
    "    print(_)"
   ]
  },
  {
   "cell_type": "code",
   "execution_count": 34,
   "metadata": {},
   "outputs": [
    {
     "name": "stdout",
     "output_type": "stream",
     "text": [
      "1\n",
      "2\n",
      "3\n"
     ]
    }
   ],
   "source": [
    "tup = (1, 2, 3)\n",
    "\n",
    "for i in tup:\n",
    "    print(i)"
   ]
  },
  {
   "cell_type": "code",
   "execution_count": 35,
   "metadata": {},
   "outputs": [
    {
     "data": {
      "text/plain": [
       "4"
      ]
     },
     "execution_count": 35,
     "metadata": {},
     "output_type": "execute_result"
    }
   ],
   "source": [
    "# Unpacking tuple:\n",
    "mylistt = [(1, 2), (3, 4), (5, 6), (7, 8)]\n",
    "len(mylistt)"
   ]
  },
  {
   "cell_type": "code",
   "execution_count": 36,
   "metadata": {},
   "outputs": [
    {
     "name": "stdout",
     "output_type": "stream",
     "text": [
      "1\n",
      "2\n",
      "3\n",
      "4\n",
      "5\n",
      "6\n",
      "7\n",
      "8\n"
     ]
    }
   ],
   "source": [
    "for a, b in mylistt: # silmukkamuuttujia on 2 kuten tuplen alkioita yhdessä lista-alkiossa.\n",
    "    print(a)\n",
    "    print(b)\n"
   ]
  },
  {
   "cell_type": "code",
   "execution_count": 37,
   "metadata": {},
   "outputs": [],
   "source": [
    "mylist1 = [(1, 2, 3), (4, 5, 6), (7, 8, 9)]"
   ]
  },
  {
   "cell_type": "code",
   "execution_count": 38,
   "metadata": {},
   "outputs": [
    {
     "name": "stdout",
     "output_type": "stream",
     "text": [
      "(1, 2, 3)\n",
      "(4, 5, 6)\n",
      "(7, 8, 9)\n"
     ]
    }
   ],
   "source": [
    "for i in mylist1: # Tässä ei tuplea pureta\n",
    "    print(i)"
   ]
  },
  {
   "cell_type": "code",
   "execution_count": 39,
   "metadata": {},
   "outputs": [
    {
     "name": "stdout",
     "output_type": "stream",
     "text": [
      "1\n",
      "2\n",
      "3\n",
      "4\n",
      "5\n",
      "6\n",
      "7\n",
      "8\n",
      "9\n"
     ]
    }
   ],
   "source": [
    "for a, b, c in mylist1: # Tässä tuple puretaan\n",
    "    print(a)\n",
    "    print(b)\n",
    "    print(c)"
   ]
  },
  {
   "cell_type": "code",
   "execution_count": 1,
   "metadata": {},
   "outputs": [
    {
     "name": "stdout",
     "output_type": "stream",
     "text": [
      "k1\n",
      "1\n",
      "k2\n",
      "2\n",
      "k3\n",
      "3\n"
     ]
    }
   ],
   "source": [
    "d = {'k1': 1, 'k2': 2, 'k3': 3}\n",
    "\n",
    "for key,value in d.items(): # Tässä puretaan sanakirja, koska sekä key että value ovat silmukkamuuttujina.\n",
    "    print(key)\n",
    "    print(value)\n"
   ]
  },
  {
   "cell_type": "code",
   "execution_count": 41,
   "metadata": {},
   "outputs": [
    {
     "name": "stdout",
     "output_type": "stream",
     "text": [
      "1\n",
      "2\n",
      "3\n"
     ]
    }
   ],
   "source": [
    "for value in d.values(): # Tässä vain value silmukkamuuttujana.\n",
    "    print(value)\n"
   ]
  },
  {
   "cell_type": "markdown",
   "metadata": {},
   "source": [
    "## 5.35. While Loops in Python"
   ]
  },
  {
   "cell_type": "code",
   "execution_count": 3,
   "metadata": {},
   "outputs": [
    {
     "name": "stdout",
     "output_type": "stream",
     "text": [
      "The current value of x is -1\n",
      "The current value of x is 0\n",
      "The current value of x is 1\n",
      "The current value of x is 2\n",
      "The current value of x is 3\n",
      "The current value of x is 4\n",
      "x is not less than 5\n"
     ]
    }
   ],
   "source": [
    "x = -1\n",
    "\n",
    "while x < 5:\n",
    "    print(f'The current value of x is {x}')\n",
    "    x += 1\n",
    "else:\n",
    "    print('x is not less than 5')"
   ]
  },
  {
   "cell_type": "code",
   "execution_count": 5,
   "metadata": {},
   "outputs": [
    {
     "name": "stdout",
     "output_type": "stream",
     "text": [
      "End of my script.\n"
     ]
    }
   ],
   "source": [
    "ax = [1, 2, 3]\n",
    "\n",
    "for _ in ax:\n",
    "    pass\n",
    "\n",
    "print('End of my script.')"
   ]
  },
  {
   "cell_type": "code",
   "execution_count": 2,
   "metadata": {},
   "outputs": [
    {
     "name": "stdout",
     "output_type": "stream",
     "text": [
      "H\n",
      "j\n",
      "l\n",
      "m\n",
      "r\n",
      "i\n"
     ]
    }
   ],
   "source": [
    "mstring = 'Hjalamari'\n",
    "\n",
    "for letter in mstring: # Ehtolausekkeen continue-komennon takia hyppää a:n yli\n",
    "    if letter == 'a':\n",
    "        continue\n",
    "    print(letter)"
   ]
  },
  {
   "cell_type": "code",
   "execution_count": 3,
   "metadata": {},
   "outputs": [
    {
     "name": "stdout",
     "output_type": "stream",
     "text": [
      "H\n",
      "j\n"
     ]
    }
   ],
   "source": [
    "for letter in mstring:# Ehtolausekkeen break-komennon takia lopettaa a:han\n",
    "    if letter == 'a':\n",
    "        break\n",
    "    print(letter)"
   ]
  },
  {
   "cell_type": "code",
   "execution_count": 4,
   "metadata": {},
   "outputs": [
    {
     "name": "stdout",
     "output_type": "stream",
     "text": [
      "0\n",
      "1\n",
      "2\n"
     ]
    }
   ],
   "source": [
    "x = 0;\n",
    "\n",
    "while x < 5:\n",
    "    if x == 3:# Ehtolausekkeen break-komennon takia lopettaa tulostuksen 3:een.\n",
    "        break\n",
    "    print(x)\n",
    "    x += 1\n"
   ]
  },
  {
   "cell_type": "markdown",
   "metadata": {},
   "source": [
    "## 5.36. Useful operators in Python"
   ]
  },
  {
   "cell_type": "code",
   "execution_count": 1,
   "metadata": {},
   "outputs": [],
   "source": [
    "mylist2 = [1, 2, 3]"
   ]
  },
  {
   "cell_type": "code",
   "execution_count": 2,
   "metadata": {},
   "outputs": [
    {
     "name": "stdout",
     "output_type": "stream",
     "text": [
      "0246810"
     ]
    }
   ],
   "source": [
    "for num in range(0,11,2): # 0:sta 10 2 välein\n",
    "    print(num, end='') # poistaa rivinvaihdot"
   ]
  },
  {
   "cell_type": "code",
   "execution_count": 4,
   "metadata": {},
   "outputs": [
    {
     "data": {
      "text/plain": [
       "[0, 1, 2, 3, 4, 5, 6, 7, 8, 9, 10]"
      ]
     },
     "execution_count": 4,
     "metadata": {},
     "output_type": "execute_result"
    }
   ],
   "source": [
    "list(range(0,11))"
   ]
  },
  {
   "cell_type": "code",
   "execution_count": 5,
   "metadata": {},
   "outputs": [
    {
     "name": "stdout",
     "output_type": "stream",
     "text": [
      "At index 0 the letter is a\n",
      "At index 1 the letter is b\n",
      "At index 2 the letter is c\n",
      "At index 3 the letter is d\n",
      "At index 4 the letter is e\n"
     ]
    }
   ],
   "source": [
    "index_count = 0\n",
    "\n",
    "for letter in 'abcde':\n",
    "    print('At index {} the letter is {}'.format(index_count, letter))\n",
    "    index_count +=1"
   ]
  },
  {
   "cell_type": "code",
   "execution_count": 6,
   "metadata": {},
   "outputs": [
    {
     "name": "stdout",
     "output_type": "stream",
     "text": [
      "(0, 'a')\n",
      "(1, 'b')\n",
      "(2, 'c')\n",
      "(3, 'd')\n",
      "(4, 'e')\n"
     ]
    }
   ],
   "source": [
    "# enumerate()-metodi tekee index countin lueteltaville objekteille (word) tuplen muodossa:\n",
    "word = 'abcde'\n",
    "for item in enumerate(word):\n",
    "    print(item)"
   ]
  },
  {
   "cell_type": "code",
   "execution_count": 8,
   "metadata": {},
   "outputs": [
    {
     "name": "stdout",
     "output_type": "stream",
     "text": [
      "0\n",
      "a\n",
      "\n",
      "\n",
      "1\n",
      "b\n",
      "\n",
      "\n",
      "2\n",
      "c\n",
      "\n",
      "\n",
      "3\n",
      "d\n",
      "\n",
      "\n",
      "4\n",
      "e\n",
      "\n",
      "\n"
     ]
    }
   ],
   "source": [
    "# Tuple unpacking:\n",
    "word = 'abcde'\n",
    "for index, letter in enumerate(word):\n",
    "    print(index)\n",
    "    print(letter)\n",
    "    print('\\n')"
   ]
  },
  {
   "cell_type": "code",
   "execution_count": 9,
   "metadata": {},
   "outputs": [
    {
     "name": "stdout",
     "output_type": "stream",
     "text": [
      "(1, 'a', 100)\n",
      "(2, 'b', 200)\n",
      "(3, 'c', 300)\n",
      "(4, 'd', 400)\n",
      "(5, 'e', 500)\n"
     ]
    }
   ],
   "source": [
    "# zip()-funktio:\n",
    "mythislist = [1, 2, 3, 4, 5]\n",
    "mythatlist = ['a', 'b', 'c', 'd', 'e']\n",
    "mythoselist = [100, 200, 300, 400, 500]\n",
    "\n",
    "for item in zip(mythislist, mythatlist, mythoselist): # zip liittää tulpeiksi 3 listan alkiot erikseen.\n",
    "    print(item)"
   ]
  },
  {
   "cell_type": "code",
   "execution_count": 10,
   "metadata": {},
   "outputs": [
    {
     "data": {
      "text/plain": [
       "[(1, 'a', 100), (2, 'b', 200), (3, 'c', 300), (4, 'd', 400), (5, 'e', 500)]"
      ]
     },
     "execution_count": 10,
     "metadata": {},
     "output_type": "execute_result"
    }
   ],
   "source": [
    "list(zip(mythislist, mythatlist, mythoselist))"
   ]
  },
  {
   "cell_type": "code",
   "execution_count": 11,
   "metadata": {},
   "outputs": [
    {
     "data": {
      "text/plain": [
       "False"
      ]
     },
     "execution_count": 11,
     "metadata": {},
     "output_type": "execute_result"
    }
   ],
   "source": [
    "# in-funktio:\n",
    "'x' in mythatlist"
   ]
  },
  {
   "cell_type": "code",
   "execution_count": 12,
   "metadata": {},
   "outputs": [
    {
     "data": {
      "text/plain": [
       "True"
      ]
     },
     "execution_count": 12,
     "metadata": {},
     "output_type": "execute_result"
    }
   ],
   "source": [
    "'a' in mythatlist"
   ]
  },
  {
   "cell_type": "code",
   "execution_count": 13,
   "metadata": {},
   "outputs": [
    {
     "data": {
      "text/plain": [
       "True"
      ]
     },
     "execution_count": 13,
     "metadata": {},
     "output_type": "execute_result"
    }
   ],
   "source": [
    "'a' in 'Jari'"
   ]
  },
  {
   "cell_type": "code",
   "execution_count": 14,
   "metadata": {},
   "outputs": [
    {
     "data": {
      "text/plain": [
       "True"
      ]
     },
     "execution_count": 14,
     "metadata": {},
     "output_type": "execute_result"
    }
   ],
   "source": [
    "'mykey' in {'mykey': 345}"
   ]
  },
  {
   "cell_type": "code",
   "execution_count": 15,
   "metadata": {},
   "outputs": [
    {
     "data": {
      "text/plain": [
       "True"
      ]
     },
     "execution_count": 15,
     "metadata": {},
     "output_type": "execute_result"
    }
   ],
   "source": [
    "d = {'mykey': 345}\n",
    "\n",
    "345 in d.values()"
   ]
  },
  {
   "cell_type": "code",
   "execution_count": 18,
   "metadata": {},
   "outputs": [],
   "source": [
    "numlist = [10, 20, 30, 40, 100]"
   ]
  },
  {
   "cell_type": "code",
   "execution_count": 19,
   "metadata": {},
   "outputs": [
    {
     "data": {
      "text/plain": [
       "10"
      ]
     },
     "execution_count": 19,
     "metadata": {},
     "output_type": "execute_result"
    }
   ],
   "source": [
    "min(numlist)"
   ]
  },
  {
   "cell_type": "code",
   "execution_count": 20,
   "metadata": {},
   "outputs": [
    {
     "data": {
      "text/plain": [
       "100"
      ]
     },
     "execution_count": 20,
     "metadata": {},
     "output_type": "execute_result"
    }
   ],
   "source": [
    "max(numlist)"
   ]
  },
  {
   "cell_type": "code",
   "execution_count": 21,
   "metadata": {},
   "outputs": [],
   "source": [
    "from random import shuffle"
   ]
  },
  {
   "cell_type": "code",
   "execution_count": 22,
   "metadata": {},
   "outputs": [],
   "source": [
    "shuffle(numlist)"
   ]
  },
  {
   "cell_type": "code",
   "execution_count": 23,
   "metadata": {},
   "outputs": [
    {
     "data": {
      "text/plain": [
       "[100, 30, 40, 10, 20]"
      ]
     },
     "execution_count": 23,
     "metadata": {},
     "output_type": "execute_result"
    }
   ],
   "source": [
    "numlist"
   ]
  },
  {
   "cell_type": "code",
   "execution_count": 25,
   "metadata": {},
   "outputs": [],
   "source": [
    "from random import randint"
   ]
  },
  {
   "cell_type": "code",
   "execution_count": 27,
   "metadata": {},
   "outputs": [
    {
     "data": {
      "text/plain": [
       "83"
      ]
     },
     "execution_count": 27,
     "metadata": {},
     "output_type": "execute_result"
    }
   ],
   "source": [
    "randint(0,100)"
   ]
  },
  {
   "cell_type": "code",
   "execution_count": 28,
   "metadata": {},
   "outputs": [
    {
     "name": "stdin",
     "output_type": "stream",
     "text": [
      "Favourite number:  42\n"
     ]
    }
   ],
   "source": [
    "result = int(input('Favourite number: '))"
   ]
  },
  {
   "cell_type": "code",
   "execution_count": 29,
   "metadata": {},
   "outputs": [
    {
     "data": {
      "text/plain": [
       "42"
      ]
     },
     "execution_count": 29,
     "metadata": {},
     "output_type": "execute_result"
    }
   ],
   "source": [
    "result"
   ]
  },
  {
   "cell_type": "code",
   "execution_count": 30,
   "metadata": {},
   "outputs": [
    {
     "data": {
      "text/plain": [
       "int"
      ]
     },
     "execution_count": 30,
     "metadata": {},
     "output_type": "execute_result"
    }
   ],
   "source": [
    "type(result)"
   ]
  },
  {
   "cell_type": "markdown",
   "metadata": {},
   "source": [
    "## 5.37. List Comprehensions in Python"
   ]
  },
  {
   "cell_type": "code",
   "execution_count": 1,
   "metadata": {},
   "outputs": [],
   "source": [
    "mystring = 'kitarasoolo'"
   ]
  },
  {
   "cell_type": "code",
   "execution_count": 2,
   "metadata": {},
   "outputs": [],
   "source": [
    "# Listan teko stringistä option 1:\n",
    "mylist = []\n",
    "\n",
    "\n",
    "for letter in mystring:\n",
    "    mylist.append(letter)\n"
   ]
  },
  {
   "cell_type": "code",
   "execution_count": 3,
   "metadata": {},
   "outputs": [
    {
     "data": {
      "text/plain": [
       "['k', 'i', 't', 'a', 'r', 'a', 's', 'o', 'o', 'l', 'o']"
      ]
     },
     "execution_count": 3,
     "metadata": {},
     "output_type": "execute_result"
    }
   ],
   "source": [
    "mylist"
   ]
  },
  {
   "cell_type": "code",
   "execution_count": 4,
   "metadata": {},
   "outputs": [],
   "source": [
    "# List comprehension. Listan teko stringistä option 2:\n",
    "mylistc = [letter for letter in mystring]"
   ]
  },
  {
   "cell_type": "code",
   "execution_count": 5,
   "metadata": {},
   "outputs": [
    {
     "data": {
      "text/plain": [
       "['k', 'i', 't', 'a', 'r', 'a', 's', 'o', 'o', 'l', 'o']"
      ]
     },
     "execution_count": 5,
     "metadata": {},
     "output_type": "execute_result"
    }
   ],
   "source": [
    "mylistc"
   ]
  },
  {
   "cell_type": "code",
   "execution_count": 8,
   "metadata": {},
   "outputs": [],
   "source": [
    "mywordlist = [x for x in 'coronahöpötys']"
   ]
  },
  {
   "cell_type": "code",
   "execution_count": 9,
   "metadata": {},
   "outputs": [
    {
     "data": {
      "text/plain": [
       "['c', 'o', 'r', 'o', 'n', 'a', 'h', 'ö', 'p', 'ö', 't', 'y', 's']"
      ]
     },
     "execution_count": 9,
     "metadata": {},
     "output_type": "execute_result"
    }
   ],
   "source": [
    "mywordlist"
   ]
  },
  {
   "cell_type": "code",
   "execution_count": 10,
   "metadata": {},
   "outputs": [],
   "source": [
    "mynumlist = [num for num in range(0, 11)]"
   ]
  },
  {
   "cell_type": "code",
   "execution_count": 11,
   "metadata": {},
   "outputs": [
    {
     "data": {
      "text/plain": [
       "[0, 1, 2, 3, 4, 5, 6, 7, 8, 9, 10]"
      ]
     },
     "execution_count": 11,
     "metadata": {},
     "output_type": "execute_result"
    }
   ],
   "source": [
    "mynumlist"
   ]
  },
  {
   "cell_type": "code",
   "execution_count": 14,
   "metadata": {},
   "outputs": [],
   "source": [
    "# Iteroitavaa muuttujaa voi käsitellä aivan samoin kuin loop-muuttujaa muutenkin:\n",
    "mysquarelist = [num ** 2 for num in range(1, 11)]"
   ]
  },
  {
   "cell_type": "code",
   "execution_count": 15,
   "metadata": {},
   "outputs": [
    {
     "data": {
      "text/plain": [
       "[1, 4, 9, 16, 25, 36, 49, 64, 81, 100]"
      ]
     },
     "execution_count": 15,
     "metadata": {},
     "output_type": "execute_result"
    }
   ],
   "source": [
    "mysquarelist"
   ]
  },
  {
   "cell_type": "code",
   "execution_count": 16,
   "metadata": {},
   "outputs": [],
   "source": [
    "# Iteroitavaa muuttujaa voi lisätä myös if-ehtolauseke:\n",
    "myevenlist = [num for num in range(1, 11) if num % 2 == 0]"
   ]
  },
  {
   "cell_type": "code",
   "execution_count": 17,
   "metadata": {},
   "outputs": [
    {
     "data": {
      "text/plain": [
       "[2, 4, 6, 8, 10]"
      ]
     },
     "execution_count": 17,
     "metadata": {},
     "output_type": "execute_result"
    }
   ],
   "source": [
    "myevenlist"
   ]
  },
  {
   "cell_type": "code",
   "execution_count": 26,
   "metadata": {},
   "outputs": [],
   "source": [
    "hopo = [h for h in 'hessu']"
   ]
  },
  {
   "cell_type": "code",
   "execution_count": 27,
   "metadata": {},
   "outputs": [
    {
     "data": {
      "text/plain": [
       "['h', 'e', 's', 's', 'u']"
      ]
     },
     "execution_count": 27,
     "metadata": {},
     "output_type": "execute_result"
    }
   ],
   "source": [
    "hopo"
   ]
  },
  {
   "cell_type": "code",
   "execution_count": 18,
   "metadata": {},
   "outputs": [],
   "source": [
    "celsius = [0, 10, 20, 34.5]\n",
    "\n",
    "fahrenheit = [((9/5) * temp + 32) for temp in celsius]"
   ]
  },
  {
   "cell_type": "code",
   "execution_count": 19,
   "metadata": {},
   "outputs": [
    {
     "data": {
      "text/plain": [
       "[32.0, 50.0, 68.0, 94.1]"
      ]
     },
     "execution_count": 19,
     "metadata": {},
     "output_type": "execute_result"
    }
   ],
   "source": [
    "fahrenheit"
   ]
  },
  {
   "cell_type": "code",
   "execution_count": 20,
   "metadata": {},
   "outputs": [],
   "source": [
    "# Vastaava For-looppina:\n",
    "\n",
    "fahrloop = []\n",
    "\n",
    "for temp in celsius:\n",
    "    fahrloop.append((9/5) * temp + 32)"
   ]
  },
  {
   "cell_type": "code",
   "execution_count": 21,
   "metadata": {},
   "outputs": [
    {
     "data": {
      "text/plain": [
       "[32.0, 50.0, 68.0, 94.1]"
      ]
     },
     "execution_count": 21,
     "metadata": {},
     "output_type": "execute_result"
    }
   ],
   "source": [
    "fahrloop"
   ]
  },
  {
   "cell_type": "code",
   "execution_count": 22,
   "metadata": {},
   "outputs": [],
   "source": [
    "# Nested for-loops:\n",
    "\n",
    "nestforloop = []\n",
    "\n",
    "for x in [2, 4, 6]:\n",
    "    for y in [1, 100, 1000]:\n",
    "        nestforloop.append(x*y)\n"
   ]
  },
  {
   "cell_type": "code",
   "execution_count": 23,
   "metadata": {},
   "outputs": [
    {
     "data": {
      "text/plain": [
       "[2, 200, 2000, 4, 400, 4000, 6, 600, 6000]"
      ]
     },
     "execution_count": 23,
     "metadata": {},
     "output_type": "execute_result"
    }
   ],
   "source": [
    "nestforloop"
   ]
  },
  {
   "cell_type": "code",
   "execution_count": 24,
   "metadata": {},
   "outputs": [],
   "source": [
    "# Vastaava list comprehensionina:\n",
    "\n",
    "lcnestforloop = [x*y for x in [2, 4, 6] for y in [1, 100, 1000]]"
   ]
  },
  {
   "cell_type": "code",
   "execution_count": 28,
   "metadata": {},
   "outputs": [
    {
     "data": {
      "text/plain": [
       "[2, 200, 2000, 4, 400, 4000, 6, 600, 6000]"
      ]
     },
     "execution_count": 28,
     "metadata": {},
     "output_type": "execute_result"
    }
   ],
   "source": [
    "lcnestforloop"
   ]
  },
  {
   "cell_type": "markdown",
   "metadata": {},
   "source": [
    "## 6.40. Methods and the Python Documentation"
   ]
  },
  {
   "cell_type": "code",
   "execution_count": 1,
   "metadata": {},
   "outputs": [],
   "source": [
    "mylist = [1, 2, 3]"
   ]
  },
  {
   "cell_type": "code",
   "execution_count": null,
   "metadata": {},
   "outputs": [],
   "source": [
    "mylist. #TAB-näppäintä painamalla näet käytössäolevat metodit"
   ]
  },
  {
   "cell_type": "code",
   "execution_count": 3,
   "metadata": {},
   "outputs": [
    {
     "name": "stdout",
     "output_type": "stream",
     "text": [
      "Help on built-in function insert:\n",
      "\n",
      "insert(index, object, /) method of builtins.list instance\n",
      "    Insert object before index.\n",
      "\n"
     ]
    }
   ],
   "source": [
    "help(mylist.insert) #Toinen vaihtoehto on shift+tab, joka näyttää doc-stringin"
   ]
  },
  {
   "cell_type": "code",
   "execution_count": 4,
   "metadata": {},
   "outputs": [
    {
     "name": "stdout",
     "output_type": "stream",
     "text": [
      "/Users/jarijokela/anaconda3/bin/python\n"
     ]
    }
   ],
   "source": [
    "!which python"
   ]
  },
  {
   "cell_type": "markdown",
   "metadata": {},
   "source": [
    "## 6.41. Functions in Python"
   ]
  },
  {
   "cell_type": "code",
   "execution_count": 5,
   "metadata": {},
   "outputs": [],
   "source": [
    "def name_function(name='NAME'):\n",
    "    \"\"\"\n",
    "    DOCSTRING: INFORMATION ABOUT THE FUNCTION\n",
    "    INPUT: No input\n",
    "    OUTPUT: Hello\n",
    "    \"\"\"\n",
    "    print('Hello ' + name)"
   ]
  },
  {
   "cell_type": "code",
   "execution_count": 6,
   "metadata": {},
   "outputs": [
    {
     "name": "stdout",
     "output_type": "stream",
     "text": [
      "Hello NAME\n"
     ]
    }
   ],
   "source": [
    "name_function()"
   ]
  },
  {
   "cell_type": "code",
   "execution_count": 7,
   "metadata": {},
   "outputs": [
    {
     "name": "stdout",
     "output_type": "stream",
     "text": [
      "Help on function name_function in module __main__:\n",
      "\n",
      "name_function(name='NAME')\n",
      "    DOCSTRING: INFORMATION ABOUT THE FUNCTION\n",
      "    INPUT: No input\n",
      "    OUTPUT: Hello\n",
      "\n"
     ]
    }
   ],
   "source": [
    "help(name_function) # Tästä ilmenee miten tärkeä docstring on koodin dokumentoinnissa!!!"
   ]
  },
  {
   "cell_type": "code",
   "execution_count": 8,
   "metadata": {},
   "outputs": [
    {
     "name": "stdout",
     "output_type": "stream",
     "text": [
      "Hello Jallu\n"
     ]
    }
   ],
   "source": [
    "name_function('Jallu')"
   ]
  },
  {
   "cell_type": "code",
   "execution_count": 9,
   "metadata": {},
   "outputs": [
    {
     "name": "stdout",
     "output_type": "stream",
     "text": [
      "Hello Jallu\n"
     ]
    }
   ],
   "source": [
    "result = name_function('Jallu')"
   ]
  },
  {
   "cell_type": "code",
   "execution_count": 10,
   "metadata": {},
   "outputs": [
    {
     "data": {
      "text/plain": [
       "NoneType"
      ]
     },
     "execution_count": 10,
     "metadata": {},
     "output_type": "execute_result"
    }
   ],
   "source": [
    "# Print funktio on None type koska se ei palauta mitään:\n",
    "type(result)"
   ]
  },
  {
   "cell_type": "code",
   "execution_count": 11,
   "metadata": {},
   "outputs": [],
   "source": [
    "# Tämä palauttaa:\n",
    "def add(n1,n2):\n",
    "    return n1+n2"
   ]
  },
  {
   "cell_type": "code",
   "execution_count": 13,
   "metadata": {},
   "outputs": [
    {
     "data": {
      "text/plain": [
       "120"
      ]
     },
     "execution_count": 13,
     "metadata": {},
     "output_type": "execute_result"
    }
   ],
   "source": [
    "result1 = add(20,100)\n",
    "result1"
   ]
  },
  {
   "cell_type": "markdown",
   "metadata": {},
   "source": [
    "HUOM: FUNKTIOIDEN TEHTÄVÄ ON POHJIMMILTAAN RATKAISTA ONGELMIA. ESIM.:"
   ]
  },
  {
   "cell_type": "code",
   "execution_count": 14,
   "metadata": {},
   "outputs": [],
   "source": [
    "# Tämä on aloittelijamainen koska in-lause on jo boolean. Etsi sanaa \"dog\" stringistä:\n",
    "def dog_check(s):\n",
    "    if 'dog' in s.lower():\n",
    "        return True\n",
    "    else:\n",
    "        return False\n"
   ]
  },
  {
   "cell_type": "code",
   "execution_count": 15,
   "metadata": {},
   "outputs": [
    {
     "data": {
      "text/plain": [
       "True"
      ]
     },
     "execution_count": 15,
     "metadata": {},
     "output_type": "execute_result"
    }
   ],
   "source": [
    "dog_check('Dog ran away')"
   ]
  },
  {
   "cell_type": "code",
   "execution_count": 16,
   "metadata": {},
   "outputs": [
    {
     "data": {
      "text/plain": [
       "True"
      ]
     },
     "execution_count": 16,
     "metadata": {},
     "output_type": "execute_result"
    }
   ],
   "source": [
    "'dog' in 'dog run away'"
   ]
  },
  {
   "cell_type": "code",
   "execution_count": 17,
   "metadata": {},
   "outputs": [],
   "source": [
    "# Yksinkertaistettu versio ylläolevasta:\n",
    "\n",
    "def dogshortcheck(s):\n",
    "    return 'dog' in s.lower()"
   ]
  },
  {
   "cell_type": "code",
   "execution_count": 18,
   "metadata": {},
   "outputs": [
    {
     "data": {
      "text/plain": [
       "True"
      ]
     },
     "execution_count": 18,
     "metadata": {},
     "output_type": "execute_result"
    }
   ],
   "source": [
    "dogshortcheck('Dog ran away')"
   ]
  },
  {
   "cell_type": "code",
   "execution_count": 19,
   "metadata": {},
   "outputs": [],
   "source": [
    "def pig_latin(word):\n",
    "    \n",
    "    first_letter = word[0]\n",
    "    \n",
    "    # Check if 1st letter vowel\n",
    "    if first_letter in 'aeiou':\n",
    "        pig_word = word + 'ay'\n",
    "    # Check if 1st letter consonant\n",
    "    else:\n",
    "        pig_word = word[1:] + first_letter + 'ay'\n",
    "    \n",
    "    return pig_word"
   ]
  },
  {
   "cell_type": "code",
   "execution_count": 20,
   "metadata": {},
   "outputs": [
    {
     "data": {
      "text/plain": [
       "'arijay'"
      ]
     },
     "execution_count": 20,
     "metadata": {},
     "output_type": "execute_result"
    }
   ],
   "source": [
    "pig_latin('jari')"
   ]
  },
  {
   "cell_type": "code",
   "execution_count": 21,
   "metadata": {},
   "outputs": [
    {
     "data": {
      "text/plain": [
       "'appleay'"
      ]
     },
     "execution_count": 21,
     "metadata": {},
     "output_type": "execute_result"
    }
   ],
   "source": [
    "pig_latin('apple')"
   ]
  },
  {
   "cell_type": "markdown",
   "metadata": {},
   "source": [
    "## 6.43. *args and **kwargs in Python"
   ]
  },
  {
   "cell_type": "code",
   "execution_count": 1,
   "metadata": {},
   "outputs": [],
   "source": [
    "# Positional arguments: a=40 ja b=60, joka tarvitsee yhtä monta parametria kuin syötettä:\n",
    "def myfunc(a,b):\n",
    "    # Returns 5% of the sum of a and b\n",
    "    return sum((a,b)) * 0.05"
   ]
  },
  {
   "cell_type": "code",
   "execution_count": 3,
   "metadata": {},
   "outputs": [
    {
     "data": {
      "text/plain": [
       "4.5"
      ]
     },
     "execution_count": 3,
     "metadata": {},
     "output_type": "execute_result"
    }
   ],
   "source": [
    "myfunc(40,50)"
   ]
  },
  {
   "cell_type": "code",
   "execution_count": 4,
   "metadata": {},
   "outputs": [],
   "source": [
    "# *args:ia parametrinä käytettäessä voi käyttää loputtomasti parametrejä funktiolle:\n",
    "\n",
    "def myfunk(*args):\n",
    "    return sum(args) * 0.05"
   ]
  },
  {
   "cell_type": "code",
   "execution_count": 6,
   "metadata": {},
   "outputs": [
    {
     "data": {
      "text/plain": [
       "23.85"
      ]
     },
     "execution_count": 6,
     "metadata": {},
     "output_type": "execute_result"
    }
   ],
   "source": [
    "myfunk(40, 60, 100, 100, 1, 4, 6, 90, 76)"
   ]
  },
  {
   "cell_type": "code",
   "execution_count": 7,
   "metadata": {},
   "outputs": [],
   "source": [
    "# *args on käytännössä tuple\n",
    "def myfuk(*args):\n",
    "    print(args)"
   ]
  },
  {
   "cell_type": "code",
   "execution_count": 8,
   "metadata": {},
   "outputs": [
    {
     "name": "stdout",
     "output_type": "stream",
     "text": [
      "(40, 60, 100, 100, 1, 34)\n"
     ]
    }
   ],
   "source": [
    "myfuk(40, 60, 100, 100, 1, 34)"
   ]
  },
  {
   "cell_type": "code",
   "execution_count": 9,
   "metadata": {},
   "outputs": [],
   "source": [
    "def myfu(*args):\n",
    "    for item in args:\n",
    "        print(item)"
   ]
  },
  {
   "cell_type": "code",
   "execution_count": 10,
   "metadata": {},
   "outputs": [
    {
     "name": "stdout",
     "output_type": "stream",
     "text": [
      "40\n",
      "60\n",
      "100\n",
      "100\n",
      "1\n",
      "34\n"
     ]
    }
   ],
   "source": [
    "myfu(40, 60, 100, 100, 1, 34)"
   ]
  },
  {
   "cell_type": "code",
   "execution_count": 2,
   "metadata": {},
   "outputs": [],
   "source": [
    "# **kwargs rakentaa parametriksi dictionaryn key-value-pareista:\n",
    "def mykwfunc(**kwargs):\n",
    "    print(kwargs)\n",
    "    if 'fruit' in kwargs:\n",
    "        print('My fruit of choice is {}'.format(kwargs['fruit']))\n",
    "    else:\n",
    "        print('I did not find any fruit in here')"
   ]
  },
  {
   "cell_type": "code",
   "execution_count": 3,
   "metadata": {},
   "outputs": [
    {
     "name": "stdout",
     "output_type": "stream",
     "text": [
      "{'fruit': 'orange', 'veggie': 'lettuce'}\n",
      "My fruit of choice is orange\n"
     ]
    }
   ],
   "source": [
    "# Tästä seuraa seuraavaa:\n",
    "mykwfunc(fruit='orange', veggie='lettuce')"
   ]
  },
  {
   "cell_type": "code",
   "execution_count": 6,
   "metadata": {},
   "outputs": [],
   "source": [
    "# Voi myös käyttää parametrina sekä *args että **kwargs:\n",
    "def mykwa(*args, **kwargs):\n",
    "    print(args)\n",
    "    print(kwargs)\n",
    "    print('I would like {} {}'.format(args[1], kwargs['fruit']))"
   ]
  },
  {
   "cell_type": "code",
   "execution_count": 7,
   "metadata": {},
   "outputs": [
    {
     "name": "stdout",
     "output_type": "stream",
     "text": [
      "(10, 20, 30)\n",
      "{'fruit': 'apple', 'food': 'eggs', 'animal': 'tiger'}\n",
      "I would like 20 apple\n"
     ]
    }
   ],
   "source": [
    "mykwa(10,20,30, fruit='apple', food='eggs', animal='tiger')"
   ]
  },
  {
   "cell_type": "code",
   "execution_count": 8,
   "metadata": {},
   "outputs": [],
   "source": [
    "tu = (1, 2, 3, 4)"
   ]
  },
  {
   "cell_type": "code",
   "execution_count": 9,
   "metadata": {},
   "outputs": [],
   "source": [
    "l = list(tu)"
   ]
  },
  {
   "cell_type": "code",
   "execution_count": 10,
   "metadata": {},
   "outputs": [
    {
     "data": {
      "text/plain": [
       "[1, 2, 3, 4]"
      ]
     },
     "execution_count": 10,
     "metadata": {},
     "output_type": "execute_result"
    }
   ],
   "source": [
    "l"
   ]
  },
  {
   "cell_type": "code",
   "execution_count": 11,
   "metadata": {},
   "outputs": [],
   "source": [
    "def my(*args):\n",
    "    l = []\n",
    "    for item in args:\n",
    "        if item%2 == 0:\n",
    "            l.append(item) # Huomaa että tämä lista on funktion lokaali\n",
    "    return l"
   ]
  },
  {
   "cell_type": "code",
   "execution_count": 12,
   "metadata": {},
   "outputs": [
    {
     "data": {
      "text/plain": [
       "[2, 4]"
      ]
     },
     "execution_count": 12,
     "metadata": {},
     "output_type": "execute_result"
    }
   ],
   "source": [
    "my(1,2,3,4)"
   ]
  },
  {
   "cell_type": "code",
   "execution_count": 13,
   "metadata": {},
   "outputs": [
    {
     "data": {
      "text/plain": [
       "[1, 2, 3, 4]"
      ]
     },
     "execution_count": 13,
     "metadata": {},
     "output_type": "execute_result"
    }
   ],
   "source": [
    "l # Huomaa että tämä lista on globaali johon funktion lokaali ei vaikuta"
   ]
  },
  {
   "cell_type": "code",
   "execution_count": 14,
   "metadata": {},
   "outputs": [],
   "source": [
    "st = 'nomorjes'"
   ]
  },
  {
   "cell_type": "code",
   "execution_count": 15,
   "metadata": {},
   "outputs": [],
   "source": [
    "ust = st.upper()"
   ]
  },
  {
   "cell_type": "code",
   "execution_count": 16,
   "metadata": {},
   "outputs": [
    {
     "data": {
      "text/plain": [
       "'NOMORJES'"
      ]
     },
     "execution_count": 16,
     "metadata": {},
     "output_type": "execute_result"
    }
   ],
   "source": [
    "ust"
   ]
  },
  {
   "cell_type": "code",
   "execution_count": 19,
   "metadata": {},
   "outputs": [
    {
     "data": {
      "text/plain": [
       "'NMRE'"
      ]
     },
     "execution_count": 19,
     "metadata": {},
     "output_type": "execute_result"
    }
   ],
   "source": [
    "st[::2].upper()"
   ]
  },
  {
   "cell_type": "code",
   "execution_count": 20,
   "metadata": {},
   "outputs": [],
   "source": [
    "def myfuncch(s):\n",
    "    ret = \"\"\n",
    "    i = False\n",
    "    for char in s:\n",
    "        if i:\n",
    "            ret += char.upper()\n",
    "        else:\n",
    "            ret += char.lower()\n",
    "        if char != ' ':\n",
    "            i = not i\n",
    "    return ret"
   ]
  },
  {
   "cell_type": "code",
   "execution_count": 21,
   "metadata": {},
   "outputs": [
    {
     "data": {
      "text/plain": [
       "'nOmOrJeS'"
      ]
     },
     "execution_count": 21,
     "metadata": {},
     "output_type": "execute_result"
    }
   ],
   "source": [
    "myfuncch(st)"
   ]
  },
  {
   "cell_type": "markdown",
   "metadata": {},
   "source": [
    "## 6.44. Function Practice Exercises"
   ]
  },
  {
   "cell_type": "markdown",
   "metadata": {},
   "source": [
    "### Function Practice Exercises\n",
    "\n",
    "Problems are arranged in increasing difficulty:\n",
    "\n",
    "- Warmup - these can be solved using basic comparisons and methods\n",
    "- Level 1 - these may involve if/then conditional statements and simple methods\n",
    "- Level 2 - these may require iterating over sequences, usually with some kind of loop\n",
    "- Challenging - these will take some creativity to solve\n",
    "\n",
    "### WARMUP SECTION:\n",
    "\n",
    "#### LESSER OF TWO EVENS: Write a function that returns the lesser of two given numbers if both numbers are even, but returns the greater if one or both numbers are odd\n",
    "\n",
    "lesser_of_two_evens(2,4) --> 2\n",
    "lesser_of_two_evens(2,5) --> 5"
   ]
  },
  {
   "cell_type": "code",
   "execution_count": 1,
   "metadata": {},
   "outputs": [],
   "source": [
    "def lesser_of_two_evens(a,b):\n",
    "    if a%2 == 0 and b%2 == 0: # Tsekkaa onko luvut parillisia\n",
    "        if a < b: # Tsekkaa kumpi numeroista on suurempi ja palauttaa pienemmän.\n",
    "            return a\n",
    "        if a > b:\n",
    "            return b \n",
    "    if a%2 != 0 or b%2 != 0: # Tsekkaa onko luvut parittomia\n",
    "        if a < b:            # Tsekkaa kumpi numeroista on suurempi ja palauttaa suuremman.\n",
    "            return b\n",
    "        if a > b:\n",
    "            return a\n"
   ]
  },
  {
   "cell_type": "code",
   "execution_count": 2,
   "metadata": {},
   "outputs": [],
   "source": [
    "# Malli suoritus:\n",
    "def lesser_of_two_evens1(a,b): \n",
    "    if a%2 == 0 and b%2 == 0: # Tsekkaa onko luvut parillisia, jos ovat\n",
    "        return min(a,b)       # ... palauttaa pienemmän\n",
    "    else:                     # ,muuten (luvut parittomia), \n",
    "        return max(a,b)       # ... palauttaa suuremman.\n"
   ]
  },
  {
   "cell_type": "code",
   "execution_count": 3,
   "metadata": {},
   "outputs": [
    {
     "data": {
      "text/plain": [
       "2"
      ]
     },
     "execution_count": 3,
     "metadata": {},
     "output_type": "execute_result"
    }
   ],
   "source": [
    "lesser_of_two_evens(2,6)"
   ]
  },
  {
   "cell_type": "code",
   "execution_count": 4,
   "metadata": {},
   "outputs": [
    {
     "data": {
      "text/plain": [
       "7"
      ]
     },
     "execution_count": 4,
     "metadata": {},
     "output_type": "execute_result"
    }
   ],
   "source": [
    "lesser_of_two_evens(2,7)"
   ]
  },
  {
   "cell_type": "code",
   "execution_count": 5,
   "metadata": {},
   "outputs": [
    {
     "data": {
      "text/plain": [
       "2"
      ]
     },
     "execution_count": 5,
     "metadata": {},
     "output_type": "execute_result"
    }
   ],
   "source": [
    "lesser_of_two_evens1(2,6)"
   ]
  },
  {
   "cell_type": "code",
   "execution_count": 6,
   "metadata": {},
   "outputs": [
    {
     "data": {
      "text/plain": [
       "7"
      ]
     },
     "execution_count": 6,
     "metadata": {},
     "output_type": "execute_result"
    }
   ],
   "source": [
    "lesser_of_two_evens1(2,7)"
   ]
  },
  {
   "cell_type": "markdown",
   "metadata": {},
   "source": [
    "#### ANIMAL CRACKERS: Write a function that takes a two-word string and returns True if both words begin with same letter\n",
    "\n",
    "animal_crackers('Levelheaded Llama') --> True\n",
    "\n",
    "animal_crackers('Crazy Kangaroo') --> False"
   ]
  },
  {
   "cell_type": "code",
   "execution_count": 7,
   "metadata": {},
   "outputs": [],
   "source": [
    "def animal_crackers(s):\n",
    "    first = s[0]           # Määritetään muuttujan first ekan sanan ekalle kirjaimelle\n",
    "    second = s.find(' ')+1 # Määritetään muuttujan second toisen sanan ekalle kirjaimelle\n",
    "    if first == s[second]: # Tsekkaa onko ekan ja toisen sanan eka kirjain sama\n",
    "        return True        # Tämä loppuosa on turha koska == on boolean:\n",
    "    else:\n",
    "        return False\n"
   ]
  },
  {
   "cell_type": "code",
   "execution_count": 15,
   "metadata": {},
   "outputs": [],
   "source": [
    "# Malli suoritus:\n",
    "def animal_crackers1(text):\n",
    "    wordlist = text.lower().split() # Funktion parametrina annettu sanapari jaetaan 2 strn listaksi välilyönnin kohdasta.\n",
    "    return wordlist[0][0] == wordlist[1][0] # Verrataan wordlist-listan 1 ja 2 stringin ensimmäisiä merkkejä."
   ]
  },
  {
   "cell_type": "code",
   "execution_count": 16,
   "metadata": {},
   "outputs": [
    {
     "data": {
      "text/plain": [
       "False"
      ]
     },
     "execution_count": 16,
     "metadata": {},
     "output_type": "execute_result"
    }
   ],
   "source": [
    "animal_crackers1('Crazy Kangaroo')"
   ]
  },
  {
   "cell_type": "code",
   "execution_count": 17,
   "metadata": {},
   "outputs": [
    {
     "data": {
      "text/plain": [
       "True"
      ]
     },
     "execution_count": 17,
     "metadata": {},
     "output_type": "execute_result"
    }
   ],
   "source": [
    "animal_crackers('Levelheaded Llama')"
   ]
  },
  {
   "cell_type": "code",
   "execution_count": 18,
   "metadata": {},
   "outputs": [],
   "source": [
    "wordlist = 'Crazy Kangaroo'.lower().split()"
   ]
  },
  {
   "cell_type": "code",
   "execution_count": 19,
   "metadata": {},
   "outputs": [
    {
     "data": {
      "text/plain": [
       "['crazy', 'kangaroo']"
      ]
     },
     "execution_count": 19,
     "metadata": {},
     "output_type": "execute_result"
    }
   ],
   "source": [
    "wordlist"
   ]
  },
  {
   "cell_type": "markdown",
   "metadata": {},
   "source": [
    "#### MAKES TWENTY: Given two integers, return True if the sum of the integers is 20 or if one of the integers is 20. If not, return False\n",
    "\n",
    "makes_twenty(20,10) --> True\n",
    "\n",
    "makes_twenty(12,8) --> True\n",
    "\n",
    "makes_twenty(2,3) --> False"
   ]
  },
  {
   "cell_type": "code",
   "execution_count": 20,
   "metadata": {},
   "outputs": [],
   "source": [
    "def makes_twenty(a,b):\n",
    "    if a+b == 20 or a == 20: # Tsekkaa onko summa tai toinen kok. luku 20\n",
    "        return True\n",
    "    elif b == 20 or a+b == 20: # Tsekkaa onko summa tai toinen kok. luku 20\n",
    "        return True\n",
    "    else:                      # Muuten, jos ei niin palauttaa False\n",
    "        return False\n"
   ]
  },
  {
   "cell_type": "code",
   "execution_count": 21,
   "metadata": {},
   "outputs": [
    {
     "data": {
      "text/plain": [
       "'Tämä lause palauttaa True, jos a + b on 20 tai jos a tai b on 20'"
      ]
     },
     "execution_count": 21,
     "metadata": {},
     "output_type": "execute_result"
    }
   ],
   "source": [
    "# Mallisuoritus:\n",
    "def makes_twenty1(a,b):           # Huomaa: Ei tarvi ehtol. koska == on boolean!\n",
    "    return (a + b) == 20 or a == 20 or b == 20\n",
    "\"\"\"Tämä lause palauttaa True, jos a + b on 20 tai jos a tai b on 20\"\"\""
   ]
  },
  {
   "cell_type": "code",
   "execution_count": 22,
   "metadata": {},
   "outputs": [
    {
     "data": {
      "text/plain": [
       "True"
      ]
     },
     "execution_count": 22,
     "metadata": {},
     "output_type": "execute_result"
    }
   ],
   "source": [
    "makes_twenty1(10,20)"
   ]
  },
  {
   "cell_type": "code",
   "execution_count": 23,
   "metadata": {},
   "outputs": [
    {
     "data": {
      "text/plain": [
       "True"
      ]
     },
     "execution_count": 23,
     "metadata": {},
     "output_type": "execute_result"
    }
   ],
   "source": [
    "makes_twenty(12,8)"
   ]
  },
  {
   "cell_type": "code",
   "execution_count": 24,
   "metadata": {},
   "outputs": [
    {
     "data": {
      "text/plain": [
       "False"
      ]
     },
     "execution_count": 24,
     "metadata": {},
     "output_type": "execute_result"
    }
   ],
   "source": [
    "makes_twenty1(2,3)"
   ]
  },
  {
   "cell_type": "markdown",
   "metadata": {},
   "source": [
    "### LEVEL 1 PROBLEMS\n",
    "\n",
    "#### OLD MACDONALD: Write a function that capitalizes the first and fourth letters of a name\n",
    "\n",
    "old_macdonald('macdonald') --> MacDonald\n",
    "\n",
    "Note: 'macdonald'.capitalize() returns 'Macdonald'"
   ]
  },
  {
   "cell_type": "code",
   "execution_count": 25,
   "metadata": {},
   "outputs": [],
   "source": [
    "def old_macdonald(name):\n",
    "    firstfourth = name[0].upper() + name[1:3] + name[3].upper() + name[4:]\n",
    "    return firstfourth # upper-metodi muuttaa isoiksi 1 ja 4 ja slaisaukset välissä"
   ]
  },
  {
   "cell_type": "code",
   "execution_count": 26,
   "metadata": {},
   "outputs": [],
   "source": [
    "# Malli suoritus:\n",
    "def old_macdonald1(name):\n",
    "    return name[:3].capitalize() + name[3:].capitalize()\n",
    "# Upperin sijaan käytetään capitalize-metodia, joka laittaa isoksi slaisatun str:n ekan ja slicet yhdistetään."
   ]
  },
  {
   "cell_type": "code",
   "execution_count": 28,
   "metadata": {},
   "outputs": [
    {
     "data": {
      "text/plain": [
       "'MacDonald'"
      ]
     },
     "execution_count": 28,
     "metadata": {},
     "output_type": "execute_result"
    }
   ],
   "source": [
    "old_macdonald('macdonald')"
   ]
  },
  {
   "cell_type": "markdown",
   "metadata": {},
   "source": [
    "#### MASTER YODA: Given a sentence, return a sentence with the words reversed\n",
    "\n",
    "master_yoda('I am home') --> 'home am I'\n",
    "master_yoda('We are ready') --> 'ready are We'\n",
    "\n",
    "Note: The .join() method may be useful here. The .join() method allows you to join together strings in a list with some connector string. For example, some uses of the .join() method:\n",
    ">>> \"--\".join(['a','b','c'])\n",
    ">>> 'a--b--c'\n",
    "\n",
    "This means if you had a list of words you wanted to turn back into a sentence, you could just join them with a single space string:\n",
    ">>> \" \".join(['Hello','world'])\n",
    ">>> \"Hello world\""
   ]
  },
  {
   "cell_type": "code",
   "execution_count": 44,
   "metadata": {},
   "outputs": [],
   "source": [
    "v= 'uttiv'.split()"
   ]
  },
  {
   "cell_type": "code",
   "execution_count": 45,
   "metadata": {},
   "outputs": [
    {
     "name": "stdout",
     "output_type": "stream",
     "text": [
      "['uttiv']\n"
     ]
    }
   ],
   "source": [
    "print(v)"
   ]
  },
  {
   "cell_type": "code",
   "execution_count": 46,
   "metadata": {},
   "outputs": [],
   "source": [
    "def master_yoda(sentence):\n",
    "    words = sentence.split()\n",
    "    return \" \".join(reversed(words))"
   ]
  },
  {
   "cell_type": "code",
   "execution_count": 50,
   "metadata": {},
   "outputs": [],
   "source": [
    "# Mallisuoritus:\n",
    "def master_yoda1(sentence):\n",
    "    words = sentence.split()\n",
    "    return \" \".join(reversed(words)) # reversed kääntää listan stringien järjestyksen"
   ]
  },
  {
   "cell_type": "code",
   "execution_count": 51,
   "metadata": {},
   "outputs": [
    {
     "data": {
      "text/plain": [
       "'jees ja päivä Hyvää'"
      ]
     },
     "execution_count": 51,
     "metadata": {},
     "output_type": "execute_result"
    }
   ],
   "source": [
    "master_yoda('Hyvää päivä ja jees')"
   ]
  },
  {
   "cell_type": "code",
   "execution_count": 52,
   "metadata": {},
   "outputs": [
    {
     "data": {
      "text/plain": [
       "'ready are We'"
      ]
     },
     "execution_count": 52,
     "metadata": {},
     "output_type": "execute_result"
    }
   ],
   "source": [
    "master_yoda('We are ready')"
   ]
  },
  {
   "cell_type": "markdown",
   "metadata": {},
   "source": [
    "#### ALMOST THERE: Given an integer n, return True if n is within 10 of either 100 or 200\n",
    "\n",
    "almost_there(90) --> True\n",
    "\n",
    "almost_there(104) --> True\n",
    "\n",
    "almost_there(150) --> False\n",
    "\n",
    "almost_there(209) --> True\n",
    "\n",
    "NOTE: abs(num) returns the absolute value of a number"
   ]
  },
  {
   "cell_type": "code",
   "execution_count": 53,
   "metadata": {},
   "outputs": [],
   "source": [
    "def almost_there(num):\n",
    "    if abs(100 - abs(num)) <= 10 or abs(200 - abs(num)) <= 10:\n",
    "        return True\n",
    "    else:\n",
    "        return False"
   ]
  },
  {
   "cell_type": "code",
   "execution_count": 55,
   "metadata": {},
   "outputs": [],
   "source": [
    "# Mallisuoritus:\n",
    "def almost_there1(num):\n",
    "    return (abs(100 - num) <= 10) or (abs(200 - num) <= 10)"
   ]
  },
  {
   "cell_type": "code",
   "execution_count": 56,
   "metadata": {},
   "outputs": [
    {
     "data": {
      "text/plain": [
       "True"
      ]
     },
     "execution_count": 56,
     "metadata": {},
     "output_type": "execute_result"
    }
   ],
   "source": [
    "almost_there1(209)"
   ]
  },
  {
   "cell_type": "code",
   "execution_count": 54,
   "metadata": {},
   "outputs": [
    {
     "data": {
      "text/plain": [
       "True"
      ]
     },
     "execution_count": 54,
     "metadata": {},
     "output_type": "execute_result"
    }
   ],
   "source": [
    "almost_there(104)"
   ]
  },
  {
   "cell_type": "code",
   "execution_count": 57,
   "metadata": {},
   "outputs": [
    {
     "data": {
      "text/plain": [
       "False"
      ]
     },
     "execution_count": 57,
     "metadata": {},
     "output_type": "execute_result"
    }
   ],
   "source": [
    "almost_there(150)"
   ]
  },
  {
   "cell_type": "markdown",
   "metadata": {},
   "source": [
    "### LEVEL 2 PROBLEMS\n",
    "\n",
    "#### FIND 33:\n",
    "\n",
    "Given a list of ints, return True if the array contains a 3 next to a 3 somewhere.\n",
    "\n",
    "has_33([1, 3, 3]) → True\n",
    "\n",
    "has_33([1, 3, 1, 3]) → False\n",
    "\n",
    "has_33([3, 1, 3]) → False\n"
   ]
  },
  {
   "cell_type": "code",
   "execution_count": 1,
   "metadata": {},
   "outputs": [],
   "source": [
    "# Mallisuoritus:\n",
    "def has_33(nums):\n",
    "    \"\"\"Listan iterointi toiseksi viimeiseen lukuun.\n",
    "    Jolloin tsekataan onko jokainen luku [i] ja sitä seuraava\n",
    "    luku samoja ja palautetaan True\"\"\"\n",
    "    for i in range(0, len(nums)-1):\n",
    "        if nums[i] == 3 and nums[i+1] == 3:\n",
    "            return True\n",
    "# Huomaa että return False ei voi olla samassa blokissa.\n",
    "    return False\n"
   ]
  },
  {
   "cell_type": "code",
   "execution_count": 3,
   "metadata": {},
   "outputs": [
    {
     "data": {
      "text/plain": [
       "True"
      ]
     },
     "execution_count": 3,
     "metadata": {},
     "output_type": "execute_result"
    }
   ],
   "source": [
    "has_33([1, 3, 3])"
   ]
  },
  {
   "cell_type": "code",
   "execution_count": 6,
   "metadata": {},
   "outputs": [
    {
     "data": {
      "text/plain": [
       "False"
      ]
     },
     "execution_count": 6,
     "metadata": {},
     "output_type": "execute_result"
    }
   ],
   "source": [
    "has_33([1, 3, 1, 3])"
   ]
  },
  {
   "cell_type": "markdown",
   "metadata": {},
   "source": [
    "#### PAPER DOLL: Given a string, return a string where for every character in the original there are three characters\n",
    "\n",
    "paper_doll('Hello') --> 'HHHeeellllllooo'\n",
    "\n",
    "paper_doll('Mississippi') --> 'MMMiiissssssiiippppppiii'\n"
   ]
  },
  {
   "cell_type": "code",
   "execution_count": 7,
   "metadata": {},
   "outputs": [],
   "source": [
    "# Mallisuoritus:\n",
    "def paper_doll(text):\n",
    "    result = ''\n",
    "    # Jokainen char textissä loopataan ja loopissa x 3 ja siten luodaan result-string:\n",
    "    for char in text:\n",
    "        result += char * 3\n",
    "    return result\n"
   ]
  },
  {
   "cell_type": "code",
   "execution_count": 9,
   "metadata": {},
   "outputs": [
    {
     "data": {
      "text/plain": [
       "'NNNooo   TTTeeerrrvvveee!!!'"
      ]
     },
     "execution_count": 9,
     "metadata": {},
     "output_type": "execute_result"
    }
   ],
   "source": [
    "paper_doll('No Terve!')"
   ]
  },
  {
   "cell_type": "markdown",
   "metadata": {},
   "source": [
    "#### BLACKJACK: Given three integers between 1 and 11, if their sum is less than or equal to 21, return their sum. If their sum exceeds 21 and there's an eleven, reduce the total sum by 10. Finally, if the sum (even after adjustment) exceeds 21, return 'BUST'\n",
    "\n",
    "blackjack(5,6,7) --> 18\n",
    "\n",
    "blackjack(9,9,9) --> 'BUST'\n",
    "\n",
    "blackjack(9,9,11) --> 19\n"
   ]
  },
  {
   "cell_type": "code",
   "execution_count": 10,
   "metadata": {},
   "outputs": [],
   "source": [
    "def blackjack(a,b,c):\n",
    "    # Täytetään ensimmäinen ehto:\n",
    "    if sum([a, b, c]) <= 21:\n",
    "        return sum([a,b,c])\n",
    "    # Toinen ehto:\n",
    "    elif 11 in [a,b,c] and sum([a,b,c]) - 10 <= 21:\n",
    "        return sum([a,b,c]) - 10\n",
    "    else:\n",
    "        return \"Bust\"\n"
   ]
  },
  {
   "cell_type": "code",
   "execution_count": 11,
   "metadata": {},
   "outputs": [
    {
     "data": {
      "text/plain": [
       "18"
      ]
     },
     "execution_count": 11,
     "metadata": {},
     "output_type": "execute_result"
    }
   ],
   "source": [
    "blackjack(5,6,7)"
   ]
  },
  {
   "cell_type": "markdown",
   "metadata": {},
   "source": [
    "#### SUMMER OF '69: Return the sum of the numbers in the array, except ignore sections of numbers starting with a 6 and extending to the next 9 (every 6 will be followed by at least one 9). Return 0 for no numbers.\n",
    "\n",
    "summer_69([1, 3, 5]) --> 9\n",
    "\n",
    "summer_69([4, 5, 6, 7, 8, 9]) --> 9\n",
    "\n",
    "summer_69([2, 1, 6, 9, 11]) --> 14\n"
   ]
  },
  {
   "cell_type": "code",
   "execution_count": 12,
   "metadata": {},
   "outputs": [],
   "source": [
    "def summer_69(arr):\n",
    "    total = 0\n",
    "    add = True\n",
    "    \n",
    "    for num in arr:\n",
    "        while add:\n",
    "            if num != 6:\n",
    "                total += num\n",
    "                break\n",
    "            else:\n",
    "                add = False\n",
    "        while not add:\n",
    "            if num != 9:\n",
    "                break\n",
    "            else:\n",
    "                add = True\n",
    "                break\n",
    "    return total\n"
   ]
  },
  {
   "cell_type": "code",
   "execution_count": 14,
   "metadata": {},
   "outputs": [
    {
     "data": {
      "text/plain": [
       "19"
      ]
     },
     "execution_count": 14,
     "metadata": {},
     "output_type": "execute_result"
    }
   ],
   "source": [
    "summer_69([4, 5, 6, 7, 8, 9, 10])"
   ]
  },
  {
   "cell_type": "markdown",
   "metadata": {},
   "source": [
    "### CHALLENGING PROBLEMS\n",
    "\n",
    "#### SPY GAME: Write a function that takes in a list of integers and returns True if it contains 007 in order\n",
    "\n",
    " spy_game([1,2,4,0,0,7,5]) --> True\n",
    " \n",
    " spy_game([1,0,2,4,0,5,7]) --> True\n",
    " \n",
    " spy_game([1,7,2,0,4,5,0]) --> False\n",
    " "
   ]
  },
  {
   "cell_type": "code",
   "execution_count": 1,
   "metadata": {},
   "outputs": [],
   "source": [
    "def spy_game(nums):\n",
    "    code = [0, 0, 7, 'x']\n",
    "    # [0,7,'x']\n",
    "    # [7, 'x']\n",
    "    # ['x'] length=1\n",
    "    for num in nums:\n",
    "        if num == code[0]:\n",
    "            code.pop(0)\n",
    "    return len(code) == 1"
   ]
  },
  {
   "cell_type": "code",
   "execution_count": 2,
   "metadata": {},
   "outputs": [
    {
     "data": {
      "text/plain": [
       "True"
      ]
     },
     "execution_count": 2,
     "metadata": {},
     "output_type": "execute_result"
    }
   ],
   "source": [
    "spy_game([1,2,4,0,0,7,5])"
   ]
  },
  {
   "cell_type": "code",
   "execution_count": 5,
   "metadata": {},
   "outputs": [
    {
     "data": {
      "text/plain": [
       "False"
      ]
     },
     "execution_count": 5,
     "metadata": {},
     "output_type": "execute_result"
    }
   ],
   "source": [
    "spy_game([1,0,7,2,0,4,5,0])"
   ]
  },
  {
   "cell_type": "code",
   "execution_count": null,
   "metadata": {},
   "outputs": [],
   "source": []
  },
  {
   "cell_type": "markdown",
   "metadata": {},
   "source": [
    "#### COUNT PRIMES: Write a function that returns the number of prime numbers that exist up to and including a given number\n",
    "\n",
    "count_primes(100) --> 25\n",
    "\n",
    "By convention, 0 and 1 are not prime."
   ]
  },
  {
   "cell_type": "code",
   "execution_count": 6,
   "metadata": {},
   "outputs": [],
   "source": [
    "def count_primes(num):\n",
    "    # Check for 0 and 1:\n",
    "    if num < 2:\n",
    "        return 0\n",
    "    # Store the prime numbers\n",
    "    primes = [2]\n",
    "    # Counter going up to the input num\n",
    "    x = 3\n",
    "    \n",
    "    while x <= num:\n",
    "        # Check if x is prime\n",
    "        for y in primes:\n",
    "            if x%y == 0:\n",
    "                x += 2\n",
    "                break\n",
    "        else:\n",
    "            primes.append(x)\n",
    "            x += 2\n",
    "    print(primes)\n",
    "    return len(primes)\n"
   ]
  },
  {
   "cell_type": "code",
   "execution_count": 7,
   "metadata": {},
   "outputs": [
    {
     "name": "stdout",
     "output_type": "stream",
     "text": [
      "[2, 3, 5, 7, 11, 13, 17, 19, 23, 29, 31, 37, 41, 43, 47, 53, 59, 61, 67, 71, 73, 79, 83, 89, 97]\n"
     ]
    },
    {
     "data": {
      "text/plain": [
       "25"
      ]
     },
     "execution_count": 7,
     "metadata": {},
     "output_type": "execute_result"
    }
   ],
   "source": [
    "count_primes(100)"
   ]
  },
  {
   "cell_type": "markdown",
   "metadata": {},
   "source": [
    "### Just for fun:\n",
    "\n",
    "#### PRINT BIG: Write a function that takes in a single letter, and returns a 5x5 representation of that letter\n",
    "print_big('a')\n",
    "\n",
    "out:   *  \n",
    "      * *\n",
    "     *****\n",
    "     *   *\n",
    "     *   *\n",
    "HINT: Consider making a dictionary of possible patterns, and mapping the alphabet to specific 5-line combinations of patterns. \n",
    "For purposes of this exercise, it's ok if your dictionary stops at \"E\"."
   ]
  },
  {
   "cell_type": "markdown",
   "metadata": {},
   "source": [
    "## 6.49. Lambda Expressions Map and Filter"
   ]
  },
  {
   "cell_type": "code",
   "execution_count": 8,
   "metadata": {},
   "outputs": [],
   "source": [
    "def square(num):\n",
    "    return num**2"
   ]
  },
  {
   "cell_type": "code",
   "execution_count": 10,
   "metadata": {},
   "outputs": [],
   "source": [
    "my_nums = [1, 2, 3, 4, 5, 10]"
   ]
  },
  {
   "cell_type": "code",
   "execution_count": 11,
   "metadata": {},
   "outputs": [
    {
     "name": "stdout",
     "output_type": "stream",
     "text": [
      "1\n",
      "4\n",
      "9\n",
      "16\n",
      "25\n",
      "100\n"
     ]
    }
   ],
   "source": [
    "for item in map(square, my_nums): # Mappia käytetään funktion käyttämiseen lista iterointiin\n",
    "    print(item)"
   ]
  },
  {
   "cell_type": "code",
   "execution_count": 12,
   "metadata": {},
   "outputs": [
    {
     "data": {
      "text/plain": [
       "[1, 4, 9, 16, 25, 100]"
      ]
     },
     "execution_count": 12,
     "metadata": {},
     "output_type": "execute_result"
    }
   ],
   "source": [
    "list(map(square, my_nums)) # ja listan luontiin funktiolla ja listalla"
   ]
  },
  {
   "cell_type": "code",
   "execution_count": 13,
   "metadata": {},
   "outputs": [],
   "source": [
    "def splicer(mystring):\n",
    "    if len(mystring)%2 == 0:\n",
    "        return 'EVEN'\n",
    "    else:\n",
    "        return mystring[0]\n"
   ]
  },
  {
   "cell_type": "code",
   "execution_count": 15,
   "metadata": {},
   "outputs": [],
   "source": [
    "names = ['Andy', 'Eve', 'Sally']"
   ]
  },
  {
   "cell_type": "code",
   "execution_count": 15,
   "metadata": {},
   "outputs": [
    {
     "data": {
      "text/plain": [
       "['EVEN', 'E', 'S']"
      ]
     },
     "execution_count": 15,
     "metadata": {},
     "output_type": "execute_result"
    }
   ],
   "source": [
    "list(map(splicer, names))"
   ]
  },
  {
   "cell_type": "code",
   "execution_count": 16,
   "metadata": {},
   "outputs": [],
   "source": [
    "def check_even(num):\n",
    "    return num%2 == 0"
   ]
  },
  {
   "cell_type": "code",
   "execution_count": 9,
   "metadata": {},
   "outputs": [],
   "source": [
    "mynums = [1,2,3,4,5,6,7,8]"
   ]
  },
  {
   "cell_type": "code",
   "execution_count": 19,
   "metadata": {},
   "outputs": [
    {
     "data": {
      "text/plain": [
       "[2, 4, 6, 8]"
      ]
     },
     "execution_count": 19,
     "metadata": {},
     "output_type": "execute_result"
    }
   ],
   "source": [
    "list(filter(check_even, mynums))"
   ]
  },
  {
   "cell_type": "code",
   "execution_count": 20,
   "metadata": {},
   "outputs": [
    {
     "name": "stdout",
     "output_type": "stream",
     "text": [
      "2\n",
      "4\n",
      "6\n",
      "8\n"
     ]
    }
   ],
   "source": [
    "for n in filter(check_even, mynums):\n",
    "    print(n)"
   ]
  },
  {
   "cell_type": "markdown",
   "metadata": {},
   "source": [
    "### Lambda expression:"
   ]
  },
  {
   "cell_type": "code",
   "execution_count": 1,
   "metadata": {},
   "outputs": [],
   "source": [
    "def square(num):\n",
    "    result = num**2\n",
    "    return result"
   ]
  },
  {
   "cell_type": "code",
   "execution_count": 2,
   "metadata": {},
   "outputs": [],
   "source": [
    "def square(num): \n",
    "    return num**2"
   ]
  },
  {
   "cell_type": "code",
   "execution_count": 3,
   "metadata": {},
   "outputs": [],
   "source": [
    "def square(num): return num**2"
   ]
  },
  {
   "cell_type": "code",
   "execution_count": 4,
   "metadata": {},
   "outputs": [
    {
     "data": {
      "text/plain": [
       "64"
      ]
     },
     "execution_count": 4,
     "metadata": {},
     "output_type": "execute_result"
    }
   ],
   "source": [
    "square(8)"
   ]
  },
  {
   "cell_type": "markdown",
   "metadata": {},
   "source": [
    "Lambda = Nimetön funktio, joten nimi pois defistä:"
   ]
  },
  {
   "cell_type": "code",
   "execution_count": 5,
   "metadata": {},
   "outputs": [],
   "source": [
    "x2 = lambda num: num**2"
   ]
  },
  {
   "cell_type": "code",
   "execution_count": 6,
   "metadata": {},
   "outputs": [
    {
     "data": {
      "text/plain": [
       "64"
      ]
     },
     "execution_count": 6,
     "metadata": {},
     "output_type": "execute_result"
    }
   ],
   "source": [
    "x2(8)"
   ]
  },
  {
   "cell_type": "markdown",
   "metadata": {},
   "source": [
    "Lambdaa kannattaa käyttää yhdessä map()-funktion kanssa, jolloin ei tarvi luoda defiä mapin käyttöön. Tässä luodaan lista:"
   ]
  },
  {
   "cell_type": "code",
   "execution_count": 10,
   "metadata": {},
   "outputs": [
    {
     "data": {
      "text/plain": [
       "[1, 4, 9, 16, 25, 36, 49, 64]"
      ]
     },
     "execution_count": 10,
     "metadata": {},
     "output_type": "execute_result"
    }
   ],
   "source": [
    "list(map(lambda num: num**2, mynums))"
   ]
  },
  {
   "cell_type": "code",
   "execution_count": 11,
   "metadata": {},
   "outputs": [],
   "source": [
    "def check_even(num):\n",
    "    return num%2 == 0"
   ]
  },
  {
   "cell_type": "markdown",
   "metadata": {},
   "source": [
    "Muuta yllä oleva def lambdaksi:"
   ]
  },
  {
   "cell_type": "code",
   "execution_count": 12,
   "metadata": {},
   "outputs": [
    {
     "data": {
      "text/plain": [
       "<function __main__.<lambda>(num)>"
      ]
     },
     "execution_count": 12,
     "metadata": {},
     "output_type": "execute_result"
    }
   ],
   "source": [
    "lambda num: num%2 == 0"
   ]
  },
  {
   "cell_type": "markdown",
   "metadata": {},
   "source": [
    "Lambdaa kannattaa myös käyttää filter():n kanssa. Tässä luodaan filter-lista yllä olevasta lambdasta, joka suodattaa tasaluvut:"
   ]
  },
  {
   "cell_type": "code",
   "execution_count": 13,
   "metadata": {},
   "outputs": [
    {
     "data": {
      "text/plain": [
       "[2, 4, 6, 8]"
      ]
     },
     "execution_count": 13,
     "metadata": {},
     "output_type": "execute_result"
    }
   ],
   "source": [
    "list(filter(lambda num: num%2 == 0, mynums))"
   ]
  },
  {
   "cell_type": "code",
   "execution_count": 16,
   "metadata": {},
   "outputs": [
    {
     "data": {
      "text/plain": [
       "['Andy', 'Eve', 'Sally']"
      ]
     },
     "execution_count": 16,
     "metadata": {},
     "output_type": "execute_result"
    }
   ],
   "source": [
    "names"
   ]
  },
  {
   "cell_type": "code",
   "execution_count": 17,
   "metadata": {},
   "outputs": [
    {
     "data": {
      "text/plain": [
       "['A', 'E', 'S']"
      ]
     },
     "execution_count": 17,
     "metadata": {},
     "output_type": "execute_result"
    }
   ],
   "source": [
    "list(map(lambda x: x[0], names))"
   ]
  },
  {
   "cell_type": "code",
   "execution_count": 18,
   "metadata": {},
   "outputs": [
    {
     "data": {
      "text/plain": [
       "['ydnA', 'evE', 'yllaS']"
      ]
     },
     "execution_count": 18,
     "metadata": {},
     "output_type": "execute_result"
    }
   ],
   "source": [
    "list(map(lambda x: x[::-1], names))"
   ]
  },
  {
   "cell_type": "markdown",
   "metadata": {},
   "source": [
    "## 6.50. Nested Statements and Scope"
   ]
  },
  {
   "cell_type": "code",
   "execution_count": 19,
   "metadata": {},
   "outputs": [],
   "source": [
    "x = 25\n",
    "\n",
    "def printer():\n",
    "    x = 50\n",
    "    return x"
   ]
  },
  {
   "cell_type": "code",
   "execution_count": 20,
   "metadata": {},
   "outputs": [
    {
     "name": "stdout",
     "output_type": "stream",
     "text": [
      "25\n"
     ]
    }
   ],
   "source": [
    "print(x)"
   ]
  },
  {
   "cell_type": "code",
   "execution_count": 21,
   "metadata": {},
   "outputs": [
    {
     "name": "stdout",
     "output_type": "stream",
     "text": [
      "50\n"
     ]
    }
   ],
   "source": [
    "print(printer())"
   ]
  },
  {
   "cell_type": "markdown",
   "metadata": {},
   "source": [
    "**LEGB Rule, eli missä järjestyksessä Python hakee muuttujaa:**\n",
    "\n",
    "L: Local — Names assigned in any way within a function (def or lambda)), and not declared global in that function.\n",
    "\n",
    "E: Enclosing function locals — Name in the local scope of any and all enclosing functions (def or lambda), from inner to outer.\n",
    "\n",
    "G: Global (module) — Names assigned at the top-level of a module file, or declared global in a def within the file.\n",
    "\n",
    "B: Built-in (Python) — Names preassigned in the built-in names module : open,range,SyntaxError,..."
   ]
  },
  {
   "cell_type": "code",
   "execution_count": 22,
   "metadata": {},
   "outputs": [],
   "source": [
    "# Esimerkki lokaalista:\n",
    "# lambda num: num**2"
   ]
  },
  {
   "cell_type": "code",
   "execution_count": 23,
   "metadata": {},
   "outputs": [
    {
     "name": "stdout",
     "output_type": "stream",
     "text": [
      "Hello Paikallinen\n"
     ]
    }
   ],
   "source": [
    "# Esimerkki enclosing function lokaalista:\n",
    "# GLOBAALI:\n",
    "name = \"This is a global string\"\n",
    "\n",
    "def greet():\n",
    "    # ENCLOSING:\n",
    "    name = 'Jari'\n",
    "    def hello():\n",
    "        # LOKAALI:\n",
    "        name = 'Paikallinen'\n",
    "        print('Hello ' + name)\n",
    "        \n",
    "    hello()\n",
    "    \n",
    "greet()"
   ]
  },
  {
   "cell_type": "markdown",
   "metadata": {},
   "source": [
    "#### HUOM: Mikäli globaalia namea halutaan käyttää defin sisällä, pitää julkistaa defin sisällä \"global name\"!!!"
   ]
  },
  {
   "cell_type": "markdown",
   "metadata": {},
   "source": [
    "## 7.51. First Python Milestone project Overview"
   ]
  },
  {
   "cell_type": "markdown",
   "metadata": {},
   "source": [
    "#### Ohjeita videolta:\n",
    "\n",
    "- 2 pelaajaa samalla tietokoneella => Vuoro inputit\n",
    "- Ruudukko luodaan uudestaan joka siirron jälkeen\n",
    "- Workbook on sitä varten että käyt läpi yksittäiset ongelmat ja luot funktiot yksitellen\n",
    "- Numpad vastaamaan numeroita pelissä [[1,2,3], [4,5,6], [7,8,9]]\n",
    "- Kysy käyttäjältä: \"Mihin haluaisit sijoittaa numeron?\"\n",
    "- Näytä vuorossaolevalle käyttäjälle tictactoe-laudan josta voi valita mihin sijoittaa x:n\n",
    "- Seuraava käyttäjä voi valita mihin sijoittaa o:n.\n",
    "- Pelin ohjelma ratkaisee kumpi on voittaja\n"
   ]
  },
  {
   "cell_type": "markdown",
   "metadata": {},
   "source": [
    "#### Ohjelman rakenne:\n",
    "\n",
    "- Printtaa \"Welcome to Tic Tac Toe!\"\n",
    "- Ensimmäinen syöte pyydetään: input(\"Player 1: Do you want to be X or O?\"\n",
    "- Jos input on X => \"Player 1 will go first.\" \"Are you ready to play? Enter Yes or No.\"\n",
    "- Yes-vastaus käynnistää while-loopin jolloin peli alkaa pyörimään. Pelilauta printattuna\n",
    "- Pelilauta toutetaan print-komennolla. numeropaikka on varattu aaltosulkeilla, joka on \n",
    "\"Index position of some list\".\n",
    "- Input('Choose your next position: (1-9)')\n",
    "- Assignment-notebookissa tehtävän anto\n",
    "- Walkthrough steps notebookissa, jossa projekti jaettu steppeihin.\n"
   ]
  },
  {
   "cell_type": "code",
   "execution_count": 24,
   "metadata": {},
   "outputs": [],
   "source": [
    "# For using the same code in either Python 2 or 3\n",
    "from __future__ import print_function \n",
    "\n",
    "## Note: Python 2 users, use raw_input() to get player input. Python 3 users, use input()"
   ]
  },
  {
   "cell_type": "code",
   "execution_count": 25,
   "metadata": {},
   "outputs": [],
   "source": [
    "from IPython.display import clear_output\n",
    "def display_board(board):\n",
    "    \"\"\"Funktio printtaa board-nimisen 10-itemisen lista,\n",
    "    joka annetaan funktiolle kutsuttaessa parametrina.\n",
    "    Board-lista on 10 stringin lista(ignore index 0)\"\"\"\n",
    "    clear_output()\n",
    "    print(board[7] + '|' + board[8] + '|' + board[9]) # Tulostaa listan paikkaan 7, 8 ja 9 pystyväliviivat\n",
    "    print('-+-+-') # Printtaa väliviivat ja ruudukon pystyväliviivojen kohtaan\n",
    "    print(board[4] + '|' + board[5] + '|' + board[6])\n",
    "    print('-+-+-')\n",
    "    print(board[1] + '|' + board[2] + '|' + board[3])"
   ]
  },
  {
   "cell_type": "code",
   "execution_count": 30,
   "metadata": {},
   "outputs": [
    {
     "name": "stdout",
     "output_type": "stream",
     "text": [
      " | | \n",
      "-+-+-\n",
      " | | \n",
      "-+-+-\n",
      " | | \n"
     ]
    }
   ],
   "source": [
    "# Testaan boardin. Huomaa että board-listan indeksi nollaa ei käytetä. Tässä lista joka tuottaa tyhjän boardin:\n",
    "display_board([' ', ' ', ' ', ' ', ' ', ' ', ' ', ' ', ' ', ' '])"
   ]
  },
  {
   "cell_type": "code",
   "execution_count": 31,
   "metadata": {},
   "outputs": [
    {
     "name": "stdout",
     "output_type": "stream",
     "text": [
      "X|X|O\n",
      "-+-+-\n",
      "X|O| \n",
      "-+-+-\n",
      "O| | \n"
     ]
    }
   ],
   "source": [
    "# Yksi voittavista listoista:\n",
    "display_board([' ', 'O', ' ', ' ', 'X', 'O', ' ', 'X', 'X', 'O'])"
   ]
  },
  {
   "cell_type": "code",
   "execution_count": 32,
   "metadata": {},
   "outputs": [],
   "source": [
    "def player_input():\n",
    "    \"\"\"Ensimmäinen syöte pyydetään: input(\"Player 1: Do you want to be X or O?\")\n",
    "    Jos input on X => \"Player 1 will go first.\" 'Are you ready to play? Enter Yes or No.' \"\"\"\n",
    "    # Returns a list with the player's letter as the first item and the 2nd players letter as the 2nd index.\n",
    "    marker = ''\n",
    "    while not (marker == 'X' or marker == 'O'):\n",
    "        marker = input(\"Player 1: Do you want to be X or O?\").upper()\n",
    "        if marker == 'X':\n",
    "            return ['X', 'O']\n",
    "        else:\n",
    "            return ['O', 'X']"
   ]
  },
  {
   "cell_type": "code",
   "execution_count": 40,
   "metadata": {},
   "outputs": [],
   "source": [
    "# Tämä funktio sijoittaa tuotetun marker-muuttujan sisältämät siirrot board-listaan ja siten pelilautaan\n",
    "# haluttuun paikkaan joka ilmaistaan position-muuttujalla (1-9)\n",
    "def place_marker(board, marker,position):\n",
    "    board[position] = marker"
   ]
  },
  {
   "cell_type": "code",
   "execution_count": 33,
   "metadata": {},
   "outputs": [],
   "source": [
    "# Tällä tsekataan onko annettu siirto voittava. Ts. tähän on jäsennetty kaikki voittavat yhdistelmät.\n",
    "def win_check(board,mark):\n",
    "    # Winning combination across the top:\n",
    "    return((board[7] == mark and board[8] == mark and board[9] == mark) or \n",
    "    # across the middle:\n",
    "    (board[4] == mark and board[5] == mark and board[6] == mark) or \n",
    "    # across the bottom:\n",
    "    (board[1] == mark and board[2] == mark and board[3] == mark) or \n",
    "    # down the left side:\n",
    "    (board[7] == mark and board[4] == mark and board[1] == mark) or \n",
    "    # down the middle:\n",
    "    (board[8] == mark and board[5] == mark and board[2] == mark) or \n",
    "    # down the right side:\n",
    "    (board[9] == mark and board[6] == mark and board[3] == mark) or \n",
    "    # diagonal:\n",
    "    (board[1] == mark and board[5] == mark and board[9] == mark) or \n",
    "    # the other diagonal:\n",
    "    (board[3] == mark and board[5] == mark and board[7] == mark))"
   ]
  },
  {
   "cell_type": "code",
   "execution_count": 34,
   "metadata": {},
   "outputs": [],
   "source": [
    "# Tämä funktio määrittää kuka pelaajista aloittaa ensin:\n",
    "import random\n",
    "def choose_first():\n",
    "    if random.randint(0, 1) == 0:\n",
    "        return 'Player 2'\n",
    "    else:\n",
    "        return 'Player 1'"
   ]
  },
  {
   "cell_type": "code",
   "execution_count": 35,
   "metadata": {},
   "outputs": [],
   "source": [
    "# Tämä funktio palauttaa boolean arvon jos paikka pelilaudassa on tyhjä:\n",
    "def space_check(board, position):\n",
    "    \n",
    "    return board[position] == ' '"
   ]
  },
  {
   "cell_type": "code",
   "execution_count": 36,
   "metadata": {},
   "outputs": [],
   "source": [
    "# Tämä funktio tsekkaa onko pelilauta täynnä palauttaa True jos on:\n",
    "def full_board_check(board):\n",
    "    for i in range(1, 10):\n",
    "        if space_check(board, i):\n",
    "            return False\n",
    "    return True\n"
   ]
  },
  {
   "cell_type": "code",
   "execution_count": 37,
   "metadata": {},
   "outputs": [],
   "source": [
    "# Tämä funktio pyytää pelaajalta seuraavaa siirtoa ja tsekkaa on valinta vapaa. Funktio palauttaa pelaajan valinnan:\n",
    "def player_choice(board):\n",
    "    position = ' '\n",
    "    while position not in '1 2 3 4 5 6 7 8 9'.split() or not space_check(board, int(position)):\n",
    "        position = input('Choose your next position: (1 - 9) ')\n",
    "    return int(position)"
   ]
  },
  {
   "cell_type": "code",
   "execution_count": 38,
   "metadata": {},
   "outputs": [],
   "source": [
    "# Tämä funktio kysyy pelaajalta haluatko pelata uudestaan ja palauttaa Trie jos kyllä:\n",
    "\n",
    "def replay():\n",
    "        return input('Do you want to play again? Enter yes or no: ').lower().startswith('y')"
   ]
  },
  {
   "cell_type": "code",
   "execution_count": 41,
   "metadata": {},
   "outputs": [
    {
     "name": "stdout",
     "output_type": "stream",
     "text": [
      " |X|O\n",
      "-+-+-\n",
      "X|O| \n",
      "-+-+-\n",
      "O| | \n",
      "Congratulations! Player 2 has won the game!\n"
     ]
    },
    {
     "name": "stdin",
     "output_type": "stream",
     "text": [
      "Do you want to play again? Enter yes or no:  n\n"
     ]
    }
   ],
   "source": [
    "print('Welcome to Tic Tac Toe!')\n",
    "\n",
    "while True:\n",
    "    # Reset the board:\n",
    "    theBoard = [' '] * 10\n",
    "    player1_marker, player2_marker = player_input()\n",
    "    turn = choose_first()\n",
    "    print(turn + ' will go first.')\n",
    "    game_on = True\n",
    "    \n",
    "    while game_on:\n",
    "        if turn == 'Player 1':\n",
    "            \n",
    "            display_board(theBoard)\n",
    "            position = player_choice(theBoard)\n",
    "            place_marker(theBoard, player1_marker, position)\n",
    "            \n",
    "            if win_check(theBoard, player1_marker):\n",
    "                display_board(theBoard)\n",
    "                print('Congratulations! You have won the game!')\n",
    "                game_on = False\n",
    "            else:\n",
    "                if full_board_check(theBoard):\n",
    "                    display_board(theBoard)\n",
    "                    print('Game is a draw!')\n",
    "                    break\n",
    "                else:\n",
    "                    turn = 'Player 2'\n",
    "                    \n",
    "        else:\n",
    "            # Player2's turn.\n",
    "            \n",
    "            display_board(theBoard)\n",
    "            position = player_choice(theBoard)\n",
    "            place_marker(theBoard, player2_marker, position)\n",
    "            \n",
    "            if win_check(theBoard, player2_marker):\n",
    "                display_board(theBoard)\n",
    "                print('Congratulations! Player 2 has won the game!')\n",
    "                game_on = False\n",
    "            else:\n",
    "                if full_board_check(theBoard):\n",
    "                    display_board(theBoard)\n",
    "                    print('Game is a tie!')\n",
    "                    break\n",
    "                else:\n",
    "                    turn = 'Player 1'\n",
    "        \n",
    "            \n",
    "            \n",
    "\n",
    "    if not replay():\n",
    "        break"
   ]
  },
  {
   "cell_type": "code",
   "execution_count": null,
   "metadata": {},
   "outputs": [],
   "source": []
  },
  {
   "cell_type": "markdown",
   "metadata": {},
   "source": [
    "### Kurssin tätä osiota jatkettu kertauksen jälkeen 20. huhtikuuta 2020:"
   ]
  },
  {
   "cell_type": "markdown",
   "metadata": {},
   "source": [
    "# 8. Object Oriented Programming"
   ]
  },
  {
   "cell_type": "markdown",
   "metadata": {},
   "source": [
    "#### Videolta poimittuja asioita:\n",
    "\n",
    "- Mahdollistaa ohjelmoija organisoida koodin omiin objekteihin joilla on omat metodit ja attributit\n",
    "- Esim. list on Pythoniin sisään rakennettu objekti, jolla on mm .append()-metodi\n",
    "- Esim. tuple-oliolla on .index()-metodi\n",
    "- Methodit ovat objektin sisältämiä funktioita jotka käytävät oliolle annettuja tietoja ja palauttavat tuloksen\n",
    "- sekä muuttavat oliota kuten esim .sort() listalle järjestää lista-olion.\n",
    "- OOP:n hyöty on koodin uudelleenkäytettävyydessä.\n",
    "- sekä siinä että ohjelma voidaan organisoida järkeviin kokonaisuuksiin.\n",
    "- Alla esimerkki objektin (olion) luomisesta:"
   ]
  },
  {
   "cell_type": "code",
   "execution_count": 2,
   "metadata": {},
   "outputs": [],
   "source": [
    " class Dog(object): # Objekti määritetään class-sanalla ja classin nimellä joka kirjoitetaan CamelCasena\n",
    "    def __init__(self,breed): # Tämä on __init__metodi, jossa määritetään objektille määritettävät attribuutit\n",
    "        self.breed = breed # classin parametri (breed) osoitetaan self-konstruktorin attribuuttina joka pitää \n",
    "        # ... määrittää Dog-oliota määritettäessä\n",
    "        # ... self.breed luo muotin breed-attribuutille, joka mahdollistaa breedin myöhemmän käytön tapauskohtaisesti\n",
    "    def someMethod(self): #self osoittaa että kyse ei ole functiosta vaan classille osoitetusta methodista\n",
    "        # method performs some action, kuten esim printtaa\n",
    "        print(self.breed) #Tärkeä: Käyttää classin parametreja\n",
    "sam = Dog(breed='Lab') # Sam on Dog-luokasta luotu olio, olla on luokan ominaisuus-breed määritettävänä\n",
    "frank = Dog(breed='Huskie')"
   ]
  },
  {
   "cell_type": "code",
   "execution_count": 3,
   "metadata": {},
   "outputs": [
    {
     "name": "stdout",
     "output_type": "stream",
     "text": [
      "<class 'type'>\n"
     ]
    }
   ],
   "source": [
    "print(type(Dog))"
   ]
  },
  {
   "cell_type": "markdown",
   "metadata": {},
   "source": [
    "## 8.60 Object Oriented Programming - Attributes and keywords"
   ]
  },
  {
   "cell_type": "markdown",
   "metadata": {},
   "source": [
    "#### Videolta poimittuja asioita:\n",
    "\n",
    "- "
   ]
  },
  {
   "cell_type": "code",
   "execution_count": 4,
   "metadata": {},
   "outputs": [],
   "source": [
    "mylisto = [1, 2, 3] # Tämän listan metodeja voi kutsua ..."
   ]
  },
  {
   "cell_type": "code",
   "execution_count": 6,
   "metadata": {},
   "outputs": [],
   "source": [
    "mylisto.append(4) # ... painamalla Tabia jolloin näkee oliolle käytettävissä olevat metodit"
   ]
  },
  {
   "cell_type": "code",
   "execution_count": 7,
   "metadata": {},
   "outputs": [],
   "source": [
    "myseto = set() # sama toimii setille koska se on olio"
   ]
  },
  {
   "cell_type": "code",
   "execution_count": null,
   "metadata": {},
   "outputs": [],
   "source": [
    "myseto.add()"
   ]
  },
  {
   "cell_type": "code",
   "execution_count": 8,
   "metadata": {},
   "outputs": [
    {
     "data": {
      "text/plain": [
       "set"
      ]
     },
     "execution_count": 8,
     "metadata": {},
     "output_type": "execute_result"
    }
   ],
   "source": [
    "type(myseto)"
   ]
  },
  {
   "cell_type": "markdown",
   "metadata": {},
   "source": [
    "#### Luodaan class:"
   ]
  },
  {
   "cell_type": "code",
   "execution_count": 15,
   "metadata": {},
   "outputs": [],
   "source": [
    "class Sample():\n",
    "    pass "
   ]
  },
  {
   "cell_type": "code",
   "execution_count": 13,
   "metadata": {},
   "outputs": [],
   "source": [
    "my_sample = Sample() # luotu my_sample on instanssi (olio) Sample classista"
   ]
  },
  {
   "cell_type": "code",
   "execution_count": 14,
   "metadata": {},
   "outputs": [
    {
     "data": {
      "text/plain": [
       "__main__.Sample"
      ]
     },
     "execution_count": 14,
     "metadata": {},
     "output_type": "execute_result"
    }
   ],
   "source": [
    "type(my_sample) # Tästä nähdään että my_sample on Sample-tyyppinen olio:"
   ]
  },
  {
   "cell_type": "markdown",
   "metadata": {},
   "source": [
    "Luodaan uusi class nimeltä Dog:"
   ]
  },
  {
   "cell_type": "code",
   "execution_count": 10,
   "metadata": {},
   "outputs": [],
   "source": [
    "class Dog():\n",
    "    \n",
    "    # CLASS OBJECT ATTRIBUTES <= KS ALLA OSIO 8.61 TARKEMMIN\n",
    "    # SAME FOR ANY INSTANCE OF A CLASS\n",
    "    # HUOMAA: EI KÄYTETÄ SELF-KEYWORDIA KOSKA SITÄ KÄYTETÄÄN AINOASTAAN LUOKASTA MUOD. OLIOSTA. JOTEN:\n",
    "    species = 'nisäkäs' # Species-attribuutti\n",
    "    \n",
    "    def __init__(self, breed, name, spots):# self-sana on konstruktori joka yhdistää tämän metodin classista luotavaan instanssiin (olioon)\n",
    "        \n",
    "        self.breed = breed\n",
    "        self.name = name\n",
    "        \n",
    "        # Expect boolean True/False\n",
    "        self.spots = spots"
   ]
  },
  {
   "cell_type": "code",
   "execution_count": 2,
   "metadata": {},
   "outputs": [],
   "source": [
    "# Luodaan eka olio Dog-classista. Mikäli emme määritä sulkeisiin määritettyä breed-attribuuttia, herjaa python siitä:"
   ]
  },
  {
   "cell_type": "code",
   "execution_count": 3,
   "metadata": {},
   "outputs": [],
   "source": [
    "my_dog = Dog(breed='Giant Schnauzer', name='Milla', spots=False)"
   ]
  },
  {
   "cell_type": "code",
   "execution_count": 4,
   "metadata": {},
   "outputs": [
    {
     "data": {
      "text/plain": [
       "__main__.Dog"
      ]
     },
     "execution_count": 4,
     "metadata": {},
     "output_type": "execute_result"
    }
   ],
   "source": [
    "type(my_dog)"
   ]
  },
  {
   "cell_type": "code",
   "execution_count": 5,
   "metadata": {},
   "outputs": [
    {
     "data": {
      "text/plain": [
       "'Giant Schnauzer'"
      ]
     },
     "execution_count": 5,
     "metadata": {},
     "output_type": "execute_result"
    }
   ],
   "source": [
    "my_dog.breed"
   ]
  },
  {
   "cell_type": "code",
   "execution_count": 6,
   "metadata": {},
   "outputs": [
    {
     "data": {
      "text/plain": [
       "'Milla'"
      ]
     },
     "execution_count": 6,
     "metadata": {},
     "output_type": "execute_result"
    }
   ],
   "source": [
    "my_dog.name"
   ]
  },
  {
   "cell_type": "code",
   "execution_count": 7,
   "metadata": {},
   "outputs": [
    {
     "data": {
      "text/plain": [
       "False"
      ]
     },
     "execution_count": 7,
     "metadata": {},
     "output_type": "execute_result"
    }
   ],
   "source": [
    "my_dog.spots"
   ]
  },
  {
   "cell_type": "code",
   "execution_count": 7,
   "metadata": {},
   "outputs": [],
   "source": [
    "class Dogi():\n",
    "    \n",
    "    def __init__(self, mybreed):\n",
    "        # Attributes\n",
    "        # We take in the argument\n",
    "        # Assign it using self.attribute_name\n",
    "        self.breed = mybreed"
   ]
  },
  {
   "cell_type": "code",
   "execution_count": 10,
   "metadata": {},
   "outputs": [],
   "source": [
    "my_dogi = Dogi(mybreed = 'Susikoira') # Huomaa: Luokalle määritettyä argumenttia pitää käyttää!!!!"
   ]
  },
  {
   "cell_type": "code",
   "execution_count": 11,
   "metadata": {},
   "outputs": [
    {
     "data": {
      "text/plain": [
       "__main__.Dogi"
      ]
     },
     "execution_count": 11,
     "metadata": {},
     "output_type": "execute_result"
    }
   ],
   "source": [
    "type(my_dogi)"
   ]
  },
  {
   "cell_type": "code",
   "execution_count": 12,
   "metadata": {},
   "outputs": [
    {
     "data": {
      "text/plain": [
       "'Susikoira'"
      ]
     },
     "execution_count": 12,
     "metadata": {},
     "output_type": "execute_result"
    }
   ],
   "source": [
    "my_dogi.breed # Huomaa: attribuutti on olion ominaisuus!!!"
   ]
  },
  {
   "cell_type": "markdown",
   "metadata": {},
   "source": [
    "## 8.61 Object Oriented Programming - Class Object Attributes and Methods"
   ]
  },
  {
   "cell_type": "markdown",
   "metadata": {},
   "source": [
    "#### Videolta poimittuja asioita:\n",
    "\n",
    "- Class object esim. \"nisäkäs\" voidaan määrittää class-tasolla erikseen __init__()-metodin yläpuolelle.\n",
    "- ... siten \"CLASS OBJECT ATTRIBUTE\".\n",
    "- Class object attributes on samat kaikille luokasta tuotetuille olioille (eli instansseille).\n",
    "- KS. OHJELMOINTI TARKEMMIN YLLÄ DOG-CLASSIIN\n",
    "- ESIMERKKI ALLA:"
   ]
  },
  {
   "cell_type": "code",
   "execution_count": 8,
   "metadata": {},
   "outputs": [],
   "source": [
    "my_dogo = Dog(breed='Saksanpaimenkoira', name='Mooris', spots=False)"
   ]
  },
  {
   "cell_type": "code",
   "execution_count": 9,
   "metadata": {},
   "outputs": [
    {
     "data": {
      "text/plain": [
       "'nisäkäs'"
      ]
     },
     "execution_count": 9,
     "metadata": {},
     "output_type": "execute_result"
    }
   ],
   "source": [
    "my_dogo.species # HUOMAA: .species-attribuutti vaihtoehto tuli näkyviin Tab-näppäimellä."
   ]
  },
  {
   "cell_type": "markdown",
   "metadata": {},
   "source": [
    "#### Class Methods. Videolta poimittuja asioita:\n",
    "\n",
    "- Metodi on classin sisällä määritetty funktio, joka suorittaa toiminnon käyttäen määritettyjä attribuutteja\n",
    "- Tästä alla esimerkkinä koira haukkuu omaa nimeä:\n",
    "- Tosin metodit voivat kyllä ottaa myöskin luokan ulkopuolisia omia argumentteja kuten alla numero:\n"
   ]
  },
  {
   "cell_type": "code",
   "execution_count": 1,
   "metadata": {},
   "outputs": [],
   "source": [
    "class Dog():\n",
    "    \n",
    "    # CLASS OBJECT ATTRIBUTES <= KS ALLA OSIO 8.61 TARKEMMIN\n",
    "    # SAME FOR ANY INSTANCE OF A CLASS\n",
    "    # HUOMAA: EI KÄYTETÄ SELF-KEYWORDIA KOSKA SITÄ KÄYTETÄÄN AINOASTAAN LUOKASTA MUOD. OLIOSTA. JOTEN:\n",
    "    species = 'nisäkäs' # Species-attribuutti\n",
    "    \n",
    "    def __init__(self, breed, name, spots):\n",
    "       # self-sana on konstruktori joka yhdistää tämän metodin classista luotavaan instanssiin (olioon) \n",
    "        self.breed = breed\n",
    "        self.name = name\n",
    "        \n",
    "        # Expect boolean True/False\n",
    "        self.spots = spots\n",
    "    \n",
    "    # OPERATIONS/ACTIONS ---> Methods:\n",
    "    def bark(self, numero): # Huomaa self-avainsana yhdistää metodin olioon!\n",
    "        print(\"RÄYH, RÄYH!!! Minun nimeni on {} ja numero on {}!\".format(self.name,numero)) \n",
    "        # Huomaa: self.name on pakko käyttää että yhdistää kulloiseenkin olioon ja sen attribuuttiin\n",
    "        # Huomaa: Metodin omille argumenteille ei tarvi self.-alkuista argumenttia, koska numero pitää...\n",
    "        # ... syöttää argumenttina metodia käytettäessä."
   ]
  },
  {
   "cell_type": "code",
   "execution_count": 36,
   "metadata": {},
   "outputs": [],
   "source": [
    "my_koira = Dog('villis', 'Pehmis', spots=False)"
   ]
  },
  {
   "cell_type": "code",
   "execution_count": 37,
   "metadata": {},
   "outputs": [
    {
     "data": {
      "text/plain": [
       "'nisäkäs'"
      ]
     },
     "execution_count": 37,
     "metadata": {},
     "output_type": "execute_result"
    }
   ],
   "source": [
    "my_koira.species #Huomaa että attribuutilla ei ole ikinä sulkeita koska kyseessä on vain luokan ominaisuus."
   ]
  },
  {
   "cell_type": "code",
   "execution_count": 38,
   "metadata": {},
   "outputs": [
    {
     "name": "stdout",
     "output_type": "stream",
     "text": [
      "RÄYH, RÄYH!!! Minun nimeni on Pehmis ja numero on 42!\n"
     ]
    }
   ],
   "source": [
    "my_koira.bark(42) # Huomaa: Luokkametodin ajaminen vaatii sulkeet!!!"
   ]
  },
  {
   "cell_type": "markdown",
   "metadata": {},
   "source": [
    "#### Class Methods. Videolta poimittuja asioita, jatkuu:\n",
    "\n",
    "- Metodi on classin sisällä määritetty funktio, joka suorittaa toiminnon käyttäen määritettyjä attribuutteja"
   ]
  },
  {
   "cell_type": "code",
   "execution_count": 2,
   "metadata": {},
   "outputs": [],
   "source": [
    "class Circle():\n",
    "    \n",
    "    # CLASS OBJECT ATTRIBUTE: Should be True in any instance (olio) of the class.\n",
    "    pi = 3.14 #pii on ominaisuutena tosi kaikille ympyröille. Hyvä esimerkki!\n",
    "    \n",
    "    def __init__(self,säde=1):\n",
    "        \n",
    "        self.säde = säde\n",
    "        # Selvyyden vuoksi argumenttia ei tarvi määrittää konstruktorille parametrina vaan sen voi määrittää erikseen:\n",
    "        self.ala = säde*säde*self.pi\n",
    "        \n",
    "    # METODI:\n",
    "    def get_piiri(self): #HUOM: self sisään että metodi yhdistyy olioon!\n",
    "        return self.säde * self.pi * 2\n",
    "    "
   ]
  },
  {
   "cell_type": "code",
   "execution_count": 3,
   "metadata": {},
   "outputs": [],
   "source": [
    "mun_ympyrä = Circle(30)"
   ]
  },
  {
   "cell_type": "code",
   "execution_count": 4,
   "metadata": {},
   "outputs": [
    {
     "data": {
      "text/plain": [
       "3.14"
      ]
     },
     "execution_count": 4,
     "metadata": {},
     "output_type": "execute_result"
    }
   ],
   "source": [
    "mun_ympyrä.pi # HUOM: Tabia painamalla saat näkyviin luokasta muodostetun olion argumentit ja metodit"
   ]
  },
  {
   "cell_type": "code",
   "execution_count": 5,
   "metadata": {},
   "outputs": [
    {
     "data": {
      "text/plain": [
       "30"
      ]
     },
     "execution_count": 5,
     "metadata": {},
     "output_type": "execute_result"
    }
   ],
   "source": [
    "mun_ympyrä.säde # HUOM: Olion määrityksessä ylikirjoitettiin 1 syöttämällä luokalle argumentiksi 30"
   ]
  },
  {
   "cell_type": "code",
   "execution_count": 6,
   "metadata": {},
   "outputs": [
    {
     "data": {
      "text/plain": [
       "188.4"
      ]
     },
     "execution_count": 6,
     "metadata": {},
     "output_type": "execute_result"
    }
   ],
   "source": [
    "mun_ympyrä.get_piiri()"
   ]
  },
  {
   "cell_type": "code",
   "execution_count": 7,
   "metadata": {},
   "outputs": [
    {
     "data": {
      "text/plain": [
       "2826.0"
      ]
     },
     "execution_count": 7,
     "metadata": {},
     "output_type": "execute_result"
    }
   ],
   "source": [
    "mun_ympyrä.ala"
   ]
  },
  {
   "cell_type": "markdown",
   "metadata": {},
   "source": [
    "## 8.62 Object Oriented Programming - Inheritance and Polymorphism"
   ]
  },
  {
   "cell_type": "markdown",
   "metadata": {},
   "source": [
    "#### Videolta poimittuja asioita:\n",
    "\n",
    "- Inheritanssi: Muodostaa uusia classeja jo olemassa olevien classien pohjalta\n",
    "- Etu: Koodin uudelleenkäyttö\n",
    "- Esimerkki alla: Animal on ns. Base classi:\n",
    "- Animal-luokasta muodostetut uudet luokat voivat käyttää base-classin metodeja\n",
    "- "
   ]
  },
  {
   "cell_type": "code",
   "execution_count": 1,
   "metadata": {},
   "outputs": [],
   "source": [
    "class Animal(): # TÄMÄ PALVELEE BASE-CLASSINA!\n",
    "    \n",
    "    def __init__(self):\n",
    "        print('ANIMAL CREATED!')\n",
    "    \n",
    "    def who_am_i(self):\n",
    "        print('I am an Animal!')\n",
    "    \n",
    "    def eat(self):\n",
    "        print('I am eating!')\n",
    "    "
   ]
  },
  {
   "cell_type": "code",
   "execution_count": 2,
   "metadata": {},
   "outputs": [
    {
     "name": "stdout",
     "output_type": "stream",
     "text": [
      "ANIMAL CREATED!\n"
     ]
    }
   ],
   "source": [
    "my_animal = Animal() # Huomaa: __init__-metodi ajetaan automaattisesti oliota luotaessa!"
   ]
  },
  {
   "cell_type": "code",
   "execution_count": 3,
   "metadata": {},
   "outputs": [
    {
     "data": {
      "text/plain": [
       "__main__.Animal"
      ]
     },
     "execution_count": 3,
     "metadata": {},
     "output_type": "execute_result"
    }
   ],
   "source": [
    "type(my_animal)"
   ]
  },
  {
   "cell_type": "code",
   "execution_count": 4,
   "metadata": {},
   "outputs": [
    {
     "name": "stdout",
     "output_type": "stream",
     "text": [
      "I am eating!\n"
     ]
    }
   ],
   "source": [
    "my_animal.eat()"
   ]
  },
  {
   "cell_type": "code",
   "execution_count": 5,
   "metadata": {},
   "outputs": [
    {
     "name": "stdout",
     "output_type": "stream",
     "text": [
      "I am an Animal!\n"
     ]
    }
   ],
   "source": [
    "my_animal.who_am_i()"
   ]
  },
  {
   "cell_type": "code",
   "execution_count": 6,
   "metadata": {},
   "outputs": [],
   "source": [
    "# Uutena \"derived\"-claasina voi olla esim Dog, joka perii Animalin metodeja:\n",
    "class Dog(Animal): # Dog-instanssi-classi on mahdollista luoda perimällä Animal-classin (sulkeissa)\n",
    "    def __init__(self): # Dog-class on Animal-classin instanssi-classi, siksi määritys:\n",
    "        Animal.__init__(self)\n",
    "        print('Dog created!')\n",
    "    \n",
    "    def who_am_i(self):\n",
    "        print('I am a Dog!')\n",
    "        \n",
    "    def bark(self):\n",
    "        print('Hau hau!')\n",
    "    "
   ]
  },
  {
   "cell_type": "code",
   "execution_count": 7,
   "metadata": {},
   "outputs": [
    {
     "name": "stdout",
     "output_type": "stream",
     "text": [
      "ANIMAL CREATED!\n",
      "Dog created!\n"
     ]
    }
   ],
   "source": [
    "mun_koira = Dog() # Printaa, koska init-metodi ajetaan init-metodin sisällä automaattisesti uutta oliota luotaessa:"
   ]
  },
  {
   "cell_type": "code",
   "execution_count": 8,
   "metadata": {},
   "outputs": [
    {
     "name": "stdout",
     "output_type": "stream",
     "text": [
      "I am eating!\n"
     ]
    }
   ],
   "source": [
    "# HUOM: Kaikki Animal-classin metodit ovat nyt käytössä Dog-classista luodolle oliolle:\n",
    "mun_koira.eat()"
   ]
  },
  {
   "cell_type": "code",
   "execution_count": 9,
   "metadata": {},
   "outputs": [
    {
     "name": "stdout",
     "output_type": "stream",
     "text": [
      "I am a Dog!\n"
     ]
    }
   ],
   "source": [
    "# Jotta vanha metodi voidaan korvata uudessa luokassa, täytyy se uudelleenkirjoittaa samalla nimellä\n",
    "mun_koira.who_am_i()"
   ]
  },
  {
   "cell_type": "code",
   "execution_count": 10,
   "metadata": {},
   "outputs": [
    {
     "name": "stdout",
     "output_type": "stream",
     "text": [
      "Hau hau!\n"
     ]
    }
   ],
   "source": [
    "# Metodeja voidaan myös lisätään luodulle instanssi-classille kuten .bark()-metodi:\n",
    "mun_koira.bark()"
   ]
  },
  {
   "cell_type": "markdown",
   "metadata": {},
   "source": [
    "### Jatka Polymorphismista videon kohdasta 07:00..."
   ]
  },
  {
   "cell_type": "markdown",
   "metadata": {},
   "source": [
    "#### Videolta poimittuja asioita:\n",
    "\n",
    "- Polymorfismi: Eri olion luokat voivat jakaa samat metodinimen. Siten näitä metodeja voidaan kutsua samasta paikasta vaikka ne kuuluvat täysin eri olioille.\n",
    "- Alla esim.:"
   ]
  },
  {
   "cell_type": "code",
   "execution_count": 33,
   "metadata": {},
   "outputs": [],
   "source": [
    "class Koira():\n",
    "    \n",
    "    def __init__(self,name):\n",
    "        self.name = name\n",
    "        \n",
    "    def puhu(self):\n",
    "        return self.name + ' sanoo hau!'"
   ]
  },
  {
   "cell_type": "code",
   "execution_count": 34,
   "metadata": {},
   "outputs": [],
   "source": [
    "class Kissa():\n",
    "    \n",
    "    def __init__(self,name):\n",
    "        self.name = name\n",
    "        \n",
    "    def puhu(self):\n",
    "        return self.name + ' sanoo mau!'"
   ]
  },
  {
   "cell_type": "code",
   "execution_count": 36,
   "metadata": {},
   "outputs": [],
   "source": [
    "mooris = Koira('Mooris')"
   ]
  },
  {
   "cell_type": "code",
   "execution_count": 37,
   "metadata": {},
   "outputs": [
    {
     "data": {
      "text/plain": [
       "'Mooris sanoo hau!'"
      ]
     },
     "execution_count": 37,
     "metadata": {},
     "output_type": "execute_result"
    }
   ],
   "source": [
    "mooris.puhu()"
   ]
  },
  {
   "cell_type": "code",
   "execution_count": 38,
   "metadata": {},
   "outputs": [],
   "source": [
    "miisu = Kissa('Miisu')"
   ]
  },
  {
   "cell_type": "code",
   "execution_count": 39,
   "metadata": {},
   "outputs": [
    {
     "data": {
      "text/plain": [
       "'Miisu sanoo mau!'"
      ]
     },
     "execution_count": 39,
     "metadata": {},
     "output_type": "execute_result"
    }
   ],
   "source": [
    "miisu.puhu()"
   ]
  },
  {
   "cell_type": "markdown",
   "metadata": {},
   "source": [
    "## 8.63 Object Oriented Programming - Special Methods"
   ]
  },
  {
   "cell_type": "markdown",
   "metadata": {},
   "source": [
    "#### Videolta poimittuja asioita:\n",
    "\n",
    "- Spesiaali metodit: Mahdollistavat Pythoniin sisäänrakennettujen toimintojen käytön\n",
    "- Kuinka se toimii? Alla:"
   ]
  },
  {
   "cell_type": "code",
   "execution_count": 1,
   "metadata": {},
   "outputs": [],
   "source": [
    "mylistoop = [1,2,3]"
   ]
  },
  {
   "cell_type": "code",
   "execution_count": 2,
   "metadata": {},
   "outputs": [
    {
     "data": {
      "text/plain": [
       "3"
      ]
     },
     "execution_count": 2,
     "metadata": {},
     "output_type": "execute_result"
    }
   ],
   "source": [
    "len(mylistoop)"
   ]
  },
  {
   "cell_type": "markdown",
   "metadata": {},
   "source": [
    "##### Entä jos haluan tsekata itseluodun olion pituuden?"
   ]
  },
  {
   "cell_type": "code",
   "execution_count": 3,
   "metadata": {},
   "outputs": [],
   "source": [
    "class Sample():\n",
    "    pass"
   ]
  },
  {
   "cell_type": "code",
   "execution_count": 4,
   "metadata": {},
   "outputs": [],
   "source": [
    "mysample = Sample()"
   ]
  },
  {
   "cell_type": "code",
   "execution_count": 5,
   "metadata": {},
   "outputs": [
    {
     "ename": "TypeError",
     "evalue": "object of type 'Sample' has no len()",
     "output_type": "error",
     "traceback": [
      "\u001b[0;31m---------------------------------------------------------------------------\u001b[0m",
      "\u001b[0;31mTypeError\u001b[0m                                 Traceback (most recent call last)",
      "\u001b[0;32m<ipython-input-5-97b353a42cb3>\u001b[0m in \u001b[0;36m<module>\u001b[0;34m\u001b[0m\n\u001b[0;32m----> 1\u001b[0;31m \u001b[0mlen\u001b[0m\u001b[0;34m(\u001b[0m\u001b[0mmysample\u001b[0m\u001b[0;34m)\u001b[0m\u001b[0;34m\u001b[0m\u001b[0;34m\u001b[0m\u001b[0m\n\u001b[0m",
      "\u001b[0;31mTypeError\u001b[0m: object of type 'Sample' has no len()"
     ]
    }
   ],
   "source": [
    "len(mysample)"
   ]
  },
  {
   "cell_type": "markdown",
   "metadata": {},
   "source": [
    "##### Olioihin ei toimi normaalit metodit vaan on käytettävä dunder/magic-metodeja:"
   ]
  },
  {
   "cell_type": "code",
   "execution_count": 22,
   "metadata": {},
   "outputs": [],
   "source": [
    "class Book():\n",
    "    \n",
    "    def __init__(self,title,author,pages):\n",
    "        \n",
    "        self.title = title\n",
    "        self.author = author\n",
    "        self.pages = pages\n",
    "        # Olion prittaamiseen pitää käyttää str-magicmetodia:\n",
    "    def __str__(self):\n",
    "        return f\"{self.title} by {self.author}\"\n",
    "    # Nyt kun printataan olio niin print kysyy classilta \"onko sulla str-representaatiota itsestäsi johon olio viittaa?\"\n",
    "    # Class vastaa että kyllä ja palauttaa str-metodin mukaisen sisällön.\n",
    "    \n",
    "    def __len__(self):\n",
    "        return self.pages\n",
    "    # Nyt len-metodi palauttaa __len__ metodin mukaisesti self.pages mukaisen lukuarvon\n",
    "    \n",
    "    def __b__(self):\n",
    "        print(\"Kirja olio on tuhottu!\")\n",
    "    "
   ]
  },
  {
   "cell_type": "code",
   "execution_count": 26,
   "metadata": {},
   "outputs": [],
   "source": [
    "b = Book('Python rocks', 'Jari', 1000)"
   ]
  },
  {
   "cell_type": "code",
   "execution_count": 8,
   "metadata": {},
   "outputs": [
    {
     "name": "stdout",
     "output_type": "stream",
     "text": [
      "<__main__.Book object at 0x107948c50>\n"
     ]
    }
   ],
   "source": [
    "print(b)"
   ]
  },
  {
   "cell_type": "code",
   "execution_count": 9,
   "metadata": {},
   "outputs": [
    {
     "data": {
      "text/plain": [
       "'<__main__.Book object at 0x107948c50>'"
      ]
     },
     "execution_count": 9,
     "metadata": {},
     "output_type": "execute_result"
    }
   ],
   "source": [
    "str(b)"
   ]
  },
  {
   "cell_type": "code",
   "execution_count": 14,
   "metadata": {},
   "outputs": [
    {
     "name": "stdout",
     "output_type": "stream",
     "text": [
      "Python rocks by Jari\n"
     ]
    }
   ],
   "source": [
    "print(b)"
   ]
  },
  {
   "cell_type": "code",
   "execution_count": 16,
   "metadata": {},
   "outputs": [
    {
     "data": {
      "text/plain": [
       "'Python rocks by Jari'"
      ]
     },
     "execution_count": 16,
     "metadata": {},
     "output_type": "execute_result"
    }
   ],
   "source": [
    "str(b) # print ja str-metodi palautaan str-representaation"
   ]
  },
  {
   "cell_type": "code",
   "execution_count": 21,
   "metadata": {},
   "outputs": [
    {
     "data": {
      "text/plain": [
       "1000"
      ]
     },
     "execution_count": 21,
     "metadata": {},
     "output_type": "execute_result"
    }
   ],
   "source": [
    "len(b)"
   ]
  },
  {
   "cell_type": "code",
   "execution_count": 27,
   "metadata": {},
   "outputs": [],
   "source": [
    "del(b)"
   ]
  },
  {
   "cell_type": "code",
   "execution_count": 28,
   "metadata": {},
   "outputs": [
    {
     "ename": "NameError",
     "evalue": "name 'b' is not defined",
     "output_type": "error",
     "traceback": [
      "\u001b[0;31m---------------------------------------------------------------------------\u001b[0m",
      "\u001b[0;31mNameError\u001b[0m                                 Traceback (most recent call last)",
      "\u001b[0;32m<ipython-input-28-89e6c98d9288>\u001b[0m in \u001b[0;36m<module>\u001b[0;34m\u001b[0m\n\u001b[0;32m----> 1\u001b[0;31m \u001b[0mb\u001b[0m\u001b[0;34m\u001b[0m\u001b[0;34m\u001b[0m\u001b[0m\n\u001b[0m",
      "\u001b[0;31mNameError\u001b[0m: name 'b' is not defined"
     ]
    }
   ],
   "source": [
    "b"
   ]
  },
  {
   "cell_type": "markdown",
   "metadata": {},
   "source": [
    "## 8.64 Object Oriented Programming - Homework"
   ]
  },
  {
   "cell_type": "markdown",
   "metadata": {},
   "source": [
    "####Problem 1\n",
    "Fill in the Line class methods to accept coordinate as a pair of tuples and return the slope and distance of the line."
   ]
  },
  {
   "cell_type": "code",
   "execution_count": 1,
   "metadata": {},
   "outputs": [],
   "source": [
    "class Line(object):\n",
    "    \n",
    "    def __init__(self,coor1,coor2):\n",
    "        \n",
    "        self.coor1 = coor1\n",
    "        self.coor2 = coor2\n",
    "    \n",
    "    def distance(self):\n",
    "        \n",
    "        x1,y1 = self.coor1\n",
    "        x2,y2 = self.coor2\n",
    "        \n",
    "        return ( (x2-x1)**2 + (y2-y1)**2 )**0.5\n",
    "    \n",
    "    def slope(self):\n",
    "        \n",
    "        x1,y1 = self.coor1\n",
    "        x2,y2 = self.coor2\n",
    "        \n",
    "        return float((y2 - y1))/(x2 - x1)\n",
    "    "
   ]
  },
  {
   "cell_type": "code",
   "execution_count": 2,
   "metadata": {},
   "outputs": [],
   "source": [
    "# EXAMPLE OUTPUT\n",
    "\n",
    "coordinate1 = (3,2)\n",
    "coordinate2 = (8,10)\n",
    "\n",
    "li = Line(coordinate1,coordinate2)"
   ]
  },
  {
   "cell_type": "code",
   "execution_count": 3,
   "metadata": {},
   "outputs": [
    {
     "data": {
      "text/plain": [
       "9.433981132056603"
      ]
     },
     "execution_count": 3,
     "metadata": {},
     "output_type": "execute_result"
    }
   ],
   "source": [
    "li.distance()"
   ]
  },
  {
   "cell_type": "code",
   "execution_count": 5,
   "metadata": {},
   "outputs": [
    {
     "data": {
      "text/plain": [
       "1.6"
      ]
     },
     "execution_count": 5,
     "metadata": {},
     "output_type": "execute_result"
    }
   ],
   "source": [
    "li.slope()"
   ]
  },
  {
   "cell_type": "markdown",
   "metadata": {},
   "source": [
    "________\n",
    "####Problem 2"
   ]
  },
  {
   "cell_type": "code",
   "execution_count": 6,
   "metadata": {},
   "outputs": [],
   "source": [
    "class Cylinder(object):\n",
    "    \n",
    "    def __init__(self,height=1,radius=1):\n",
    "        \n",
    "        self.height = height\n",
    "        self.radius = radius\n",
    "        \n",
    "    def volume(self):\n",
    "        return self.height * 3.14 * self.radius ** 2\n",
    "    \n",
    "    def surface_area(self):\n",
    "        top = (3.14) * (self.radius) ** 2\n",
    "        return 2 * 3.14 * self.radius * self.height + 2 * top\n",
    "    "
   ]
  },
  {
   "cell_type": "code",
   "execution_count": 7,
   "metadata": {},
   "outputs": [],
   "source": [
    "# EXAMPLE OUTPUT\n",
    "c = Cylinder(2,3)"
   ]
  },
  {
   "cell_type": "code",
   "execution_count": 9,
   "metadata": {},
   "outputs": [
    {
     "data": {
      "text/plain": [
       "56.52"
      ]
     },
     "execution_count": 9,
     "metadata": {},
     "output_type": "execute_result"
    }
   ],
   "source": [
    "c.volume()"
   ]
  },
  {
   "cell_type": "code",
   "execution_count": 10,
   "metadata": {},
   "outputs": [
    {
     "data": {
      "text/plain": [
       "94.2"
      ]
     },
     "execution_count": 10,
     "metadata": {},
     "output_type": "execute_result"
    }
   ],
   "source": [
    "c.surface_area()"
   ]
  },
  {
   "cell_type": "markdown",
   "metadata": {},
   "source": [
    "## 8.66 Object Oriented Programming - Challenging Homework"
   ]
  },
  {
   "cell_type": "markdown",
   "metadata": {},
   "source": [
    "For this challenge, create a bank account class that has two attributes:\n",
    "\n",
    "- owner\n",
    "- balance\n",
    "\n",
    "and two methods:\n",
    "\n",
    "- deposit\n",
    "- withdraw\n",
    "\n",
    "As an added requirement, withdrawals may not exceed the available balance.\n",
    "Instantiate your class, make several deposits and withdrawals, and test to make sure the account can't be overdrawn."
   ]
  },
  {
   "cell_type": "code",
   "execution_count": 180,
   "metadata": {},
   "outputs": [],
   "source": [
    "class Account(object):\n",
    "    def __init__(self,owner,balance=1):\n",
    "        self.owner = owner\n",
    "        self.balance = balance\n",
    "\n",
    "    # Define deposit as a method\n",
    "    def deposit(self,deposit):\n",
    "        self.balance = self.balance + deposit\n",
    "        print('Deposit accepted!')\n",
    "    \n",
    "    def withdraw(self,withdraw):\n",
    "        \n",
    "        if self.balance<withdraw:\n",
    "            print('Funds Unavailable!')\n",
    "        else:\n",
    "            self.balance = self.balance - withdraw\n",
    "            print('Withdrawal accepted!')\n",
    "    \n",
    "    # Olion prittaamiseen pitää käyttää str-magicmetodia:\n",
    "    def __str__(self):\n",
    "        return f\"Account owner: {self.owner}\\nAccount balance: {self.balance} €\"\n",
    "    # Nyt kun printataan olio niin print kysyy classilta \"onko sulla str-representaatiota itsestäsi johon olio viittaa?\"\n",
    "    # Class vastaa että kyllä ja palauttaa str-metodin mukaisen sisällön.\n",
    "    \n"
   ]
  },
  {
   "cell_type": "code",
   "execution_count": 181,
   "metadata": {},
   "outputs": [],
   "source": [
    "# 1. Instantiate the class as an object:\n",
    "accountJ = Account('Jari', 10000)"
   ]
  },
  {
   "cell_type": "code",
   "execution_count": 182,
   "metadata": {},
   "outputs": [
    {
     "name": "stdout",
     "output_type": "stream",
     "text": [
      "Account owner: Jari\n",
      "Account balance: 10000 €\n"
     ]
    }
   ],
   "source": [
    "# 2. Print the object (olio):\n",
    "print(accountJ)"
   ]
  },
  {
   "cell_type": "code",
   "execution_count": 183,
   "metadata": {},
   "outputs": [
    {
     "data": {
      "text/plain": [
       "'Jari'"
      ]
     },
     "execution_count": 183,
     "metadata": {},
     "output_type": "execute_result"
    }
   ],
   "source": [
    "# 3. Show the account owner attribute:\n",
    "accountJ.owner"
   ]
  },
  {
   "cell_type": "code",
   "execution_count": 184,
   "metadata": {},
   "outputs": [
    {
     "data": {
      "text/plain": [
       "10000"
      ]
     },
     "execution_count": 184,
     "metadata": {},
     "output_type": "execute_result"
    }
   ],
   "source": [
    "# 4. Show the account balance:\n",
    "accountJ.balance"
   ]
  },
  {
   "cell_type": "code",
   "execution_count": 185,
   "metadata": {},
   "outputs": [
    {
     "name": "stdout",
     "output_type": "stream",
     "text": [
      "Deposit accepted!\n"
     ]
    }
   ],
   "source": [
    "# 5. Make series of deposits and withdrawals:\n",
    "accountJ.deposit(2000)"
   ]
  },
  {
   "cell_type": "code",
   "execution_count": 186,
   "metadata": {},
   "outputs": [
    {
     "data": {
      "text/plain": [
       "12000"
      ]
     },
     "execution_count": 186,
     "metadata": {},
     "output_type": "execute_result"
    }
   ],
   "source": [
    "accountJ.balance"
   ]
  },
  {
   "cell_type": "code",
   "execution_count": 187,
   "metadata": {},
   "outputs": [
    {
     "name": "stdout",
     "output_type": "stream",
     "text": [
      "Funds Unavailable!\n"
     ]
    }
   ],
   "source": [
    "accountJ.withdraw(20000)"
   ]
  },
  {
   "cell_type": "code",
   "execution_count": 188,
   "metadata": {},
   "outputs": [
    {
     "data": {
      "text/plain": [
       "12000"
      ]
     },
     "execution_count": 188,
     "metadata": {},
     "output_type": "execute_result"
    }
   ],
   "source": [
    "accountJ.balance"
   ]
  },
  {
   "cell_type": "code",
   "execution_count": 189,
   "metadata": {},
   "outputs": [
    {
     "name": "stdout",
     "output_type": "stream",
     "text": [
      "Withdrawal accepted!\n"
     ]
    }
   ],
   "source": [
    "accountJ.withdraw(2000)"
   ]
  },
  {
   "cell_type": "code",
   "execution_count": 190,
   "metadata": {},
   "outputs": [
    {
     "name": "stdout",
     "output_type": "stream",
     "text": [
      "Account owner: Jari\n",
      "Account balance: 10000 €\n"
     ]
    }
   ],
   "source": [
    "print(accountJ)"
   ]
  },
  {
   "cell_type": "markdown",
   "metadata": {},
   "source": [
    "### Good Job!"
   ]
  },
  {
   "cell_type": "markdown",
   "metadata": {},
   "source": [
    "## 9.68 Pip install and PyPI"
   ]
  },
  {
   "cell_type": "markdown",
   "metadata": {},
   "source": [
    "#### COMPLETED! (04.05.2020)"
   ]
  },
  {
   "cell_type": "markdown",
   "metadata": {},
   "source": [
    "## 9.69 Modules and Packages"
   ]
  },
  {
   "cell_type": "markdown",
   "metadata": {},
   "source": [
    "#### Videolta poimittuja asioita:\n",
    "\n",
    "- Pip installed with Anaconda distribution\n",
    "- Pip downloads packages from PyPI\n",
    "- Modules are just .py scripts that you call to another .py script\n",
    "- Packages are just collection of modules.\n",
    "\n",
    "##### Avaa Sublime text tmv tekstieditori:\n",
    "\n",
    "- Uusi file\n",
    "- Save as\n",
    "- mymodule.py työpöydälle\n",
    "- Toinen uusi file\n",
    "- Save as\n",
    "- myprogram.py työpöydälle\n",
    "\n",
    "- Luo mymodulen sisällä simppeli def my_func(): print('Hei, olen mymodule.pyssä!')\n",
    "- save\n",
    "\n",
    "- avaa myprogram.py\n",
    "- kirjoita:\n",
    "   - from mymodule import my_func\n",
    "   - my_func()\n",
    "\n",
    "- Kirjoita Macin bashiin: python3 myprogram.py\n",
    "\n",
    "Sitten:\n",
    "\n",
    "- Luo työpöydälle kansio MyMainPackage\n",
    "- Luo luodun kansion sisälle SubPackage\n",
    "- Jotta python ymmärtää molempien kansioiden olevan pythonpaketteja:\n",
    "    - Pitää molempiin kansioihin luoda teksturilla tiedosto nimeltä __init__.py\n",
    "    - Tiedostoon ei tarvi kirjoittaa mitään.\n",
    "\n",
    "Sitten:\n",
    "\n",
    "- Luo MyMainPackage-kansioon uusi tekstitiedosto nimeltä some_main_script.py JA\n",
    "- Luo SubPackage-kansioon uusi tekstitiedosto nimeltä mysubscript.py\n",
    "- Kirjoita mysubscript.pyssä: def sub_report(): print('Hei, olen funktio mysubscriptin sisällä!') => save\n",
    "- Kirjoita some_main_script.pyssä: def report_main(): print('Hei, olen funktio some_main_scripti main packagen sisällä!') => save\n",
    "\n",
    "Sitten. Miten tuodaan Packagesta?:\n",
    "\n",
    "- Edellä demonstroimme jo miten tuoda myprogram.pyhyn toisesta modulista\n",
    "- Nyt katsomme miten tuoda myprogram.pyhyn packagesta:\n",
    "- Avaa myprogram.py ja poista vanha koodi\n",
    "- Kirjoita:\n",
    "    - from MyMainPackage import some_main_script\n",
    "    - from MyMainPackage.SubPackage import mysubscript\n",
    "    - some_main_script.report_main()\n",
    "    - mysubscript.sub_report()\n",
    "- Tallenna nyt myprogram.py\n",
    "\n",
    "Aja se Bashiltä:\n",
    "\n",
    "- python3 myprogram.py\n",
    "\n",
    "\n",
    "#### TÄMÄ KAIKKI YLLÄESITETTY KERTOO SEN MITEN PYTHON-OHJELMAT TULEE ORGANISOIDA SEKÄ AJAA."
   ]
  },
  {
   "cell_type": "markdown",
   "metadata": {},
   "source": [
    "## 9.70 __name__ and \"__main__\""
   ]
  },
  {
   "cell_type": "markdown",
   "metadata": {},
   "source": [
    "#### Videolta poimittuja asioita:\n",
    "\n",
    "##### Avaa Sublime text tmv tekstieditori:\n",
    "\n",
    "- Uusi textifile => Save as one.py => Kirjoita txtgilen ekalle riville # one.py => save\n",
    "- Uusi textifile => Save as two.py => Kirjoita txtgilen ekalle riville # two.py => save\n",
    "- Kun avaat Bashissa python filen, ajetaan kaikki koodit jotka eivät ole sisennettyjä\n",
    "- Pythonissa on sisäänrakennettu muuttuja nimeltään __name__.\n",
    "- tälle __name__-muuttujalle osoitetaan avattaessa merkkijono \"__main__\", mutta tutkii sen if-lauseella Trueksi.\n",
    "- eli (if)__name__ == \"__main__\": (True) \n",
    "- Jonka jälkeen lähtee ajamaan mainille osoitettuja koodeja esim. classeja ja funktioita.\n",
    "\n",
    "Sitten:\n",
    "\n",
    "- Avaa sublimellä one.py-file.\n",
    "- Koodaa seuraavaa:\n",
    "    def func():\n",
    "        print(\"FUNC() IN ONE.PY\")\n",
    "        \n",
    "    print(\"TOP LEVEL IN ONE.PY\")\n",
    "    \n",
    "    if __name__ == '__main__':\n",
    "        print('ONE.PY is being run directly!')\n",
    "    else:\n",
    "        print(ONE.PY has been imported!')\n",
    "        \n",
    "- Tallenna nyt one.py\n",
    "- avaa two.py\n",
    "- Koodaa siihen seuraavaa:\n",
    "\n",
    "    import one\n",
    "    \n",
    "    print(\"TOP LEVEL IN TWO.PY\")\n",
    "    \n",
    "    one.func()\n",
    "    \n",
    "    if __name__ == '__main__':\n",
    "        print('TWO.PY is being run directly!')\n",
    "    else:\n",
    "        print(TWO.PY has been imported!')\n",
    "        \n",
    "Sitten:\n",
    "\n",
    "- Tallenna muutokset molempiin Sublimen txtfileihin.\n",
    "- Avaa Bash\n",
    "- Kirjoita Bashille: python3 one.py\n",
    "- Ajo tulostaa:\n",
    "    TOP LEVEL IN ONE.PY\n",
    "    ONE.PY is being run directly!\n",
    "- Johtopäätös: one.pyn ajossa __name__-muuttujalle on osoitettu heti avattaessa merkkijono \"__main__\"\n",
    "\n",
    "Sitten:\n",
    "\n",
    "- Avaa Bash\n",
    "- Kirjoita Bashille: python3 two.py\n",
    "- Ajo tulostaa:\n",
    "        TOP LEVEL IN ONE.PY\n",
    "        ONE.PY has been imported!\n",
    "        TOP LEVEL IN TWO.PY\n",
    "        FUNC() IN ONE.PY\n",
    "        TWO.PY is being run directly!\n",
    "- Johtopäätös: one.pyn ajossa __name__-muuttujalle ei osoitettu avattaessa merkkijonoa \"__main__\", vaan\n",
    "- ... one.py oli ensin importeerattu two.pyhyn, jonka jälkeen ajossa oli two.pyn koodin tuottamat printit!!!\n",
    "\n",
    "TOISIN SANOEN:\n",
    "\n",
    "if __name__ == '__main__':\n",
    "#### Tarkoittaa samaa kuin että \"aja koodi\"!!!\n",
    "\n",
    "#### SEN VUOKSI: KIRJOITA TÄMÄ AIKA KOODIN LOPPUUN:\n",
    "\n",
    "if __name__ == '__main__':\n",
    "    main()\n",
    "\n",
    "- Laita import-statementit koodin alkuun jolla tuot ohjelmaan käytettävät modulit ja packaget\n",
    "- ... SEKÄ sen jälkeen kirjoitat kaikki käytettävät funktiot def main() alle.\n",
    "- TÄLLÖIN OHJELMAN AJO TAPAHTUU SUJUVASTI JA OIKEIN VARMASTI!!!\n"
   ]
  },
  {
   "cell_type": "markdown",
   "metadata": {},
   "source": [
    "## 10.71 Errors and Exception Handling"
   ]
  },
  {
   "cell_type": "markdown",
   "metadata": {},
   "source": [
    "#### Videolta poimittuja asioita:\n",
    "\n",
    "- try: This is the block of code to be attempted (may lead to an error)\n",
    "- except: Block of code will execute in case there is an error in try block\n",
    "- finally: A final block of code to be executed, regardless of an error.\n",
    "- Esimerkki errorista:"
   ]
  },
  {
   "cell_type": "code",
   "execution_count": 2,
   "metadata": {},
   "outputs": [],
   "source": [
    "def add(n1, n2):\n",
    "    print(n1+n2)"
   ]
  },
  {
   "cell_type": "code",
   "execution_count": 3,
   "metadata": {},
   "outputs": [
    {
     "name": "stdout",
     "output_type": "stream",
     "text": [
      "30\n"
     ]
    }
   ],
   "source": [
    "add(10, 20)"
   ]
  },
  {
   "cell_type": "code",
   "execution_count": 4,
   "metadata": {},
   "outputs": [],
   "source": [
    "numero1 = 10"
   ]
  },
  {
   "cell_type": "code",
   "execution_count": 5,
   "metadata": {},
   "outputs": [
    {
     "name": "stdin",
     "output_type": "stream",
     "text": [
      "Anna numero:  20\n"
     ]
    }
   ],
   "source": [
    "numero2 = input('Anna numero: ')"
   ]
  },
  {
   "cell_type": "code",
   "execution_count": 7,
   "metadata": {},
   "outputs": [
    {
     "ename": "TypeError",
     "evalue": "unsupported operand type(s) for +: 'int' and 'str'",
     "output_type": "error",
     "traceback": [
      "\u001b[0;31m---------------------------------------------------------------------------\u001b[0m",
      "\u001b[0;31mTypeError\u001b[0m                                 Traceback (most recent call last)",
      "\u001b[0;32m<ipython-input-7-7ec897e6c8e3>\u001b[0m in \u001b[0;36m<module>\u001b[0;34m\u001b[0m\n\u001b[0;32m----> 1\u001b[0;31m \u001b[0madd\u001b[0m\u001b[0;34m(\u001b[0m\u001b[0mnumero1\u001b[0m\u001b[0;34m,\u001b[0m \u001b[0mnumero2\u001b[0m\u001b[0;34m)\u001b[0m\u001b[0;34m\u001b[0m\u001b[0;34m\u001b[0m\u001b[0m\n\u001b[0m\u001b[1;32m      2\u001b[0m \u001b[0mprint\u001b[0m\u001b[0;34m(\u001b[0m\u001b[0;34m'Jotain tapahtui!'\u001b[0m\u001b[0;34m)\u001b[0m\u001b[0;34m\u001b[0m\u001b[0;34m\u001b[0m\u001b[0m\n",
      "\u001b[0;32m<ipython-input-2-83ad4742d2aa>\u001b[0m in \u001b[0;36madd\u001b[0;34m(n1, n2)\u001b[0m\n\u001b[1;32m      1\u001b[0m \u001b[0;32mdef\u001b[0m \u001b[0madd\u001b[0m\u001b[0;34m(\u001b[0m\u001b[0mn1\u001b[0m\u001b[0;34m,\u001b[0m \u001b[0mn2\u001b[0m\u001b[0;34m)\u001b[0m\u001b[0;34m:\u001b[0m\u001b[0;34m\u001b[0m\u001b[0;34m\u001b[0m\u001b[0m\n\u001b[0;32m----> 2\u001b[0;31m     \u001b[0mprint\u001b[0m\u001b[0;34m(\u001b[0m\u001b[0mn1\u001b[0m\u001b[0;34m+\u001b[0m\u001b[0mn2\u001b[0m\u001b[0;34m)\u001b[0m\u001b[0;34m\u001b[0m\u001b[0;34m\u001b[0m\u001b[0m\n\u001b[0m",
      "\u001b[0;31mTypeError\u001b[0m: unsupported operand type(s) for +: 'int' and 'str'"
     ]
    }
   ],
   "source": [
    "add(numero1, numero2)\n",
    "print('Jotain tapahtui!')"
   ]
  },
  {
   "cell_type": "code",
   "execution_count": 15,
   "metadata": {},
   "outputs": [
    {
     "name": "stdout",
     "output_type": "stream",
     "text": [
      "Hei, näyttää että et ole lisäämässä oikealla tavalla.\n"
     ]
    }
   ],
   "source": [
    "try:\n",
    "    # WANT TO ATTEMPT THIS CODE\n",
    "    # MAY HAVE AN ERROR\n",
    "    result = 10 + '10'\n",
    "except:\n",
    "    print('Hei, näyttää että et ole lisäämässä oikealla tavalla.')\n",
    "# Koodin except sisältämä osuus toimii vaikka try-osuudessa onkin virhe!\n",
    "else:\n",
    "    print('Lisäys meni hyvin!')\n",
    "    print(result)\n",
    "# else-osuus ajetaan mikäli try-osuudessa ei ole virhettä"
   ]
  },
  {
   "cell_type": "code",
   "execution_count": 16,
   "metadata": {},
   "outputs": [
    {
     "data": {
      "text/plain": [
       "20"
      ]
     },
     "execution_count": 16,
     "metadata": {},
     "output_type": "execute_result"
    }
   ],
   "source": [
    "result"
   ]
  },
  {
   "cell_type": "code",
   "execution_count": 18,
   "metadata": {},
   "outputs": [
    {
     "name": "stdout",
     "output_type": "stream",
     "text": [
      "Tämä rivi ajetaan aina!\n"
     ]
    }
   ],
   "source": [
    "try:\n",
    "    f = open('testfile', 'w')\n",
    "    f.write('Kirjoita testirivi')\n",
    "except TypeError:\n",
    "    print('Tekstissä oli kirjoitusvirhe')\n",
    "except OSError:\n",
    "    print('Hei. Tapahtui käyttisvirhe!')\n",
    "finally:\n",
    "    print('Tämä rivi ajetaan aina!')"
   ]
  },
  {
   "cell_type": "code",
   "execution_count": 19,
   "metadata": {},
   "outputs": [
    {
     "name": "stdout",
     "output_type": "stream",
     "text": [
      "Hei. Tapahtui käyttisvirhe!\n",
      "Tämä rivi ajetaan aina!\n"
     ]
    }
   ],
   "source": [
    "try:\n",
    "    f = open('testfile', 'r')\n",
    "    f.write('Kirjoita testirivi')\n",
    "except TypeError:\n",
    "    print('Tekstissä oli kirjoitusvirhe')\n",
    "except OSError:\n",
    "    print('Hei. Tapahtui käyttisvirhe!')\n",
    "finally:\n",
    "    print('Tämä rivi ajetaan aina!')"
   ]
  },
  {
   "cell_type": "code",
   "execution_count": 20,
   "metadata": {},
   "outputs": [
    {
     "name": "stdout",
     "output_type": "stream",
     "text": [
      "Tämä rivi ajetaan aina!\n"
     ]
    }
   ],
   "source": [
    "try:\n",
    "    f = open('testfile', 'w')\n",
    "    f.write('Kirjoita testirivi')\n",
    "except TypeError:\n",
    "    print('Tekstissä oli kirjoitusvirhe')\n",
    "except OSError:\n",
    "    print('Hei. Tapahtui käyttisvirhe!')\n",
    "finally:\n",
    "    print('Tämä rivi ajetaan aina!')"
   ]
  },
  {
   "cell_type": "code",
   "execution_count": 26,
   "metadata": {},
   "outputs": [],
   "source": [
    "def ask_for_int():\n",
    "    while True:\n",
    "        try:\n",
    "            result = int(input('Anna numero: '))\n",
    "        except:\n",
    "            print('Ohos! Tuo ei ole numero')\n",
    "            continue\n",
    "        else:\n",
    "            print('Kiitos')\n",
    "            break\n",
    "        finally:\n",
    "            print('Loppuu nyt try/except/finally')\n",
    "            print('Minut ajetaan aina lopussa!')"
   ]
  },
  {
   "cell_type": "code",
   "execution_count": 27,
   "metadata": {},
   "outputs": [
    {
     "name": "stdin",
     "output_type": "stream",
     "text": [
      "Anna numero:  20\n"
     ]
    },
    {
     "name": "stdout",
     "output_type": "stream",
     "text": [
      "Kiitos\n",
      "Loppuu nyt try/except/finally\n",
      "Minut ajetaan aina lopussa!\n"
     ]
    }
   ],
   "source": [
    "ask_for_int()"
   ]
  },
  {
   "cell_type": "code",
   "execution_count": 28,
   "metadata": {},
   "outputs": [
    {
     "name": "stdin",
     "output_type": "stream",
     "text": [
      "Anna numero:  q\n"
     ]
    },
    {
     "name": "stdout",
     "output_type": "stream",
     "text": [
      "Ohos! Tuo ei ole numero\n",
      "Loppuu nyt try/except/finally\n",
      "Minut ajetaan aina lopussa!\n"
     ]
    },
    {
     "name": "stdin",
     "output_type": "stream",
     "text": [
      "Anna numero:  hot\n"
     ]
    },
    {
     "name": "stdout",
     "output_type": "stream",
     "text": [
      "Ohos! Tuo ei ole numero\n",
      "Loppuu nyt try/except/finally\n",
      "Minut ajetaan aina lopussa!\n"
     ]
    },
    {
     "name": "stdin",
     "output_type": "stream",
     "text": [
      "Anna numero:  90\n"
     ]
    },
    {
     "name": "stdout",
     "output_type": "stream",
     "text": [
      "Kiitos\n",
      "Loppuu nyt try/except/finally\n",
      "Minut ajetaan aina lopussa!\n"
     ]
    }
   ],
   "source": [
    "ask_for_int()"
   ]
  },
  {
   "cell_type": "markdown",
   "metadata": {},
   "source": [
    "## 10.72 Errors and Exception Handling"
   ]
  },
  {
   "cell_type": "markdown",
   "metadata": {},
   "source": [
    "#### Videolta poimittuja asioita:\n",
    "\n",
    "- try:"
   ]
  },
  {
   "cell_type": "markdown",
   "metadata": {},
   "source": [
    "###Problem 1\n",
    "Handle the exception thrown by the code below by using try and except blocks."
   ]
  },
  {
   "cell_type": "code",
   "execution_count": 2,
   "metadata": {},
   "outputs": [
    {
     "name": "stdout",
     "output_type": "stream",
     "text": [
      "Looks like you have str instead of numbers\n"
     ]
    }
   ],
   "source": [
    "try:\n",
    "    for i in ['a','b','c']:\n",
    "        print(i**2)\n",
    "except:\n",
    "    print('Looks like you have str instead of numbers')"
   ]
  },
  {
   "cell_type": "markdown",
   "metadata": {},
   "source": [
    "###Problem 2\n",
    "Handle the exception thrown by the code below by using **try** and **except** blocks. Then use a **finally** block to print 'All Done.'"
   ]
  },
  {
   "cell_type": "code",
   "execution_count": 7,
   "metadata": {},
   "outputs": [
    {
     "name": "stdout",
     "output_type": "stream",
     "text": [
      "You cannot divide by zero!\n",
      "All Done!\n"
     ]
    }
   ],
   "source": [
    "try:\n",
    "    x = 5\n",
    "    y = 0\n",
    "\n",
    "    z = x/y\n",
    "except ZeroDivisionError:\n",
    "    print('You cannot divide by zero!')\n",
    "finally:\n",
    "    print('All Done!')"
   ]
  },
  {
   "cell_type": "markdown",
   "metadata": {},
   "source": [
    "###Problem 3\n",
    "Write a function that asks for an integer and prints the square of it. Use a while loop with a try,except, else block to account for incorrect inputs."
   ]
  },
  {
   "cell_type": "code",
   "execution_count": 23,
   "metadata": {},
   "outputs": [],
   "source": [
    "def ask():\n",
    "    while True:\n",
    "        try:\n",
    "            n = int(input('Enter a number: '))\n",
    "        except:\n",
    "            print('Please try again! \\n')\n",
    "            continue\n",
    "        else:\n",
    "            break\n",
    "            \n",
    "        \n",
    "    print('Your number squared is: ')\n",
    "    print(n**2)"
   ]
  },
  {
   "cell_type": "code",
   "execution_count": 24,
   "metadata": {},
   "outputs": [
    {
     "name": "stdin",
     "output_type": "stream",
     "text": [
      "Enter a number:  7\n"
     ]
    },
    {
     "name": "stdout",
     "output_type": "stream",
     "text": [
      "Your number squared is: \n",
      "49\n"
     ]
    }
   ],
   "source": [
    "ask()"
   ]
  },
  {
   "cell_type": "code",
   "execution_count": 25,
   "metadata": {},
   "outputs": [
    {
     "name": "stdin",
     "output_type": "stream",
     "text": [
      "Enter a number:  a\n"
     ]
    },
    {
     "name": "stdout",
     "output_type": "stream",
     "text": [
      "Please try again! \n",
      "\n"
     ]
    },
    {
     "name": "stdin",
     "output_type": "stream",
     "text": [
      "Enter a number:  w\n"
     ]
    },
    {
     "name": "stdout",
     "output_type": "stream",
     "text": [
      "Please try again! \n",
      "\n"
     ]
    },
    {
     "name": "stdin",
     "output_type": "stream",
     "text": [
      "Enter a number:  2\n"
     ]
    },
    {
     "name": "stdout",
     "output_type": "stream",
     "text": [
      "Your number squared is: \n",
      "4\n"
     ]
    }
   ],
   "source": [
    "ask()"
   ]
  },
  {
   "cell_type": "markdown",
   "metadata": {},
   "source": [
    "## 10.74 Pylint Unittesting Overview"
   ]
  },
  {
   "cell_type": "markdown",
   "metadata": {},
   "source": [
    "#### Videolta poimittuja asioita:\n",
    "\n",
    "- Isommissa moniin tiedostoihin jaetuissa Python-ohjelmissa tarvitaan testausta.\n",
    "- Myöskin jos työskennellään isommissa ryhmissä\n",
    "- Testitiedostoja ajamalla nähdään että aiemmin tuotettu koodi toimii kuten pitääkin\n",
    "- Testaukseen voidaan käyttää 2 työkalua:\n",
    "    - Pylint: Library, joka tarkastaa koodisi ja raportoi mahdollisista ongelmista\n",
    "    - Unittest: Tämä on build-in library, jolla voi testata jo tehtyjä omia ohjelmia ja se tsekkaa että ohjelmasta tulee       oikeat outputit. "
   ]
  },
  {
   "cell_type": "code",
   "execution_count": 1,
   "metadata": {},
   "outputs": [
    {
     "name": "stdout",
     "output_type": "stream",
     "text": [
      "Requirement already satisfied: pylint in /Users/jarijokela/anaconda3/lib/python3.7/site-packages (2.4.4)\n",
      "Requirement already satisfied: astroid<2.4,>=2.3.0 in /Users/jarijokela/anaconda3/lib/python3.7/site-packages (from pylint) (2.3.3)\n",
      "Requirement already satisfied: mccabe<0.7,>=0.6 in /Users/jarijokela/anaconda3/lib/python3.7/site-packages (from pylint) (0.6.1)\n",
      "Requirement already satisfied: isort<5,>=4.2.5 in /Users/jarijokela/anaconda3/lib/python3.7/site-packages (from pylint) (4.3.21)\n",
      "Collecting typed-ast<1.5,>=1.4.0; implementation_name == \"cpython\" and python_version < \"3.8\"\n",
      "  Downloading typed_ast-1.4.1-cp37-cp37m-macosx_10_9_x86_64.whl (223 kB)\n",
      "\u001b[K     |████████████████████████████████| 223 kB 157 kB/s eta 0:00:01\n",
      "\u001b[?25hRequirement already satisfied: lazy-object-proxy==1.4.* in /Users/jarijokela/anaconda3/lib/python3.7/site-packages (from astroid<2.4,>=2.3.0->pylint) (1.4.3)\n",
      "Collecting wrapt==1.11.*\n",
      "  Downloading wrapt-1.11.2.tar.gz (27 kB)\n",
      "Requirement already satisfied: six~=1.12 in /Users/jarijokela/anaconda3/lib/python3.7/site-packages (from astroid<2.4,>=2.3.0->pylint) (1.14.0)\n",
      "Building wheels for collected packages: wrapt\n",
      "  Building wheel for wrapt (setup.py) ... \u001b[?25ldone\n",
      "\u001b[?25h  Created wheel for wrapt: filename=wrapt-1.11.2-cp37-cp37m-macosx_10_9_x86_64.whl size=32365 sha256=3574f71799572b8ea0d58ef2286bb70731ad2943561156e92c073d6f19b2f7d3\n",
      "  Stored in directory: /Users/jarijokela/Library/Caches/pip/wheels/23/5f/62/304b411f20be41821465a82bc98baabc5e68c3cdd1eb99db71\n",
      "Successfully built wrapt\n",
      "Installing collected packages: typed-ast, wrapt\n",
      "  Attempting uninstall: wrapt\n",
      "    Found existing installation: wrapt 1.12.1\n",
      "    Uninstalling wrapt-1.12.1:\n",
      "      Successfully uninstalled wrapt-1.12.1\n",
      "Successfully installed typed-ast-1.4.1 wrapt-1.11.2\n",
      "Note: you may need to restart the kernel to use updated packages.\n"
     ]
    }
   ],
   "source": [
    "pip install pylint"
   ]
  },
  {
   "cell_type": "code",
   "execution_count": 2,
   "metadata": {},
   "outputs": [
    {
     "name": "stdout",
     "output_type": "stream",
     "text": [
      "Writing pylinttest.txt\n"
     ]
    }
   ],
   "source": [
    "%%writefile pylinttest.txt\n",
    "Toimiiko\n",
    "filentuotto\n",
    "tällä tavalla.\n",
    "Ihan vaan testaan..."
   ]
  },
  {
   "cell_type": "code",
   "execution_count": 3,
   "metadata": {},
   "outputs": [
    {
     "name": "stdout",
     "output_type": "stream",
     "text": [
      "Toimiiko\n",
      "filentuotto\n",
      "tällä tavalla.\n",
      "Ihan vaan testaan...\n",
      "\n"
     ]
    }
   ],
   "source": [
    "with open('pylinttest.txt', 'r') as testuu:\n",
    "    print(testuu.read())"
   ]
  },
  {
   "cell_type": "code",
   "execution_count": 4,
   "metadata": {},
   "outputs": [
    {
     "name": "stdout",
     "output_type": "stream",
     "text": [
      "Writing simple1.py\n"
     ]
    }
   ],
   "source": [
    "%%writefile simple1.py\n",
    "a = 1\n",
    "b = 2\n",
    "print(a)\n",
    "print(B)"
   ]
  },
  {
   "cell_type": "code",
   "execution_count": 10,
   "metadata": {},
   "outputs": [
    {
     "name": "stdout",
     "output_type": "stream",
     "text": [
      "************* Module simple1\n",
      "simple1.py:1:0: C0114: Missing module docstring (missing-module-docstring)\n",
      "simple1.py:1:0: C0103: Constant name \"a\" doesn't conform to UPPER_CASE naming style (invalid-name)\n",
      "simple1.py:2:0: C0103: Constant name \"b\" doesn't conform to UPPER_CASE naming style (invalid-name)\n",
      "simple1.py:4:6: E0602: Undefined variable 'B' (undefined-variable)\n",
      "\n",
      "----------------------------------------------------------------------\n",
      "Your code has been rated at -10.00/10 (previous run: -10.00/10, +0.00)\n",
      "\n"
     ]
    }
   ],
   "source": [
    "!pylint simple1.py # Ajo MacOS:n komentorivillä. Huomaa että virhe on E-rivillä"
   ]
  },
  {
   "cell_type": "code",
   "execution_count": 11,
   "metadata": {},
   "outputs": [
    {
     "name": "stdout",
     "output_type": "stream",
     "text": [
      "Writing simple2.py\n"
     ]
    }
   ],
   "source": [
    "%%writefile simple2.py\n",
    "'''\n",
    "A Very Simple Script\n",
    "'''\n",
    "def myfunc():\n",
    "    '''\n",
    "    A simple function\n",
    "    '''\n",
    "    first = 1\n",
    "    second = 2\n",
    "    print(first)\n",
    "    print(second)\n",
    "\n",
    "myfunc()"
   ]
  },
  {
   "cell_type": "code",
   "execution_count": 12,
   "metadata": {},
   "outputs": [
    {
     "name": "stdout",
     "output_type": "stream",
     "text": [
      "\n",
      "------------------------------------\n",
      "Your code has been rated at 10.00/10\n",
      "\n"
     ]
    }
   ],
   "source": [
    "!pylint simple2.py"
   ]
  },
  {
   "cell_type": "code",
   "execution_count": 13,
   "metadata": {},
   "outputs": [
    {
     "name": "stdout",
     "output_type": "stream",
     "text": [
      "1\n",
      "2\n"
     ]
    }
   ],
   "source": [
    "!python3 simple2.py"
   ]
  },
  {
   "cell_type": "markdown",
   "metadata": {},
   "source": [
    "## 10.75 Running tests with the Unittest library"
   ]
  },
  {
   "cell_type": "markdown",
   "metadata": {},
   "source": [
    "#### Videolta poimittuja asioita:\n",
    "\n",
    "- Allows you to write your own test program\n",
    "- Tavoitteena on asettaa tietty datasetti ohjelmaan, analysoida palautettu resultti."
   ]
  },
  {
   "cell_type": "code",
   "execution_count": 14,
   "metadata": {},
   "outputs": [
    {
     "name": "stdout",
     "output_type": "stream",
     "text": [
      "Writing cap.py\n"
     ]
    }
   ],
   "source": [
    "%%writefile cap.py\n",
    "def cap_text(text):\n",
    "    '''\n",
    "    Input a string\n",
    "    Output the capitalized string\n",
    "    '''\n",
    "    return text.capitalize()"
   ]
  },
  {
   "cell_type": "code",
   "execution_count": 21,
   "metadata": {},
   "outputs": [
    {
     "name": "stdout",
     "output_type": "stream",
     "text": [
      "Overwriting test_cap.py\n"
     ]
    }
   ],
   "source": [
    "%%writefile test_cap.py\n",
    "import unittest\n",
    "import cap # Tuo testiohjelmaan testattavan python-tiedoston\n",
    "\n",
    "\n",
    "class TestCap(unittest.TestCase): \n",
    "    def test_one_word(self):\n",
    "        text = 'python'\n",
    "        result = cap.cap_text(text) # Tässä tuodaan cap-tiedoston funktio.\n",
    "        self.assertEqual(result,'Python')\n",
    "    def multiple_words(self):\n",
    "        text = 'monthy python'\n",
    "        result = cap.cap_text(text)\n",
    "        self.assertEqual(result,'Monty Python')\n",
    "if __name__=='__main__':\n",
    "    unittest.main()"
   ]
  },
  {
   "cell_type": "markdown",
   "metadata": {},
   "source": [
    "#### Huomaa: Metodin self-statementin ansiosta luodun class TestCapin unittestiltä perimän unittest.TestCasen sisältämä .assertEqual()-metodi on luotujen metodien käytössä!!!"
   ]
  },
  {
   "cell_type": "code",
   "execution_count": 22,
   "metadata": {},
   "outputs": [
    {
     "name": "stdout",
     "output_type": "stream",
     "text": [
      ".\n",
      "----------------------------------------------------------------------\n",
      "Ran 1 test in 0.000s\n",
      "\n",
      "OK\n"
     ]
    }
   ],
   "source": [
    "!python3 test_cap.py"
   ]
  },
  {
   "cell_type": "code",
   "execution_count": 23,
   "metadata": {},
   "outputs": [],
   "source": [
    "!python3 cap.py"
   ]
  },
  {
   "cell_type": "markdown",
   "metadata": {},
   "source": [
    "#### Huomaa: Huomaa ero .capitalize()- ja .title()-metodien välillä. .title()-metodi muuttaa joka sanan ensimmäisen kirjaimen isoksi!"
   ]
  },
  {
   "cell_type": "markdown",
   "metadata": {},
   "source": [
    "## 11.76 Milestone Project 2 Overview"
   ]
  },
  {
   "cell_type": "markdown",
   "metadata": {},
   "source": [
    "#### Videolta poimittuja sääntöjä peliprojektin tekemiseen:\n",
    "\n",
    "- Blackjack-peli Pythonilla\n",
    "- Voi koodata esimerkkiratkaisun mukana (Jess!!!)\n",
    "- Tietokone jakaa, ihminen pelaa\n",
    "- Attribuutti pelaajan rahavarastolle samalla lailla kuin aiemmin pankkitilin luominen\n",
    "- Pankkitililtä asetetaan panos halun mukaan.\n",
    "- Pelaaja laittaa 2 korttia esillä ja tietokone yhden kortin piilossa ja toinen esillä.\n",
    "- Pelaajan tehtävänä on päästä korttien silmäluvun summissa lähemmäs tietokonetta.\n",
    "- Pelaaja voi joko ottaa lisää kortteja tai olla ottamatta.\n",
    "- Kun pelaaja ei enää uskalla ottaa kortteja on tietokoneen vuoro.\n",
    "- Tietokone ottaa kortteja kunnes voittaa pelaajan tai menee silmäluvussa yli 21:n.\n",
    "- Vaihtoehdot pelin päättymiseen:\n",
    "    1. Pelaaja ottaa kortteja niin pitkään että menee yli 21 => Pelaaja häviää kaikki rahat jakajalle ja peli on ohi.\n",
    "    2. Tietokone voittaa jakajan. Tietokoneen summa korkeampi kuin pelaajan mutta alle 21 ja tietokone voittaa jakajan.\n",
    "    3. Pelaaja voittaa koska jakaja jatkaa hittausta jolloin jakajalla menee yli 21. Potti menee pelaajalle\n",
    "\n",
    "- Naamakortit on 10 arvoisia.\n",
    "- Ässät on joko 1 tai 11, riippuen kunpi on pelaajalle edullisempi.\n"
   ]
  },
  {
   "cell_type": "markdown",
   "metadata": {},
   "source": [
    "#Milestone Project 2 - Blackjack Game\n",
    "In this milestone project you will be creating a Complete BlackJack Card Game in Python.\n",
    "\n",
    "Here are the requirements:\n",
    "\n",
    "* You need to create a simple text-based [BlackJack](https://en.wikipedia.org/wiki/Blackjack) game\n",
    "* The game needs to have one player versus an automated dealer.\n",
    "* The player can stand or hit.\n",
    "* The player must be able to pick their betting amount.\n",
    "* You need to keep track of the players total money.\n",
    "* You need to alert the player of wins, losses, or busts, etc...\n",
    "\n",
    "And most importantly:\n",
    "\n",
    "* **You must use OOP and classes in some portion of your game. You can not just use functions in your game. Use classes to help you define the Deck and the Player's hand. There are many right ways to do this, so explore it well!**\n",
    "\n",
    "\n",
    "Feel free to expand this game-try including multiple players. Try adding in Double-Down and card splits! Remember to you are free to use any resources you want and as always:\n",
    "\n",
    "# HAVE FUN!"
   ]
  },
  {
   "cell_type": "markdown",
   "metadata": {},
   "source": [
    "## 11.77 Milestone Project 2 Solution"
   ]
  },
  {
   "cell_type": "markdown",
   "metadata": {},
   "source": [
    "# Milestone Project 2 - Walkthrough Steps Workbook\n",
    "Below is a set of steps for you to follow to try to create the Blackjack Milestone Project game!"
   ]
  },
  {
   "cell_type": "markdown",
   "metadata": {},
   "source": [
    "## Game Play\n",
    "To play a hand of Blackjack the following steps must be followed:\n",
    "1. Create a deck of 52 cards\n",
    "2. Shuffle the deck\n",
    "3. Ask the Player for their bet\n",
    "4. Make sure that the Player's bet does not exceed their available chips\n",
    "5. Deal two cards to the Dealer and two cards to the Player\n",
    "6. Show only one of the Dealer's cards, the other remains hidden\n",
    "7. Show both of the Player's cards\n",
    "8. Ask the Player if they wish to Hit, and take another card\n",
    "9. If the Player's hand doesn't Bust (go over 21), ask if they'd like to Hit again.\n",
    "10. If a Player Stands, play the Dealer's hand. The dealer will always Hit until the Dealer's value meets or exceeds 17\n",
    "11. Determine the winner and adjust the Player's chips accordingly\n",
    "12. Ask the Player if they'd like to play again"
   ]
  },
  {
   "cell_type": "markdown",
   "metadata": {},
   "source": [
    "## Playing Cards\n",
    "A standard deck of playing cards has four suits (Hearts, Diamonds, Spades and Clubs) and thirteen ranks (2 through 10, then the face cards Jack, Queen, King and Ace) for a total of 52 cards per deck. Jacks, Queens and Kings all have a rank of 10. Aces have a rank of either 11 or 1 as needed to reach 21 without busting. As a starting point in your program, you may want to assign variables to store a list of suits, ranks, and then use a dictionary to map ranks to values."
   ]
  },
  {
   "cell_type": "markdown",
   "metadata": {},
   "source": [
    "## The Game\n",
    "### Imports and Global Variables\n",
    "** Step 1: Import the random module. This will be used to shuffle the deck prior to dealing. Then, declare variables to store suits, ranks and values. You can develop your own system, or copy ours below. Finally, declare a Boolean value to be used to control <code>while</code> loops. This is a common practice used to control the flow of the game.**\n",
    "\n",
    "    suits = ('Hearts', 'Diamonds', 'Spades', 'Clubs')\n",
    "    ranks = ('Two', 'Three', 'Four', 'Five', 'Six', 'Seven', 'Eight', 'Nine', 'Ten', 'Jack', 'Queen', 'King', 'Ace')\n",
    "    values = {'Two':2, 'Three':3, 'Four':4, 'Five':5, 'Six':6, 'Seven':7, 'Eight':8, 'Nine':9, 'Ten':10, 'Jack':10,\n",
    "             'Queen':10, 'King':10, 'Ace':11}"
   ]
  },
  {
   "cell_type": "code",
   "execution_count": 17,
   "metadata": {},
   "outputs": [],
   "source": [
    "# Used for card shuffle:\n",
    "import random\n",
    "\n",
    "# Maat listattuna omana tuplena:\n",
    "\n",
    "suits = ( 'Hearts', 'Diamonds', 'Spades', 'Clubs' )\n",
    "\n",
    "# Korttien arvot tuplena:\n",
    "\n",
    "ranks = ('Two', 'Three', 'Four', 'Five', 'Six', 'Seven', 'Eight', 'Nine', 'Ten', 'Jack', 'Queen', 'King', 'Ace')\n",
    "\n",
    "# Korttien arvot pelin pisteluvuiksi muutettuna sanakirjana.\n",
    "# Sanakirjan käyttö tässä tapauksessa on erittäin hyödyllinen koska korttien arvo saadaan numeroina käyttöön:\n",
    "\n",
    "values = {'Two':2, 'Three':3, 'Four':4, 'Five':5, 'Six':6, 'Seven':7, 'Eight':8, 'Nine':9, 'Ten':10, 'Jack':10,\n",
    "             'Queen':10, 'King':10, 'Ace':11}\n",
    "\n",
    "# Tällä boolean-arvolla kontrolloidaan pelin aikana while-looppia:\n",
    "\n",
    "playing = True"
   ]
  },
  {
   "cell_type": "markdown",
   "metadata": {},
   "source": [
    "### Class Definitions\n",
    "Consider making a Card class where each Card object has a suit and a rank, then a Deck class to hold all 52 Card objects, and can be shuffled, and finally a Hand class that holds those Cards that have been dealt to each player from the Deck."
   ]
  },
  {
   "cell_type": "markdown",
   "metadata": {},
   "source": [
    "**Step 2: Create a Card Class**<br>\n",
    "A Card object really only needs two attributes: suit and rank. You might add an attribute for \"value\" - we chose to handle value later when developing our Hand class.<br>In addition to the Card's \\_\\_init\\_\\_ method, consider adding a \\_\\_str\\_\\_ method that, when asked to print a Card, returns a string in the form \"Two of Hearts\""
   ]
  },
  {
   "cell_type": "code",
   "execution_count": 18,
   "metadata": {},
   "outputs": [],
   "source": [
    "class Card():\n",
    "    \n",
    "    def __init__(self, suit, rank):\n",
    "        self.suit = suit\n",
    "        self.rank = rank\n",
    "    \n",
    "    def __str__(self):\n",
    "        return self.rank + \" of \" + self.suit"
   ]
  },
  {
   "cell_type": "markdown",
   "metadata": {},
   "source": [
    "**Step 3: Create a Deck Class**<br>\n",
    "Here we might store 52 card objects in a list that can later be shuffled. First, though, we need to *instantiate* all 52 unique card objects and add them to our list. So long as the Card class definition appears in our code, we can build Card objects inside our Deck \\_\\_init\\_\\_ method. Consider iterating over sequences of suits and ranks to build out each card. This might appear inside a Deck class \\_\\_init\\_\\_ method:\n",
    "\n",
    "    for suit in suits:\n",
    "        for rank in ranks:\n",
    "\n",
    "In addition to an \\_\\_init\\_\\_ method we'll want to add methods to shuffle our deck, and to deal out cards during gameplay.<br><br>\n",
    "OPTIONAL: We may never need to print the contents of the deck during gameplay, but having the ability to see the cards inside it may help troubleshoot any problems that occur during development. With this in mind, consider adding a \\_\\_str\\_\\_ method to the class definition."
   ]
  },
  {
   "cell_type": "code",
   "execution_count": 19,
   "metadata": {},
   "outputs": [],
   "source": [
    "class Deck:\n",
    "    \n",
    "    # Tässä luodaan korttipakka Card-luokasta deck-listaan lisäämällä for-loopilla jokainen maa läpi vuorollaan\n",
    "    # ... lisäämällä jokaiseen maahan järjestyksessä jokainen kortin arvo globaaleista tuple-muuttujista (suit, rank)\n",
    "    def __init__(self):\n",
    "        self.deck = []  # start with an empty list\n",
    "        for suit in suits:\n",
    "            for rank in ranks:\n",
    "                self.deck.append(Card(suit,rank))\n",
    "    \n",
    "    # Tätä käytetään luodun pakan tulostamiseen:\n",
    "    def __str__(self):\n",
    "        deck_comp = '' # Tulostus tyhjään strään\n",
    "        for card in self.deck: # luodusta deck-attribuutista \n",
    "            deck_comp += '\\n' + card.__str__() # Lisätään jokainen kortti vuorollaan tyhjään strään käyttäen Card-classin str-metodia\n",
    "        return \"The deck has: \"+deck_comp # palautetaan luotu korttipakka deck_comp-str\n",
    "\n",
    "    def shuffle(self):\n",
    "        random.shuffle(self.deck)\n",
    "        \n",
    "    def deal(self):\n",
    "        single_card = self.deck.pop() # Deck-classistä otetaan yksi kortti pois ja osoitetaan single_cardille.\n",
    "        return single_card"
   ]
  },
  {
   "cell_type": "markdown",
   "metadata": {},
   "source": [
    "TESTING: Just to see that everything works so far, let's see what our Deck looks like!"
   ]
  },
  {
   "cell_type": "code",
   "execution_count": 20,
   "metadata": {},
   "outputs": [
    {
     "name": "stdout",
     "output_type": "stream",
     "text": [
      "The deck has: \n",
      "Two of Hearts\n",
      "Three of Hearts\n",
      "Four of Hearts\n",
      "Five of Hearts\n",
      "Six of Hearts\n",
      "Seven of Hearts\n",
      "Eight of Hearts\n",
      "Nine of Hearts\n",
      "Ten of Hearts\n",
      "Jack of Hearts\n",
      "Queen of Hearts\n",
      "King of Hearts\n",
      "Ace of Hearts\n",
      "Two of Diamonds\n",
      "Three of Diamonds\n",
      "Four of Diamonds\n",
      "Five of Diamonds\n",
      "Six of Diamonds\n",
      "Seven of Diamonds\n",
      "Eight of Diamonds\n",
      "Nine of Diamonds\n",
      "Ten of Diamonds\n",
      "Jack of Diamonds\n",
      "Queen of Diamonds\n",
      "King of Diamonds\n",
      "Ace of Diamonds\n",
      "Two of Spades\n",
      "Three of Spades\n",
      "Four of Spades\n",
      "Five of Spades\n",
      "Six of Spades\n",
      "Seven of Spades\n",
      "Eight of Spades\n",
      "Nine of Spades\n",
      "Ten of Spades\n",
      "Jack of Spades\n",
      "Queen of Spades\n",
      "King of Spades\n",
      "Ace of Spades\n",
      "Two of Clubs\n",
      "Three of Clubs\n",
      "Four of Clubs\n",
      "Five of Clubs\n",
      "Six of Clubs\n",
      "Seven of Clubs\n",
      "Eight of Clubs\n",
      "Nine of Clubs\n",
      "Ten of Clubs\n",
      "Jack of Clubs\n",
      "Queen of Clubs\n",
      "King of Clubs\n",
      "Ace of Clubs\n"
     ]
    }
   ],
   "source": [
    "test_deck = Deck()\n",
    "print(test_deck)"
   ]
  },
  {
   "cell_type": "markdown",
   "metadata": {},
   "source": [
    "Great! Now let's move on to our Hand class."
   ]
  },
  {
   "cell_type": "markdown",
   "metadata": {},
   "source": [
    "**Step 4: Create a Hand Class**<br>\n",
    "In addition to holding Card objects dealt from the Deck, the Hand class may be used to calculate the value of those cards using the values dictionary defined above. It may also need to adjust for the value of Aces when appropriate."
   ]
  },
  {
   "cell_type": "code",
   "execution_count": 21,
   "metadata": {},
   "outputs": [],
   "source": [
    "# Hand-class kertoo mitä korttia on kulloinkin kädessä. Peräisin Deck-classista ja sen .deal()-metodista...\n",
    "# ... ja metodin single_card-muuttujasta:\n",
    "class Hand:\n",
    "    def __init__(self):\n",
    "        self.cards = []  # start with an empty list as we did in the Deck class\n",
    "        self.value = 0   # start with zero value\n",
    "        self.aces = 0    # add an attribute to keep track of aces\n",
    "    \n",
    "    def add_card(self,card):\n",
    "        # Tässä lisätään kortti cards-listaan. Parametrinä lisätty card on peräisin Deck.deal()istä\n",
    "        # ... eli Deck-classista ja sen .deal()-metodista => yksittäinen kortti (maa ja arvo):\n",
    "        self.cards.append(card)\n",
    "        # Otetaan ylläolevasta card-muuttujasta, jolla on arvo (rank) jota käytetään pistelaskentaan:\n",
    "        self.value += values[card.rank] # lisätään values-listaan, jossa rankki-key, joka palautaa listan mukaisen pisteluvun.\n",
    "        \n",
    "        # Track aces\n",
    "        if card.rank == 'Ace':\n",
    "            self.aces += 1\n",
    "    \n",
    "    def adjust_for_ace(self):\n",
    "        # ässä on alunperin arvoltaan 11, joten,\n",
    "        # jos kokonaisarvo > 21 ja mulla on edelleen ässä...\n",
    "        # ,joten vaihda ässän arvo 1:ksi:\n",
    "        while self.value > 21 and self.aces > 0: # tässä self.ace on 0sta poikkeava kokonaisluku joten se on sama kuin True!!!\n",
    "            self.value -= 10\n",
    "            self.aces -= 1\n",
    "            "
   ]
  },
  {
   "cell_type": "code",
   "execution_count": 22,
   "metadata": {},
   "outputs": [
    {
     "name": "stdout",
     "output_type": "stream",
     "text": [
      "Two of Diamonds\n",
      "2\n"
     ]
    }
   ],
   "source": [
    "test_deck = Deck()\n",
    "test_deck.shuffle()\n",
    "\n",
    "# Ihmispelaaja:\n",
    "test_player = Hand() # Testipelaaja on käden olio\n",
    "# ... jakaa kortin pakasta Card(suit, rank)\n",
    "pulled_card = test_deck.deal() # Jaettu kortti\n",
    "print(pulled_card)\n",
    "test_player.add_card(pulled_card) #Jaettu kortti lisää testipelaajan käteen.\n",
    "print(test_player.value)"
   ]
  },
  {
   "cell_type": "code",
   "execution_count": 23,
   "metadata": {},
   "outputs": [],
   "source": [
    "# Sama yksinkertaisemmin:\n",
    "test_player.add_card(test_deck.deal())"
   ]
  },
  {
   "cell_type": "code",
   "execution_count": 24,
   "metadata": {},
   "outputs": [
    {
     "data": {
      "text/plain": [
       "11"
      ]
     },
     "execution_count": 24,
     "metadata": {},
     "output_type": "execute_result"
    }
   ],
   "source": [
    "test_player.value"
   ]
  },
  {
   "cell_type": "markdown",
   "metadata": {},
   "source": [
    "**Step 5: Create a Chips Class**<br>\n",
    "In addition to decks of cards and hands, we need to keep track of a Player's starting chips, bets, and ongoing winnings. This could be done using global variables, but in the spirit of object oriented programming, let's make a Chips class instead!"
   ]
  },
  {
   "cell_type": "code",
   "execution_count": 25,
   "metadata": {},
   "outputs": [],
   "source": [
    "class Chips:\n",
    "    \n",
    "    def __init__(self):\n",
    "        self.total = 100  # This can be set to a default value or supplied by a user input\n",
    "        self.bet = 0\n",
    "        \n",
    "    def win_bet(self):\n",
    "        self.total += self.bet\n",
    "    \n",
    "    def lose_bet(self):\n",
    "        self.total -= self.bet"
   ]
  },
  {
   "cell_type": "markdown",
   "metadata": {},
   "source": [
    "## 11.79 Milestone Project 2: Functions for Game Play"
   ]
  },
  {
   "cell_type": "markdown",
   "metadata": {},
   "source": [
    "### Function Defintions\n",
    "A lot of steps are going to be repetitive. That's where functions come in! The following steps are guidelines - add or remove functions as needed in your own program."
   ]
  },
  {
   "cell_type": "markdown",
   "metadata": {},
   "source": [
    "**Step 6: Write a function for taking bets**<br>\n",
    "Since we're asking the user for an integer value, this would be a good place to use <code>try</code>/<code>except</code>. Remember to check that a Player's bet can be covered by their available chips."
   ]
  },
  {
   "cell_type": "code",
   "execution_count": 26,
   "metadata": {},
   "outputs": [],
   "source": [
    "def take_bet(chips):\n",
    "    \"\"\"Ask user for a bet and set that as an actual bet. Parametrinä funktioon ovat panokset.\"\"\"\n",
    "    \n",
    "    while True:\n",
    "        \n",
    "        try:\n",
    "            chips.bet = int(input(\"How many chips would you like to bet? \"))\n",
    "        # Mikäli pelaaja ei anna numeroa vaan jonkun muun merkin:\n",
    "        except:\n",
    "            print(\"Sorry, please provide an integer.\")\n",
    "        else:\n",
    "            if chips.bet > chips.total:\n",
    "                print('Sorry, you do not have enough chips! You have: {}'.format(chips.total))\n",
    "                \n",
    "            else:\n",
    "                break\n"
   ]
  },
  {
   "cell_type": "markdown",
   "metadata": {},
   "source": [
    "**Step 7: Write a function for taking hits**<br>\n",
    "Either player can take hits until they bust. This function will be called during gameplay anytime a Player requests a hit, or a Dealer's hand is less than 17. It should take in Deck and Hand objects as arguments, and deal one card off the deck and add it to the Hand. You may want it to check for aces in the event that a player's hand exceeds 21."
   ]
  },
  {
   "cell_type": "code",
   "execution_count": 27,
   "metadata": {},
   "outputs": [],
   "source": [
    "def hit(deck,hand):\n",
    "    \n",
    "    single_card = deck.deal()\n",
    "    hand.add_card(single_card)\n",
    "    hand.adjust_for_ace()"
   ]
  },
  {
   "cell_type": "markdown",
   "metadata": {},
   "source": [
    "**Step 8: Write a function prompting the Player to Hit or Stand**<br>\n",
    "This function should accept the deck and the player's hand as arguments, and assign playing as a global variable.<br>\n",
    "If the Player Hits, employ the hit() function above. If the Player Stands, set the playing variable to False - this will control the behavior of a <code>while</code> loop later on in our code."
   ]
  },
  {
   "cell_type": "code",
   "execution_count": 28,
   "metadata": {},
   "outputs": [],
   "source": [
    "def hit_or_stand(deck,hand):\n",
    "    global playing  # to control an upcoming while loop\n",
    "    \n",
    "    while True:\n",
    "        x = input('Hit or Stand? Enter h or s ')\n",
    "        # Jos pelaaja syöttää ison kirjaimen tai koko sanan hit, otetaan inputista pienenä vain etukirjain:\n",
    "        if x[0].lower() == 'h':\n",
    "            hit(deck, hand)\n",
    "        \n",
    "        elif x[0].lower() == 's':\n",
    "            print('Player Stands, Dealers Turn!')\n",
    "            playing = False\n",
    "            \n",
    "        else:\n",
    "            print('Sorry, I did not understand that. Please, enter h or s only!')\n",
    "            continue\n",
    "            \n",
    "        break\n"
   ]
  },
  {
   "cell_type": "markdown",
   "metadata": {},
   "source": [
    "**Step 9: Write functions to display cards**<br>\n",
    "When the game starts, and after each time Player takes a card, the dealer's first card is hidden and all of Player's cards are visible. At the end of the hand all cards are shown, and you may want to show each hand's total value. Write a function for each of these scenarios."
   ]
  },
  {
   "cell_type": "code",
   "execution_count": 29,
   "metadata": {},
   "outputs": [],
   "source": [
    "def show_some(player,dealer):\n",
    "    \n",
    "    print('DEALERS HAND: ')\n",
    "    print('one card hidden!')\n",
    "    print(dealer.cards[1])\n",
    "    print('\\n')\n",
    "    print('PLAYERS HAND: ')\n",
    "    for card in player.cards:\n",
    "        print(card)\n",
    "    \n",
    "def show_all(player,dealer):\n",
    "    \n",
    "    print('DEALERS HAND: ')\n",
    "    for card in dealer.cards:\n",
    "        print(card)\n",
    "    print('\\n')\n",
    "    print('PLAYERS HAND: ')\n",
    "    for card in player.cards:\n",
    "        print(card)\n"
   ]
  },
  {
   "cell_type": "markdown",
   "metadata": {},
   "source": [
    "**Step 10: Write functions to handle end of game scenarios**<br>\n",
    "Remember to pass player's hand, dealer's hand and chips as needed."
   ]
  },
  {
   "cell_type": "code",
   "execution_count": 30,
   "metadata": {},
   "outputs": [],
   "source": [
    "def player_busts(player, dealer, chips):\n",
    "    print('BUST PLAYER!')\n",
    "    chips.lose_bet()\n",
    "\n",
    "def player_wins(player, dealer, chips):\n",
    "    print('PLAYER WINS!')\n",
    "    chips.win_bet()\n",
    "\n",
    "def dealer_busts(player, dealer, chips):\n",
    "    print('PLAYER WINS! DEALER BUSTED!')\n",
    "    chips.win_bet()\n",
    "    \n",
    "def dealer_wins(player, dealer, chips):\n",
    "    print('DEALER WINS!')\n",
    "    chips.lose_bet()\n",
    "    \n",
    "def push(player, dealer):\n",
    "    print('Dealer and player tie! PUSH!')"
   ]
  },
  {
   "cell_type": "markdown",
   "metadata": {},
   "source": [
    "### And now on to the game!!"
   ]
  },
  {
   "cell_type": "code",
   "execution_count": 31,
   "metadata": {},
   "outputs": [
    {
     "name": "stdout",
     "output_type": "stream",
     "text": [
      "WELCOME TO BLACKJACK!\n"
     ]
    },
    {
     "name": "stdin",
     "output_type": "stream",
     "text": [
      "How many chips would you like to bet?  100\n"
     ]
    },
    {
     "name": "stdout",
     "output_type": "stream",
     "text": [
      "DEALERS HAND: \n",
      "one card hidden!\n",
      "Ten of Clubs\n",
      "\n",
      "\n",
      "PLAYERS HAND: \n",
      "Three of Clubs\n",
      "Jack of Clubs\n"
     ]
    },
    {
     "name": "stdin",
     "output_type": "stream",
     "text": [
      "Hit or Stand? Enter h or s  h\n"
     ]
    },
    {
     "name": "stdout",
     "output_type": "stream",
     "text": [
      "DEALERS HAND: \n",
      "one card hidden!\n",
      "Ten of Clubs\n",
      "\n",
      "\n",
      "PLAYERS HAND: \n",
      "Three of Clubs\n",
      "Jack of Clubs\n",
      "Five of Diamonds\n"
     ]
    },
    {
     "name": "stdin",
     "output_type": "stream",
     "text": [
      "Hit or Stand? Enter h or s  s\n"
     ]
    },
    {
     "name": "stdout",
     "output_type": "stream",
     "text": [
      "Player Stands, Dealers Turn!\n",
      "DEALERS HAND: \n",
      "one card hidden!\n",
      "Ten of Clubs\n",
      "\n",
      "\n",
      "PLAYERS HAND: \n",
      "Three of Clubs\n",
      "Jack of Clubs\n",
      "Five of Diamonds\n",
      "DEALERS HAND: \n",
      "Six of Clubs\n",
      "Ten of Clubs\n",
      "Three of Diamonds\n",
      "\n",
      "\n",
      "PLAYERS HAND: \n",
      "Three of Clubs\n",
      "Jack of Clubs\n",
      "Five of Diamonds\n",
      "DEALER WINS!\n",
      "\n",
      " Player total chips are at: 0\n"
     ]
    },
    {
     "name": "stdin",
     "output_type": "stream",
     "text": [
      "Would you like to play another hand? y/n y\n"
     ]
    },
    {
     "name": "stdout",
     "output_type": "stream",
     "text": [
      "WELCOME TO BLACKJACK!\n"
     ]
    },
    {
     "name": "stdin",
     "output_type": "stream",
     "text": [
      "How many chips would you like to bet?  100\n"
     ]
    },
    {
     "name": "stdout",
     "output_type": "stream",
     "text": [
      "DEALERS HAND: \n",
      "one card hidden!\n",
      "Two of Hearts\n",
      "\n",
      "\n",
      "PLAYERS HAND: \n",
      "Ace of Clubs\n",
      "Six of Hearts\n"
     ]
    },
    {
     "name": "stdin",
     "output_type": "stream",
     "text": [
      "Hit or Stand? Enter h or s  h\n"
     ]
    },
    {
     "name": "stdout",
     "output_type": "stream",
     "text": [
      "DEALERS HAND: \n",
      "one card hidden!\n",
      "Two of Hearts\n",
      "\n",
      "\n",
      "PLAYERS HAND: \n",
      "Ace of Clubs\n",
      "Six of Hearts\n",
      "Eight of Diamonds\n"
     ]
    },
    {
     "name": "stdin",
     "output_type": "stream",
     "text": [
      "Hit or Stand? Enter h or s  h\n"
     ]
    },
    {
     "name": "stdout",
     "output_type": "stream",
     "text": [
      "DEALERS HAND: \n",
      "one card hidden!\n",
      "Two of Hearts\n",
      "\n",
      "\n",
      "PLAYERS HAND: \n",
      "Ace of Clubs\n",
      "Six of Hearts\n",
      "Eight of Diamonds\n",
      "Four of Hearts\n"
     ]
    },
    {
     "name": "stdin",
     "output_type": "stream",
     "text": [
      "Hit or Stand? Enter h or s  s\n"
     ]
    },
    {
     "name": "stdout",
     "output_type": "stream",
     "text": [
      "Player Stands, Dealers Turn!\n",
      "DEALERS HAND: \n",
      "one card hidden!\n",
      "Two of Hearts\n",
      "\n",
      "\n",
      "PLAYERS HAND: \n",
      "Ace of Clubs\n",
      "Six of Hearts\n",
      "Eight of Diamonds\n",
      "Four of Hearts\n",
      "DEALERS HAND: \n",
      "Queen of Spades\n",
      "Two of Hearts\n",
      "Four of Spades\n",
      "Two of Diamonds\n",
      "Four of Diamonds\n",
      "\n",
      "\n",
      "PLAYERS HAND: \n",
      "Ace of Clubs\n",
      "Six of Hearts\n",
      "Eight of Diamonds\n",
      "Four of Hearts\n",
      "PLAYER WINS! DEALER BUSTED!\n",
      "\n",
      " Player total chips are at: 200\n"
     ]
    },
    {
     "name": "stdin",
     "output_type": "stream",
     "text": [
      "Would you like to play another hand? y/n y\n"
     ]
    },
    {
     "name": "stdout",
     "output_type": "stream",
     "text": [
      "WELCOME TO BLACKJACK!\n"
     ]
    },
    {
     "name": "stdin",
     "output_type": "stream",
     "text": [
      "How many chips would you like to bet?  100\n"
     ]
    },
    {
     "name": "stdout",
     "output_type": "stream",
     "text": [
      "DEALERS HAND: \n",
      "one card hidden!\n",
      "Jack of Clubs\n",
      "\n",
      "\n",
      "PLAYERS HAND: \n",
      "Five of Hearts\n",
      "Three of Spades\n"
     ]
    },
    {
     "name": "stdin",
     "output_type": "stream",
     "text": [
      "Hit or Stand? Enter h or s  h\n"
     ]
    },
    {
     "name": "stdout",
     "output_type": "stream",
     "text": [
      "DEALERS HAND: \n",
      "one card hidden!\n",
      "Jack of Clubs\n",
      "\n",
      "\n",
      "PLAYERS HAND: \n",
      "Five of Hearts\n",
      "Three of Spades\n",
      "King of Clubs\n"
     ]
    },
    {
     "name": "stdin",
     "output_type": "stream",
     "text": [
      "Hit or Stand? Enter h or s  s\n"
     ]
    },
    {
     "name": "stdout",
     "output_type": "stream",
     "text": [
      "Player Stands, Dealers Turn!\n",
      "DEALERS HAND: \n",
      "one card hidden!\n",
      "Jack of Clubs\n",
      "\n",
      "\n",
      "PLAYERS HAND: \n",
      "Five of Hearts\n",
      "Three of Spades\n",
      "King of Clubs\n",
      "DEALERS HAND: \n",
      "Ten of Spades\n",
      "Jack of Clubs\n",
      "\n",
      "\n",
      "PLAYERS HAND: \n",
      "Five of Hearts\n",
      "Three of Spades\n",
      "King of Clubs\n",
      "DEALER WINS!\n",
      "\n",
      " Player total chips are at: 0\n"
     ]
    },
    {
     "name": "stdin",
     "output_type": "stream",
     "text": [
      "Would you like to play another hand? y/n y\n"
     ]
    },
    {
     "name": "stdout",
     "output_type": "stream",
     "text": [
      "WELCOME TO BLACKJACK!\n"
     ]
    },
    {
     "name": "stdin",
     "output_type": "stream",
     "text": [
      "How many chips would you like to bet?  100\n"
     ]
    },
    {
     "name": "stdout",
     "output_type": "stream",
     "text": [
      "DEALERS HAND: \n",
      "one card hidden!\n",
      "Nine of Spades\n",
      "\n",
      "\n",
      "PLAYERS HAND: \n",
      "Two of Spades\n",
      "Six of Spades\n"
     ]
    },
    {
     "name": "stdin",
     "output_type": "stream",
     "text": [
      "Hit or Stand? Enter h or s  h\n"
     ]
    },
    {
     "name": "stdout",
     "output_type": "stream",
     "text": [
      "DEALERS HAND: \n",
      "one card hidden!\n",
      "Nine of Spades\n",
      "\n",
      "\n",
      "PLAYERS HAND: \n",
      "Two of Spades\n",
      "Six of Spades\n",
      "Nine of Diamonds\n"
     ]
    },
    {
     "name": "stdin",
     "output_type": "stream",
     "text": [
      "Hit or Stand? Enter h or s  s\n"
     ]
    },
    {
     "name": "stdout",
     "output_type": "stream",
     "text": [
      "Player Stands, Dealers Turn!\n",
      "DEALERS HAND: \n",
      "one card hidden!\n",
      "Nine of Spades\n",
      "\n",
      "\n",
      "PLAYERS HAND: \n",
      "Two of Spades\n",
      "Six of Spades\n",
      "Nine of Diamonds\n",
      "DEALERS HAND: \n",
      "Two of Clubs\n",
      "Nine of Spades\n",
      "Ten of Clubs\n",
      "\n",
      "\n",
      "PLAYERS HAND: \n",
      "Two of Spades\n",
      "Six of Spades\n",
      "Nine of Diamonds\n",
      "DEALER WINS!\n",
      "\n",
      " Player total chips are at: 0\n"
     ]
    },
    {
     "name": "stdin",
     "output_type": "stream",
     "text": [
      "Would you like to play another hand? y/n y\n"
     ]
    },
    {
     "name": "stdout",
     "output_type": "stream",
     "text": [
      "WELCOME TO BLACKJACK!\n"
     ]
    },
    {
     "name": "stdin",
     "output_type": "stream",
     "text": [
      "How many chips would you like to bet?  100\n"
     ]
    },
    {
     "name": "stdout",
     "output_type": "stream",
     "text": [
      "DEALERS HAND: \n",
      "one card hidden!\n",
      "Three of Diamonds\n",
      "\n",
      "\n",
      "PLAYERS HAND: \n",
      "Four of Clubs\n",
      "Ten of Hearts\n"
     ]
    },
    {
     "name": "stdin",
     "output_type": "stream",
     "text": [
      "Hit or Stand? Enter h or s  h\n"
     ]
    },
    {
     "name": "stdout",
     "output_type": "stream",
     "text": [
      "DEALERS HAND: \n",
      "one card hidden!\n",
      "Three of Diamonds\n",
      "\n",
      "\n",
      "PLAYERS HAND: \n",
      "Four of Clubs\n",
      "Ten of Hearts\n",
      "Six of Spades\n"
     ]
    },
    {
     "name": "stdin",
     "output_type": "stream",
     "text": [
      "Hit or Stand? Enter h or s  s\n"
     ]
    },
    {
     "name": "stdout",
     "output_type": "stream",
     "text": [
      "Player Stands, Dealers Turn!\n",
      "DEALERS HAND: \n",
      "one card hidden!\n",
      "Three of Diamonds\n",
      "\n",
      "\n",
      "PLAYERS HAND: \n",
      "Four of Clubs\n",
      "Ten of Hearts\n",
      "Six of Spades\n",
      "DEALERS HAND: \n",
      "Queen of Clubs\n",
      "Three of Diamonds\n",
      "Eight of Clubs\n",
      "\n",
      "\n",
      "PLAYERS HAND: \n",
      "Four of Clubs\n",
      "Ten of Hearts\n",
      "Six of Spades\n",
      "DEALER WINS!\n",
      "\n",
      " Player total chips are at: 0\n"
     ]
    },
    {
     "name": "stdin",
     "output_type": "stream",
     "text": [
      "Would you like to play another hand? y/n n\n"
     ]
    },
    {
     "name": "stdout",
     "output_type": "stream",
     "text": [
      "Thank you for playing!\n"
     ]
    }
   ],
   "source": [
    "while True:\n",
    "    # Print an opening statement\n",
    "\n",
    "    print('WELCOME TO BLACKJACK!')\n",
    "    # Create & shuffle the deck, deal two cards to each player\n",
    "\n",
    "    deck = Deck() # Luodaan deck-olio Deck-luokasta\n",
    "    deck.shuffle() # sekoitetaan deck\n",
    "    \n",
    "    # Asetetaan pelaajat:\n",
    "    player_hand = Hand() # Luodaan player_hand-olio Hand-luokasta\n",
    "    player_hand.add_card(deck.deal())\n",
    "    player_hand.add_card(deck.deal())\n",
    "    \n",
    "    dealer_hand = Hand() # Luodaan dealer_hand-olio Hand-luokasta\n",
    "    dealer_hand.add_card(deck.deal())\n",
    "    dealer_hand.add_card(deck.deal())\n",
    "    \n",
    "    # Set up the Player's chips\n",
    "    player_chips = Chips() # Luodaan player_chips-olio\n",
    "    \n",
    "    # Prompt the Player for their bet\n",
    "    take_bet(player_chips)\n",
    "    \n",
    "    # Show cards (but keep one dealer card hidden)\n",
    "    show_some(player_hand, dealer_hand)\n",
    "    \n",
    "    while playing:  # recall this variable from our hit_or_stand function\n",
    "        \n",
    "        # Prompt for Player to Hit or Stand\n",
    "        hit_or_stand(deck, player_hand)\n",
    "        \n",
    "        # Show cards (but keep one dealer card hidden)\n",
    "        show_some(player_hand, dealer_hand)\n",
    "        \n",
    "        # If player's hand exceeds 21, run player_busts() and break out of loop\n",
    "        if player_hand.value > 21:\n",
    "            player_busts(player_hand, dealer_wins, player_chips)\n",
    "\n",
    "            break\n",
    "\n",
    "    # If Player hasn't busted, play Dealer's hand until Dealer reaches 17\n",
    "    if player_hand.value <= 21:\n",
    "        \n",
    "        while dealer_hand.value < player_hand.value:\n",
    "            hit(deck, dealer_hand)\n",
    "    \n",
    "        # Show all cards\n",
    "        show_all(player_hand, dealer_hand)\n",
    "    \n",
    "        # Run different winning scenarios\n",
    "        if dealer_hand.value > 21:\n",
    "            dealer_busts(player_hand, dealer_hand, player_chips)\n",
    "        elif dealer_hand.value > player_hand.value:\n",
    "            dealer_wins(player_hand, dealer_hand, player_chips)\n",
    "        elif dealer_hand.value < player_hand.value:\n",
    "            player_wins(player_hand, dealer_hand, player_chips)\n",
    "        else:\n",
    "            push(player_hand, dealer_hand)\n",
    "    \n",
    "    # Inform Player of their chips total\n",
    "    print('\\n Player total chips are at: {}'.format(player_chips.total))\n",
    "    \n",
    "    # Ask to play again\n",
    "    new_game = input('Would you like to play another hand? y/n')\n",
    "    \n",
    "    if new_game[0].lower() == 'y' :\n",
    "        playing = True\n",
    "        continue\n",
    "        \n",
    "    else:\n",
    "        print('Thank you for playing!')\n",
    "        break\n"
   ]
  },
  {
   "cell_type": "markdown",
   "metadata": {},
   "source": [
    "And that's it! Remember, these steps may differ significantly from your own solution. That's OK! Keep working on different sections of your program until you get the desired results. It takes a lot of time and patience! As always, feel free to post questions and comments to the QA Forums.\n",
    "# Good job!"
   ]
  },
  {
   "cell_type": "markdown",
   "metadata": {},
   "source": [
    "## 12.81 decorators with Python Overview"
   ]
  },
  {
   "cell_type": "markdown",
   "metadata": {},
   "source": [
    "#### Videolta poimittuja asioita:\n",
    "\n",
    "- Decorating: Adding new funcionality to a function.\n",
    "- Lisää uusia toiminnallisuuksia jo olemassaoleviin funktioihin\n",
    "- Käyttää @-operaattoria ja lisätään olemassaolevan funkion yläpuolelle.\n"
   ]
  },
  {
   "cell_type": "code",
   "execution_count": 1,
   "metadata": {},
   "outputs": [],
   "source": [
    "def funcd():\n",
    "    return 1"
   ]
  },
  {
   "cell_type": "code",
   "execution_count": 2,
   "metadata": {},
   "outputs": [
    {
     "data": {
      "text/plain": [
       "1"
      ]
     },
     "execution_count": 2,
     "metadata": {},
     "output_type": "execute_result"
    }
   ],
   "source": [
    "funcd()"
   ]
  },
  {
   "cell_type": "code",
   "execution_count": 3,
   "metadata": {},
   "outputs": [
    {
     "data": {
      "text/plain": [
       "<function __main__.funcd()>"
      ]
     },
     "execution_count": 3,
     "metadata": {},
     "output_type": "execute_result"
    }
   ],
   "source": [
    "funcd"
   ]
  },
  {
   "cell_type": "code",
   "execution_count": 4,
   "metadata": {},
   "outputs": [],
   "source": [
    "def hello():\n",
    "    return \"Hello!\""
   ]
  },
  {
   "cell_type": "code",
   "execution_count": 5,
   "metadata": {},
   "outputs": [
    {
     "data": {
      "text/plain": [
       "'Hello!'"
      ]
     },
     "execution_count": 5,
     "metadata": {},
     "output_type": "execute_result"
    }
   ],
   "source": [
    "hello()"
   ]
  },
  {
   "cell_type": "code",
   "execution_count": 6,
   "metadata": {},
   "outputs": [
    {
     "data": {
      "text/plain": [
       "<function __main__.hello()>"
      ]
     },
     "execution_count": 6,
     "metadata": {},
     "output_type": "execute_result"
    }
   ],
   "source": [
    "hello"
   ]
  },
  {
   "cell_type": "code",
   "execution_count": 7,
   "metadata": {},
   "outputs": [],
   "source": [
    "greet = hello"
   ]
  },
  {
   "cell_type": "code",
   "execution_count": 8,
   "metadata": {},
   "outputs": [
    {
     "data": {
      "text/plain": [
       "'Hello!'"
      ]
     },
     "execution_count": 8,
     "metadata": {},
     "output_type": "execute_result"
    }
   ],
   "source": [
    "greet()"
   ]
  },
  {
   "cell_type": "code",
   "execution_count": 9,
   "metadata": {},
   "outputs": [],
   "source": [
    "del hello"
   ]
  },
  {
   "cell_type": "code",
   "execution_count": 10,
   "metadata": {},
   "outputs": [
    {
     "ename": "NameError",
     "evalue": "name 'hello' is not defined",
     "output_type": "error",
     "traceback": [
      "\u001b[0;31m---------------------------------------------------------------------------\u001b[0m",
      "\u001b[0;31mNameError\u001b[0m                                 Traceback (most recent call last)",
      "\u001b[0;32m<ipython-input-10-a75d7781aaeb>\u001b[0m in \u001b[0;36m<module>\u001b[0;34m\u001b[0m\n\u001b[0;32m----> 1\u001b[0;31m \u001b[0mhello\u001b[0m\u001b[0;34m(\u001b[0m\u001b[0;34m)\u001b[0m\u001b[0;34m\u001b[0m\u001b[0;34m\u001b[0m\u001b[0m\n\u001b[0m",
      "\u001b[0;31mNameError\u001b[0m: name 'hello' is not defined"
     ]
    }
   ],
   "source": [
    "hello()"
   ]
  },
  {
   "cell_type": "code",
   "execution_count": 11,
   "metadata": {},
   "outputs": [
    {
     "data": {
      "text/plain": [
       "'Hello!'"
      ]
     },
     "execution_count": 11,
     "metadata": {},
     "output_type": "execute_result"
    }
   ],
   "source": [
    "greet()"
   ]
  },
  {
   "cell_type": "code",
   "execution_count": 23,
   "metadata": {},
   "outputs": [],
   "source": [
    "def hello(name='Jari'):\n",
    "    print('The hello() funktion has been executed!')\n",
    "    \n",
    "    def greet():\n",
    "        return '\\t This is the greet() function inside hello()!'\n",
    "    \n",
    "    def welcome():\n",
    "        return '\\t This is the welcome() function inside hello()!'\n",
    "    print(greet())\n",
    "    print(welcome())\n",
    "    print('This is the end of the hello() function!')\n"
   ]
  },
  {
   "cell_type": "code",
   "execution_count": 25,
   "metadata": {},
   "outputs": [
    {
     "name": "stdout",
     "output_type": "stream",
     "text": [
      "The hello() funktion has been executed!\n",
      "\t This is the greet() function inside hello()!\n",
      "\t This is the welcome() function inside hello()!\n",
      "This is the end of the hello() function!\n"
     ]
    }
   ],
   "source": [
    "# Tästä nähdään että greet() ja welcome() voidaan ajaan VAIN hello()-funktion sisällä!!!!!!:\n",
    "hello()"
   ]
  },
  {
   "cell_type": "markdown",
   "metadata": {},
   "source": [
    "#### welcome()-funktion kutsuminen hello()-funktionin ulkopuolella ei onnistu:"
   ]
  },
  {
   "cell_type": "code",
   "execution_count": 27,
   "metadata": {},
   "outputs": [
    {
     "ename": "NameError",
     "evalue": "name 'welcome' is not defined",
     "output_type": "error",
     "traceback": [
      "\u001b[0;31m---------------------------------------------------------------------------\u001b[0m",
      "\u001b[0;31mNameError\u001b[0m                                 Traceback (most recent call last)",
      "\u001b[0;32m<ipython-input-27-a401d7101853>\u001b[0m in \u001b[0;36m<module>\u001b[0;34m\u001b[0m\n\u001b[0;32m----> 1\u001b[0;31m \u001b[0mwelcome\u001b[0m\u001b[0;34m(\u001b[0m\u001b[0;34m)\u001b[0m\u001b[0;34m\u001b[0m\u001b[0;34m\u001b[0m\u001b[0m\n\u001b[0m",
      "\u001b[0;31mNameError\u001b[0m: name 'welcome' is not defined"
     ]
    }
   ],
   "source": [
    "welcome()"
   ]
  },
  {
   "cell_type": "code",
   "execution_count": 28,
   "metadata": {},
   "outputs": [],
   "source": [
    "def hellot(name='Jari'):\n",
    "    print('The hello() funktion has been executed!')\n",
    "    \n",
    "    def greet():\n",
    "        return '\\t This is the greet() function inside hello()!'\n",
    "    \n",
    "    def welcome():\n",
    "        return '\\t This is the welcome() function inside hello()!'\n",
    "    \n",
    "    print('I am going to return a function!')\n",
    "    \n",
    "    if name == 'Jari':\n",
    "        return greet\n",
    "    else:\n",
    "        return welcome\n"
   ]
  },
  {
   "cell_type": "code",
   "execution_count": 29,
   "metadata": {},
   "outputs": [
    {
     "name": "stdout",
     "output_type": "stream",
     "text": [
      "The hello() funktion has been executed!\n",
      "I am going to return a function!\n"
     ]
    }
   ],
   "source": [
    "uusi_functio = hellot('Jari')"
   ]
  },
  {
   "cell_type": "code",
   "execution_count": 31,
   "metadata": {},
   "outputs": [
    {
     "data": {
      "text/plain": [
       "<function __main__.hellot.<locals>.greet()>"
      ]
     },
     "execution_count": 31,
     "metadata": {},
     "output_type": "execute_result"
    }
   ],
   "source": [
    "uusi_functio"
   ]
  },
  {
   "cell_type": "markdown",
   "metadata": {},
   "source": [
    "### Tässä siis idea miten funtio palauttaa funkion sisällä!!!!"
   ]
  },
  {
   "cell_type": "code",
   "execution_count": 1,
   "metadata": {},
   "outputs": [],
   "source": [
    "def cool():\n",
    "    \n",
    "    def super_cool():\n",
    "        return 'I am very cool!'\n",
    "    \n",
    "    return super_cool"
   ]
  },
  {
   "cell_type": "code",
   "execution_count": 2,
   "metadata": {},
   "outputs": [],
   "source": [
    "# Osoitamme y.o.:n funktion muuttujalle, joka palauttaa alifunktion:\n",
    "some_func = cool()"
   ]
  },
  {
   "cell_type": "code",
   "execution_count": 3,
   "metadata": {},
   "outputs": [
    {
     "data": {
      "text/plain": [
       "<function __main__.cool.<locals>.super_cool()>"
      ]
     },
     "execution_count": 3,
     "metadata": {},
     "output_type": "execute_result"
    }
   ],
   "source": [
    "some_func"
   ]
  },
  {
   "cell_type": "code",
   "execution_count": 5,
   "metadata": {},
   "outputs": [
    {
     "data": {
      "text/plain": [
       "'I am very cool!'"
      ]
     },
     "execution_count": 5,
     "metadata": {},
     "output_type": "execute_result"
    }
   ],
   "source": [
    "some_func()"
   ]
  },
  {
   "cell_type": "markdown",
   "metadata": {},
   "source": [
    "#### Johtopäätös: Että alifunktio voidaan palauttaa, tulee se ensin palauttaa alifunktion alta!"
   ]
  },
  {
   "cell_type": "code",
   "execution_count": 6,
   "metadata": {},
   "outputs": [],
   "source": [
    "def hello():\n",
    "    return 'Terve Jari!'"
   ]
  },
  {
   "cell_type": "code",
   "execution_count": null,
   "metadata": {},
   "outputs": [],
   "source": [
    "# Tehdään toinen funktio, jonka parametriksi määritetään vain joku satunnainen nimi, eli voi olla mikä tahansa:\n"
   ]
  },
  {
   "cell_type": "code",
   "execution_count": 7,
   "metadata": {},
   "outputs": [],
   "source": [
    "def other(some_def_func):\n",
    "    print('Toinen koodi ajetaan tässä!')\n",
    "    print(some_def_func())"
   ]
  },
  {
   "cell_type": "code",
   "execution_count": 8,
   "metadata": {},
   "outputs": [
    {
     "data": {
      "text/plain": [
       "<function __main__.hello()>"
      ]
     },
     "execution_count": 8,
     "metadata": {},
     "output_type": "execute_result"
    }
   ],
   "source": [
    "hello"
   ]
  },
  {
   "cell_type": "code",
   "execution_count": 9,
   "metadata": {},
   "outputs": [
    {
     "data": {
      "text/plain": [
       "'Terve Jari!'"
      ]
     },
     "execution_count": 9,
     "metadata": {},
     "output_type": "execute_result"
    }
   ],
   "source": [
    "hello()"
   ]
  },
  {
   "cell_type": "code",
   "execution_count": 10,
   "metadata": {},
   "outputs": [
    {
     "name": "stdout",
     "output_type": "stream",
     "text": [
      "Toinen koodi ajetaan tässä!\n",
      "Terve Jari!\n"
     ]
    }
   ],
   "source": [
    "other(hello)"
   ]
  },
  {
   "cell_type": "markdown",
   "metadata": {},
   "source": [
    "#### Johtopäätös: Funktio voidaan palauttaa myös kun se annetaan parametriargumenttina toiselle funktiolle!"
   ]
  },
  {
   "cell_type": "markdown",
   "metadata": {},
   "source": [
    "#### Tehdään dekoraattori:\n",
    "- Käsiteltävä funktio syötetään dekoraattori-funtioon parametrinä (käsiteltäväksi).\n",
    "- Dekoraattorin alla oleva wrap()-funktio sisältää dekoraattorin toiminnallisuuden.\n",
    "- Parametrinä syötetty käsiteltävä funktio ajetaan wrap-funktion alla!!!!\n",
    "- Wrap():ssa käsiteltävän funktion molemminpuolin olevat printit toimivat kuin kirjeen kuoripaperit.\n",
    "- TÄRKEÄ: Että dekoraattori toimisi, tulee alifunktiona oleva wrap()-funtio palauttaa dekoraattorin alta:"
   ]
  },
  {
   "cell_type": "code",
   "execution_count": 15,
   "metadata": {},
   "outputs": [],
   "source": [
    "def new_decorator(original_func):\n",
    "    \n",
    "    def wrap_func():\n",
    "        \n",
    "        print('Some extra code, before the original function')\n",
    "        \n",
    "        original_func()\n",
    "        \n",
    "        print('Some extra code, after the original function')\n",
    "        \n",
    "    return wrap_func"
   ]
  },
  {
   "cell_type": "code",
   "execution_count": 16,
   "metadata": {},
   "outputs": [],
   "source": [
    "def func_needs_decorator():\n",
    "    print('I want to be decorated!!')"
   ]
  },
  {
   "cell_type": "code",
   "execution_count": 13,
   "metadata": {},
   "outputs": [
    {
     "name": "stdout",
     "output_type": "stream",
     "text": [
      "I want to be decorated!!\n"
     ]
    }
   ],
   "source": [
    "func_needs_decorator()"
   ]
  },
  {
   "cell_type": "code",
   "execution_count": 19,
   "metadata": {},
   "outputs": [
    {
     "data": {
      "text/plain": [
       "<function __main__.new_decorator.<locals>.wrap_func()>"
      ]
     },
     "execution_count": 19,
     "metadata": {},
     "output_type": "execute_result"
    }
   ],
   "source": [
    "# HUOMAA: Ei aja suoraan vaan pitää syöttää parametrinä:\n",
    "new_decorator(func_needs_decorator)"
   ]
  },
  {
   "cell_type": "code",
   "execution_count": 20,
   "metadata": {},
   "outputs": [],
   "source": [
    "decorated_func = new_decorator(func_needs_decorator)"
   ]
  },
  {
   "cell_type": "code",
   "execution_count": 21,
   "metadata": {},
   "outputs": [
    {
     "name": "stdout",
     "output_type": "stream",
     "text": [
      "Some extra code, before the original function\n",
      "I want to be decorated!!\n",
      "Some extra code, after the original function\n"
     ]
    }
   ],
   "source": [
    "decorated_func()"
   ]
  },
  {
   "cell_type": "markdown",
   "metadata": {},
   "source": [
    "#### HUOMAA: Edelläesitetty voidaan yksinkertaisemmin tehdä pythonin @-toiminnolla näin:"
   ]
  },
  {
   "cell_type": "code",
   "execution_count": 22,
   "metadata": {},
   "outputs": [],
   "source": [
    "@new_decorator\n",
    "def func_needs_decorator():\n",
    "    print('I want to be decorated!!')"
   ]
  },
  {
   "cell_type": "markdown",
   "metadata": {},
   "source": [
    "#### Tällä @-toiminnan ansiosta meidän ei tarvitse erikseen ajaa dekoroitua funktiota muuttujaan vaan dekorointi voidaan tehdä koodin sisällä lisäämällä @-dekoraattori niin moneen funktioon koodissa kuin haluamme!!!"
   ]
  },
  {
   "cell_type": "code",
   "execution_count": 23,
   "metadata": {},
   "outputs": [
    {
     "name": "stdout",
     "output_type": "stream",
     "text": [
      "Some extra code, before the original function\n",
      "I want to be decorated!!\n",
      "Some extra code, after the original function\n"
     ]
    }
   ],
   "source": [
    "func_needs_decorator()"
   ]
  },
  {
   "cell_type": "markdown",
   "metadata": {},
   "source": [
    "#### SITEN: @new_decorator on sama kuin def new_decorator-funktion määritys, jolloin @-toiminnalla dekoraattoria voidaan kylvää."
   ]
  },
  {
   "cell_type": "markdown",
   "metadata": {},
   "source": [
    "#### HUOMAA dekoraattori voidaan myös helposti kytkeä koodissa pois päältä laittamalla sen eteen #-kommenttimerkki!!!"
   ]
  },
  {
   "cell_type": "markdown",
   "metadata": {},
   "source": [
    "#### HUOMAA: Etenkin pythonin web-developmentissa käytetään toisten tekemiä dekoraattorikirjastoja, jolloin niitä ei tarvi erikseen kirjoitella!!! Esim. Django- ja Flask-frameworkit."
   ]
  },
  {
   "cell_type": "markdown",
   "metadata": {},
   "source": [
    "## 12.82 Decorators with Python Homework"
   ]
  },
  {
   "cell_type": "markdown",
   "metadata": {},
   "source": [
    "Since you won't run into decorators until further in your coding career, this homework is optional. Check out the Web Framework [Flask](http://flask.pocoo.org/). You can use Flask to create web pages with Python (as long as you know some HTML and CSS) and they use decorators a lot! Learn how they use [view decorators](http://flask.pocoo.org/docs/0.12/patterns/viewdecorators/). Don't worry if you don't completely understand everything about Flask, the main point of this optional homework is that you have an awareness of decorators in Web Frameworks, that way if you decide to become a \"Full-Stack\" Python Web Developer, you won't find yourself perplexed by decorators. You can also check out [Django](https://www.djangoproject.com/) another (and more popular) web framework for Python which is a bit more heavy duty.\n",
    "\n",
    "Also for some additional info:\n",
    "\n",
    "A framework is a type of software library that provides generic functionality which can be extended by the programmer to build applications. Flask and Django are good examples of frameworks intended for web development.\n",
    "\n",
    "A framework is distinguished from a simple library or API. An API is a piece of software that a developer can use in his application. A framework is more encompassing: your entire application is structured around the framework (i.e. it provides the framework around which you build your software).\n",
    "\n",
    "## Great job!"
   ]
  },
  {
   "cell_type": "markdown",
   "metadata": {},
   "source": [
    "## 13.83 Generators with Python"
   ]
  },
  {
   "cell_type": "markdown",
   "metadata": {},
   "source": [
    "In this section of the course we will be learning about the difference between iteration and generation in Python and how to construct our own Generators with the *yield* statement. Generators allow us to generate as we go along, instead of holding everything in memory. \n",
    "\n",
    "We've touch on this topic in the past when discussing the range() function in Python 2 and the similar xrange(), with the difference being the xrange() was a generator.\n",
    "\n",
    "Lets explore a little deeper. We've learned how to create functions with **def** and the **return** statement. Generator functions allow us to write a function that can send back a value and then later resume to pick up where it left off. This type of function is a generator in Python, allowing us to generate a sequence of values over time. The main difference in syntax will be the use of a **yield** statement.\n",
    "\n",
    "In most aspects, a generator function will appear very similar to a normal function. The main difference is when a generator function is compiled they become an object that support an iteration protocol. That means when they are called in your code the don't actually return a value and then exit, the generator functions will automatically suspend and resume their execution and state around the last point of value generation. The main advantage here is that instead of having to compute an entire series of values upfront and the generator functions can be suspended, this feature is known as *state suspension*.\n",
    "\n",
    "\n",
    "￼￼To start getting a better understanding of generators, lets go ahead and see how we can create some."
   ]
  },
  {
   "cell_type": "markdown",
   "metadata": {},
   "source": [
    "#### Videolta poimittuja asioita:\n",
    "\n",
    "- Generator functions: Allow to write a function that can send back a value and then later resume to pick up where it left off. => Mahdollistaa tuottaa jakson arvoja ajan suhteen, jolloin kaikkia funktion tuottamia arvoja ei tarvi säilöä muistissa. => Nopea ja tehokas.\n",
    "- Ero funktioon: Returnin sijaan käytetään yield-avainsanaa.\n",
    "- Kun generaattorifunktion käännetään, muuttuu se iterointiprotokollaa tukevaksi olioksi.\n",
    "- Ts. kun koodissa kutsutaan generaattori ei vain pelkästään palauta arvoa ja poistu kuten funktio tekee.\n",
    "- Generaattori-funktio kutsuttaessa jää muistiin oliona ja pysyy siell äkunnes viimeinen iterointi on tehty.\n",
    "- SEURAUS: Generaattori ei aja kaikkia arvoja kerrallaan muistiin vaan yhden arvon kerrallaan.\n",
    "- esim.: range() on generaattori.\n",
    "- Luodaan esimerkkinä oma generaattori vaihe vaiheelta:"
   ]
  },
  {
   "cell_type": "code",
   "execution_count": 28,
   "metadata": {},
   "outputs": [],
   "source": [
    "def create_cubes(n):\n",
    "    \"\"\"Tämä funktio tuottaa listan kuutioarvoja 0:sta n:ään.\n",
    "    Tätä varten tehdään ensin tyhjä lista. Sitten for-loopilla\n",
    "    tuotetaan input-arvoon asti sarjan kuutioarvoja, jotka \n",
    "    varastoidaan kaikki muistissa.\"\"\"\n",
    "    result = []\n",
    "    for x in range(n):\n",
    "        result.append(x**3)\n",
    "    return result\n"
   ]
  },
  {
   "cell_type": "code",
   "execution_count": 29,
   "metadata": {},
   "outputs": [
    {
     "data": {
      "text/plain": [
       "[0, 1, 8, 27, 64, 125, 216, 343, 512, 729]"
      ]
     },
     "execution_count": 29,
     "metadata": {},
     "output_type": "execute_result"
    }
   ],
   "source": [
    "create_cubes(10)"
   ]
  },
  {
   "cell_type": "markdown",
   "metadata": {},
   "source": [
    "#### Ylläesitetty koodi saadaan yksinkertaisemmaksi generaattorilla:"
   ]
  },
  {
   "cell_type": "code",
   "execution_count": 1,
   "metadata": {},
   "outputs": [],
   "source": [
    "def create_cubesg(n):\n",
    "    \n",
    "    for x in range(n):\n",
    "        yield x**3"
   ]
  },
  {
   "cell_type": "code",
   "execution_count": 33,
   "metadata": {},
   "outputs": [
    {
     "data": {
      "text/plain": [
       "<generator object create_cubesg at 0x107c446d0>"
      ]
     },
     "execution_count": 33,
     "metadata": {},
     "output_type": "execute_result"
    }
   ],
   "source": [
    "# Generaattori-funktiota ajettaessa huomataan että se jää oliona muistiin varastoon jonka \"läpi\" lista tuotetaan:\n",
    "create_cubesg(10)"
   ]
  },
  {
   "cell_type": "code",
   "execution_count": 34,
   "metadata": {},
   "outputs": [
    {
     "data": {
      "text/plain": [
       "[0, 1, 8, 27, 64, 125, 216, 343, 512, 729]"
      ]
     },
     "execution_count": 34,
     "metadata": {},
     "output_type": "execute_result"
    }
   ],
   "source": [
    "# Saadaan sama lista kuin mitä yllä esitetty funktio tuottaa:\n",
    "list(create_cubesg(10))"
   ]
  },
  {
   "cell_type": "markdown",
   "metadata": {},
   "source": [
    "#### Toinen Generaattori esim. Fibonaccin sarjalla:"
   ]
  },
  {
   "cell_type": "code",
   "execution_count": 35,
   "metadata": {},
   "outputs": [],
   "source": [
    "def gen_fibo(n):\n",
    "    \n",
    "    a = 1\n",
    "    b = 1\n",
    "    for i in range(n):\n",
    "        yield a\n",
    "        (a,b) = b, a+b # Fibo-sarja muodostetaan tuple-pari laskennalla ja tuple-unpacking!\n"
   ]
  },
  {
   "cell_type": "code",
   "execution_count": 36,
   "metadata": {},
   "outputs": [
    {
     "name": "stdout",
     "output_type": "stream",
     "text": [
      "1\n",
      "1\n",
      "2\n",
      "3\n",
      "5\n",
      "8\n",
      "13\n",
      "21\n",
      "34\n",
      "55\n"
     ]
    }
   ],
   "source": [
    "for n in gen_fibo(10):\n",
    "    print(n)"
   ]
  },
  {
   "cell_type": "markdown",
   "metadata": {},
   "source": [
    "### Next-function:"
   ]
  },
  {
   "cell_type": "code",
   "execution_count": 37,
   "metadata": {},
   "outputs": [],
   "source": [
    "def simple_gen():\n",
    "    for x in range(3):\n",
    "        yield x\n"
   ]
  },
  {
   "cell_type": "code",
   "execution_count": 38,
   "metadata": {},
   "outputs": [
    {
     "name": "stdout",
     "output_type": "stream",
     "text": [
      "0\n",
      "1\n",
      "2\n"
     ]
    }
   ],
   "source": [
    "for n in simple_gen():\n",
    "    print(n)"
   ]
  },
  {
   "cell_type": "code",
   "execution_count": 39,
   "metadata": {},
   "outputs": [],
   "source": [
    "g = simple_gen()"
   ]
  },
  {
   "cell_type": "code",
   "execution_count": 41,
   "metadata": {},
   "outputs": [
    {
     "data": {
      "text/plain": [
       "<generator object simple_gen at 0x107c949d0>"
      ]
     },
     "execution_count": 41,
     "metadata": {},
     "output_type": "execute_result"
    }
   ],
   "source": [
    "# g on generaattori olio:\n",
    "g"
   ]
  },
  {
   "cell_type": "code",
   "execution_count": 42,
   "metadata": {},
   "outputs": [
    {
     "name": "stdout",
     "output_type": "stream",
     "text": [
      "0\n"
     ]
    }
   ],
   "source": [
    "# next-komento tuottaa yksi kerrallaan generaattori-funktion tuottamista arvoista:\n",
    "print(next(g))"
   ]
  },
  {
   "cell_type": "code",
   "execution_count": 43,
   "metadata": {},
   "outputs": [
    {
     "name": "stdout",
     "output_type": "stream",
     "text": [
      "1\n"
     ]
    }
   ],
   "source": [
    "print(next(g))"
   ]
  },
  {
   "cell_type": "code",
   "execution_count": 44,
   "metadata": {},
   "outputs": [
    {
     "name": "stdout",
     "output_type": "stream",
     "text": [
      "2\n"
     ]
    }
   ],
   "source": [
    "print(next(g))"
   ]
  },
  {
   "cell_type": "code",
   "execution_count": 45,
   "metadata": {},
   "outputs": [
    {
     "ename": "StopIteration",
     "evalue": "",
     "output_type": "error",
     "traceback": [
      "\u001b[0;31m---------------------------------------------------------------------------\u001b[0m",
      "\u001b[0;31mStopIteration\u001b[0m                             Traceback (most recent call last)",
      "\u001b[0;32m<ipython-input-45-fb4021e01628>\u001b[0m in \u001b[0;36m<module>\u001b[0;34m\u001b[0m\n\u001b[1;32m      1\u001b[0m \u001b[0;31m# Kun generaattori-olion läpi pyydetyt arvot on tuotettu, ilmoittaa Python StopIteration:\u001b[0m\u001b[0;34m\u001b[0m\u001b[0;34m\u001b[0m\u001b[0;34m\u001b[0m\u001b[0m\n\u001b[0;32m----> 2\u001b[0;31m \u001b[0mprint\u001b[0m\u001b[0;34m(\u001b[0m\u001b[0mnext\u001b[0m\u001b[0;34m(\u001b[0m\u001b[0mg\u001b[0m\u001b[0;34m)\u001b[0m\u001b[0;34m)\u001b[0m\u001b[0;34m\u001b[0m\u001b[0;34m\u001b[0m\u001b[0m\n\u001b[0m",
      "\u001b[0;31mStopIteration\u001b[0m: "
     ]
    }
   ],
   "source": [
    "# Kun generaattori-olion läpi pyydetyt arvot on tuotettu, ilmoittaa Python StopIteration:\n",
    "print(next(g))"
   ]
  },
  {
   "cell_type": "markdown",
   "metadata": {},
   "source": [
    "### Iter-function:"
   ]
  },
  {
   "cell_type": "markdown",
   "metadata": {},
   "source": [
    "#### - Allows us to automatically iterate through a normal object that you may not expect (Mitä?):"
   ]
  },
  {
   "cell_type": "code",
   "execution_count": 47,
   "metadata": {},
   "outputs": [],
   "source": [
    "s = 'hello'"
   ]
  },
  {
   "cell_type": "code",
   "execution_count": 48,
   "metadata": {},
   "outputs": [
    {
     "name": "stdout",
     "output_type": "stream",
     "text": [
      "h\n",
      "e\n",
      "l\n",
      "l\n",
      "o\n"
     ]
    }
   ],
   "source": [
    "for letter in s:\n",
    "    print(letter)"
   ]
  },
  {
   "cell_type": "code",
   "execution_count": 50,
   "metadata": {},
   "outputs": [
    {
     "ename": "TypeError",
     "evalue": "'str' object is not an iterator",
     "output_type": "error",
     "traceback": [
      "\u001b[0;31m---------------------------------------------------------------------------\u001b[0m",
      "\u001b[0;31mTypeError\u001b[0m                                 Traceback (most recent call last)",
      "\u001b[0;32m<ipython-input-50-4b6d5b032b12>\u001b[0m in \u001b[0;36m<module>\u001b[0;34m\u001b[0m\n\u001b[1;32m      1\u001b[0m \u001b[0;31m# HUOMAA: for-loopilla ei voi iteroida stringiä next-funktiolla yksi kerrallaan:\u001b[0m\u001b[0;34m\u001b[0m\u001b[0;34m\u001b[0m\u001b[0;34m\u001b[0m\u001b[0m\n\u001b[0;32m----> 2\u001b[0;31m \u001b[0mnext\u001b[0m\u001b[0;34m(\u001b[0m\u001b[0ms\u001b[0m\u001b[0;34m)\u001b[0m\u001b[0;34m\u001b[0m\u001b[0;34m\u001b[0m\u001b[0m\n\u001b[0m",
      "\u001b[0;31mTypeError\u001b[0m: 'str' object is not an iterator"
     ]
    }
   ],
   "source": [
    "# HUOMAA: for-loopilla ei voi iteroida stringiä next-funktiolla yksi kerrallaan:\n",
    "next(s)"
   ]
  },
  {
   "cell_type": "code",
   "execution_count": 51,
   "metadata": {},
   "outputs": [],
   "source": [
    "# ... mutta iter-funktiolla voit stringin muuttaa generaattoriksi:\n",
    "s_iter = iter(s)"
   ]
  },
  {
   "cell_type": "code",
   "execution_count": 52,
   "metadata": {},
   "outputs": [
    {
     "data": {
      "text/plain": [
       "'h'"
      ]
     },
     "execution_count": 52,
     "metadata": {},
     "output_type": "execute_result"
    }
   ],
   "source": [
    "next(s_iter)"
   ]
  },
  {
   "cell_type": "code",
   "execution_count": 53,
   "metadata": {},
   "outputs": [
    {
     "data": {
      "text/plain": [
       "'e'"
      ]
     },
     "execution_count": 53,
     "metadata": {},
     "output_type": "execute_result"
    }
   ],
   "source": [
    "next(s_iter)"
   ]
  },
  {
   "cell_type": "code",
   "execution_count": 54,
   "metadata": {},
   "outputs": [
    {
     "data": {
      "text/plain": [
       "'l'"
      ]
     },
     "execution_count": 54,
     "metadata": {},
     "output_type": "execute_result"
    }
   ],
   "source": [
    "next(s_iter)"
   ]
  },
  {
   "cell_type": "code",
   "execution_count": 55,
   "metadata": {},
   "outputs": [
    {
     "data": {
      "text/plain": [
       "'l'"
      ]
     },
     "execution_count": 55,
     "metadata": {},
     "output_type": "execute_result"
    }
   ],
   "source": [
    "next(s_iter)"
   ]
  },
  {
   "cell_type": "code",
   "execution_count": 56,
   "metadata": {},
   "outputs": [
    {
     "data": {
      "text/plain": [
       "'o'"
      ]
     },
     "execution_count": 56,
     "metadata": {},
     "output_type": "execute_result"
    }
   ],
   "source": [
    "next(s_iter)"
   ]
  },
  {
   "cell_type": "markdown",
   "metadata": {},
   "source": [
    "### TSEKKAA STACKOVERFLOWSTA:\n",
    "\n",
    "Great! Now you know how to convert objects that are iterable into iterators themselves!\n",
    "\n",
    "The main takeaway from this lecture is that using the yield keyword at a function will cause the function to become a generator. This change can save you a lot of memory for large use cases. For more information on generators check out:\n",
    "\n",
    "[Stack Overflow Answer](http://stackoverflow.com/questions/1756096/understanding-generators-in-python)\n",
    "\n",
    "[Another StackOverflow Answer](http://stackoverflow.com/questions/231767/what-does-the-yield-keyword-do-in-python)"
   ]
  },
  {
   "cell_type": "markdown",
   "metadata": {},
   "source": [
    "## 13.84 Generators with Python Homework"
   ]
  },
  {
   "cell_type": "markdown",
   "metadata": {},
   "source": [
    "### Problem 1\n",
    "\n",
    "Create a generator that generates the squares of numbers up to some number N."
   ]
  },
  {
   "cell_type": "code",
   "execution_count": 2,
   "metadata": {},
   "outputs": [],
   "source": [
    "def create_squareg(n):\n",
    "    \n",
    "    for x in range(n):\n",
    "        yield x**2"
   ]
  },
  {
   "cell_type": "code",
   "execution_count": 7,
   "metadata": {},
   "outputs": [
    {
     "name": "stdout",
     "output_type": "stream",
     "text": [
      "0\n",
      "1\n",
      "4\n",
      "9\n",
      "16\n",
      "25\n",
      "36\n",
      "49\n",
      "64\n",
      "81\n"
     ]
    }
   ],
   "source": [
    "for x in create_squareg(10):\n",
    "    print(x)"
   ]
  },
  {
   "cell_type": "markdown",
   "metadata": {},
   "source": [
    "### Problem 2\n",
    "\n",
    "Create a generator that yields \"n\" random numbers between a low and high number (that are inputs). Note: Use the random library. For example:"
   ]
  },
  {
   "cell_type": "code",
   "execution_count": 13,
   "metadata": {},
   "outputs": [
    {
     "data": {
      "text/plain": [
       "10"
      ]
     },
     "execution_count": 13,
     "metadata": {},
     "output_type": "execute_result"
    }
   ],
   "source": [
    "import random\n",
    "\n",
    "random.randint(1,10)"
   ]
  },
  {
   "cell_type": "code",
   "execution_count": 14,
   "metadata": {},
   "outputs": [],
   "source": [
    "def rand_num(low, high, n):\n",
    "    \n",
    "    for i in range(n):\n",
    "        yield random.randint(low, high)"
   ]
  },
  {
   "cell_type": "code",
   "execution_count": 15,
   "metadata": {},
   "outputs": [
    {
     "name": "stdout",
     "output_type": "stream",
     "text": [
      "1\n",
      "7\n",
      "6\n",
      "4\n",
      "6\n",
      "5\n",
      "4\n",
      "7\n",
      "3\n",
      "7\n",
      "9\n",
      "8\n"
     ]
    }
   ],
   "source": [
    "for num in rand_num(1,10,12):\n",
    "    print(num)"
   ]
  },
  {
   "cell_type": "markdown",
   "metadata": {},
   "source": [
    "### Problem 3\n",
    "\n",
    "Use the iter() function to convert the string below "
   ]
  },
  {
   "cell_type": "code",
   "execution_count": 9,
   "metadata": {},
   "outputs": [],
   "source": [
    "s = 'hello'\n",
    "\n",
    "s_iter = iter(s)"
   ]
  },
  {
   "cell_type": "code",
   "execution_count": 20,
   "metadata": {},
   "outputs": [
    {
     "name": "stdout",
     "output_type": "stream",
     "text": [
      "o\n"
     ]
    }
   ],
   "source": [
    "print(next(s_iter))"
   ]
  },
  {
   "cell_type": "markdown",
   "metadata": {},
   "source": [
    "### Problem 4\n",
    "Explain a use case for a generator using a yield statement where you would not want to use a normal function with a return statement.\n",
    "\n",
    "##### Vastaus: Halutaan tuottaa arvoja yksi kerrallaan tarpeen mukaan silloin kun laskenta on liian iso että se saattaisi täyttää muistin."
   ]
  },
  {
   "cell_type": "markdown",
   "metadata": {},
   "source": [
    "### Extra Credit!\n",
    "Can you explain what *gencomp* is in the code below? (Note: We never covered this in lecture! You will have to do some googling/Stack Overflowing!)"
   ]
  },
  {
   "cell_type": "code",
   "execution_count": null,
   "metadata": {},
   "outputs": [],
   "source": [
    "my_list = [1,2,3,4,5]\n",
    "\n",
    "gencomp = (item for item in my_list if item > 3)\n",
    "\n",
    "for item in gencomp:\n",
    "    print(item)"
   ]
  },
  {
   "cell_type": "markdown",
   "metadata": {},
   "source": [
    "### Vastaus: Generaattori on for loopin sijaan esitetty list comprehensionia vastaavassa muodossa:"
   ]
  },
  {
   "cell_type": "markdown",
   "metadata": {},
   "source": [
    "## 14.86 Final Capstone Project"
   ]
  },
  {
   "cell_type": "markdown",
   "metadata": {},
   "source": [
    "# List of Capstone Projects\n",
    "\n",
    "This list contains around 100 project ideas for you to try out in Python! Some of them are straightforward and others we have done before (such as a Fibonacci Sequence or FizzBuzz). \n",
    "\n",
    "Pick a simple project that you think you can finish in a day to start off with, then pick another project that you think will take you more than a week and extensive Googling!\n",
    "\n",
    "There are some sample solutions in this folder as well so feel free to explore and remember:\n",
    "\n",
    "**HAVE FUN!**"
   ]
  },
  {
   "cell_type": "markdown",
   "metadata": {},
   "source": [
    "Numbers\n",
    "---------\n",
    "\n",
    "**Find PI to the Nth Digit** - Enter a number and have the program generate PI up to that many decimal places. Keep a limit to how far the program will go.\n",
    "\n",
    "**Find e to the Nth Digit** - Just like the previous problem, but with e instead of PI. Enter a number and have the program generate e up to that many decimal places. Keep a limit to how far the program will go.\n",
    "\n",
    "**Fibonacci Sequence** - Enter a number and have the program generate the Fibonacci sequence to that number or to the Nth number.\n",
    "\n",
    "**Prime Factorization** - Have the user enter a number and find all Prime Factors (if there are any) and display them.\n",
    "\n",
    "**Next Prime Number** - Have the program find prime numbers until the user chooses to stop asking for the next one.\n",
    "\n",
    "**Find Cost of Tile to Cover W x H Floor** - Calculate the total cost of tile it would take to cover a floor plan of width and height, using a cost entered by the user.\n",
    "\n",
    "**Mortgage Calculator** - Calculate the monthly payments of a fixed term mortgage over given Nth terms at a given interest rate. Also figure out how long it will take the user to pay back the loan. For added complexity, add an option for users to select the compounding interval (Monthly, Weekly, Daily, Continually).\n",
    "\n",
    "**Change Return Program** - The user enters a cost and then the amount of money given. The program will figure out the change and the number of quarters, dimes, nickels, pennies needed for the change.\n",
    "\n",
    "**Binary to Decimal and Back Converter** - Develop a converter to convert a decimal number to binary or a binary number to its decimal equivalent.\n",
    "\n",
    "**Calculator** - A simple calculator to do basic operators. Make it a scientific calculator for added complexity.\n",
    "\n",
    "**Unit Converter (temp, currency, volume, mass and more)** - Converts various units between one another. The user enters the type of unit being entered, the type of unit they want to convert to and then the value. The program will then make the conversion.\n",
    "\n",
    "**Alarm Clock** - A simple clock where it plays a sound after X number of minutes/seconds or at a particular time.\n",
    "\n",
    "**Distance Between Two Cities** - Calculates the distance between two cities and allows the user to specify a unit of distance. This program may require finding coordinates for the cities like latitude and longitude.\n",
    "\n",
    "**Credit Card Validator** - Takes in a credit card number from a common credit card vendor (Visa, MasterCard, American Express, Discoverer) and validates it to make sure that it is a valid number (look into how credit cards use a checksum).\n",
    "\n",
    "**Tax Calculator** - Asks the user to enter a cost and either a country or state tax. It then returns the tax plus the total cost with tax.\n",
    "\n",
    "**Factorial Finder** - The Factorial of a positive integer, n, is defined as the product of the sequence n, n-1, n-2, ...1 and the factorial of zero, 0, is defined as being 1. Solve this using both loops and recursion.\n",
    "\n",
    "**Complex Number Algebra** - Show addition, multiplication, negation, and inversion of complex numbers in separate functions. (Subtraction and division operations can be made with pairs of these operations.) Print the results for each operation tested.\n",
    "\n",
    "**Happy Numbers** - A happy number is defined by the following process. Starting with any positive integer, replace the number by the sum of the squares of its digits, and repeat the process until the number equals 1 (where it will stay), or it loops endlessly in a cycle which does not include 1. Those numbers for which this process ends in 1 are happy numbers, while those that do not end in 1 are unhappy numbers. Display an example of your output here. Find first 8 happy numbers.\n",
    "\n",
    "**Number Names** - Show how to spell out a number in English. You can use a preexisting implementation or roll your own, but you should support inputs up to at least one million (or the maximum value of your language's default bounded integer type, if that's less). *Optional: Support for inputs other than positive integers (like zero, negative integers, and floating-point numbers).*\n",
    "\n",
    "**Coin Flip Simulation** - Write some code that simulates flipping a single coin however many times the user decides. The code should record the outcomes and count the number of tails and heads.\n",
    "\n",
    "**Limit Calculator** - Ask the user to enter f(x) and the limit value, then return the value of the limit statement *Optional: Make the calculator capable of supporting infinite limits.*\n",
    "\n",
    "**Fast Exponentiation** - Ask the user to enter 2 integers a and b and output a^b (i.e. pow(a,b)) in O(lg n) time complexity.\n",
    "\n",
    "Classic Algorithms\n",
    "-----------------\n",
    "\n",
    "**Collatz Conjecture** - Start with a number *n > 1*. Find the number of steps it takes to reach one using the following process: If *n* is even, divide it by 2. If *n* is odd, multiply it by 3 and add 1.\n",
    "\n",
    "**Sorting** - Implement two types of sorting algorithms: Merge sort and bubble sort.\n",
    "\n",
    "**Closest pair problem** - The closest pair of points problem or closest pair problem is a problem of computational geometry: given *n* points in metric space, find a pair of points with the smallest distance between them.\n",
    "\n",
    "**Sieve of Eratosthenes** - The sieve of Eratosthenes is one of the most efficient ways to find all of the smaller primes (below 10 million or so).\n",
    "\n",
    "\n",
    "Graph\n",
    "--------\n",
    "\n",
    "**Graph from links** - Create a program that will create a graph or network from a series of links.\n",
    "\n",
    "**Eulerian Path** - Create a program which will take as an input a graph and output either a Eulerian path or a Eulerian cycle, or state that it is not possible.  A Eulerian Path starts at one node and traverses every edge of a graph  through every node and finishes at another node.  A Eulerian cycle is a eulerian Path that starts and finishes at the same node.\n",
    "\n",
    "**Connected Graph** - Create a program which takes a graph as an input and outputs whether every node is connected or not.\n",
    "\n",
    "**Dijkstra’s Algorithm** - Create a program that finds the shortest path through a graph using its edges.\n",
    "\n",
    "**Minimum Spanning Tree** - Create a program which takes a connected, undirected graph with weights and outputs the minimum spanning tree of the graph i.e., a\n",
    "subgraph that is a tree, contains all the vertices, and the sum of its weights is the least possible.\n",
    "\n",
    "\n",
    "Data Structures\n",
    "---------\n",
    "\n",
    "**Inverted index** - An [Inverted Index](http://en.wikipedia.org/wiki/Inverted_index) is a data structure used to create full text search. Given a set of text files, implement a program to create an inverted index. Also create a user interface to do a search using that inverted index which returns a list of files that contain the query term / terms. The search index can be in memory.\n",
    "\n",
    "\n",
    "Text\n",
    "---------\n",
    "\n",
    "**Fizz Buzz** - Write a program that prints the numbers from 1 to 100. But for multiples of three print “Fizz” instead of the number and for the multiples of five print “Buzz”. For numbers which are multiples of both three and five print “FizzBuzz”.\n",
    "\n",
    "**Reverse a String** - Enter a string and the program will reverse it and print it out.\n",
    "\n",
    "**Pig Latin** - Pig Latin is a game of alterations played on the English language game. To create the Pig Latin form of an English word the initial consonant sound is transposed to the end of the word and an ay is affixed (Ex.: \"banana\" would yield anana-bay). Read Wikipedia for more information on rules.\n",
    "\n",
    "**Count Vowels** - Enter a string and the program counts the number of vowels in the text. For added complexity have it report a sum of each vowel found.\n",
    "\n",
    "**Check if Palindrome** - Checks if the string entered by the user is a palindrome. That is that it reads the same forwards as backwards like “racecar”\n",
    "\n",
    "**Count Words in a String** - Counts the number of individual words in a string. For added complexity read these strings in from a text file and generate a summary.\n",
    "\n",
    "**Text Editor** - Notepad style application that can open, edit, and save text documents. *Optional: Add syntax highlighting and other features.*\n",
    "\n",
    "**RSS Feed Creator** - Given a link to RSS/Atom Feed, get all posts and display them.\n",
    "\n",
    "**Quote Tracker (market symbols etc)** - A program which can go out and check the current value of stocks for a list of symbols entered by the user. The user can set how often the stocks are checked. For CLI, show whether the stock has moved up or down. *Optional: If GUI, the program can show green up and red down arrows to show which direction the stock value has moved.*\n",
    "\n",
    "**Guestbook / Journal** - A simple application that allows people to add comments or write journal entries. It can allow comments or not and timestamps for all entries. Could also be made into a shout box. *Optional: Deploy it on Google App Engine or Heroku or any other PaaS (if possible, of course).*\n",
    "\n",
    "**Vigenere / Vernam / Ceasar Ciphers** - Functions for encrypting and decrypting data messages. Then send them to a friend.\n",
    "\n",
    "**Regex Query Tool** - A tool that allows the user to enter a text string and then in a separate control enter a regex pattern. It will run the regular expression against the source text and return any matches or flag errors in the regular expression.\n",
    "\n",
    "\n",
    "Networking\n",
    "---------\n",
    "\n",
    "**FTP Program** - A file transfer program which can transfer files back and forth from a remote web sever.\n",
    "\n",
    "**Bandwidth Monitor** - A small utility program that tracks how much data you have uploaded and downloaded from the net during the course of your current online session. See if you can find out what periods of the day you use more and less and generate a report or graph that shows it.\n",
    "\n",
    "**Port Scanner** - Enter an IP address and a port range where the program will then attempt to find open ports on the given computer by connecting to each of them. On any successful connections mark the port as open.\n",
    "\n",
    "**Mail Checker (POP3 / IMAP)** - The user enters various account information include web server and IP, protocol type (POP3 or IMAP) and the application will check for email at a given interval.\n",
    "\n",
    "**Country from IP Lookup** - Enter an IP address and find the country that IP is registered in. *Optional: Find the Ip automatically.*\n",
    "\n",
    "**Whois Search Tool** - Enter an IP or host address and have it look it up through whois and return the results to you.\n",
    "\n",
    "**Site Checker with Time Scheduling** - An application that attempts to connect to a website or server every so many minutes or a given time and check if it is up. If it is down, it will notify you by email or by posting a notice on screen.\n",
    "\n",
    "\n",
    "Classes\n",
    "---------\n",
    "\n",
    "**Product Inventory Project** - Create an application which manages an inventory of products. Create a product class which has a price, id, and quantity on hand. Then create an *inventory* class which keeps track of various products and can sum up the inventory value.\n",
    "\n",
    "**Airline / Hotel Reservation System** - Create a reservation system which books airline seats or hotel rooms. It charges various rates for particular sections of the plane or hotel. Example, first class is going to cost more than coach. Hotel rooms have penthouse suites which cost more. Keep track of when rooms will be available and can be scheduled.\n",
    "\n",
    "**Company Manager** - Create an hierarchy of classes - abstract class Employee and subclasses HourlyEmployee, SalariedEmployee, Manager and Executive. Every one's pay is calculated differently, research a bit about it.\n",
    "After you've established an employee hierarchy, create a Company class that allows you to manage the employees. You should be able to hire, fire and raise employees. \n",
    "\n",
    "**Bank Account Manager** - Create a class called Account which will be an abstract class for three other classes called CheckingAccount, SavingsAccount and BusinessAccount. Manage credits and debits from these accounts through an ATM style program.\n",
    "\n",
    "**Patient / Doctor Scheduler** - Create a patient class and a doctor class. Have a doctor that can handle multiple patients and setup a scheduling program where a doctor can only handle 16 patients during an 8 hr work day.\n",
    "\n",
    "**Recipe Creator and Manager** - Create a recipe class with ingredients and a put them in a recipe manager program that organizes them into categories like deserts, main courses or by ingredients like chicken, beef, soups, pies etc.\n",
    "\n",
    "**Image Gallery** - Create an image abstract class and then a class that inherits from it for each image type. Put them in a program which displays them in a gallery style format for viewing.\n",
    "\n",
    "**Shape Area and Perimeter Classes** - Create an abstract class called Shape and then inherit from it other shapes like diamond, rectangle, circle, triangle etc. Then have each class override the area and perimeter functionality to handle each shape type.\n",
    "\n",
    "**Flower Shop Ordering To Go** - Create a flower shop application which deals in flower objects and use those flower objects in a bouquet object which can then be sold. Keep track of the number of objects and when you may need to order more.\n",
    "\n",
    "**Family Tree Creator** - Create a class called Person which will have a name, when they were born and when (and if) they died. Allow the user to create these Person classes and put them into a family tree structure. Print out the tree to the screen.\n",
    "\n",
    "\n",
    "Threading\n",
    "---------\n",
    "\n",
    "**Create A Progress Bar for Downloads** - Create a progress bar for applications that can keep track of a download in progress. The progress bar will be on a separate thread and will communicate with the main thread using delegates.\n",
    "\n",
    "**Bulk Thumbnail Creator** - Picture processing can take a bit of time for some transformations. Especially if the image is large. Create an image program which can take hundreds of images and converts them to a specified size in the background thread while you do other things. For added complexity, have one thread handling re-sizing, have another bulk renaming of thumbnails etc.\n",
    "\n",
    "\n",
    "Web\n",
    "---------\n",
    "\n",
    "**Page Scraper** - Create an application which connects to a site and pulls out all links, or images, and saves them to a list. *Optional: Organize the indexed content and don’t allow duplicates. Have it put the results into an easily searchable index file.*\n",
    "\n",
    "**Online White Board** - Create an application which allows you to draw pictures, write notes and use various colors to flesh out ideas for projects. *Optional: Add feature to invite friends to collaborate on a white board online.*\n",
    "\n",
    "**Get Atomic Time from Internet Clock** - This program will get the true atomic time from an atomic time clock on the Internet. Use any one of the atomic clocks returned by a simple Google search.\n",
    "\n",
    "**Fetch Current Weather** - Get the current weather for a given zip/postal code. *Optional: Try locating the user automatically.*\n",
    "\n",
    "**Scheduled Auto Login and Action** - Make an application which logs into a given site on a schedule and invokes a certain action and then logs out. This can be useful for checking web mail, posting regular content, or getting info for other applications and saving it to your computer.\n",
    "\n",
    "**E-Card Generator** - Make a site that allows people to generate their own little e-cards and send them to other people. Do not use Flash. Use a picture library and perhaps insightful mottos or quotes.\n",
    "\n",
    "**Content Management System** - Create a content management system (CMS) like Joomla, Drupal, PHP Nuke etc. Start small. *Optional: Allow for the addition of modules/addons.*\n",
    "\n",
    "**Web Board (Forum)** - Create a forum for you and your buddies to post, administer and share thoughts and ideas.\n",
    "\n",
    "**CAPTCHA Maker** - Ever see those images with letters a numbers when you signup for a service and then asks you to enter what you see? It keeps web bots from automatically signing up and spamming. Try creating one yourself for online forms.\n",
    "\n",
    "\n",
    "Files\n",
    "---------\n",
    "\n",
    "**Quiz Maker** - Make an application which takes various questions from a file, picked randomly, and puts together a quiz for students. Each quiz can be different and then reads a key to grade the quizzes.\n",
    "\n",
    "**Sort Excel/CSV File Utility** - Reads a file of records, sorts them, and then writes them back to the file. Allow the user to choose various sort style and sorting based on a particular field.\n",
    "\n",
    "**Create Zip File Maker** - The user enters various files from different directories and the program zips them up into a zip file. *Optional: Apply actual compression to the files. Start with Huffman Algorithm.*\n",
    "\n",
    "**PDF Generator** - An application which can read in a text file, html file or some other file and generates a PDF file out of it. Great for a web based service where the user uploads the file and the program returns a PDF of the file. *Optional: Deploy on GAE or Heroku if possible.*\n",
    "\n",
    "**Mp3 Tagger** - Modify and add ID3v1 tags to MP3 files. See if you can also add in the album art into the MP3 file’s header as well as other ID3v2 tags.\n",
    "\n",
    "**Code Snippet Manager** - Another utility program that allows coders to put in functions, classes or other tidbits to save for use later. Organized by the type of snippet or language the coder can quickly look up code. *Optional: For extra practice try adding syntax highlighting based on the language.*\n",
    "\n",
    "\n",
    "Databases\n",
    "---------\n",
    "\n",
    "**SQL Query Analyzer** - A utility application which a user can enter a query and have it run against a local database and look for ways to make it more efficient.\n",
    "\n",
    "**Remote SQL Tool** - A utility that can execute queries on remote servers from your local computer across the Internet. It should take in a remote host, user name and password, run the query and return the results.\n",
    "\n",
    "**Report Generator** - Create a utility that generates a report based on some tables in a database. Generates a sales reports based on the order/order details tables or sums up the days current database activity.\n",
    "\n",
    "**Event Scheduler and Calendar** - Make an application which allows the user to enter a date and time of an event, event notes and then schedule those events on a calendar. The user can then browse the calendar or search the calendar for specific events. *Optional: Allow the application to create re-occurrence events that reoccur every day, week, month, year etc.*\n",
    "\n",
    "**Budget Tracker** - Write an application that keeps track of a household’s budget. The user can add expenses, income, and recurring costs to find out how much they are saving or losing over a period of time. *Optional: Allow the user to specify a date range and see the net flow of money in and out of the house budget for that time period.*\n",
    "\n",
    "**TV Show Tracker** - Got a favorite show you don’t want to miss? Don’t have a PVR or want to be able to find the show to then PVR it later? Make an application which can search various online TV Guide sites, locate the shows/times/channels and add them to a database application. The database/website then can send you email reminders that a show is about to start and which channel it will be on.\n",
    "\n",
    "**Travel Planner System** - Make a system that allows users to put together their own little travel itinerary and keep track of the airline / hotel arrangements, points of interest, budget and schedule.\n",
    "\n",
    "\n",
    "Graphics and Multimedia\n",
    "---------\n",
    "\n",
    "**Slide Show** - Make an application that shows various pictures in a slide show format. *Optional: Try adding various effects like fade in/out, star wipe and window blinds transitions.*\n",
    "\n",
    "**Stream Video from Online** - Try to create your own online streaming video player.\n",
    "\n",
    "**Mp3 Player** - A simple program for playing your favorite music files. Add features you think are missing from your favorite music player.\n",
    "\n",
    "**Watermarking Application** - Have some pictures you want copyright protected? Add your own logo or text lightly across the background so that no one can simply steal your graphics off your site. Make a program that will add this watermark to the picture. *Optional: Use threading to process multiple images simultaneously.*\n",
    "\n",
    "**Turtle Graphics** - This is a common project where you create a floor of 20 x 20 squares. Using various commands you tell a turtle to draw a line on the floor. You have move forward, left or right, lift or drop pen etc. Do a search online for \"Turtle Graphics\" for more information. *Optional: Allow the program to read in the list of commands from a file.*\n",
    "\n",
    "**GIF Creator** A program that puts together multiple images (PNGs, JPGs, TIFFs) to make a smooth GIF that can be exported. *Optional: Make the program convert small video files to GIFs as well.*\n",
    "\n",
    "\n",
    "Security\n",
    "-------------\n",
    "\n",
    "**Caesar cipher** - Implement a Caesar cipher, both encoding and decoding. The key is an integer from 1 to 25. This cipher rotates the letters of the alphabet (A to Z). The encoding replaces each letter with the 1st to 25th next letter in the alphabet (wrapping Z to A). So key 2 encrypts \"HI\" to \"JK\", but key 20 encrypts \"HI\" to \"BC\". This simple \"monoalphabetic substitution cipher\" provides almost no security, because an attacker who has the encoded message can either use frequency analysis to guess the key, or just try all 25 keys"
   ]
  },
  {
   "cell_type": "markdown",
   "metadata": {},
   "source": [
    "## 1st Final Capstone Project\n",
    "\n",
    "Numbers\n",
    "---------\n",
    "\n",
    "**Find PI to the Nth Digit** - Enter a number and have the program generate PI up to that many decimal places. Keep a limit to how far the program will go."
   ]
  },
  {
   "cell_type": "code",
   "execution_count": 7,
   "metadata": {},
   "outputs": [
    {
     "name": "stdout",
     "output_type": "stream",
     "text": [
      "3.141592653589793\n"
     ]
    }
   ],
   "source": [
    "import math\n",
    "\n",
    "print(math.pi)"
   ]
  },
  {
   "cell_type": "code",
   "execution_count": 11,
   "metadata": {},
   "outputs": [],
   "source": [
    "def find_pi():\n",
    "    \n",
    "    \"\"\"Enter a number and have the program generate PI up to that many decimal places. \n",
    "    Keep a limit to how far the program will go.\n",
    "    INPUT: Integer that defines amount of decimals\n",
    "    OUTPUT: Returns pi with n-amount of decimals.\"\"\"\n",
    "    \n",
    "    while True:\n",
    "        try:\n",
    "            n = int(input(\"How many decimals of pi you want to see (max = 10)? \"))\n",
    "        except:\n",
    "            print('Please try again! \\n')\n",
    "            continue\n",
    "        else:\n",
    "            break\n",
    "            \n",
    "        \n",
    "    print(\"The requested pi is: \")\n",
    "    print(round((math.pi), n))"
   ]
  },
  {
   "cell_type": "code",
   "execution_count": 12,
   "metadata": {},
   "outputs": [
    {
     "name": "stdin",
     "output_type": "stream",
     "text": [
      "How many decimals of pi you want to see (max = 10)?  6\n"
     ]
    },
    {
     "name": "stdout",
     "output_type": "stream",
     "text": [
      "The requested pi is: \n",
      "3.141593\n"
     ]
    }
   ],
   "source": [
    "find_pi()"
   ]
  },
  {
   "cell_type": "code",
   "execution_count": 13,
   "metadata": {},
   "outputs": [
    {
     "name": "stdin",
     "output_type": "stream",
     "text": [
      "How many decimals of pi you want to see (max = 10)?  j\n"
     ]
    },
    {
     "name": "stdout",
     "output_type": "stream",
     "text": [
      "Please try again! \n",
      "\n"
     ]
    },
    {
     "name": "stdin",
     "output_type": "stream",
     "text": [
      "How many decimals of pi you want to see (max = 10)?  pi\n"
     ]
    },
    {
     "name": "stdout",
     "output_type": "stream",
     "text": [
      "Please try again! \n",
      "\n"
     ]
    },
    {
     "name": "stdin",
     "output_type": "stream",
     "text": [
      "How many decimals of pi you want to see (max = 10)?  9\n"
     ]
    },
    {
     "name": "stdout",
     "output_type": "stream",
     "text": [
      "The requested pi is: \n",
      "3.141592654\n"
     ]
    }
   ],
   "source": [
    "find_pi()"
   ]
  },
  {
   "cell_type": "markdown",
   "metadata": {},
   "source": [
    "## 2nd Final Capstone Project"
   ]
  },
  {
   "cell_type": "markdown",
   "metadata": {},
   "source": [
    "Graphics and Multimedia\n",
    "---------\n",
    "\n",
    "**Mp3 Player** - A simple program for playing your favorite music files. Add features you think are missing from your favorite music player."
   ]
  },
  {
   "cell_type": "code",
   "execution_count": 6,
   "metadata": {},
   "outputs": [
    {
     "name": "stdout",
     "output_type": "stream",
     "text": [
      "Overwriting Mp3Player.py\n"
     ]
    }
   ],
   "source": [
    "%%writefile Mp3Player.py\n",
    "\n",
    "# This is a basic music player - done with Python Tkinter and Pygames\n",
    "\n",
    "# The structure of the logic of the coding is written first by commenting\n",
    "\n",
    "# The program should contain:\n",
    "\n",
    "# import Tkinter and Pygame\n",
    "from tkinter import *\n",
    "import tkinter.filedialog as tk\n",
    "import tkinter.messagebox as tk2\n",
    "import pygame\n",
    "\n",
    "# Define the playlist\n",
    "playlist = []\n",
    "\n",
    "# Define the player functions under the application. The frame of player goes in as attribute\n",
    "\n",
    "class Application(Frame):\n",
    "    \n",
    "    def __init__(self, master):\n",
    "        \n",
    "        # self.create_widgets()\n",
    "        self.playlistbox = Listbox(self, width = 40, height = 10, selectmode = SINGLE)\n",
    "        for song in playlist:\n",
    "            self.playlistbox.insert(END, song)\n",
    "        \n",
    "        # Define parts of the player as class attributes:\n",
    "        self.grid(rowspan=5, columnspan=4)\n",
    "        self.playlistbox.grid(row=1)\n",
    "        self.playButton = Button(self, text, = 'Play', command = self.play)\n",
    "        self.loopButton = Button(self, text, = 'Loop', command = self.loop)\n",
    "        self.addButton = Button(self, text, = 'Add', command = self.add)\n",
    "        self.playButton.grid(row = 4, column = 0)\n",
    "        self.loopButton.grid(row = 4, column = 1)\n",
    "        self.addButton.grid(row = 4, column = 2)\n",
    "        self.pack()\n",
    "        \n",
    "        # pygame initialize\n",
    "        pygameme.init()\n",
    "    \n",
    "    # Define player functions as methods of the class\n",
    "    def play(self):\n",
    "        \"\"\"Define when playlist is empty: Show graphical notice.\"\"\"\n",
    "        if(len(playlist) == 0):\n",
    "            tk2.showinfo('Notice', 'No song in your playlist!\\nClick Add to add songs.')\n",
    "        \"\"\"Define actions when playing list, incl. stop, select song,\n",
    "        play the playlist, and load and play.\"\"\"\n",
    "        else:\n",
    "            pygame.mixer.music.stop()\n",
    "            selectedSongs = self.playlistbox.curselection()\n",
    "            global playlistbox\n",
    "            playIt = playlist[int(selectedSongs[0])] # list of selected songs into variable playIt\n",
    "            pygame.mixer.music.load(playIt) # loads the list of songs stored in the variable\n",
    "            pygame.mixer.music.play(0, 0.0)\n",
    "    \n",
    "    # Define looper functions as methods:\n",
    "    def loop(self):\n",
    "        pygame.mixer.music.stop()\n",
    "        pygame.mixer.music.play(-1,0.0)\n",
    "        \n",
    "    # Define add-function of the player as a method:\n",
    "    def add(self):\n",
    "        initialdir = input('Give the path for your directory of the music: ')\n",
    "        file = tk.askopenfilenames(initialdir)\n",
    "        songsTuple = root.splitlist(file) # Turn user's opened filenames into tuple\n",
    "        songList = list(songTuple) # convert the formed tuple into list\n",
    "        \n",
    "        # Add the full filename of songto playlist list, and a shortened version to the listBox\n",
    "        for song in songsList:\n",
    "            playlist.append(song)\n",
    "            tempArray = song.split('/')\n",
    "            songShort = tempArray[len(tempArray)-1]\n",
    "            self.playlistbox.insert(END, songShort)\n",
    "            \n",
    "root = Tk()\n",
    "root.title('Text Editor')\n",
    "root.geometry('500x200')\n",
    "app = Application(root)\n",
    "app.mainloop()\n"
   ]
  },
  {
   "cell_type": "code",
   "execution_count": 4,
   "metadata": {},
   "outputs": [
    {
     "name": "stdout",
     "output_type": "stream",
     "text": [
      "Requirement already satisfied: pylint in /Users/jarijokela/anaconda3/lib/python3.7/site-packages (2.4.4)\n",
      "Requirement already satisfied: astroid<2.4,>=2.3.0 in /Users/jarijokela/anaconda3/lib/python3.7/site-packages (from pylint) (2.3.3)\n",
      "Requirement already satisfied: mccabe<0.7,>=0.6 in /Users/jarijokela/anaconda3/lib/python3.7/site-packages (from pylint) (0.6.1)\n",
      "Requirement already satisfied: isort<5,>=4.2.5 in /Users/jarijokela/anaconda3/lib/python3.7/site-packages (from pylint) (4.3.21)\n",
      "Requirement already satisfied: wrapt==1.11.* in /Users/jarijokela/anaconda3/lib/python3.7/site-packages (from astroid<2.4,>=2.3.0->pylint) (1.11.2)\n",
      "Requirement already satisfied: typed-ast<1.5,>=1.4.0; implementation_name == \"cpython\" and python_version < \"3.8\" in /Users/jarijokela/anaconda3/lib/python3.7/site-packages (from astroid<2.4,>=2.3.0->pylint) (1.4.1)\n",
      "Requirement already satisfied: lazy-object-proxy==1.4.* in /Users/jarijokela/anaconda3/lib/python3.7/site-packages (from astroid<2.4,>=2.3.0->pylint) (1.4.3)\n",
      "Requirement already satisfied: six~=1.12 in /Users/jarijokela/anaconda3/lib/python3.7/site-packages (from astroid<2.4,>=2.3.0->pylint) (1.14.0)\n",
      "Note: you may need to restart the kernel to use updated packages.\n"
     ]
    }
   ],
   "source": [
    "pip install pylint"
   ]
  },
  {
   "cell_type": "code",
   "execution_count": 7,
   "metadata": {},
   "outputs": [
    {
     "name": "stdout",
     "output_type": "stream",
     "text": [
      "************* Module Mp3Player\n",
      "Mp3Player.py:31:46: E0001: invalid syntax (<unknown>, line 31) (syntax-error)\n"
     ]
    }
   ],
   "source": [
    "! pylint Mp3Player.py"
   ]
  },
  {
   "cell_type": "markdown",
   "metadata": {},
   "source": [
    "## 15.87 Collections Module - counter"
   ]
  },
  {
   "cell_type": "markdown",
   "metadata": {},
   "source": [
    "### Collections Module\n",
    "\n",
    "The collections module is a built-in module that implements specialized container data types providing alternatives to Python’s general purpose built-in containers. We've already gone over the basics: dict, list, set, and tuple.\n",
    "\n",
    "Now we'll learn about the alternatives that the collections module provides.\n",
    "\n",
    "#### Counter\n",
    "\n",
    "*Counter* is a *dict* subclass which helps count hash-able objects. Inside of it elements are stored as dictionary keys and the counts of the objects are stored as the value.\n",
    "\n",
    "Lets see how it can be used:"
   ]
  },
  {
   "cell_type": "code",
   "execution_count": 5,
   "metadata": {},
   "outputs": [],
   "source": [
    "from collections import Counter"
   ]
  },
  {
   "cell_type": "markdown",
   "metadata": {},
   "source": [
    "**Counter() with lists**"
   ]
  },
  {
   "cell_type": "markdown",
   "metadata": {},
   "source": [
    "- collections.Counter() laskee sille parametrinä annetun listan numeroiden lukumäärät ja ilmoittaa ne sanakirjana jossa key-arvona on luku ja arvona on luvun lukumäärä:"
   ]
  },
  {
   "cell_type": "code",
   "execution_count": 9,
   "metadata": {},
   "outputs": [
    {
     "data": {
      "text/plain": [
       "Counter({1: 6, 2: 6, 3: 4, 12: 1, 32: 1, 21: 1, 223: 1})"
      ]
     },
     "execution_count": 9,
     "metadata": {},
     "output_type": "execute_result"
    }
   ],
   "source": [
    "\n",
    "l = [1,2,2,2,2,3,3,3,1,2,1,12,3,2,32,1,21,1,223,1]\n",
    "\n",
    "Counter(l)"
   ]
  },
  {
   "cell_type": "markdown",
   "metadata": {},
   "source": [
    "**Counter with strings**"
   ]
  },
  {
   "cell_type": "markdown",
   "metadata": {},
   "source": [
    "- Samoin collections.Counter() laskee sille parametrinä annetun listan kirjainten lukumäärät ja ilmoittaa ne sanakirjana jossa key-arvona on kirjain-elementti ja arvona on kirjainten lukumäärä:"
   ]
  },
  {
   "cell_type": "code",
   "execution_count": 10,
   "metadata": {},
   "outputs": [
    {
     "data": {
      "text/plain": [
       "Counter({'a': 2, 'b': 7, 's': 6, 'h': 3})"
      ]
     },
     "execution_count": 10,
     "metadata": {},
     "output_type": "execute_result"
    }
   ],
   "source": [
    "Counter('aabsbsbsbhshhbbsbs')"
   ]
  },
  {
   "cell_type": "markdown",
   "metadata": {},
   "source": [
    "**Counter with words in a sentence**"
   ]
  },
  {
   "cell_type": "markdown",
   "metadata": {},
   "source": [
    "- Lause, joka on muutettu listaksi, tapauksessa, collections.Counter() laskee sille parametrinä annetun listan sanojen lukumäärät ja ilmoittaa ne sanakirjana jossa key-arvona on sana-elementti ja arvona on kunkin sanan lukumäärän:"
   ]
  },
  {
   "cell_type": "code",
   "execution_count": 1,
   "metadata": {},
   "outputs": [],
   "source": [
    "s = 'How many times does each word show up in this sentence word times each each word'"
   ]
  },
  {
   "cell_type": "code",
   "execution_count": 2,
   "metadata": {},
   "outputs": [],
   "source": [
    "words = s.split()"
   ]
  },
  {
   "cell_type": "code",
   "execution_count": 3,
   "metadata": {},
   "outputs": [
    {
     "data": {
      "text/plain": [
       "['How',\n",
       " 'many',\n",
       " 'times',\n",
       " 'does',\n",
       " 'each',\n",
       " 'word',\n",
       " 'show',\n",
       " 'up',\n",
       " 'in',\n",
       " 'this',\n",
       " 'sentence',\n",
       " 'word',\n",
       " 'times',\n",
       " 'each',\n",
       " 'each',\n",
       " 'word']"
      ]
     },
     "execution_count": 3,
     "metadata": {},
     "output_type": "execute_result"
    }
   ],
   "source": [
    "words"
   ]
  },
  {
   "cell_type": "code",
   "execution_count": 6,
   "metadata": {},
   "outputs": [
    {
     "data": {
      "text/plain": [
       "Counter({'How': 1,\n",
       "         'many': 1,\n",
       "         'times': 2,\n",
       "         'does': 1,\n",
       "         'each': 3,\n",
       "         'word': 3,\n",
       "         'show': 1,\n",
       "         'up': 1,\n",
       "         'in': 1,\n",
       "         'this': 1,\n",
       "         'sentence': 1})"
      ]
     },
     "execution_count": 6,
     "metadata": {},
     "output_type": "execute_result"
    }
   ],
   "source": [
    "Counter(words)"
   ]
  },
  {
   "cell_type": "markdown",
   "metadata": {},
   "source": [
    "- Counterilla on myös metodi nimeltä most_common(), joka ilmoittaa parametrinä annetun määrän yleisimpiä elementtejä ja palauttaa ne tuple-listana. HUOM: EI SIIS SANAKIRJANA KUTEN AIEMMIN:"
   ]
  },
  {
   "cell_type": "code",
   "execution_count": 7,
   "metadata": {},
   "outputs": [
    {
     "data": {
      "text/plain": [
       "[('each', 3), ('word', 3), ('times', 2)]"
      ]
     },
     "execution_count": 7,
     "metadata": {},
     "output_type": "execute_result"
    }
   ],
   "source": [
    "# Methods with Counter()\n",
    "c = Counter(words)\n",
    "\n",
    "c.most_common(3)"
   ]
  },
  {
   "cell_type": "markdown",
   "metadata": {},
   "source": [
    "#### Common patterns when using the Counter() object:"
   ]
  },
  {
   "cell_type": "code",
   "execution_count": null,
   "metadata": {},
   "outputs": [],
   "source": [
    "sum(c.values())                 # total of all counts\n",
    "c.clear()                       # reset all counts\n",
    "list(c)                         # list unique elements\n",
    "set(c)                          # convert to a set\n",
    "dict(c)                         # convert to a regular dictionary\n",
    "c.items()                       # convert to a list of (elem, cnt) pairs\n",
    "Counter(dict(list_of_pairs))    # convert from a list of (elem, cnt) pairs\n",
    "c.most_common()[:-n-1:-1]       # n least common elements\n",
    "c += Counter()                  # remove zero and negative counts"
   ]
  },
  {
   "cell_type": "code",
   "execution_count": 8,
   "metadata": {},
   "outputs": [
    {
     "data": {
      "text/plain": [
       "16"
      ]
     },
     "execution_count": 8,
     "metadata": {},
     "output_type": "execute_result"
    }
   ],
   "source": [
    "sum(c.values())# total of all counts eli sanojen kokonaismäärä lauseessa"
   ]
  },
  {
   "cell_type": "markdown",
   "metadata": {},
   "source": [
    "## 15.88 Collections Module - defaultdict\n",
    "\n",
    "- defaultdict is a dictionary like object which provides all methods provided by dictionary but takes first argument (default_factory) as default data type for the dictionary. Using defaultdict is faster than doing the same using dict.set_default method.\n",
    "\n",
    "**A defaultdict will never raise a KeyError. Any key that does not exist gets the value returned by the default factory.**"
   ]
  },
  {
   "cell_type": "code",
   "execution_count": 15,
   "metadata": {},
   "outputs": [],
   "source": [
    "from collections import defaultdict"
   ]
  },
  {
   "cell_type": "code",
   "execution_count": 26,
   "metadata": {},
   "outputs": [],
   "source": [
    "# Luodaan tyhjä sanakirja:\n",
    "d = {}"
   ]
  },
  {
   "cell_type": "code",
   "execution_count": 29,
   "metadata": {},
   "outputs": [],
   "source": [
    "d1 = {'k1': 1}"
   ]
  },
  {
   "cell_type": "code",
   "execution_count": 30,
   "metadata": {},
   "outputs": [
    {
     "data": {
      "text/plain": [
       "1"
      ]
     },
     "execution_count": 30,
     "metadata": {},
     "output_type": "execute_result"
    }
   ],
   "source": [
    "d1['k1']"
   ]
  },
  {
   "cell_type": "code",
   "execution_count": 28,
   "metadata": {},
   "outputs": [
    {
     "ename": "KeyError",
     "evalue": "'one'",
     "output_type": "error",
     "traceback": [
      "\u001b[0;31m---------------------------------------------------------------------------\u001b[0m",
      "\u001b[0;31mKeyError\u001b[0m                                  Traceback (most recent call last)",
      "\u001b[0;32m<ipython-input-28-964e9fde0c96>\u001b[0m in \u001b[0;36m<module>\u001b[0;34m\u001b[0m\n\u001b[1;32m      1\u001b[0m \u001b[0;31m# Tutkitaan, mikä on tyhjän sanakirjan d avaimen-one arvo:\u001b[0m\u001b[0;34m\u001b[0m\u001b[0;34m\u001b[0m\u001b[0;34m\u001b[0m\u001b[0m\n\u001b[0;32m----> 2\u001b[0;31m \u001b[0md\u001b[0m\u001b[0;34m[\u001b[0m\u001b[0;34m'one'\u001b[0m\u001b[0;34m]\u001b[0m\u001b[0;34m\u001b[0m\u001b[0;34m\u001b[0m\u001b[0m\n\u001b[0m",
      "\u001b[0;31mKeyError\u001b[0m: 'one'"
     ]
    }
   ],
   "source": [
    "# Tutkitaan, mikä on tyhjän sanakirjan d avaimen-one arvo:\n",
    "d['one']"
   ]
  },
  {
   "cell_type": "markdown",
   "metadata": {},
   "source": [
    "#### Tässä luodaan oletussanakirja:"
   ]
  },
  {
   "cell_type": "code",
   "execution_count": 31,
   "metadata": {},
   "outputs": [],
   "source": [
    "d = defaultdict(object)"
   ]
  },
  {
   "cell_type": "code",
   "execution_count": 35,
   "metadata": {},
   "outputs": [
    {
     "data": {
      "text/plain": [
       "<object at 0x10a4be990>"
      ]
     },
     "execution_count": 35,
     "metadata": {},
     "output_type": "execute_result"
    }
   ],
   "source": [
    "# Tästä nähdään että defaultdict on tuottanut avaimelle-one olion arvona:\n",
    "d['one']"
   ]
  },
  {
   "cell_type": "code",
   "execution_count": 33,
   "metadata": {},
   "outputs": [
    {
     "name": "stdout",
     "output_type": "stream",
     "text": [
      "one\n"
     ]
    }
   ],
   "source": [
    "# Tulostetaan ulos sanakirjan alkioparit (item = key-value-pari):\n",
    "for item in d:\n",
    "    print(item)"
   ]
  },
  {
   "cell_type": "markdown",
   "metadata": {},
   "source": [
    "Voidaan myös alustaa oletusarvona lambda-funkiota käyttämällä:"
   ]
  },
  {
   "cell_type": "markdown",
   "metadata": {},
   "source": [
    "Can also initialize with default values:"
   ]
  },
  {
   "cell_type": "code",
   "execution_count": 36,
   "metadata": {},
   "outputs": [],
   "source": [
    "d = defaultdict(lambda: 0)"
   ]
  },
  {
   "cell_type": "code",
   "execution_count": 38,
   "metadata": {},
   "outputs": [
    {
     "data": {
      "text/plain": [
       "0"
      ]
     },
     "execution_count": 38,
     "metadata": {},
     "output_type": "execute_result"
    }
   ],
   "source": [
    "# Lambda-funktio osoittaa automaattisesti 0-arvon avaimelle one, joka tähän asti oli vain defaultdictin luoma tyhjä olio:\n",
    "d['one']"
   ]
  },
  {
   "cell_type": "code",
   "execution_count": 39,
   "metadata": {},
   "outputs": [],
   "source": [
    "#Samoin jos osoitamme uuden arvoparin:\n",
    "d['two'] = 2"
   ]
  },
  {
   "cell_type": "code",
   "execution_count": 41,
   "metadata": {},
   "outputs": [
    {
     "data": {
      "text/plain": [
       "defaultdict(<function __main__.<lambda>()>, {'one': 0, 'two': 2})"
      ]
     },
     "execution_count": 41,
     "metadata": {},
     "output_type": "execute_result"
    }
   ],
   "source": [
    "# Tästä nähdään että d-sanakirja sisältää nyt lambda-funktion, joka osoittaa avaimelle aina oletusarvona 0 mikäli avaimella\n",
    "# ... ei ole entuudestaan osoitettu arvoa:\n",
    "d"
   ]
  },
  {
   "cell_type": "markdown",
   "metadata": {},
   "source": [
    "## 15.89 Collections Module - OrderedDict\n",
    "\n",
    "- An OrderedDict is a dictionary subclass that remembers the order in which its contents are added.\n",
    "- OrderedDict-on sanakirjan alaluokka joka muistaa sanakirjan avain-arvoparien lisäyksen järjestyksen.\n",
    "- For example a normal dictionary:"
   ]
  },
  {
   "cell_type": "code",
   "execution_count": 42,
   "metadata": {},
   "outputs": [],
   "source": [
    "od = {}"
   ]
  },
  {
   "cell_type": "code",
   "execution_count": 71,
   "metadata": {},
   "outputs": [],
   "source": [
    "od['a'] = 1\n",
    "od['b'] = 2\n",
    "od['c'] = 3\n",
    "od['e'] = 5\n",
    "od['d'] = 4"
   ]
  },
  {
   "cell_type": "code",
   "execution_count": 72,
   "metadata": {},
   "outputs": [
    {
     "name": "stdout",
     "output_type": "stream",
     "text": [
      "a 1\n",
      "b 2\n",
      "c 3\n",
      "e 5\n",
      "d 4\n"
     ]
    }
   ],
   "source": [
    "# Tulostetaan avain-arvo-parit for-loopilla purkamalla ne .items()-metodilla:\n",
    "# HUOM: Normaali sanakirja ei muista lisäysjärjestystä!!!!\n",
    "for k, v in od.items():\n",
    "    print(k, v)"
   ]
  },
  {
   "cell_type": "code",
   "execution_count": 65,
   "metadata": {},
   "outputs": [],
   "source": [
    "from collections import OrderedDict"
   ]
  },
  {
   "cell_type": "markdown",
   "metadata": {},
   "source": [
    "Tulostetaan sama sanakirja OrderedDictiä käyttäen, joka muistaa lisäysjärjestyksen:"
   ]
  },
  {
   "cell_type": "code",
   "execution_count": 67,
   "metadata": {},
   "outputs": [
    {
     "name": "stdout",
     "output_type": "stream",
     "text": [
      "OrderedDict:\n"
     ]
    }
   ],
   "source": [
    "print('OrderedDict:')"
   ]
  },
  {
   "cell_type": "code",
   "execution_count": 75,
   "metadata": {},
   "outputs": [],
   "source": [
    "od = OrderedDict()"
   ]
  },
  {
   "cell_type": "code",
   "execution_count": 76,
   "metadata": {},
   "outputs": [],
   "source": [
    "od['a'] = 1\n",
    "od['b'] = 2\n",
    "od['c'] = 3\n",
    "od['e'] = 5\n",
    "od['d'] = 4"
   ]
  },
  {
   "cell_type": "code",
   "execution_count": 77,
   "metadata": {},
   "outputs": [
    {
     "name": "stdout",
     "output_type": "stream",
     "text": [
      "a 1\n",
      "b 2\n",
      "c 3\n",
      "e 5\n",
      "d 4\n"
     ]
    }
   ],
   "source": [
    "for k, v in od.items():\n",
    "    print(k, v)"
   ]
  },
  {
   "cell_type": "markdown",
   "metadata": {},
   "source": [
    "#### Equality with an Ordered Dictionary\n",
    "- A regular dict looks at its contents when testing for equality. An OrderedDict also considers the order the items were added.\n",
    "\n",
    "- A normal Dictionary:"
   ]
  },
  {
   "cell_type": "code",
   "execution_count": 78,
   "metadata": {},
   "outputs": [
    {
     "name": "stdout",
     "output_type": "stream",
     "text": [
      "Dictionaries are equal?\n"
     ]
    }
   ],
   "source": [
    "print('Dictionaries are equal?')"
   ]
  },
  {
   "cell_type": "code",
   "execution_count": 79,
   "metadata": {},
   "outputs": [],
   "source": [
    "od1 = {}\n",
    "od1['a'] = 'A'\n",
    "od1['b'] = 'B'\n",
    "\n",
    "od2 = {}\n",
    "od2['b'] = 'B'\n",
    "od2['a'] = 'A'"
   ]
  },
  {
   "cell_type": "code",
   "execution_count": 81,
   "metadata": {},
   "outputs": [
    {
     "name": "stdout",
     "output_type": "stream",
     "text": [
      "True\n"
     ]
    }
   ],
   "source": [
    "print(od1 == od2)"
   ]
  },
  {
   "cell_type": "markdown",
   "metadata": {},
   "source": [
    "#### Sama OrderedDictillä:"
   ]
  },
  {
   "cell_type": "code",
   "execution_count": 84,
   "metadata": {},
   "outputs": [
    {
     "name": "stdout",
     "output_type": "stream",
     "text": [
      "Dictionaries are equal?\n"
     ]
    }
   ],
   "source": [
    "print('Dictionaries are equal?')\n",
    "\n",
    "ood1 = OrderedDict()\n",
    "ood1['a'] = 'A'\n",
    "ood1['b'] = 'B'\n",
    "\n",
    "\n",
    "ood2 = OrderedDict()\n",
    "\n",
    "ood2['b'] = 'B'\n",
    "ood2['a'] = 'A'"
   ]
  },
  {
   "cell_type": "code",
   "execution_count": 85,
   "metadata": {},
   "outputs": [
    {
     "name": "stdout",
     "output_type": "stream",
     "text": [
      "False\n"
     ]
    }
   ],
   "source": [
    "# Tämä on False, koska OrederedDict muodostaa sanakirjan lisäysjärjestyksessä jolloin sanakirjat eivät ole yhtenäisiä:\n",
    "print(ood1 == ood2)"
   ]
  },
  {
   "cell_type": "markdown",
   "metadata": {},
   "source": [
    "## 15.90 Collections Module - Namedtuple:\n",
    "\n",
    "- The standard tuple uses numerical indexes to access its members, for example:"
   ]
  },
  {
   "cell_type": "code",
   "execution_count": 86,
   "metadata": {},
   "outputs": [],
   "source": [
    "# Standardi tuple:\n",
    "t = (1, 2, 3)"
   ]
  },
  {
   "cell_type": "code",
   "execution_count": 87,
   "metadata": {},
   "outputs": [
    {
     "data": {
      "text/plain": [
       "1"
      ]
     },
     "execution_count": 87,
     "metadata": {},
     "output_type": "execute_result"
    }
   ],
   "source": [
    "# Tuplen alkio noudetaan normaalisti indeksi-toiminnolla:\n",
    "t[0]"
   ]
  },
  {
   "cell_type": "markdown",
   "metadata": {},
   "source": [
    "#### Käytännössä indeksin muistaminen ja määrittäminen saattaa olla hankalaa etenkin isoisssa tupleissa!"
   ]
  },
  {
   "cell_type": "code",
   "execution_count": 88,
   "metadata": {},
   "outputs": [],
   "source": [
    "from collections import namedtuple"
   ]
  },
  {
   "cell_type": "markdown",
   "metadata": {},
   "source": [
    "#### NamedTuplessa osoitetaan nimi ja myös numeerinen indeksi tuplen alkioille:"
   ]
  },
  {
   "cell_type": "markdown",
   "metadata": {},
   "source": [
    "#### NamedTuplessa luodaan ikään kuin class jokaiselle alkiolle:\n",
    "- Tässä class on Dog \n",
    "- johon paramerinä syötetään self.-argumentit välilyönneillä erotetuilla stringeinä ('age breed name'):"
   ]
  },
  {
   "cell_type": "code",
   "execution_count": 89,
   "metadata": {},
   "outputs": [],
   "source": [
    "Dog = namedtuple('Dog', 'age name breed')"
   ]
  },
  {
   "cell_type": "markdown",
   "metadata": {},
   "source": [
    "#### Tämän jälkeen tästä classina ymmärrettävästä namedtuplesta voidaan luoda toinen namedtuple-olio:"
   ]
  },
  {
   "cell_type": "code",
   "execution_count": 90,
   "metadata": {},
   "outputs": [],
   "source": [
    "# namedtuple-oliota määritettäessä voidaan uuden namedtuple-olion argumenteille antaa arvot:\n",
    "milla = Dog(age=8, breed='Riesen', name='Milla')"
   ]
  },
  {
   "cell_type": "code",
   "execution_count": 91,
   "metadata": {},
   "outputs": [
    {
     "data": {
      "text/plain": [
       "Dog(age=8, name='Milla', breed='Riesen')"
      ]
     },
     "execution_count": 91,
     "metadata": {},
     "output_type": "execute_result"
    }
   ],
   "source": [
    "milla"
   ]
  },
  {
   "cell_type": "markdown",
   "metadata": {},
   "source": [
    "- Siten uuden namedtuple-olion attribuutteja voidaan kutsua erikseen kuten OOP:ssa:"
   ]
  },
  {
   "cell_type": "code",
   "execution_count": 92,
   "metadata": {},
   "outputs": [
    {
     "data": {
      "text/plain": [
       "8"
      ]
     },
     "execution_count": 92,
     "metadata": {},
     "output_type": "execute_result"
    }
   ],
   "source": [
    "milla.age"
   ]
  },
  {
   "cell_type": "markdown",
   "metadata": {},
   "source": [
    "- Tab-toiminnalla nähdään että uuteen namedtuple-olioon on automaattisesti sisälletty myös .index ja .count attribuutit:"
   ]
  },
  {
   "cell_type": "code",
   "execution_count": 94,
   "metadata": {},
   "outputs": [
    {
     "data": {
      "text/plain": [
       "<function Dog.index(value, start=0, stop=9223372036854775807, /)>"
      ]
     },
     "execution_count": 94,
     "metadata": {},
     "output_type": "execute_result"
    }
   ],
   "source": [
    "milla.index # koska nämä ovat sisällyttenä normaaliin tupleen (joka on myös olio)"
   ]
  },
  {
   "cell_type": "code",
   "execution_count": 95,
   "metadata": {},
   "outputs": [
    {
     "data": {
      "text/plain": [
       "8"
      ]
     },
     "execution_count": 95,
     "metadata": {},
     "output_type": "execute_result"
    }
   ],
   "source": [
    "milla[0]"
   ]
  },
  {
   "cell_type": "markdown",
   "metadata": {},
   "source": [
    "- Toinen esimerkki:"
   ]
  },
  {
   "cell_type": "code",
   "execution_count": 96,
   "metadata": {},
   "outputs": [],
   "source": [
    "Cat = namedtuple('Cat', 'fur claws name')"
   ]
  },
  {
   "cell_type": "code",
   "execution_count": 97,
   "metadata": {},
   "outputs": [],
   "source": [
    "kissa = Cat(fur='Valkoinen', claws=True, name='Äiti')"
   ]
  },
  {
   "cell_type": "code",
   "execution_count": 98,
   "metadata": {},
   "outputs": [
    {
     "data": {
      "text/plain": [
       "Cat(fur='Valkoinen', claws=True, name='Äiti')"
      ]
     },
     "execution_count": 98,
     "metadata": {},
     "output_type": "execute_result"
    }
   ],
   "source": [
    "kissa"
   ]
  },
  {
   "cell_type": "code",
   "execution_count": 99,
   "metadata": {},
   "outputs": [
    {
     "data": {
      "text/plain": [
       "'Äiti'"
      ]
     },
     "execution_count": 99,
     "metadata": {},
     "output_type": "execute_result"
    }
   ],
   "source": [
    "kissa.name"
   ]
  },
  {
   "cell_type": "code",
   "execution_count": 100,
   "metadata": {},
   "outputs": [
    {
     "data": {
      "text/plain": [
       "'Äiti'"
      ]
     },
     "execution_count": 100,
     "metadata": {},
     "output_type": "execute_result"
    }
   ],
   "source": [
    "kissa[2]"
   ]
  },
  {
   "cell_type": "code",
   "execution_count": 101,
   "metadata": {},
   "outputs": [
    {
     "data": {
      "text/plain": [
       "'Valkoinen'"
      ]
     },
     "execution_count": 101,
     "metadata": {},
     "output_type": "execute_result"
    }
   ],
   "source": [
    "kissa[0]"
   ]
  },
  {
   "cell_type": "markdown",
   "metadata": {},
   "source": []
  },
  {
   "cell_type": "markdown",
   "metadata": {},
   "source": [
    "## 15.91 Datetime\n",
    "\n",
    "- DATETIME ON PYTHON MODULI: Python has the datetime module to help deal with timestamps in your code. \n",
    "- JOSSA AIKA-ARVOT ESITETÄÄN AIKA-CLASSEINÄ: Time values are represented with the time class. \n",
    "- JOSSA AIKA-CLASSEISSÄ AIKAMÄÄREET(TUNTI, MITUUTTI, JNE.) OVAT ATTRIBUUTTEINA...\n",
    "- .....Times have attributes for hour, minute, second, and microsecond.\n",
    "- TIME-CLASS VOI SISÄLTÄÄ MYÖSKIN AIKAVYÖHYKE-ATTRIBUUTIN: They can also include time zone information. \n",
    "- TIME-CLASSIN SISÄLTÄVÄT ATTRIBUUTTIEN MÄÄRITTEET OVAT VAPAAEHTOISESTI TÄYTETTÄVISSÄ, MUTTA OLETUSARVOT OVAT 0...\n",
    "- ...JOKA EI OLE KOVINKAAN HYÖDYLLINEN KÄYTÄNNÖSSÄ...\n",
    "- ...The arguments to initialize a time instance are optional, but the default of 0 is unlikely to be what you want.\n",
    "\n",
    "#### Time\n",
    "\n",
    "- Lets take a look at how we can extract time information from the datetime module. \n",
    "- We can create a time-stamp by specifying datetime.time(hour,minute,second,microsecond):"
   ]
  },
  {
   "cell_type": "code",
   "execution_count": 102,
   "metadata": {},
   "outputs": [],
   "source": [
    "import datetime"
   ]
  },
  {
   "cell_type": "code",
   "execution_count": 103,
   "metadata": {},
   "outputs": [],
   "source": [
    "t = datetime.time(15, 51, 1)"
   ]
  },
  {
   "cell_type": "code",
   "execution_count": 104,
   "metadata": {},
   "outputs": [
    {
     "name": "stdout",
     "output_type": "stream",
     "text": [
      "15:51:01\n"
     ]
    }
   ],
   "source": [
    "print(t)"
   ]
  },
  {
   "cell_type": "code",
   "execution_count": 105,
   "metadata": {},
   "outputs": [
    {
     "name": "stdout",
     "output_type": "stream",
     "text": [
      "hour  : 15\n"
     ]
    }
   ],
   "source": [
    "print('hour  :', t.hour)"
   ]
  },
  {
   "cell_type": "code",
   "execution_count": 106,
   "metadata": {},
   "outputs": [
    {
     "name": "stdout",
     "output_type": "stream",
     "text": [
      "minute: 51\n"
     ]
    }
   ],
   "source": [
    "print('minute:', t.minute)"
   ]
  },
  {
   "cell_type": "code",
   "execution_count": 107,
   "metadata": {},
   "outputs": [
    {
     "name": "stdout",
     "output_type": "stream",
     "text": [
      "second: 1\n"
     ]
    }
   ],
   "source": [
    "print('second:', t.second)"
   ]
  },
  {
   "cell_type": "code",
   "execution_count": 108,
   "metadata": {},
   "outputs": [
    {
     "name": "stdout",
     "output_type": "stream",
     "text": [
      "microsecond: 0\n"
     ]
    }
   ],
   "source": [
    "print('microsecond:', t.microsecond)"
   ]
  },
  {
   "cell_type": "code",
   "execution_count": 109,
   "metadata": {},
   "outputs": [
    {
     "name": "stdout",
     "output_type": "stream",
     "text": [
      "tzinfo: None\n"
     ]
    }
   ],
   "source": [
    "print('tzinfo:', t.tzinfo)"
   ]
  },
  {
   "cell_type": "markdown",
   "metadata": {},
   "source": [
    "#### HUOM: time-class sisältää ainoastaan kellonaikamääreitä, ei siis päivämäärätietoja!"
   ]
  },
  {
   "cell_type": "markdown",
   "metadata": {},
   "source": [
    "#### Voimme myös tsekata time-luokan min ja max arvoja:"
   ]
  },
  {
   "cell_type": "code",
   "execution_count": 110,
   "metadata": {},
   "outputs": [
    {
     "name": "stdout",
     "output_type": "stream",
     "text": [
      "Earliest  : 00:00:00\n"
     ]
    }
   ],
   "source": [
    "print('Earliest  :', datetime.time.min)"
   ]
  },
  {
   "cell_type": "code",
   "execution_count": 111,
   "metadata": {},
   "outputs": [
    {
     "name": "stdout",
     "output_type": "stream",
     "text": [
      "Latest    : 23:59:59.999999\n"
     ]
    }
   ],
   "source": [
    "print('Latest    :', datetime.time.max)"
   ]
  },
  {
   "cell_type": "code",
   "execution_count": 112,
   "metadata": {},
   "outputs": [
    {
     "name": "stdout",
     "output_type": "stream",
     "text": [
      "Resolution: 0:00:00.000001\n"
     ]
    }
   ],
   "source": [
    "print('Resolution:', datetime.time.resolution)"
   ]
  },
  {
   "cell_type": "markdown",
   "metadata": {},
   "source": [
    "#### Dates-class:\n",
    "\n",
    "- DATETIME-CLASS OPEROI PÄIVÄMÄÄRÄ MÄÄREILLÄ. datetime (as you might suspect) also allows us to work with date timestamps. \n",
    "- DATE-CLASS SISÄLTÄÄ KALENTERIAJAT. Calendar date values are represented with the date class. \n",
    "- DATE-LUOKASTA LUODUT OLIOT SISÄLTÄVÄT VUOSI, KK, JA PV ATTRIBUUTIT: Instances have attributes for year, month, and day. \n",
    "- It is easy to create a date representing today’s date using the today() class method.\n",
    "\n",
    "- Lets see some examples:"
   ]
  },
  {
   "cell_type": "code",
   "execution_count": 113,
   "metadata": {},
   "outputs": [],
   "source": [
    "today = datetime.date.today()"
   ]
  },
  {
   "cell_type": "code",
   "execution_count": 114,
   "metadata": {},
   "outputs": [
    {
     "name": "stdout",
     "output_type": "stream",
     "text": [
      "2020-05-22\n"
     ]
    }
   ],
   "source": [
    "print(today)"
   ]
  },
  {
   "cell_type": "code",
   "execution_count": 115,
   "metadata": {},
   "outputs": [
    {
     "name": "stdout",
     "output_type": "stream",
     "text": [
      "ctime: Fri May 22 00:00:00 2020\n"
     ]
    }
   ],
   "source": [
    "print('ctime:', today.ctime())"
   ]
  },
  {
   "cell_type": "code",
   "execution_count": 116,
   "metadata": {},
   "outputs": [
    {
     "name": "stdout",
     "output_type": "stream",
     "text": [
      "tuple: time.struct_time(tm_year=2020, tm_mon=5, tm_mday=22, tm_hour=0, tm_min=0, tm_sec=0, tm_wday=4, tm_yday=143, tm_isdst=-1)\n"
     ]
    }
   ],
   "source": [
    "print('tuple:', today.timetuple())"
   ]
  },
  {
   "cell_type": "code",
   "execution_count": 117,
   "metadata": {},
   "outputs": [
    {
     "name": "stdout",
     "output_type": "stream",
     "text": [
      "ordinal: 737567\n"
     ]
    }
   ],
   "source": [
    "print('ordinal:', today.toordinal())"
   ]
  },
  {
   "cell_type": "code",
   "execution_count": 118,
   "metadata": {},
   "outputs": [
    {
     "name": "stdout",
     "output_type": "stream",
     "text": [
      "Year: 2020\n"
     ]
    }
   ],
   "source": [
    "print('Year:', today.year)"
   ]
  },
  {
   "cell_type": "code",
   "execution_count": 119,
   "metadata": {},
   "outputs": [
    {
     "name": "stdout",
     "output_type": "stream",
     "text": [
      "Mon : 5\n"
     ]
    }
   ],
   "source": [
    "print('Mon :', today.month)"
   ]
  },
  {
   "cell_type": "code",
   "execution_count": 120,
   "metadata": {},
   "outputs": [
    {
     "name": "stdout",
     "output_type": "stream",
     "text": [
      "Day : 22\n"
     ]
    }
   ],
   "source": [
    "print('Day :', today.day)"
   ]
  },
  {
   "cell_type": "markdown",
   "metadata": {},
   "source": [
    "#### Samalla lailla kuin Time-classin kanssa, voimme myös tsekata date-luokan min ja max arvoja sekä resoluutiota:"
   ]
  },
  {
   "cell_type": "code",
   "execution_count": 121,
   "metadata": {},
   "outputs": [
    {
     "name": "stdout",
     "output_type": "stream",
     "text": [
      "Earliest  : 0001-01-01\n",
      "Latest    : 9999-12-31\n",
      "Resolution: 1 day, 0:00:00\n"
     ]
    }
   ],
   "source": [
    "print('Earliest  :', datetime.date.min)\n",
    "print('Latest    :', datetime.date.max)\n",
    "print('Resolution:', datetime.date.resolution)"
   ]
  },
  {
   "cell_type": "markdown",
   "metadata": {},
   "source": [
    "#### Toinen tapa luoda uusi date-olio nykyhetkestä, on replace()-metodilla. Voit esim. korvata vuosiluvun ja jättää kk- ja pv-attribuutit samoiksi:"
   ]
  },
  {
   "cell_type": "code",
   "execution_count": 122,
   "metadata": {},
   "outputs": [
    {
     "name": "stdout",
     "output_type": "stream",
     "text": [
      "d1: 2015-03-11\n"
     ]
    }
   ],
   "source": [
    "d1 = datetime.date(2015, 3, 11)\n",
    "print('d1:', d1)"
   ]
  },
  {
   "cell_type": "code",
   "execution_count": 123,
   "metadata": {},
   "outputs": [
    {
     "name": "stdout",
     "output_type": "stream",
     "text": [
      "d2: 1990-03-11\n"
     ]
    }
   ],
   "source": [
    "d2 = d1.replace(year=1990)\n",
    "print('d2:', d2)"
   ]
  },
  {
   "cell_type": "code",
   "execution_count": 124,
   "metadata": {},
   "outputs": [
    {
     "name": "stdout",
     "output_type": "stream",
     "text": [
      "d2: 1666-03-11\n"
     ]
    }
   ],
   "source": [
    "d2 = d1.replace(year=1666)\n",
    "print('d2:', d2)"
   ]
  },
  {
   "cell_type": "markdown",
   "metadata": {},
   "source": [
    "#### Laskentaa timedate-modulilla:\n",
    "\n",
    "- Voimme myöskin suorittaa laskentaa date-oliolla ja siten tsekata aikaero. Esim:"
   ]
  },
  {
   "cell_type": "code",
   "execution_count": 125,
   "metadata": {},
   "outputs": [
    {
     "data": {
      "text/plain": [
       "datetime.date(2015, 3, 11)"
      ]
     },
     "execution_count": 125,
     "metadata": {},
     "output_type": "execute_result"
    }
   ],
   "source": [
    "d1"
   ]
  },
  {
   "cell_type": "code",
   "execution_count": 126,
   "metadata": {},
   "outputs": [
    {
     "data": {
      "text/plain": [
       "datetime.date(1666, 3, 11)"
      ]
     },
     "execution_count": 126,
     "metadata": {},
     "output_type": "execute_result"
    }
   ],
   "source": [
    "d2"
   ]
  },
  {
   "cell_type": "code",
   "execution_count": 128,
   "metadata": {},
   "outputs": [
    {
     "data": {
      "text/plain": [
       "datetime.timedelta(days=127469)"
      ]
     },
     "execution_count": 128,
     "metadata": {},
     "output_type": "execute_result"
    }
   ],
   "source": [
    "# Tämä antaa aikaeron päivinä:\n",
    "d1-d2"
   ]
  },
  {
   "cell_type": "markdown",
   "metadata": {},
   "source": [
    "This give us the difference in days between the two dates. You can use the timedelta method to specify various units of times (day,minutes,hours,etc...)\n",
    "\n",
    "Great! You should now have a basic understanding of how to use datetime with Python to work with timestamps in your code!"
   ]
  },
  {
   "cell_type": "markdown",
   "metadata": {},
   "source": [
    "## 15.92 Python Debugger - pdb"
   ]
  },
  {
   "cell_type": "markdown",
   "metadata": {},
   "source": [
    "- You've probably used a variety of print statements to try to find errors in your code. \n",
    "- A better way of doing this is by using Python's built-in debugger module (pdb). \n",
    "- The pdb module implements an interactive debugging environment for Python programs. \n",
    "- It includes features to let you pause your program, look at the values of variables, and watch program execution step-by-step, so you can understand what your program actually does and find bugs in the logic.\n",
    "\n",
    "- This is a bit difficult to show since it requires creating an error on purpose, ... \n",
    "- ...but hopefully this simple example illustrates the power of the pdb module.\n",
    "\n",
    "*Note: Keep in mind it would be pretty unusual to use pdb in an iPython Notebook setting.*\n",
    "\n",
    "___\n",
    "Here we will create an error on purpose, trying to add a list to an integer:"
   ]
  },
  {
   "cell_type": "code",
   "execution_count": 129,
   "metadata": {},
   "outputs": [
    {
     "name": "stdout",
     "output_type": "stream",
     "text": [
      "5\n"
     ]
    },
    {
     "ename": "TypeError",
     "evalue": "unsupported operand type(s) for +: 'int' and 'list'",
     "output_type": "error",
     "traceback": [
      "\u001b[0;31m---------------------------------------------------------------------------\u001b[0m",
      "\u001b[0;31mTypeError\u001b[0m                                 Traceback (most recent call last)",
      "\u001b[0;32m<ipython-input-129-9bca49c6c770>\u001b[0m in \u001b[0;36m<module>\u001b[0;34m\u001b[0m\n\u001b[1;32m      7\u001b[0m \u001b[0mprint\u001b[0m\u001b[0;34m(\u001b[0m\u001b[0mresult\u001b[0m\u001b[0;34m)\u001b[0m\u001b[0;34m\u001b[0m\u001b[0;34m\u001b[0m\u001b[0m\n\u001b[1;32m      8\u001b[0m \u001b[0;34m\u001b[0m\u001b[0m\n\u001b[0;32m----> 9\u001b[0;31m \u001b[0mresult2\u001b[0m \u001b[0;34m=\u001b[0m \u001b[0my\u001b[0m\u001b[0;34m+\u001b[0m\u001b[0mx\u001b[0m\u001b[0;34m\u001b[0m\u001b[0;34m\u001b[0m\u001b[0m\n\u001b[0m\u001b[1;32m     10\u001b[0m \u001b[0;34m\u001b[0m\u001b[0m\n\u001b[1;32m     11\u001b[0m \u001b[0mprint\u001b[0m\u001b[0;34m(\u001b[0m\u001b[0mresult2\u001b[0m\u001b[0;34m)\u001b[0m\u001b[0;34m\u001b[0m\u001b[0;34m\u001b[0m\u001b[0m\n",
      "\u001b[0;31mTypeError\u001b[0m: unsupported operand type(s) for +: 'int' and 'list'"
     ]
    }
   ],
   "source": [
    "x = [1,3,4]\n",
    "y = 2\n",
    "z = 3\n",
    "\n",
    "result = y + z\n",
    "\n",
    "print(result)\n",
    "\n",
    "result2 = y+x\n",
    "\n",
    "print(result2)"
   ]
  },
  {
   "cell_type": "markdown",
   "metadata": {},
   "source": [
    "#### Näyttää siltä että aiheutimme virheilmoituksen koodin rivillä 9...\n",
    "\n",
    "#### Käytetään pdb-modulin set_trace()-metodia. \n",
    "\n",
    "#### Tämän avulla voimme pysäyttää koodin haluttuun kohtaan ja siten tsekata mikä siinä meni vikaan:"
   ]
  },
  {
   "cell_type": "code",
   "execution_count": 130,
   "metadata": {},
   "outputs": [],
   "source": [
    "import pdb"
   ]
  },
  {
   "cell_type": "code",
   "execution_count": 131,
   "metadata": {},
   "outputs": [
    {
     "name": "stdout",
     "output_type": "stream",
     "text": [
      "5\n",
      "--Return--\n",
      "> <ipython-input-131-e63ac5515328>(12)<module>()->None\n",
      "-> pdb.set_trace()\n"
     ]
    },
    {
     "name": "stdin",
     "output_type": "stream",
     "text": [
      "(Pdb)  x\n"
     ]
    },
    {
     "name": "stdout",
     "output_type": "stream",
     "text": [
      "[1, 3, 4]\n"
     ]
    },
    {
     "name": "stdin",
     "output_type": "stream",
     "text": [
      "(Pdb)  y\n"
     ]
    },
    {
     "name": "stdout",
     "output_type": "stream",
     "text": [
      "2\n"
     ]
    },
    {
     "name": "stdin",
     "output_type": "stream",
     "text": [
      "(Pdb)  z\n"
     ]
    },
    {
     "name": "stdout",
     "output_type": "stream",
     "text": [
      "3\n"
     ]
    },
    {
     "name": "stdin",
     "output_type": "stream",
     "text": [
      "(Pdb)  x+y\n"
     ]
    },
    {
     "name": "stdout",
     "output_type": "stream",
     "text": [
      "*** TypeError: can only concatenate list (not \"int\") to list\n"
     ]
    },
    {
     "name": "stdin",
     "output_type": "stream",
     "text": [
      "(Pdb)  q\n"
     ]
    },
    {
     "ename": "BdbQuit",
     "evalue": "",
     "output_type": "error",
     "traceback": [
      "\u001b[0;31m---------------------------------------------------------------------------\u001b[0m",
      "\u001b[0;31mBdbQuit\u001b[0m                                   Traceback (most recent call last)",
      "\u001b[0;32m<ipython-input-131-e63ac5515328>\u001b[0m in \u001b[0;36m<module>\u001b[0;34m\u001b[0m\n\u001b[1;32m     10\u001b[0m \u001b[0;34m\u001b[0m\u001b[0m\n\u001b[1;32m     11\u001b[0m \u001b[0;31m# Set a trace using Python Debugger\u001b[0m\u001b[0;34m\u001b[0m\u001b[0;34m\u001b[0m\u001b[0;34m\u001b[0m\u001b[0m\n\u001b[0;32m---> 12\u001b[0;31m \u001b[0mpdb\u001b[0m\u001b[0;34m.\u001b[0m\u001b[0mset_trace\u001b[0m\u001b[0;34m(\u001b[0m\u001b[0;34m)\u001b[0m\u001b[0;34m\u001b[0m\u001b[0;34m\u001b[0m\u001b[0m\n\u001b[0m\u001b[1;32m     13\u001b[0m \u001b[0;34m\u001b[0m\u001b[0m\n\u001b[1;32m     14\u001b[0m \u001b[0mresult2\u001b[0m \u001b[0;34m=\u001b[0m \u001b[0my\u001b[0m\u001b[0;34m+\u001b[0m\u001b[0mx\u001b[0m\u001b[0;34m\u001b[0m\u001b[0;34m\u001b[0m\u001b[0m\n",
      "\u001b[0;32m~/anaconda3/lib/python3.7/bdb.py\u001b[0m in \u001b[0;36mtrace_dispatch\u001b[0;34m(self, frame, event, arg)\u001b[0m\n\u001b[1;32m     90\u001b[0m             \u001b[0;32mreturn\u001b[0m \u001b[0mself\u001b[0m\u001b[0;34m.\u001b[0m\u001b[0mdispatch_call\u001b[0m\u001b[0;34m(\u001b[0m\u001b[0mframe\u001b[0m\u001b[0;34m,\u001b[0m \u001b[0marg\u001b[0m\u001b[0;34m)\u001b[0m\u001b[0;34m\u001b[0m\u001b[0;34m\u001b[0m\u001b[0m\n\u001b[1;32m     91\u001b[0m         \u001b[0;32mif\u001b[0m \u001b[0mevent\u001b[0m \u001b[0;34m==\u001b[0m \u001b[0;34m'return'\u001b[0m\u001b[0;34m:\u001b[0m\u001b[0;34m\u001b[0m\u001b[0;34m\u001b[0m\u001b[0m\n\u001b[0;32m---> 92\u001b[0;31m             \u001b[0;32mreturn\u001b[0m \u001b[0mself\u001b[0m\u001b[0;34m.\u001b[0m\u001b[0mdispatch_return\u001b[0m\u001b[0;34m(\u001b[0m\u001b[0mframe\u001b[0m\u001b[0;34m,\u001b[0m \u001b[0marg\u001b[0m\u001b[0;34m)\u001b[0m\u001b[0;34m\u001b[0m\u001b[0;34m\u001b[0m\u001b[0m\n\u001b[0m\u001b[1;32m     93\u001b[0m         \u001b[0;32mif\u001b[0m \u001b[0mevent\u001b[0m \u001b[0;34m==\u001b[0m \u001b[0;34m'exception'\u001b[0m\u001b[0;34m:\u001b[0m\u001b[0;34m\u001b[0m\u001b[0;34m\u001b[0m\u001b[0m\n\u001b[1;32m     94\u001b[0m             \u001b[0;32mreturn\u001b[0m \u001b[0mself\u001b[0m\u001b[0;34m.\u001b[0m\u001b[0mdispatch_exception\u001b[0m\u001b[0;34m(\u001b[0m\u001b[0mframe\u001b[0m\u001b[0;34m,\u001b[0m \u001b[0marg\u001b[0m\u001b[0;34m)\u001b[0m\u001b[0;34m\u001b[0m\u001b[0;34m\u001b[0m\u001b[0m\n",
      "\u001b[0;32m~/anaconda3/lib/python3.7/bdb.py\u001b[0m in \u001b[0;36mdispatch_return\u001b[0;34m(self, frame, arg)\u001b[0m\n\u001b[1;32m    152\u001b[0m             \u001b[0;32mfinally\u001b[0m\u001b[0;34m:\u001b[0m\u001b[0;34m\u001b[0m\u001b[0;34m\u001b[0m\u001b[0m\n\u001b[1;32m    153\u001b[0m                 \u001b[0mself\u001b[0m\u001b[0;34m.\u001b[0m\u001b[0mframe_returning\u001b[0m \u001b[0;34m=\u001b[0m \u001b[0;32mNone\u001b[0m\u001b[0;34m\u001b[0m\u001b[0;34m\u001b[0m\u001b[0m\n\u001b[0;32m--> 154\u001b[0;31m             \u001b[0;32mif\u001b[0m \u001b[0mself\u001b[0m\u001b[0;34m.\u001b[0m\u001b[0mquitting\u001b[0m\u001b[0;34m:\u001b[0m \u001b[0;32mraise\u001b[0m \u001b[0mBdbQuit\u001b[0m\u001b[0;34m\u001b[0m\u001b[0;34m\u001b[0m\u001b[0m\n\u001b[0m\u001b[1;32m    155\u001b[0m             \u001b[0;31m# The user issued a 'next' or 'until' command.\u001b[0m\u001b[0;34m\u001b[0m\u001b[0;34m\u001b[0m\u001b[0;34m\u001b[0m\u001b[0m\n\u001b[1;32m    156\u001b[0m             \u001b[0;32mif\u001b[0m \u001b[0mself\u001b[0m\u001b[0;34m.\u001b[0m\u001b[0mstopframe\u001b[0m \u001b[0;32mis\u001b[0m \u001b[0mframe\u001b[0m \u001b[0;32mand\u001b[0m \u001b[0mself\u001b[0m\u001b[0;34m.\u001b[0m\u001b[0mstoplineno\u001b[0m \u001b[0;34m!=\u001b[0m \u001b[0;34m-\u001b[0m\u001b[0;36m1\u001b[0m\u001b[0;34m:\u001b[0m\u001b[0;34m\u001b[0m\u001b[0;34m\u001b[0m\u001b[0m\n",
      "\u001b[0;31mBdbQuit\u001b[0m: "
     ]
    }
   ],
   "source": [
    "import pdb\n",
    "\n",
    "x = [1,3,4]\n",
    "y = 2\n",
    "z = 3\n",
    "\n",
    "result = y + z\n",
    "\n",
    "print(result)\n",
    "\n",
    "# Set a trace using Python Debugger\n",
    "pdb.set_trace()\n",
    "\n",
    "result2 = y+x\n",
    "print(result2)"
   ]
  },
  {
   "cell_type": "markdown",
   "metadata": {},
   "source": [
    "#### YLLÄ: PDB-moduli pyytää inputtina muuttujakohtaisesti koodistasi ja tsekkaa jokaisen muuttujan kohdalla ettei sen sisällössä ole mitään virheellistä. Lopuksi pdb:sta poistuminen tapahtuu syöttämällä 'q'."
   ]
  },
  {
   "cell_type": "markdown",
   "metadata": {},
   "source": [
    "Great! Now we could check what the various variables were and check for errors. You can use 'q' to quit the debugger. For more information on general debugging techniques and more methods, check out the official documentation:\n",
    "https://docs.python.org/2/library/pdb.html"
   ]
  },
  {
   "cell_type": "markdown",
   "metadata": {},
   "source": [
    "HUOM: LISÄÄ TIETOA PYTHON DEBUGGERIN SISÄLTÄMISTÄ TEKNIIKOISTA JA METODEISTA SAAT TÄÄLTÄ:\n",
    "https://docs.python.org/2/library/pdb.html"
   ]
  },
  {
   "cell_type": "markdown",
   "metadata": {},
   "source": [
    "### KÄTSÄÄ!!!"
   ]
  },
  {
   "cell_type": "code",
   "execution_count": null,
   "metadata": {},
   "outputs": [],
   "source": []
  },
  {
   "cell_type": "markdown",
   "metadata": {},
   "source": [
    "## 15.93 Timing your code - timeit"
   ]
  },
  {
   "cell_type": "markdown",
   "metadata": {},
   "source": [
    "- Joskus on tärkeää tietää miten nopea koodisi on... tai hidastaako mahdollisesti joku osa koodistasi koko projektiasi.\n",
    "\n",
    "- Pythonissa on sisäänrakennettu ajastus-moduli nimeltään timeit, jolla voi tsekata koodin osuuden joka mahdollisesti  hidastaa ohjelmasi ajoa.\n",
    "\n",
    "- Timeit-modulilla voit tsekata koodisi osien ajonopeudet.\n",
    "\n",
    "- Sitä voi käyttää sekä komentoriviltä ja lisäksi timeit-modulia voi kutsua ohjelman sisältä ajon yhteydessä. \n",
    "\n",
    "- Tässä esimerkki timeitin käytöstä:"
   ]
  },
  {
   "cell_type": "code",
   "execution_count": 132,
   "metadata": {},
   "outputs": [],
   "source": [
    "import timeit"
   ]
  },
  {
   "cell_type": "markdown",
   "metadata": {},
   "source": [
    "#### Käytetään timeittiä vaikka ajastamaan metodia, jolla luodaan string!\n",
    "\n",
    "#### Syötämme timeit.timeit()-metodille argumentteina testattava for-looppi sekä toisena argumenttina testissä käytettävien looppien määrä. Käytämme suurta looppi-toistoa jotta saamme riittävän ison aika-arvon jotta sitä voitaisiin verrata toisiin metodeihin:"
   ]
  },
  {
   "cell_type": "code",
   "execution_count": 140,
   "metadata": {},
   "outputs": [
    {
     "data": {
      "text/plain": [
       "'0-1-2-3-....-99'"
      ]
     },
     "execution_count": 140,
     "metadata": {},
     "output_type": "execute_result"
    }
   ],
   "source": [
    "'0-1-2-3-....-99'"
   ]
  },
  {
   "cell_type": "code",
   "execution_count": 141,
   "metadata": {},
   "outputs": [
    {
     "data": {
      "text/plain": [
       "'0-1-2-3-4-5-6-7-8-9-10-11-12-13-14-15-16-17-18-19-20-21-22-23-24-25-26-27-28-29-30-31-32-33-34-35-36-37-38-39-40-41-42-43-44-45-46-47-48-49-50-51-52-53-54-55-56-57-58-59-60-61-62-63-64-65-66-67-68-69-70-71-72-73-74-75-76-77-78-79-80-81-82-83-84-85-86-87-88-89-90-91-92-93-94-95-96-97-98-99'"
      ]
     },
     "execution_count": 141,
     "metadata": {},
     "output_type": "execute_result"
    }
   ],
   "source": [
    "\"-\".join(str(n) for n in range(100))"
   ]
  },
  {
   "cell_type": "code",
   "execution_count": 142,
   "metadata": {},
   "outputs": [
    {
     "data": {
      "text/plain": [
       "0.2448909630002163"
      ]
     },
     "execution_count": 142,
     "metadata": {},
     "output_type": "execute_result"
    }
   ],
   "source": [
    "# Testattava looppi:\n",
    "timeit.timeit('\"-\".join(str(n) for n in range(100))', number=10000)"
   ]
  },
  {
   "cell_type": "code",
   "execution_count": 143,
   "metadata": {},
   "outputs": [
    {
     "data": {
      "text/plain": [
       "0.2198373380015255"
      ]
     },
     "execution_count": 143,
     "metadata": {},
     "output_type": "execute_result"
    }
   ],
   "source": [
    "# Testataan sama list comprehensionina:\n",
    "timeit.timeit('\"-\".join([str(n) for n in range(100)])', number=10000)"
   ]
  },
  {
   "cell_type": "code",
   "execution_count": 144,
   "metadata": {},
   "outputs": [
    {
     "data": {
      "text/plain": [
       "0.15720021299785003"
      ]
     },
     "execution_count": 144,
     "metadata": {},
     "output_type": "execute_result"
    }
   ],
   "source": [
    "# Sekä Map()-metodilla:\n",
    "timeit.timeit('\"-\".join(map(str, range(100)))', number=10000)"
   ]
  },
  {
   "cell_type": "markdown",
   "metadata": {},
   "source": [
    "#### Great! We see a significant time difference by using map()! This is good to know and we should keep this in mind."
   ]
  },
  {
   "cell_type": "markdown",
   "metadata": {},
   "source": [
    "#### Now lets introduce iPython's magic function %timeit\n",
    "\n",
    "#### iPython's %timeit will perform the code in the same line a certain number of times (loops) and will give you the fastest performance time (best of 3).\n",
    "\n",
    "#### Lets repeat the above examinations using iPython magic!"
   ]
  },
  {
   "cell_type": "code",
   "execution_count": 145,
   "metadata": {},
   "outputs": [
    {
     "name": "stdout",
     "output_type": "stream",
     "text": [
      "20.2 µs ± 322 ns per loop (mean ± std. dev. of 7 runs, 10000 loops each)\n"
     ]
    }
   ],
   "source": [
    "%timeit \"-\".join(str(n) for n in range(100))"
   ]
  },
  {
   "cell_type": "code",
   "execution_count": 146,
   "metadata": {},
   "outputs": [
    {
     "name": "stdout",
     "output_type": "stream",
     "text": [
      "18.7 µs ± 526 ns per loop (mean ± std. dev. of 7 runs, 10000 loops each)\n"
     ]
    }
   ],
   "source": [
    "%timeit \"-\".join([str(n) for n in range(100)])"
   ]
  },
  {
   "cell_type": "code",
   "execution_count": 147,
   "metadata": {},
   "outputs": [
    {
     "name": "stdout",
     "output_type": "stream",
     "text": [
      "14 µs ± 316 ns per loop (mean ± std. dev. of 7 runs, 100000 loops each)\n"
     ]
    }
   ],
   "source": [
    "%timeit \"-\".join(map(str, range(100)))"
   ]
  },
  {
   "cell_type": "markdown",
   "metadata": {},
   "source": [
    "### KÄTSÄÄ! Päädyimme tällä samaan johtopäätökseen. On tärkeää huomata että ipython rajoittaa *real time* aikaa jonka timeit käyttää läpimennäkseen. TÄMÄ ON KOULUTTAJAN SKEIDAA MUTTA HÄNELLE VARMAAN PITÄÄ PAIKKANSA: For instance if running 100000 loops took 10 minutes, iPython would automatically reduce the number of loops to something more reasonable like 100 or 1000.\n",
    "\n",
    "### Ristuksen hianoa! Nyt olet varmaankin omaksesi koodirivien ajon ajastamisen, sekä iPthonin sisällä että sen ulkopuolella bashin komentorivinä. Lisätietoa varten tsekkailehan tätä linkkiä:\n",
    "https://docs.python.org/2/library/timeit.html"
   ]
  },
  {
   "cell_type": "code",
   "execution_count": null,
   "metadata": {},
   "outputs": [],
   "source": []
  },
  {
   "cell_type": "markdown",
   "metadata": {},
   "source": [
    "## 15.94 Regular Expressions - re"
   ]
  },
  {
   "cell_type": "markdown",
   "metadata": {},
   "source": [
    "- Regular expressions ovat tekstiin mätsäävät toistuvat kuviot jotka kuvataan muodollisilla syntakseilla.\n",
    "- Kuulet usein regular expressioneihin viitattavan 'regex' tai 'regexp' keskusteluina.\n",
    "- Regular expressionit voivat sisältää  moninaisia sääntöjä, kuten toistojen löytäminen tekstistä, saman tekstin mätsääminen, jne.. \n",
    "- Kun etenet Python-osaamisessa, huomaat että monet tekstin-parsimisongelemat ratkaistaan regexeillä.\n",
    "- Regexejä käytetään usein kysymyksinä työpaikkahaastatteluissa.\n",
    "\n",
    "- Syntaxissa on yhteneväisyyksiä Perliin.\n",
    "- Tässä harjoituksessa käytämme Pythonin re-modulia.\n",
    "\n",
    "\n",
    "Let's get started!"
   ]
  },
  {
   "cell_type": "markdown",
   "metadata": {},
   "source": [
    "#### Tekstipatternin löytäminen:\n",
    "\n",
    "One of the most common uses for the re module is for finding patterns in text. Let's do a quick example of using the search method in the re module to find some text:"
   ]
  },
  {
   "cell_type": "code",
   "execution_count": 1,
   "metadata": {},
   "outputs": [],
   "source": [
    "import re"
   ]
  },
  {
   "cell_type": "code",
   "execution_count": 38,
   "metadata": {},
   "outputs": [],
   "source": [
    "# Näistä teksteistä haetaan yhteneväisyyksiä:\n",
    "patterns = ['term1', 'term2']"
   ]
  },
  {
   "cell_type": "code",
   "execution_count": 39,
   "metadata": {},
   "outputs": [],
   "source": [
    "# Näitä tekstejä parsitaan:\n",
    "text = 'This is a string with term1, but it does not have the other term.'"
   ]
  },
  {
   "cell_type": "code",
   "execution_count": 40,
   "metadata": {},
   "outputs": [
    {
     "data": {
      "text/plain": [
       "<re.Match object; span=(0, 5), match='hello'>"
      ]
     },
     "execution_count": 40,
     "metadata": {},
     "output_type": "execute_result"
    }
   ],
   "source": [
    "re.search('hello', 'hello world!')"
   ]
  },
  {
   "cell_type": "code",
   "execution_count": 42,
   "metadata": {},
   "outputs": [
    {
     "name": "stdout",
     "output_type": "stream",
     "text": [
      "Searching for \"term1\" in: \n",
      "\"This is a string with term1, but it does not have the other term.\"\n",
      "\n",
      "\n",
      "Match was found. \n",
      "\n",
      "Searching for \"term2\" in: \n",
      "\"This is a string with term1, but it does not have the other term.\"\n",
      "\n",
      "\n",
      "No Match was found.\n",
      "\n"
     ]
    }
   ],
   "source": [
    "for pattern in patterns: # Tällä loopilla haetaan patternia.\n",
    "    print('Searching for \"%s\" in: \\n\"%s\"' % (pattern, text)) # Haettava patterni ja teksti syötetään parametreina\n",
    "    \n",
    "    # Tämä ehto tsekkaa mätsit:\n",
    "    if re.search(pattern, text):\n",
    "        print('\\n')\n",
    "        print('Match was found. \\n')\n",
    "    else:\n",
    "        print('\\n')\n",
    "        print('No Match was found.\\n')"
   ]
  },
  {
   "cell_type": "code",
   "execution_count": 43,
   "metadata": {},
   "outputs": [
    {
     "name": "stdout",
     "output_type": "stream",
     "text": [
      "None\n"
     ]
    }
   ],
   "source": [
    "print(re.search('h', 'w'))"
   ]
  },
  {
   "cell_type": "markdown",
   "metadata": {},
   "source": [
    "#### Kuten yllä nähtiin re.search()-metodi ottaa parametreinä haettavan patternin ja toisena parametrinä tekstin josta patternia haetaan. Jos mätsi löytyy palauttaa re.search()-metodi **Match** objektin. \n",
    "#### Mikäli patternia ei löydy haettavasta tekstistä, palauttaa re.search()-metodi arvon **None**.\n",
    "#### Saadaksesi selvemmän käsityksen matsiobjektista, tsekkaa allaoleva koodi:"
   ]
  },
  {
   "cell_type": "code",
   "execution_count": 44,
   "metadata": {},
   "outputs": [],
   "source": [
    "# List of patterns to search for\n",
    "pattern ='term1'"
   ]
  },
  {
   "cell_type": "code",
   "execution_count": 45,
   "metadata": {},
   "outputs": [],
   "source": [
    "# Text to parse\n",
    "text = 'This is a string with term1, but it does not have the other term.'"
   ]
  },
  {
   "cell_type": "code",
   "execution_count": 46,
   "metadata": {},
   "outputs": [],
   "source": [
    "match = re.search(pattern,  text) # haettava patterni-'term1' ja haun kodhe eli teksti parametreinä re.search()-metodiin. "
   ]
  },
  {
   "cell_type": "code",
   "execution_count": 47,
   "metadata": {},
   "outputs": [
    {
     "data": {
      "text/plain": [
       "re.Match"
      ]
     },
     "execution_count": 47,
     "metadata": {},
     "output_type": "execute_result"
    }
   ],
   "source": [
    "# Tässä mätsiolion tyyppi tulostettuna:\n",
    "type(match)"
   ]
  },
  {
   "cell_type": "markdown",
   "metadata": {},
   "source": [
    "#### Tämä palautettu **Match**-olio ei ole pelkästään Boolean tai None, vaan se sisältää myös informatiota mätsistä, kuten, mikä oli alkuperäinen input stringi, mitä regular expressionia käytettiin, sekä mätsin sijainti stringissä. Let's see the methods we can use on the match object:"
   ]
  },
  {
   "cell_type": "code",
   "execution_count": 48,
   "metadata": {},
   "outputs": [
    {
     "data": {
      "text/plain": [
       "22"
      ]
     },
     "execution_count": 48,
     "metadata": {},
     "output_type": "execute_result"
    }
   ],
   "source": [
    "# Osoittaa tekstimätsin alun kohdan merkkijonossa:\n",
    "match.start()"
   ]
  },
  {
   "cell_type": "code",
   "execution_count": 49,
   "metadata": {},
   "outputs": [
    {
     "data": {
      "text/plain": [
       "27"
      ]
     },
     "execution_count": 49,
     "metadata": {},
     "output_type": "execute_result"
    }
   ],
   "source": [
    "# Osoittaa tekstimätsin loppukohdan merkkijonossa:\n",
    "match.end()"
   ]
  },
  {
   "cell_type": "markdown",
   "metadata": {},
   "source": [
    "#### Split with regular expressions\n",
    "\n",
    "Katsotaas miten splitataan re-syntaksilla. Tämä näyttää samalta kuin split()-methodin käyttö stringille:"
   ]
  },
  {
   "cell_type": "code",
   "execution_count": 50,
   "metadata": {},
   "outputs": [],
   "source": [
    "# Term to split on\n",
    "split_term = '@'\n",
    "\n",
    "phrase = 'What is the domain name of someone with the email: hello@gmail.com'"
   ]
  },
  {
   "cell_type": "code",
   "execution_count": 51,
   "metadata": {},
   "outputs": [
    {
     "data": {
      "text/plain": [
       "['What is the domain name of someone with the email: hello', 'gmail.com']"
      ]
     },
     "execution_count": 51,
     "metadata": {},
     "output_type": "execute_result"
    }
   ],
   "source": [
    "# SSplittaa stringin ja tekee listaan splittauskohdasta 2 eri string alkiota:\n",
    "re.split(split_term,phrase)"
   ]
  },
  {
   "cell_type": "markdown",
   "metadata": {},
   "source": [
    "#### Huomaa kuinka re.split()-metodi palauttaa listan jossa split-kohta jakaa 2:een eri stringiin. Create a couple of more examples for yourself to make sure you understand!\n",
    "\n",
    "## Finding all instances of a pattern\n",
    "\n",
    "- Voit käyttää re.findall()-metodia löytääksesi patternin kaikki esiintymiset stringissä. For example:"
   ]
  },
  {
   "cell_type": "code",
   "execution_count": 53,
   "metadata": {},
   "outputs": [
    {
     "data": {
      "text/plain": [
       "['match', 'match']"
      ]
     },
     "execution_count": 53,
     "metadata": {},
     "output_type": "execute_result"
    }
   ],
   "source": [
    "# Returns a list of all matches\n",
    "re.findall('match','test phrase match is in middleof the match')"
   ]
  },
  {
   "cell_type": "markdown",
   "metadata": {},
   "source": [
    "#### Pattern re Syntaksi:\n",
    "\n",
    "- This will be the bulk of this lecture on using re with Python.\n",
    "- Regular expressions tukee suuren määrän patterneja yksittäisen stringin löytämiseksi.\n",
    "\n",
    "- Voimme käyttää ns. *metacharacters* re:ssä tietyn patternin löytämiseksi. \n",
    "\n",
    "- Since we will be testing multiple re syntax forms, let's create a function that will print out results given a list of various regular expressions and a phrase to parse:"
   ]
  },
  {
   "cell_type": "code",
   "execution_count": 54,
   "metadata": {},
   "outputs": [],
   "source": [
    "def multi_re_find(patterns,phrase):\n",
    "    '''\n",
    "    INPUT: lista regex-patterneista\n",
    "    OUTPUT: Printtaa listan kaikista matseistä\n",
    "    '''\n",
    "    for pattern in patterns:\n",
    "        print('Searching the phrase using the re check: %r' %pattern)\n",
    "        print(re.findall(pattern,phrase))\n",
    "        print('\\n')"
   ]
  },
  {
   "cell_type": "markdown",
   "metadata": {},
   "source": [
    "#### Repetition Syntax\n",
    "\n",
    "There are five ways to express repetition in a pattern:\n",
    "\n",
    "    1.) A pattern followed by the meta-character * is repeated zero or more times. \n",
    "    2.) Replace the * with + and the pattern must appear at least once. \n",
    "    3.) Using ? means the pattern appears zero or one time. \n",
    "    4.) For a specific number of occurrences, use {m} after the pattern, where m is replaced with the number of times         the pattern should repeat. \n",
    "    5.) Use {m,n} where m is the minimum number of repetitions and n is the maximum. Leaving out n ({m,}) means the           value appears at least m times, with no maximum.\n",
    "    \n",
    "Now we will see an example of each of these using our multi_re_find function:"
   ]
  },
  {
   "cell_type": "code",
   "execution_count": 55,
   "metadata": {},
   "outputs": [],
   "source": [
    "test_phrase = 'sdsd..sssddd...sdddsddd...dsds...dsssss...sdddd'"
   ]
  },
  {
   "cell_type": "code",
   "execution_count": 56,
   "metadata": {},
   "outputs": [],
   "source": [
    "test_patterns = [ 'sd*',     # s followed by zero or more d's\n",
    "                'sd+',          # s followed by one or more d's\n",
    "                'sd?',          # s followed by zero or one d's\n",
    "                'sd{3}',        # s followed by three d's\n",
    "                'sd{2,3}',      # s followed by two to three d's\n",
    "                ]"
   ]
  },
  {
   "cell_type": "code",
   "execution_count": 57,
   "metadata": {},
   "outputs": [
    {
     "name": "stdout",
     "output_type": "stream",
     "text": [
      "Searching the phrase using the re check: 'sd*'\n",
      "['sd', 'sd', 's', 's', 'sddd', 'sddd', 'sddd', 'sd', 's', 's', 's', 's', 's', 's', 'sdddd']\n",
      "\n",
      "\n",
      "Searching the phrase using the re check: 'sd+'\n",
      "['sd', 'sd', 'sddd', 'sddd', 'sddd', 'sd', 'sdddd']\n",
      "\n",
      "\n",
      "Searching the phrase using the re check: 'sd?'\n",
      "['sd', 'sd', 's', 's', 'sd', 'sd', 'sd', 'sd', 's', 's', 's', 's', 's', 's', 'sd']\n",
      "\n",
      "\n",
      "Searching the phrase using the re check: 'sd{3}'\n",
      "['sddd', 'sddd', 'sddd', 'sddd']\n",
      "\n",
      "\n",
      "Searching the phrase using the re check: 'sd{2,3}'\n",
      "['sddd', 'sddd', 'sddd', 'sddd']\n",
      "\n",
      "\n"
     ]
    }
   ],
   "source": [
    "multi_re_find(test_patterns,test_phrase)"
   ]
  },
  {
   "cell_type": "markdown",
   "metadata": {},
   "source": [
    "#### Character Sets\n",
    "\n",
    "- Character sets are used when you wish to match any one of a group of characters at a point in the input.\n",
    "- Brackets are used to construct character set inputs.\n",
    "- For example: the input [ab] searches for occurrences of either a or b.\n",
    "\n",
    "Let's see some examples:"
   ]
  },
  {
   "cell_type": "code",
   "execution_count": 58,
   "metadata": {},
   "outputs": [],
   "source": [
    "test_phrase = 'sdsd..sssddd...sdddsddd...dsds...dsssss...sdddd'"
   ]
  },
  {
   "cell_type": "code",
   "execution_count": 59,
   "metadata": {},
   "outputs": [],
   "source": [
    "test_patterns = [ '[sd]',    # either s or d\n",
    "            's[sd]+']   # s followed by one or more s or d"
   ]
  },
  {
   "cell_type": "code",
   "execution_count": 60,
   "metadata": {},
   "outputs": [
    {
     "name": "stdout",
     "output_type": "stream",
     "text": [
      "Searching the phrase using the re check: '[sd]'\n",
      "['s', 'd', 's', 'd', 's', 's', 's', 'd', 'd', 'd', 's', 'd', 'd', 'd', 's', 'd', 'd', 'd', 'd', 's', 'd', 's', 'd', 's', 's', 's', 's', 's', 's', 'd', 'd', 'd', 'd']\n",
      "\n",
      "\n",
      "Searching the phrase using the re check: 's[sd]+'\n",
      "['sdsd', 'sssddd', 'sdddsddd', 'sds', 'sssss', 'sdddd']\n",
      "\n",
      "\n"
     ]
    }
   ],
   "source": [
    "multi_re_find(test_patterns,test_phrase)"
   ]
  },
  {
   "cell_type": "markdown",
   "metadata": {},
   "source": [
    "It makes sense that the first [sd] returns every instance. Also the second input will just return any thing starting with an s in this particular case of the test phrase input."
   ]
  },
  {
   "cell_type": "markdown",
   "metadata": {},
   "source": [
    "#### Exclusion:\n",
    "\n",
    "- We can use ^ to exclude terms by incorporating it into the bracket syntax notation.\n",
    "- For example: [^...] will match any single character not in the brackets. \n",
    "- Let's see some examples:"
   ]
  },
  {
   "cell_type": "code",
   "execution_count": 62,
   "metadata": {},
   "outputs": [],
   "source": [
    "test_phrase = 'This is a string! But it has punctuation. How can we remove it?'"
   ]
  },
  {
   "cell_type": "markdown",
   "metadata": {},
   "source": [
    "Use [^!.? ] to check for matches that are not a !,.,?, or space. Add the + to check that the match appears at least once, this basically translate into finding the words."
   ]
  },
  {
   "cell_type": "code",
   "execution_count": 63,
   "metadata": {},
   "outputs": [
    {
     "data": {
      "text/plain": [
       "['This',\n",
       " 'is',\n",
       " 'a',\n",
       " 'string',\n",
       " 'But',\n",
       " 'it',\n",
       " 'has',\n",
       " 'punctuation',\n",
       " 'How',\n",
       " 'can',\n",
       " 'we',\n",
       " 'remove',\n",
       " 'it']"
      ]
     },
     "execution_count": 63,
     "metadata": {},
     "output_type": "execute_result"
    }
   ],
   "source": [
    "re.findall('[^!.? ]+',test_phrase)"
   ]
  },
  {
   "cell_type": "markdown",
   "metadata": {},
   "source": [
    "#### Character Ranges\n",
    "\n",
    "- As character sets grow larger, typing every character that should (or should not) match could become very tedious.\n",
    "- A more compact format using character ranges lets you define a character set to include all of the contiguous characters between a start and stop point.\n",
    "- The format used is [start-end].\n",
    "\n",
    "Common use cases are to search for a specific range of letters in the alphabet, such [a-f] would return matches with any instance of letters between a and f. \n",
    "\n",
    "Let's walk through some examples:"
   ]
  },
  {
   "cell_type": "code",
   "execution_count": 64,
   "metadata": {},
   "outputs": [],
   "source": [
    "test_phrase = 'This is an example sentence. Lets see if we can find some letters.'"
   ]
  },
  {
   "cell_type": "code",
   "execution_count": 65,
   "metadata": {},
   "outputs": [],
   "source": [
    "test_patterns=[ '[a-z]+',      # sequences of lower case letters\n",
    "                '[A-Z]+',      # sequences of upper case letters\n",
    "                '[a-zA-Z]+',   # sequences of lower or upper case letters\n",
    "                '[A-Z][a-z]+'] # one upper case letter followed by lower case letters"
   ]
  },
  {
   "cell_type": "code",
   "execution_count": 66,
   "metadata": {},
   "outputs": [
    {
     "name": "stdout",
     "output_type": "stream",
     "text": [
      "Searching the phrase using the re check: '[a-z]+'\n",
      "['his', 'is', 'an', 'example', 'sentence', 'ets', 'see', 'if', 'we', 'can', 'find', 'some', 'letters']\n",
      "\n",
      "\n",
      "Searching the phrase using the re check: '[A-Z]+'\n",
      "['T', 'L']\n",
      "\n",
      "\n",
      "Searching the phrase using the re check: '[a-zA-Z]+'\n",
      "['This', 'is', 'an', 'example', 'sentence', 'Lets', 'see', 'if', 'we', 'can', 'find', 'some', 'letters']\n",
      "\n",
      "\n",
      "Searching the phrase using the re check: '[A-Z][a-z]+'\n",
      "['This', 'Lets']\n",
      "\n",
      "\n"
     ]
    }
   ],
   "source": [
    "multi_re_find(test_patterns,test_phrase)"
   ]
  },
  {
   "cell_type": "markdown",
   "metadata": {},
   "source": [
    "#### Escape Codes\n",
    "\n",
    "You can use special escape codes to find specific types of patterns in your data, such as digits, non-digits,whitespace, and more. For example:\n",
    "\n",
    "<table border=\"1\" class=\"docutils\">\n",
    "<colgroup>\n",
    "<col width=\"14%\" />\n",
    "<col width=\"86%\" />\n",
    "</colgroup>\n",
    "<thead valign=\"bottom\">\n",
    "<tr class=\"row-odd\"><th class=\"head\">Code</th>\n",
    "<th class=\"head\">Meaning</th>\n",
    "</tr>\n",
    "</thead>\n",
    "<tbody valign=\"top\">\n",
    "<tr class=\"row-even\"><td><tt class=\"docutils literal\"><span class=\"pre\">\\d</span></tt></td>\n",
    "<td>a digit</td>\n",
    "</tr>\n",
    "<tr class=\"row-odd\"><td><tt class=\"docutils literal\"><span class=\"pre\">\\D</span></tt></td>\n",
    "<td>a non-digit</td>\n",
    "</tr>\n",
    "<tr class=\"row-even\"><td><tt class=\"docutils literal\"><span class=\"pre\">\\s</span></tt></td>\n",
    "<td>whitespace (tab, space, newline, etc.)</td>\n",
    "</tr>\n",
    "<tr class=\"row-odd\"><td><tt class=\"docutils literal\"><span class=\"pre\">\\S</span></tt></td>\n",
    "<td>non-whitespace</td>\n",
    "</tr>\n",
    "<tr class=\"row-even\"><td><tt class=\"docutils literal\"><span class=\"pre\">\\w</span></tt></td>\n",
    "<td>alphanumeric</td>\n",
    "</tr>\n",
    "<tr class=\"row-odd\"><td><tt class=\"docutils literal\"><span class=\"pre\">\\W</span></tt></td>\n",
    "<td>non-alphanumeric</td>\n",
    "</tr>\n",
    "</tbody>\n",
    "</table>\n",
    "\n",
    "- Escapes are indicated by prefixing the character with a backslash (\\).\n",
    "- Unfortunately, a backslash must itself be escaped in normal Python strings, and that results in expressions that are difficult to read. \n",
    "- Using raw strings, created by prefixing the literal value with r, for creating regular expressions eliminates this problem and maintains readability.\n",
    "\n",
    "- Personally, I think this use of r to escape a backslash is probably one of the things that block someone who is not familiar with regex in Python from being able to read regex code at first.\n",
    "- Hopefully after seeing these examples this syntax will become clear."
   ]
  },
  {
   "cell_type": "code",
   "execution_count": 67,
   "metadata": {},
   "outputs": [],
   "source": [
    "test_phrase = 'This is a string with some numbers 1233 and a symbol #hashtag'"
   ]
  },
  {
   "cell_type": "code",
   "execution_count": 68,
   "metadata": {},
   "outputs": [],
   "source": [
    "test_patterns=[ r'\\d+', # sequence of digits\n",
    "                r'\\D+', # sequence of non-digits\n",
    "                r'\\s+', # sequence of whitespace\n",
    "                r'\\S+', # sequence of non-whitespace\n",
    "                r'\\w+', # alphanumeric characters\n",
    "                r'\\W+', # non-alphanumeric\n",
    "                ]"
   ]
  },
  {
   "cell_type": "code",
   "execution_count": 69,
   "metadata": {},
   "outputs": [
    {
     "name": "stdout",
     "output_type": "stream",
     "text": [
      "Searching the phrase using the re check: '\\\\d+'\n",
      "['1233']\n",
      "\n",
      "\n",
      "Searching the phrase using the re check: '\\\\D+'\n",
      "['This is a string with some numbers ', ' and a symbol #hashtag']\n",
      "\n",
      "\n",
      "Searching the phrase using the re check: '\\\\s+'\n",
      "[' ', ' ', ' ', ' ', ' ', ' ', ' ', ' ', ' ', ' ', ' ']\n",
      "\n",
      "\n",
      "Searching the phrase using the re check: '\\\\S+'\n",
      "['This', 'is', 'a', 'string', 'with', 'some', 'numbers', '1233', 'and', 'a', 'symbol', '#hashtag']\n",
      "\n",
      "\n",
      "Searching the phrase using the re check: '\\\\w+'\n",
      "['This', 'is', 'a', 'string', 'with', 'some', 'numbers', '1233', 'and', 'a', 'symbol', 'hashtag']\n",
      "\n",
      "\n",
      "Searching the phrase using the re check: '\\\\W+'\n",
      "[' ', ' ', ' ', ' ', ' ', ' ', ' ', ' ', ' ', ' ', ' #']\n",
      "\n",
      "\n"
     ]
    }
   ],
   "source": [
    "multi_re_find(test_patterns,test_phrase)"
   ]
  },
  {
   "cell_type": "markdown",
   "metadata": {},
   "source": [
    "#### Conclusion\n",
    "\n",
    "You should now have a solid understanding of how to use the regular expression module in Python. There are a ton of more special character instances, but it would be unreasonable to go through every single use case. Instead take a look at the full [documentation](https://docs.python.org/2/library/re.html#regular-expression-syntax) if you ever need to look up a particular case.\n",
    "\n",
    "You can also check out the nice summary tables at this [source](http://www.tutorialspoint.com/python/python_reg_expressions.htm).\n",
    "\n",
    "Good job!\n"
   ]
  },
  {
   "cell_type": "markdown",
   "metadata": {},
   "source": [
    "## 15.95 StringIO"
   ]
  },
  {
   "cell_type": "markdown",
   "metadata": {},
   "source": [
    "- StringIO-moduli soveltaa tiedostotyyppistä objektia muistissa. \n",
    "- Tätä oliota voidaan käyttää inputtina tai outputtina kaikissa toiminnoissa, jotka olettavat käytettävän standardi tiedosto oliota.\n",
    "\n",
    "- Tämä lienee parasta selittää esimerkin kautta:"
   ]
  },
  {
   "cell_type": "code",
   "execution_count": 73,
   "metadata": {},
   "outputs": [],
   "source": [
    "# HUOMAA: StringIO-modulia ei enää löydy Python 3:sta vaan se on IO-modulin alla!!!!!!\n",
    "from io import StringIO"
   ]
  },
  {
   "cell_type": "code",
   "execution_count": 74,
   "metadata": {},
   "outputs": [],
   "source": [
    "# Satunnainen stringgi:\n",
    "message = 'This is just a normal string.'"
   ]
  },
  {
   "cell_type": "code",
   "execution_count": 78,
   "metadata": {},
   "outputs": [],
   "source": [
    "# Käytä StringIO-methodia asettaaksesi stringi tiedosto objektiksi:\n",
    "# HUOMAA: Python 3:ssa ei laiteta enää päämodulia(io) metoodin eteen!!!!!\n",
    "f = StringIO(message)"
   ]
  },
  {
   "cell_type": "markdown",
   "metadata": {},
   "source": [
    "#### Nyt *f* on tiedosto objektina, jota voimme käyttää kuin muitakin tiedostoja ikään, esim.:"
   ]
  },
  {
   "cell_type": "code",
   "execution_count": 79,
   "metadata": {},
   "outputs": [
    {
     "data": {
      "text/plain": [
       "'This is just a normal string.'"
      ]
     },
     "execution_count": 79,
     "metadata": {},
     "output_type": "execute_result"
    }
   ],
   "source": [
    "f.read()"
   ]
  },
  {
   "cell_type": "markdown",
   "metadata": {},
   "source": [
    "#### Me voimme myös kirjoittaa siihen:"
   ]
  },
  {
   "cell_type": "code",
   "execution_count": 80,
   "metadata": {},
   "outputs": [
    {
     "data": {
      "text/plain": [
       "40"
      ]
     },
     "execution_count": 80,
     "metadata": {},
     "output_type": "execute_result"
    }
   ],
   "source": [
    "f.write(' Second line written to file like object')"
   ]
  },
  {
   "cell_type": "code",
   "execution_count": 81,
   "metadata": {},
   "outputs": [
    {
     "data": {
      "text/plain": [
       "0"
      ]
     },
     "execution_count": 81,
     "metadata": {},
     "output_type": "execute_result"
    }
   ],
   "source": [
    "# Aseta lukukursori tekstin alkuun kuten tekisit muissa tekstitiedostoissa:\n",
    "f.seek(0)"
   ]
  },
  {
   "cell_type": "code",
   "execution_count": 82,
   "metadata": {},
   "outputs": [
    {
     "data": {
      "text/plain": [
       "'This is just a normal string. Second line written to file like object'"
      ]
     },
     "execution_count": 82,
     "metadata": {},
     "output_type": "execute_result"
    }
   ],
   "source": [
    "# Ja voi taas lukea tiedostoa:\n",
    "f.read()"
   ]
  },
  {
   "cell_type": "markdown",
   "metadata": {},
   "source": [
    "#### Kätsää! Kuten näit, voimme muuttaa StringIO:ta koodin sisältämän tekstipätkän tiedosto-olioksi muistiin. Tällä on erinäisiä käyttökohteita, erityisesti web scrapingiä tehdessä, jossa haluat netistä noudetun merkkijonon tallentuvan tiedostona muistiisi.\n",
    "\n",
    "For more info on StringIO check out the documentation:https://docs.python.org/2/library/stringio.html"
   ]
  },
  {
   "cell_type": "markdown",
   "metadata": {},
   "source": [
    "## 16.96 Advanced Numbers"
   ]
  },
  {
   "cell_type": "markdown",
   "metadata": {},
   "source": [
    "- In this lecture we will learn about a few more representations of numbers in Python."
   ]
  },
  {
   "cell_type": "markdown",
   "metadata": {},
   "source": [
    "#### Hexadecimal\n",
    "\n",
    "- Käyttämällä hex()-toimintoa, voit numeroita [hexadecimal](https://en.wikipedia.org/wiki/Hexadecimal) formattiin:"
   ]
  },
  {
   "cell_type": "code",
   "execution_count": 83,
   "metadata": {},
   "outputs": [
    {
     "data": {
      "text/plain": [
       "'0xf6'"
      ]
     },
     "execution_count": 83,
     "metadata": {},
     "output_type": "execute_result"
    }
   ],
   "source": [
    "hex(246)"
   ]
  },
  {
   "cell_type": "code",
   "execution_count": 84,
   "metadata": {},
   "outputs": [
    {
     "data": {
      "text/plain": [
       "'0x200'"
      ]
     },
     "execution_count": 84,
     "metadata": {},
     "output_type": "execute_result"
    }
   ],
   "source": [
    "hex(512)"
   ]
  },
  {
   "cell_type": "markdown",
   "metadata": {},
   "source": [
    "#### Binary \n",
    "- Käyttämällä bin()-toimintoa voit muuttaa numeroita [binary](https://en.wikipedia.org/wiki/Binary_number) formattiin:"
   ]
  },
  {
   "cell_type": "code",
   "execution_count": 85,
   "metadata": {},
   "outputs": [
    {
     "data": {
      "text/plain": [
       "'0b10011010010'"
      ]
     },
     "execution_count": 85,
     "metadata": {},
     "output_type": "execute_result"
    }
   ],
   "source": [
    "bin(1234)"
   ]
  },
  {
   "cell_type": "code",
   "execution_count": 86,
   "metadata": {},
   "outputs": [
    {
     "data": {
      "text/plain": [
       "'0b10000000'"
      ]
     },
     "execution_count": 86,
     "metadata": {},
     "output_type": "execute_result"
    }
   ],
   "source": [
    "bin(128)"
   ]
  },
  {
   "cell_type": "code",
   "execution_count": 87,
   "metadata": {},
   "outputs": [
    {
     "data": {
      "text/plain": [
       "'0b1000000000'"
      ]
     },
     "execution_count": 87,
     "metadata": {},
     "output_type": "execute_result"
    }
   ],
   "source": [
    "bin(512)"
   ]
  },
  {
   "cell_type": "markdown",
   "metadata": {},
   "source": [
    "#### pow()\n",
    "\n",
    "- Kahta argumenttia käytettäessä tämä vastaa potenssiinkorotusta, eli x^y. \n",
    "- Kolmella argumentilla vastaa (x^y) % z, but may be more efficient (e.g. for longs)."
   ]
  },
  {
   "cell_type": "code",
   "execution_count": 88,
   "metadata": {},
   "outputs": [
    {
     "data": {
      "text/plain": [
       "16"
      ]
     },
     "execution_count": 88,
     "metadata": {},
     "output_type": "execute_result"
    }
   ],
   "source": [
    "pow(2, 4)"
   ]
  },
  {
   "cell_type": "markdown",
   "metadata": {},
   "source": [
    "#### abs()\n",
    "\n",
    "- Itseisarvo:"
   ]
  },
  {
   "cell_type": "code",
   "execution_count": 89,
   "metadata": {},
   "outputs": [
    {
     "data": {
      "text/plain": [
       "3"
      ]
     },
     "execution_count": 89,
     "metadata": {},
     "output_type": "execute_result"
    }
   ],
   "source": [
    "abs(-3)"
   ]
  },
  {
   "cell_type": "markdown",
   "metadata": {},
   "source": [
    "#### round()\n",
    "\n",
    "- Pyöristää numeron argumenttina annettuun desimaaliin (oletus 0).\n",
    "- HUOM: Palauttaa aina float-arvon."
   ]
  },
  {
   "cell_type": "code",
   "execution_count": 90,
   "metadata": {},
   "outputs": [
    {
     "data": {
      "text/plain": [
       "3"
      ]
     },
     "execution_count": 90,
     "metadata": {},
     "output_type": "execute_result"
    }
   ],
   "source": [
    "round(3)"
   ]
  },
  {
   "cell_type": "code",
   "execution_count": 91,
   "metadata": {},
   "outputs": [
    {
     "data": {
      "text/plain": [
       "3.14"
      ]
     },
     "execution_count": 91,
     "metadata": {},
     "output_type": "execute_result"
    }
   ],
   "source": [
    "round(3.142342342, 2)"
   ]
  },
  {
   "cell_type": "markdown",
   "metadata": {},
   "source": [
    "Python has a built-in math library that is also useful to play around with in case you are ever in need of some mathematical operations. Explore the documentation [here](https://docs.python.org/2/library/math.html)!"
   ]
  },
  {
   "cell_type": "markdown",
   "metadata": {},
   "source": [
    "## 16.97 Advanced Strings"
   ]
  },
  {
   "cell_type": "markdown",
   "metadata": {},
   "source": [
    "String olioilla on erinäisiä metodeja, joita voimme käyttää ajan säästämiseksi ja lisätäksemme toimintoja. Lets explore some of them in this lecture:"
   ]
  },
  {
   "cell_type": "code",
   "execution_count": 1,
   "metadata": {},
   "outputs": [],
   "source": [
    "s = 'hello world!'"
   ]
  },
  {
   "cell_type": "markdown",
   "metadata": {},
   "source": [
    "#### Isojen kirjainten vaihto:\n",
    "\n",
    "- Isojen ja pienten kirjainten tekoon on capitalize()-metodi ja lower()-metodi."
   ]
  },
  {
   "cell_type": "code",
   "execution_count": 2,
   "metadata": {},
   "outputs": [
    {
     "data": {
      "text/plain": [
       "'Hello world!'"
      ]
     },
     "execution_count": 2,
     "metadata": {},
     "output_type": "execute_result"
    }
   ],
   "source": [
    "# Capitalize first word in string\n",
    "s.capitalize()"
   ]
  },
  {
   "cell_type": "code",
   "execution_count": 3,
   "metadata": {},
   "outputs": [
    {
     "data": {
      "text/plain": [
       "'HELLO WORLD!'"
      ]
     },
     "execution_count": 3,
     "metadata": {},
     "output_type": "execute_result"
    }
   ],
   "source": [
    "s.upper()"
   ]
  },
  {
   "cell_type": "code",
   "execution_count": 4,
   "metadata": {},
   "outputs": [
    {
     "data": {
      "text/plain": [
       "'hello world!'"
      ]
     },
     "execution_count": 4,
     "metadata": {},
     "output_type": "execute_result"
    }
   ],
   "source": [
    "s.lower()"
   ]
  },
  {
   "cell_type": "markdown",
   "metadata": {},
   "source": [
    "#### Location and Counting"
   ]
  },
  {
   "cell_type": "code",
   "execution_count": 5,
   "metadata": {},
   "outputs": [
    {
     "data": {
      "text/plain": [
       "2"
      ]
     },
     "execution_count": 5,
     "metadata": {},
     "output_type": "execute_result"
    }
   ],
   "source": [
    "s.count('o')"
   ]
  },
  {
   "cell_type": "code",
   "execution_count": 6,
   "metadata": {},
   "outputs": [
    {
     "data": {
      "text/plain": [
       "4"
      ]
     },
     "execution_count": 6,
     "metadata": {},
     "output_type": "execute_result"
    }
   ],
   "source": [
    "s.find('o')"
   ]
  },
  {
   "cell_type": "code",
   "execution_count": 7,
   "metadata": {},
   "outputs": [
    {
     "data": {
      "text/plain": [
       "4"
      ]
     },
     "execution_count": 7,
     "metadata": {},
     "output_type": "execute_result"
    }
   ],
   "source": [
    "s.find('o')"
   ]
  },
  {
   "cell_type": "markdown",
   "metadata": {},
   "source": [
    "#### Formatting:\n",
    "\n",
    "- center()-methodilla saat sijoiettua merkkijonon keskelle toista merkkijonoa määritetyllä pituudella. \n",
    "- Personally, I've never actually used this in code as it seems pretty esoteric..."
   ]
  },
  {
   "cell_type": "code",
   "execution_count": 8,
   "metadata": {},
   "outputs": [
    {
     "data": {
      "text/plain": [
       "'zzzzhello world!zzzz'"
      ]
     },
     "execution_count": 8,
     "metadata": {},
     "output_type": "execute_result"
    }
   ],
   "source": [
    "s.center(20,'z')"
   ]
  },
  {
   "cell_type": "markdown",
   "metadata": {},
   "source": [
    "#### expandtabs():\n",
    "\n",
    "- will expand tab notations \\t into spaces:"
   ]
  },
  {
   "cell_type": "code",
   "execution_count": 9,
   "metadata": {},
   "outputs": [
    {
     "data": {
      "text/plain": [
       "'hello   hi'"
      ]
     },
     "execution_count": 9,
     "metadata": {},
     "output_type": "execute_result"
    }
   ],
   "source": [
    "'hello\\thi'.expandtabs()"
   ]
  },
  {
   "cell_type": "markdown",
   "metadata": {},
   "source": [
    "#### is check methods():\n",
    "\n",
    "- These various methods below check it the string is some case. \n",
    "- Lets explore them:"
   ]
  },
  {
   "cell_type": "code",
   "execution_count": 10,
   "metadata": {},
   "outputs": [],
   "source": [
    "s = 'hello'"
   ]
  },
  {
   "cell_type": "markdown",
   "metadata": {},
   "source": [
    "#### isalnum():\n",
    "\n",
    "- Palauttaa True jos kaikki merkit S:ssä ovat alphanumerisia:"
   ]
  },
  {
   "cell_type": "code",
   "execution_count": 12,
   "metadata": {},
   "outputs": [
    {
     "data": {
      "text/plain": [
       "True"
      ]
     },
     "execution_count": 12,
     "metadata": {},
     "output_type": "execute_result"
    }
   ],
   "source": [
    "s.isalnum()"
   ]
  },
  {
   "cell_type": "markdown",
   "metadata": {},
   "source": [
    "#### isalpha():\n",
    "\n",
    "- Palauttaa True jos kaikki merkit S:ssä ovat aakkosia:"
   ]
  },
  {
   "cell_type": "code",
   "execution_count": 14,
   "metadata": {},
   "outputs": [
    {
     "data": {
      "text/plain": [
       "True"
      ]
     },
     "execution_count": 14,
     "metadata": {},
     "output_type": "execute_result"
    }
   ],
   "source": [
    "s.isalpha()"
   ]
  },
  {
   "cell_type": "markdown",
   "metadata": {},
   "source": [
    "#### islower():\n",
    "\n",
    "- Palauttaa True jos kaikki S kirjaimet ovat pieniä ja False jos yksi kirjaimista on iso:"
   ]
  },
  {
   "cell_type": "code",
   "execution_count": 15,
   "metadata": {},
   "outputs": [
    {
     "data": {
      "text/plain": [
       "True"
      ]
     },
     "execution_count": 15,
     "metadata": {},
     "output_type": "execute_result"
    }
   ],
   "source": [
    "s.islower()"
   ]
  },
  {
   "cell_type": "markdown",
   "metadata": {},
   "source": [
    "#### isspace():\n",
    "\n",
    "- Palauttaa True jos kaikki kirjaimet ovat välilyöntejä:"
   ]
  },
  {
   "cell_type": "code",
   "execution_count": 16,
   "metadata": {},
   "outputs": [
    {
     "data": {
      "text/plain": [
       "False"
      ]
     },
     "execution_count": 16,
     "metadata": {},
     "output_type": "execute_result"
    }
   ],
   "source": [
    "s.isspace()"
   ]
  },
  {
   "cell_type": "markdown",
   "metadata": {},
   "source": [
    "#### istitle():\n",
    "\n",
    "- Palauttaa True jos merkkijono on isoilla tai  S, i.e. uppercase characters may only follow uncased characters and lowercase characters only cased ones. Return False otherwise:"
   ]
  },
  {
   "cell_type": "code",
   "execution_count": 17,
   "metadata": {},
   "outputs": [
    {
     "data": {
      "text/plain": [
       "False"
      ]
     },
     "execution_count": 17,
     "metadata": {},
     "output_type": "execute_result"
    }
   ],
   "source": [
    "s.istitle()"
   ]
  },
  {
   "cell_type": "markdown",
   "metadata": {},
   "source": [
    "#### isupper():\n",
    "\n",
    "- Palauttaa True joskaikki kirjaimet ovat isoja ja False jos vain yksi kirjain ona pieni."
   ]
  },
  {
   "cell_type": "code",
   "execution_count": 18,
   "metadata": {},
   "outputs": [
    {
     "data": {
      "text/plain": [
       "False"
      ]
     },
     "execution_count": 18,
     "metadata": {},
     "output_type": "execute_result"
    }
   ],
   "source": [
    "s.isupper()"
   ]
  },
  {
   "cell_type": "markdown",
   "metadata": {},
   "source": [
    "#### endswith():\n",
    "\n",
    "- Tsekkaa päättyykö merkkijono tiettyyn kirjaimeen. ja on sama kuin a boolean check on s[-1]"
   ]
  },
  {
   "cell_type": "code",
   "execution_count": 20,
   "metadata": {},
   "outputs": [
    {
     "data": {
      "text/plain": [
       "True"
      ]
     },
     "execution_count": 20,
     "metadata": {},
     "output_type": "execute_result"
    }
   ],
   "source": [
    "s.endswith('o')"
   ]
  },
  {
   "cell_type": "markdown",
   "metadata": {},
   "source": [
    "#### Built-in Reg. Expressions:\n",
    "\n",
    "- Strings have some built-in methods that can resemble regular expression operations.\n",
    "- We can use split() to split the string at a certain element and return a list of the result.\n",
    "- We can use partition to return a tuple that includes the separator (the first occurrence) and the first half and the end half."
   ]
  },
  {
   "cell_type": "code",
   "execution_count": 21,
   "metadata": {},
   "outputs": [
    {
     "data": {
      "text/plain": [
       "['h', 'llo']"
      ]
     },
     "execution_count": 21,
     "metadata": {},
     "output_type": "execute_result"
    }
   ],
   "source": [
    "s.split('e')"
   ]
  },
  {
   "cell_type": "code",
   "execution_count": 22,
   "metadata": {},
   "outputs": [
    {
     "data": {
      "text/plain": [
       "('h', 'e', 'llo')"
      ]
     },
     "execution_count": 22,
     "metadata": {},
     "output_type": "execute_result"
    }
   ],
   "source": [
    "s.partition('e')"
   ]
  },
  {
   "cell_type": "code",
   "execution_count": 23,
   "metadata": {},
   "outputs": [
    {
     "data": {
      "text/plain": [
       "'hello'"
      ]
     },
     "execution_count": 23,
     "metadata": {},
     "output_type": "execute_result"
    }
   ],
   "source": [
    "s"
   ]
  },
  {
   "cell_type": "markdown",
   "metadata": {},
   "source": [
    "**Great! You should now feel comfortable using the variety of methods that are built-in string objects!**"
   ]
  },
  {
   "cell_type": "markdown",
   "metadata": {},
   "source": [
    "## 16.98 Advanced Sets"
   ]
  },
  {
   "cell_type": "markdown",
   "metadata": {},
   "source": [
    "- Tässä osiossa opimmeset metodeja joita mahdollisesti et ole nähnyt.\n",
    "- Aloitetaan perusteista ja mennään syvemmälle: "
   ]
  },
  {
   "cell_type": "code",
   "execution_count": 46,
   "metadata": {},
   "outputs": [],
   "source": [
    "se = set()"
   ]
  },
  {
   "cell_type": "markdown",
   "metadata": {},
   "source": [
    "#### add():\n",
    "\n",
    "- Lisää alkion settiin\n",
    "- Muista että setti ei ota jo siellä olevaa alkiota. \n",
    "- Remember a set won't take duplicate elements and only present them once (thats why its called a set!)"
   ]
  },
  {
   "cell_type": "code",
   "execution_count": 47,
   "metadata": {},
   "outputs": [],
   "source": [
    "se.add(1)"
   ]
  },
  {
   "cell_type": "code",
   "execution_count": 48,
   "metadata": {},
   "outputs": [],
   "source": [
    "se.add(2)"
   ]
  },
  {
   "cell_type": "code",
   "execution_count": 49,
   "metadata": {},
   "outputs": [
    {
     "data": {
      "text/plain": [
       "{1, 2}"
      ]
     },
     "execution_count": 49,
     "metadata": {},
     "output_type": "execute_result"
    }
   ],
   "source": [
    "se"
   ]
  },
  {
   "cell_type": "markdown",
   "metadata": {},
   "source": [
    "#### .clear():\n",
    "- Poistaa setistä kaikki alkiot:"
   ]
  },
  {
   "cell_type": "code",
   "execution_count": 50,
   "metadata": {},
   "outputs": [],
   "source": [
    "se.clear()"
   ]
  },
  {
   "cell_type": "code",
   "execution_count": 51,
   "metadata": {},
   "outputs": [
    {
     "data": {
      "text/plain": [
       "set()"
      ]
     },
     "execution_count": 51,
     "metadata": {},
     "output_type": "execute_result"
    }
   ],
   "source": [
    "se"
   ]
  },
  {
   "cell_type": "markdown",
   "metadata": {},
   "source": [
    "#### .copy():\n",
    "\n",
    "- Palauttaa kopion setistä.\n",
    "- HUOMAA: Kyseessä on KOPIO, joten muutokset alkuperäiseen eivät vaikuta kopioon."
   ]
  },
  {
   "cell_type": "code",
   "execution_count": 52,
   "metadata": {},
   "outputs": [],
   "source": [
    "se = {1, 2, 3}"
   ]
  },
  {
   "cell_type": "code",
   "execution_count": 53,
   "metadata": {},
   "outputs": [],
   "source": [
    "sc = se.copy()"
   ]
  },
  {
   "cell_type": "code",
   "execution_count": 54,
   "metadata": {},
   "outputs": [
    {
     "data": {
      "text/plain": [
       "{1, 2, 3}"
      ]
     },
     "execution_count": 54,
     "metadata": {},
     "output_type": "execute_result"
    }
   ],
   "source": [
    "sc"
   ]
  },
  {
   "cell_type": "code",
   "execution_count": 55,
   "metadata": {},
   "outputs": [
    {
     "data": {
      "text/plain": [
       "{1, 2, 3}"
      ]
     },
     "execution_count": 55,
     "metadata": {},
     "output_type": "execute_result"
    }
   ],
   "source": [
    "se"
   ]
  },
  {
   "cell_type": "code",
   "execution_count": 56,
   "metadata": {},
   "outputs": [],
   "source": [
    "se.add(4)"
   ]
  },
  {
   "cell_type": "code",
   "execution_count": 57,
   "metadata": {},
   "outputs": [
    {
     "data": {
      "text/plain": [
       "{1, 2, 3, 4}"
      ]
     },
     "execution_count": 57,
     "metadata": {},
     "output_type": "execute_result"
    }
   ],
   "source": [
    "se"
   ]
  },
  {
   "cell_type": "code",
   "execution_count": 58,
   "metadata": {},
   "outputs": [
    {
     "data": {
      "text/plain": [
       "{1, 2, 3}"
      ]
     },
     "execution_count": 58,
     "metadata": {},
     "output_type": "execute_result"
    }
   ],
   "source": [
    "sc"
   ]
  },
  {
   "cell_type": "markdown",
   "metadata": {},
   "source": [
    "#### .difference():\n",
    "\n",
    "- .difference()-metodi palauttaa eron 2 setin välillä. Ssyntaksi:\n",
    "\n",
    "    set1.difference(set2)\n",
    "\n",
    "- For example:"
   ]
  },
  {
   "cell_type": "code",
   "execution_count": 59,
   "metadata": {},
   "outputs": [
    {
     "data": {
      "text/plain": [
       "{4}"
      ]
     },
     "execution_count": 59,
     "metadata": {},
     "output_type": "execute_result"
    }
   ],
   "source": [
    "se.difference(sc)"
   ]
  },
  {
   "cell_type": "markdown",
   "metadata": {},
   "source": [
    "#### .difference_update():\n",
    "\n",
    "- difference_update syntaksi:\n",
    "\n",
    "    set1.difference_update(set2)\n",
    "\n",
    "- Methodi palauttaa set1:n kun siitä on otettu set2:ssa olevat alkiot. "
   ]
  },
  {
   "cell_type": "code",
   "execution_count": 60,
   "metadata": {},
   "outputs": [],
   "source": [
    "s1 = {1,2,3}"
   ]
  },
  {
   "cell_type": "code",
   "execution_count": 61,
   "metadata": {},
   "outputs": [],
   "source": [
    "s2 = {1,4,5}"
   ]
  },
  {
   "cell_type": "code",
   "execution_count": 62,
   "metadata": {},
   "outputs": [],
   "source": [
    "s1.difference_update(s2)"
   ]
  },
  {
   "cell_type": "code",
   "execution_count": 63,
   "metadata": {},
   "outputs": [
    {
     "data": {
      "text/plain": [
       "{2, 3}"
      ]
     },
     "execution_count": 63,
     "metadata": {},
     "output_type": "execute_result"
    }
   ],
   "source": [
    "s1"
   ]
  },
  {
   "cell_type": "markdown",
   "metadata": {},
   "source": [
    "#### .discard():\n",
    "\n",
    "- Poistaa alkion setistä mikäli parametrinä annettu alkio on setissä.\n",
    "- If the element is not a member, do nothing."
   ]
  },
  {
   "cell_type": "code",
   "execution_count": 64,
   "metadata": {},
   "outputs": [],
   "source": [
    "se.discard(2)"
   ]
  },
  {
   "cell_type": "code",
   "execution_count": 65,
   "metadata": {},
   "outputs": [
    {
     "data": {
      "text/plain": [
       "{1, 3, 4}"
      ]
     },
     "execution_count": 65,
     "metadata": {},
     "output_type": "execute_result"
    }
   ],
   "source": [
    "se"
   ]
  },
  {
   "cell_type": "markdown",
   "metadata": {},
   "source": [
    "#### .intersection()- ja .intersection_update():\n",
    "\n",
    "- Palauttaa uuden leikkauksen 2sta tai useammasta setistä.(i.e. elements that are common to all of the sets.)"
   ]
  },
  {
   "cell_type": "code",
   "execution_count": 66,
   "metadata": {},
   "outputs": [],
   "source": [
    "s1 = {1,2,3}"
   ]
  },
  {
   "cell_type": "code",
   "execution_count": 67,
   "metadata": {},
   "outputs": [],
   "source": [
    "s2 = {1,2,4}"
   ]
  },
  {
   "cell_type": "code",
   "execution_count": 68,
   "metadata": {},
   "outputs": [
    {
     "data": {
      "text/plain": [
       "{1, 2}"
      ]
     },
     "execution_count": 68,
     "metadata": {},
     "output_type": "execute_result"
    }
   ],
   "source": [
    "s1.intersection(s2)"
   ]
  },
  {
   "cell_type": "code",
   "execution_count": 69,
   "metadata": {},
   "outputs": [
    {
     "data": {
      "text/plain": [
       "{1, 2, 3}"
      ]
     },
     "execution_count": 69,
     "metadata": {},
     "output_type": "execute_result"
    }
   ],
   "source": [
    "s1"
   ]
  },
  {
   "cell_type": "markdown",
   "metadata": {},
   "source": [
    "#### .intersection_update()-metodi päivittää setin leikkauksella:"
   ]
  },
  {
   "cell_type": "code",
   "execution_count": 70,
   "metadata": {},
   "outputs": [],
   "source": [
    "s1.intersection_update(s2)"
   ]
  },
  {
   "cell_type": "code",
   "execution_count": 71,
   "metadata": {},
   "outputs": [
    {
     "data": {
      "text/plain": [
       "{1, 2}"
      ]
     },
     "execution_count": 71,
     "metadata": {},
     "output_type": "execute_result"
    }
   ],
   "source": [
    "s1"
   ]
  },
  {
   "cell_type": "markdown",
   "metadata": {},
   "source": [
    "#### .isdisjoint():\n",
    "\n",
    "- Methodi palauttaa True jos kahdella setillä ei ole leikkausta.:"
   ]
  },
  {
   "cell_type": "code",
   "execution_count": 72,
   "metadata": {},
   "outputs": [],
   "source": [
    "s1 = {1,2}\n",
    "s2 = {1,2,4}\n",
    "s3 = {5}"
   ]
  },
  {
   "cell_type": "code",
   "execution_count": 73,
   "metadata": {},
   "outputs": [
    {
     "data": {
      "text/plain": [
       "False"
      ]
     },
     "execution_count": 73,
     "metadata": {},
     "output_type": "execute_result"
    }
   ],
   "source": [
    "s1.isdisjoint(s2)"
   ]
  },
  {
   "cell_type": "code",
   "execution_count": 74,
   "metadata": {},
   "outputs": [
    {
     "data": {
      "text/plain": [
       "True"
      ]
     },
     "execution_count": 74,
     "metadata": {},
     "output_type": "execute_result"
    }
   ],
   "source": [
    "s1.isdisjoint(s3)"
   ]
  },
  {
   "cell_type": "markdown",
   "metadata": {},
   "source": [
    "#### .issubset():\n",
    "\n",
    "- Methodi kertoo mikäli toinen setti sisältää setin."
   ]
  },
  {
   "cell_type": "code",
   "execution_count": 75,
   "metadata": {},
   "outputs": [],
   "source": [
    "s1 = {1,2}"
   ]
  },
  {
   "cell_type": "code",
   "execution_count": 76,
   "metadata": {},
   "outputs": [],
   "source": [
    "s2 = {1,2,4}"
   ]
  },
  {
   "cell_type": "code",
   "execution_count": 77,
   "metadata": {},
   "outputs": [
    {
     "data": {
      "text/plain": [
       "True"
      ]
     },
     "execution_count": 77,
     "metadata": {},
     "output_type": "execute_result"
    }
   ],
   "source": [
    "s1.issubset(s2)"
   ]
  },
  {
   "cell_type": "markdown",
   "metadata": {},
   "source": [
    "#### .issuperset():\n",
    "\n",
    "- Methodi kertoo mikäli setti sisältää toisen setin. (mikä ero edelliseen ...su-/super-? Vastaus: käänteinen)."
   ]
  },
  {
   "cell_type": "code",
   "execution_count": 79,
   "metadata": {},
   "outputs": [
    {
     "data": {
      "text/plain": [
       "True"
      ]
     },
     "execution_count": 79,
     "metadata": {},
     "output_type": "execute_result"
    }
   ],
   "source": [
    "s2.issuperset(s1)"
   ]
  },
  {
   "cell_type": "markdown",
   "metadata": {},
   "source": [
    "#### .symmetric_difference()- ja .symmetric_update():\n",
    "\n",
    "- Palauttaa symmetrisen eron kahdesta setistä uutena settinä.(i.e. all elements that are in exactly one of the sets.)"
   ]
  },
  {
   "cell_type": "code",
   "execution_count": 80,
   "metadata": {},
   "outputs": [],
   "source": [
    "s1 = {1,2}"
   ]
  },
  {
   "cell_type": "code",
   "execution_count": 81,
   "metadata": {},
   "outputs": [],
   "source": [
    "s2 = {1,2,4}"
   ]
  },
  {
   "cell_type": "code",
   "execution_count": 82,
   "metadata": {},
   "outputs": [
    {
     "data": {
      "text/plain": [
       "{4}"
      ]
     },
     "execution_count": 82,
     "metadata": {},
     "output_type": "execute_result"
    }
   ],
   "source": [
    "s1.symmetric_difference(s2)"
   ]
  },
  {
   "cell_type": "markdown",
   "metadata": {},
   "source": [
    "#### .union():\n",
    "\n",
    "- Palauttaa unionin kahdesta setistä (i.e. all elements that are in either set.):"
   ]
  },
  {
   "cell_type": "code",
   "execution_count": 83,
   "metadata": {},
   "outputs": [
    {
     "data": {
      "text/plain": [
       "{1, 2, 4}"
      ]
     },
     "execution_count": 83,
     "metadata": {},
     "output_type": "execute_result"
    }
   ],
   "source": [
    "s1.union(s2)"
   ]
  },
  {
   "cell_type": "markdown",
   "metadata": {},
   "source": [
    "#### .update():\n",
    "\n",
    "- Päivittää setin unionilla itsestä ja toisista seteistä:"
   ]
  },
  {
   "cell_type": "code",
   "execution_count": 84,
   "metadata": {},
   "outputs": [],
   "source": [
    "s1.update(s2)"
   ]
  },
  {
   "cell_type": "code",
   "execution_count": 85,
   "metadata": {},
   "outputs": [
    {
     "data": {
      "text/plain": [
       "{1, 2, 4}"
      ]
     },
     "execution_count": 85,
     "metadata": {},
     "output_type": "execute_result"
    }
   ],
   "source": [
    "s1"
   ]
  },
  {
   "cell_type": "markdown",
   "metadata": {},
   "source": [
    "Great! You should now have a complete awareness of all the methods available to you for a set object type. This data structure is extremely useful and is underutilized by beginners, so try to keep it in mind!\n",
    "\n",
    "Good Job!"
   ]
  },
  {
   "cell_type": "code",
   "execution_count": null,
   "metadata": {},
   "outputs": [],
   "source": []
  },
  {
   "cell_type": "markdown",
   "metadata": {},
   "source": [
    "## 16.99 Advanced Dictionaries"
   ]
  },
  {
   "cell_type": "markdown",
   "metadata": {},
   "source": [
    "- Toisin kuin muissa Data Structureissa, suurin osa hyödyllisistä metodeista on jo läpikäyty tällä kurssilla. \n",
    "- Tässä läpikäymme vielä muutaman hyvän menetelmän:"
   ]
  },
  {
   "cell_type": "code",
   "execution_count": 86,
   "metadata": {},
   "outputs": [],
   "source": [
    "d = {'k1':1,'k2':2}"
   ]
  },
  {
   "cell_type": "markdown",
   "metadata": {},
   "source": [
    "#### Dictionary Comprehensions\n",
    "\n",
    "- Kuten List Comprehensions, Dictionary Data Tyyppi tukee omaa versiota comprehensionin nopeasta luomisesta. \n",
    "- Ei niin yleinen kuin List Comprehensions, mutta tässä on syntaksi:"
   ]
  },
  {
   "cell_type": "code",
   "execution_count": 87,
   "metadata": {},
   "outputs": [
    {
     "data": {
      "text/plain": [
       "{0: 0, 1: 1, 2: 4, 3: 9, 4: 16, 5: 25, 6: 36, 7: 49, 8: 64, 9: 81}"
      ]
     },
     "execution_count": 87,
     "metadata": {},
     "output_type": "execute_result"
    }
   ],
   "source": [
    "{x:x**2 for x in range(10)}"
   ]
  },
  {
   "cell_type": "markdown",
   "metadata": {},
   "source": [
    "- Syy miksi se ei ole yleistynyt, on vaikeus avainnimien muodostamiseen jotka eivät perustu arvoihin."
   ]
  },
  {
   "cell_type": "markdown",
   "metadata": {},
   "source": [
    "#### Iteration over keys,values, and items:\n",
    "\n",
    "- Sanakirja voidaan iteroida käyttämällä .keys(), .values() ja items()-methodia. For example:"
   ]
  },
  {
   "cell_type": "code",
   "execution_count": 91,
   "metadata": {},
   "outputs": [
    {
     "name": "stdout",
     "output_type": "stream",
     "text": [
      "k1\n",
      "k2\n"
     ]
    }
   ],
   "source": [
    "for k in d.keys():\n",
    "    print(k)"
   ]
  },
  {
   "cell_type": "code",
   "execution_count": 92,
   "metadata": {},
   "outputs": [
    {
     "name": "stdout",
     "output_type": "stream",
     "text": [
      "1\n",
      "2\n"
     ]
    }
   ],
   "source": [
    "for k in d.values():\n",
    "    print(k)"
   ]
  },
  {
   "cell_type": "code",
   "execution_count": 93,
   "metadata": {},
   "outputs": [
    {
     "name": "stdout",
     "output_type": "stream",
     "text": [
      "('k1', 1)\n",
      "('k2', 2)\n"
     ]
    }
   ],
   "source": [
    "for k in d.items():\n",
    "    print(k)"
   ]
  },
  {
   "cell_type": "markdown",
   "metadata": {},
   "source": [
    "#### view .items()-,.keys()- and .values()-metodeilla:\n",
    "\n",
    "- Voit tsekata sanakirjan sisältämät arvoparit, avaimet ja arvot näillä metodeilla. "
   ]
  },
  {
   "cell_type": "code",
   "execution_count": 95,
   "metadata": {},
   "outputs": [
    {
     "data": {
      "text/plain": [
       "dict_keys(['k1', 'k2'])"
      ]
     },
     "execution_count": 95,
     "metadata": {},
     "output_type": "execute_result"
    }
   ],
   "source": [
    "d.keys()"
   ]
  },
  {
   "cell_type": "code",
   "execution_count": 96,
   "metadata": {},
   "outputs": [
    {
     "data": {
      "text/plain": [
       "dict_values([1, 2])"
      ]
     },
     "execution_count": 96,
     "metadata": {},
     "output_type": "execute_result"
    }
   ],
   "source": [
    "d.values()"
   ]
  },
  {
   "cell_type": "code",
   "execution_count": 97,
   "metadata": {},
   "outputs": [
    {
     "data": {
      "text/plain": [
       "dict_items([('k1', 1), ('k2', 2)])"
      ]
     },
     "execution_count": 97,
     "metadata": {},
     "output_type": "execute_result"
    }
   ],
   "source": [
    "d.items()"
   ]
  },
  {
   "cell_type": "markdown",
   "metadata": {},
   "source": [
    "**Great! You should now feel very comfortable using the variety of methods available to you in Dictionaries!**"
   ]
  },
  {
   "cell_type": "markdown",
   "metadata": {},
   "source": [
    "## 16.100 Advanced Lists"
   ]
  },
  {
   "cell_type": "markdown",
   "metadata": {},
   "source": [
    "- Tässä luennossa tutkimme hieman syvemmin listoille saatavillaolevia metodeja.\n",
    "- Eivät ole välttämättä \"advanced\"-metodeja, vaan metodeja joita ei välttämättä tule joka päivä vastaan.\n",
    "\n",
    "Lets begin!"
   ]
  },
  {
   "cell_type": "code",
   "execution_count": 98,
   "metadata": {},
   "outputs": [],
   "source": [
    "l = [1,2,3]"
   ]
  },
  {
   "cell_type": "markdown",
   "metadata": {},
   "source": [
    "#### .append():\n",
    "\n",
    "- Lisää alkion listan loppuun. Ks. lisää alla!!!"
   ]
  },
  {
   "cell_type": "code",
   "execution_count": 99,
   "metadata": {},
   "outputs": [],
   "source": [
    "l.append(4)"
   ]
  },
  {
   "cell_type": "code",
   "execution_count": 100,
   "metadata": {},
   "outputs": [
    {
     "data": {
      "text/plain": [
       "[1, 2, 3, 4]"
      ]
     },
     "execution_count": 100,
     "metadata": {},
     "output_type": "execute_result"
    }
   ],
   "source": [
    "l"
   ]
  },
  {
   "cell_type": "markdown",
   "metadata": {},
   "source": [
    "#### .count():\n",
    "\n",
    "- Laskee listasta parametrinä annetun alkion esiintymismäärän:"
   ]
  },
  {
   "cell_type": "code",
   "execution_count": 102,
   "metadata": {},
   "outputs": [
    {
     "data": {
      "text/plain": [
       "1"
      ]
     },
     "execution_count": 102,
     "metadata": {},
     "output_type": "execute_result"
    }
   ],
   "source": [
    "l.count(2)"
   ]
  },
  {
   "cell_type": "markdown",
   "metadata": {},
   "source": [
    "#### .append()- ja .extend():\n",
    "\n",
    "- Append lisää annetun alkion listan loppuun \n",
    "\n",
    "- Extend tekee saman mutta purkamalla aklion mikäli se on annettu listana, jolloin ei muodostu listaa alkiona:\n",
    "\n",
    "- So note:\n",
    "\n",
    "**append: Appends object at end**"
   ]
  },
  {
   "cell_type": "code",
   "execution_count": 104,
   "metadata": {},
   "outputs": [
    {
     "name": "stdout",
     "output_type": "stream",
     "text": [
      "[1, 2, 3, [4, 5]]\n"
     ]
    }
   ],
   "source": [
    "# HUOMAA: Lisää sisäkkäisenä listana!!!!\n",
    "x = [1, 2, 3]\n",
    "x.append([4, 5])\n",
    "print(x)"
   ]
  },
  {
   "cell_type": "code",
   "execution_count": null,
   "metadata": {},
   "outputs": [],
   "source": []
  },
  {
   "cell_type": "code",
   "execution_count": 106,
   "metadata": {},
   "outputs": [
    {
     "name": "stdout",
     "output_type": "stream",
     "text": [
      "[1, 2, 3, 4, 5]\n"
     ]
    }
   ],
   "source": [
    "# Tällä saadaan poistettua sisäkkäinen lista:\n",
    "x = [1, 2, 3]\n",
    "x.extend([4, 5])\n",
    "print(x)"
   ]
  },
  {
   "cell_type": "markdown",
   "metadata": {},
   "source": [
    "#### index():\n",
    "\n",
    "- Palauttaa parametrinä annetun indeksin mukaisen alkion listasta:"
   ]
  },
  {
   "cell_type": "code",
   "execution_count": 107,
   "metadata": {},
   "outputs": [
    {
     "data": {
      "text/plain": [
       "4"
      ]
     },
     "execution_count": 107,
     "metadata": {},
     "output_type": "execute_result"
    }
   ],
   "source": [
    "x.index(5)"
   ]
  },
  {
   "cell_type": "markdown",
   "metadata": {},
   "source": []
  },
  {
   "cell_type": "code",
   "execution_count": 114,
   "metadata": {},
   "outputs": [],
   "source": [
    "l = [1,2,3,4]"
   ]
  },
  {
   "cell_type": "markdown",
   "metadata": {},
   "source": [
    "#### .insert():\n",
    "\n",
    "- Sijoittaa listaan ensimmäisenä parametrinä annettuun indeksin kohtaan toisena parametrinä annetun alkion (insitu):"
   ]
  },
  {
   "cell_type": "code",
   "execution_count": 115,
   "metadata": {},
   "outputs": [],
   "source": [
    "# Sijoita merkkijono 'inserted' positioon 2:\n",
    "l.insert(2, 'inserted')"
   ]
  },
  {
   "cell_type": "code",
   "execution_count": 116,
   "metadata": {},
   "outputs": [
    {
     "data": {
      "text/plain": [
       "[1, 2, 'inserted', 3, 4]"
      ]
     },
     "execution_count": 116,
     "metadata": {},
     "output_type": "execute_result"
    }
   ],
   "source": [
    "l"
   ]
  },
  {
   "cell_type": "markdown",
   "metadata": {},
   "source": [
    "#### .pop():\n",
    "\n",
    "- poistaa listasta viimeisen alkion joka palautetaan muuttujalle (ei insitu):"
   ]
  },
  {
   "cell_type": "code",
   "execution_count": 117,
   "metadata": {},
   "outputs": [],
   "source": [
    "ele = l.pop()"
   ]
  },
  {
   "cell_type": "code",
   "execution_count": 118,
   "metadata": {},
   "outputs": [
    {
     "data": {
      "text/plain": [
       "4"
      ]
     },
     "execution_count": 118,
     "metadata": {},
     "output_type": "execute_result"
    }
   ],
   "source": [
    "ele"
   ]
  },
  {
   "cell_type": "markdown",
   "metadata": {},
   "source": [
    "#### .remove():\n",
    "\n",
    "- Poistaa listasta parametrinä annetun alkion:"
   ]
  },
  {
   "cell_type": "code",
   "execution_count": 119,
   "metadata": {},
   "outputs": [
    {
     "data": {
      "text/plain": [
       "[1, 2, 'inserted', 3]"
      ]
     },
     "execution_count": 119,
     "metadata": {},
     "output_type": "execute_result"
    }
   ],
   "source": [
    "l"
   ]
  },
  {
   "cell_type": "code",
   "execution_count": 120,
   "metadata": {},
   "outputs": [],
   "source": [
    "l.remove('inserted')"
   ]
  },
  {
   "cell_type": "code",
   "execution_count": 121,
   "metadata": {},
   "outputs": [
    {
     "data": {
      "text/plain": [
       "[1, 2, 3]"
      ]
     },
     "execution_count": 121,
     "metadata": {},
     "output_type": "execute_result"
    }
   ],
   "source": [
    "l"
   ]
  },
  {
   "cell_type": "markdown",
   "metadata": {},
   "source": [
    "#### .reverse():\n",
    "\n",
    "- Muuttaa listan alkiojärjestyksen käänteiseksi"
   ]
  },
  {
   "cell_type": "code",
   "execution_count": 122,
   "metadata": {},
   "outputs": [],
   "source": [
    "l.reverse()"
   ]
  },
  {
   "cell_type": "code",
   "execution_count": 123,
   "metadata": {},
   "outputs": [
    {
     "data": {
      "text/plain": [
       "[3, 2, 1]"
      ]
     },
     "execution_count": 123,
     "metadata": {},
     "output_type": "execute_result"
    }
   ],
   "source": [
    "l"
   ]
  },
  {
   "cell_type": "markdown",
   "metadata": {},
   "source": [
    "#### .sort()-\n",
    "\n",
    "\n",
    "- Sorttaa listasi"
   ]
  },
  {
   "cell_type": "code",
   "execution_count": 124,
   "metadata": {},
   "outputs": [
    {
     "data": {
      "text/plain": [
       "[3, 2, 1]"
      ]
     },
     "execution_count": 124,
     "metadata": {},
     "output_type": "execute_result"
    }
   ],
   "source": [
    "l"
   ]
  },
  {
   "cell_type": "code",
   "execution_count": 125,
   "metadata": {},
   "outputs": [],
   "source": [
    "l.sort()"
   ]
  },
  {
   "cell_type": "code",
   "execution_count": 126,
   "metadata": {},
   "outputs": [
    {
     "data": {
      "text/plain": [
       "[1, 2, 3]"
      ]
     },
     "execution_count": 126,
     "metadata": {},
     "output_type": "execute_result"
    }
   ],
   "source": [
    "l"
   ]
  },
  {
   "cell_type": "markdown",
   "metadata": {},
   "source": [
    "**Great! You should now have an understanding of all the methods available for a list in Python!**"
   ]
  },
  {
   "cell_type": "code",
   "execution_count": null,
   "metadata": {},
   "outputs": [],
   "source": []
  },
  {
   "cell_type": "markdown",
   "metadata": {},
   "source": [
    "## 16.101&102 Advanced Python Objects Test&Solutions"
   ]
  },
  {
   "cell_type": "markdown",
   "metadata": {},
   "source": [
    "## Advanced Numbers\n",
    "\n",
    "**Problem 1: Convert 1024 to binary and hexadecimal representation:**"
   ]
  },
  {
   "cell_type": "code",
   "execution_count": 154,
   "metadata": {},
   "outputs": [
    {
     "data": {
      "text/plain": [
       "'0b10000000000'"
      ]
     },
     "execution_count": 154,
     "metadata": {},
     "output_type": "execute_result"
    }
   ],
   "source": [
    "bin(1024)"
   ]
  },
  {
   "cell_type": "code",
   "execution_count": 155,
   "metadata": {},
   "outputs": [
    {
     "data": {
      "text/plain": [
       "'0x400'"
      ]
     },
     "execution_count": 155,
     "metadata": {},
     "output_type": "execute_result"
    }
   ],
   "source": [
    "hex(1024)"
   ]
  },
  {
   "cell_type": "markdown",
   "metadata": {},
   "source": [
    "**Problem 2: Round 5.23222 to two decimal places**"
   ]
  },
  {
   "cell_type": "code",
   "execution_count": 156,
   "metadata": {},
   "outputs": [
    {
     "data": {
      "text/plain": [
       "5.23"
      ]
     },
     "execution_count": 156,
     "metadata": {},
     "output_type": "execute_result"
    }
   ],
   "source": [
    "round(5.23222, 2)"
   ]
  },
  {
   "cell_type": "markdown",
   "metadata": {},
   "source": [
    "## Advanced Strings\n",
    "**Problem 3: Check if every letter in the string s is lower case**"
   ]
  },
  {
   "cell_type": "code",
   "execution_count": 158,
   "metadata": {},
   "outputs": [],
   "source": [
    "s = 'hello how are you Mary, are you feeling okay?'"
   ]
  },
  {
   "cell_type": "code",
   "execution_count": 159,
   "metadata": {},
   "outputs": [
    {
     "data": {
      "text/plain": [
       "False"
      ]
     },
     "execution_count": 159,
     "metadata": {},
     "output_type": "execute_result"
    }
   ],
   "source": [
    "s.islower()"
   ]
  },
  {
   "cell_type": "markdown",
   "metadata": {},
   "source": [
    "**Problem 4: How many times does the letter 'w' show up in the string below?**"
   ]
  },
  {
   "cell_type": "code",
   "execution_count": 160,
   "metadata": {},
   "outputs": [],
   "source": [
    "s = 'twywywtwywbwhsjhwuwshshwuwwwjdjdid'"
   ]
  },
  {
   "cell_type": "code",
   "execution_count": 161,
   "metadata": {},
   "outputs": [
    {
     "data": {
      "text/plain": [
       "12"
      ]
     },
     "execution_count": 161,
     "metadata": {},
     "output_type": "execute_result"
    }
   ],
   "source": [
    "s.count('w')"
   ]
  },
  {
   "cell_type": "markdown",
   "metadata": {},
   "source": [
    "## Advanced Sets"
   ]
  },
  {
   "cell_type": "markdown",
   "metadata": {},
   "source": [
    "**Problem 5: Find the elements in set1 that are not in set2:**"
   ]
  },
  {
   "cell_type": "code",
   "execution_count": 162,
   "metadata": {},
   "outputs": [],
   "source": [
    "set1 = {2,3,1,5,6,8}\n",
    "set2 = {3,1,7,5,6,8}"
   ]
  },
  {
   "cell_type": "code",
   "execution_count": 164,
   "metadata": {},
   "outputs": [
    {
     "data": {
      "text/plain": [
       "{2}"
      ]
     },
     "execution_count": 164,
     "metadata": {},
     "output_type": "execute_result"
    }
   ],
   "source": [
    "set1.difference(set2)"
   ]
  },
  {
   "cell_type": "markdown",
   "metadata": {},
   "source": [
    "**Problem 6: Find all elements that are in either set:**"
   ]
  },
  {
   "cell_type": "code",
   "execution_count": 165,
   "metadata": {},
   "outputs": [
    {
     "data": {
      "text/plain": [
       "{1, 2, 3, 5, 6, 7, 8}"
      ]
     },
     "execution_count": 165,
     "metadata": {},
     "output_type": "execute_result"
    }
   ],
   "source": [
    "set1.union(set2)"
   ]
  },
  {
   "cell_type": "markdown",
   "metadata": {},
   "source": [
    "## Advanced Dictionaries\n",
    "\n",
    "**Problem 7: Create this dictionary:\n",
    "{0: 0, 1: 1, 2: 8, 3: 27, 4: 64}\n",
    " using dictionary comprehension.**"
   ]
  },
  {
   "cell_type": "code",
   "execution_count": 167,
   "metadata": {},
   "outputs": [
    {
     "data": {
      "text/plain": [
       "{0: 0, 1: 1, 2: 8, 3: 27, 4: 64}"
      ]
     },
     "execution_count": 167,
     "metadata": {},
     "output_type": "execute_result"
    }
   ],
   "source": [
    "{x:x**3 for x in range(5)}"
   ]
  },
  {
   "cell_type": "markdown",
   "metadata": {},
   "source": [
    "## Advanced Lists\n",
    "\n",
    "**Problem 8: Reverse the list below:**"
   ]
  },
  {
   "cell_type": "code",
   "execution_count": 171,
   "metadata": {},
   "outputs": [],
   "source": [
    "l = [1,2,3,4]"
   ]
  },
  {
   "cell_type": "code",
   "execution_count": 172,
   "metadata": {},
   "outputs": [
    {
     "data": {
      "text/plain": [
       "[1, 2, 3, 4]"
      ]
     },
     "execution_count": 172,
     "metadata": {},
     "output_type": "execute_result"
    }
   ],
   "source": [
    "l"
   ]
  },
  {
   "cell_type": "code",
   "execution_count": 173,
   "metadata": {},
   "outputs": [],
   "source": [
    "l.reverse()"
   ]
  },
  {
   "cell_type": "code",
   "execution_count": 174,
   "metadata": {},
   "outputs": [
    {
     "data": {
      "text/plain": [
       "[4, 3, 2, 1]"
      ]
     },
     "execution_count": 174,
     "metadata": {},
     "output_type": "execute_result"
    }
   ],
   "source": [
    "l"
   ]
  },
  {
   "cell_type": "markdown",
   "metadata": {},
   "source": [
    "**Problem 9: Sort the list below**"
   ]
  },
  {
   "cell_type": "code",
   "execution_count": 175,
   "metadata": {},
   "outputs": [],
   "source": [
    "l = [3,4,2,5,1]"
   ]
  },
  {
   "cell_type": "code",
   "execution_count": 176,
   "metadata": {},
   "outputs": [],
   "source": [
    "l.sort()"
   ]
  },
  {
   "cell_type": "code",
   "execution_count": 177,
   "metadata": {},
   "outputs": [
    {
     "data": {
      "text/plain": [
       "[1, 2, 3, 4, 5]"
      ]
     },
     "execution_count": 177,
     "metadata": {},
     "output_type": "execute_result"
    }
   ],
   "source": [
    "l"
   ]
  },
  {
   "cell_type": "markdown",
   "metadata": {},
   "source": [
    "## Great Job!"
   ]
  },
  {
   "cell_type": "code",
   "execution_count": null,
   "metadata": {},
   "outputs": [],
   "source": []
  },
  {
   "cell_type": "markdown",
   "metadata": {},
   "source": [
    "## 17.105 Interact Functionality with GUIs"
   ]
  },
  {
   "cell_type": "markdown",
   "metadata": {},
   "source": [
    "### Using Interact\n",
    "\n",
    "In this lecture we will begin to learn about creating dashboard-type GUI with iPython widgets!"
   ]
  },
  {
   "cell_type": "markdown",
   "metadata": {},
   "source": [
    "The `interact` function (`ipywidgets.interact`) automatically creates user interface (UI) controls for exploring code and data interactively. It is the easiest way to get started using IPython's widgets."
   ]
  },
  {
   "cell_type": "markdown",
   "metadata": {},
   "source": [
    "### HUOMAA: GRAAFISET \"MOLLULAT\" JA \"VITKETTIMET\" EI NÄY JUPYTER LABISSA; JOTEN AVAA JUPYTER NOTEBOOK!!!!!"
   ]
  },
  {
   "cell_type": "markdown",
   "metadata": {},
   "source": [
    "### Start with some imports!"
   ]
  },
  {
   "cell_type": "code",
   "execution_count": 1,
   "metadata": {},
   "outputs": [],
   "source": [
    "from ipywidgets import interact, interactive, fixed"
   ]
  },
  {
   "cell_type": "code",
   "execution_count": 2,
   "metadata": {},
   "outputs": [],
   "source": [
    "import ipywidgets as widgets"
   ]
  },
  {
   "cell_type": "code",
   "execution_count": 3,
   "metadata": {},
   "outputs": [],
   "source": [
    "from __future__ import print_function"
   ]
  },
  {
   "cell_type": "markdown",
   "metadata": {},
   "source": [
    "<div class=\"alert alert-success\">\n",
    "Please Note! The widgets in this notebook won't show up on NbViewer or GitHub renderings. To view the widgets and interact with them, you will need to download this notebook and run it with a Jupyter Notebook server.\n",
    "\n",
    "</div>"
   ]
  },
  {
   "cell_type": "markdown",
   "metadata": {},
   "source": [
    "### Basic `interact`"
   ]
  },
  {
   "cell_type": "markdown",
   "metadata": {},
   "source": [
    "At the most basic level, `interact` auto-generates UI controls for function arguments, and then calls the function with those arguments when you manipulate the controls interactively. To use `interact`, you need to define a function that you want to explore. Here is a function that prints its only argument `x`."
   ]
  },
  {
   "cell_type": "code",
   "execution_count": 4,
   "metadata": {},
   "outputs": [],
   "source": [
    "# Hyvin perus funktio:\n",
    "def f(x):\n",
    "    return x"
   ]
  },
  {
   "cell_type": "markdown",
   "metadata": {},
   "source": [
    "Kun syötät tämän funktion ensimmäisenä argumenttina `interact` :ille yhdessä keyword-argumentin (`x=10`) kanssa, interact muodostaa sliderin ja sitoo siihen funktion parametrin. HUOMAA: Koodirivissä esiintyvä puolipiste estää vain **out** solun näyttäytymisen."
   ]
  },
  {
   "cell_type": "code",
   "execution_count": 5,
   "metadata": {},
   "outputs": [
    {
     "data": {
      "application/vnd.jupyter.widget-view+json": {
       "model_id": "5f93f1f236e042a18a95347cdbb07338",
       "version_major": 2,
       "version_minor": 0
      },
      "text/plain": [
       "interactive(children=(IntSlider(value=10, description='x', max=30, min=-10), Output()), _dom_classes=('widget-…"
      ]
     },
     "metadata": {},
     "output_type": "display_data"
    },
    {
     "data": {
      "text/plain": [
       "<function __main__.f(x)>"
      ]
     },
     "execution_count": 5,
     "metadata": {},
     "output_type": "execute_result"
    }
   ],
   "source": [
    "# Tuottaa interactilla sliderin kommunikointia varten\n",
    "interact(f, x=10)"
   ]
  },
  {
   "cell_type": "markdown",
   "metadata": {},
   "source": [
    "Nyt kun liikutat slideriä, interact kutsuu funktiota-f ja funktiolle argumenttina annettu kw-argumentti muuttuu siinä suhteessa kun liikutat slideriä, eli ts. funktiota kutsutaan sliderillä, joka näkyy alla sen mukaisesti arvona `x`.\n",
    "\n",
    "Jos syötät x:lle arvoksi joko `True` tai `False`, `interact` tuottaa rasti-ruutuun-check-boxin:"
   ]
  },
  {
   "cell_type": "code",
   "execution_count": 6,
   "metadata": {},
   "outputs": [
    {
     "data": {
      "application/vnd.jupyter.widget-view+json": {
       "model_id": "f637fcdd28504f4b99efa09a49a1884f",
       "version_major": 2,
       "version_minor": 0
      },
      "text/plain": [
       "interactive(children=(Checkbox(value=True, description='x'), Output()), _dom_classes=('widget-interact',))"
      ]
     },
     "metadata": {},
     "output_type": "display_data"
    }
   ],
   "source": [
    "# Boolean-arvot tuottavat rasti-ruutuun-check-boxin\n",
    "interact(f, x=True);"
   ]
  },
  {
   "cell_type": "markdown",
   "metadata": {},
   "source": [
    "Mikäli annat x-argumentille merkkijonon, `interact` tuottaa tekstinsyöttöruudun."
   ]
  },
  {
   "cell_type": "code",
   "execution_count": 7,
   "metadata": {},
   "outputs": [
    {
     "data": {
      "application/vnd.jupyter.widget-view+json": {
       "model_id": "c300715937104ee2bab7708b4de06fb2",
       "version_major": 2,
       "version_minor": 0
      },
      "text/plain": [
       "interactive(children=(Text(value='Hi there!', description='x'), Output()), _dom_classes=('widget-interact',))"
      ]
     },
     "metadata": {},
     "output_type": "display_data"
    }
   ],
   "source": [
    "# Merkkijono tuottaa tekstinsyöttöruudun\n",
    "interact(f, x='Hi there!');"
   ]
  },
  {
   "cell_type": "markdown",
   "metadata": {},
   "source": [
    "`interact` ia voi myös hyödyntää dekoratorina. Voit siten liittää interactin dekoraattoriksi mihin tahansa funktioon ja saada funktio hyödynnettyä GUI:ssa saman tien! Wow!! Esimerkki tästä interact-dekoraattorin käytöstä katso alla. Tämä esimerkki osoittaa miten `interact` toimii kun funktiolla on useita eri argumentteja."
   ]
  },
  {
   "cell_type": "code",
   "execution_count": 8,
   "metadata": {},
   "outputs": [
    {
     "data": {
      "application/vnd.jupyter.widget-view+json": {
       "model_id": "6f3f2ef788344f37b15ede1643a11795",
       "version_major": 2,
       "version_minor": 0
      },
      "text/plain": [
       "interactive(children=(Checkbox(value=True, description='x'), FloatSlider(value=1.0, description='y', max=3.0, …"
      ]
     },
     "metadata": {},
     "output_type": "display_data"
    }
   ],
   "source": [
    "# Interactin käyttö decoratorina! HUOMAA: Funktio nargumentit määritetään dekoroinnissa kw-argsin arvoina:\n",
    "@interact(x=True, y=1.0)\n",
    "def g(x, y):\n",
    "    return (x, y)"
   ]
  },
  {
   "cell_type": "markdown",
   "metadata": {},
   "source": [
    "### Kiinnitetyt argumentit käyttämällä `fixed` komentoa"
   ]
  },
  {
   "cell_type": "markdown",
   "metadata": {},
   "source": [
    "Ajoittain saatat haluta hyödyntää funktiossasi `interact`, mutta joko sitoa kiinteään args-arvoon tai niin että se on sidottu johonkin tiettyyn kiinteään arvoon. Tämä saadaan hoidettua siten että arvot sidotaan laittamalla ne sulkeisiin `fixed` funktion sisään."
   ]
  },
  {
   "cell_type": "code",
   "execution_count": 9,
   "metadata": {},
   "outputs": [],
   "source": [
    "# Käytämme taas simppeliä funktiota:\n",
    "def h(p, q):\n",
    "    return (p, q)"
   ]
  },
  {
   "cell_type": "markdown",
   "metadata": {},
   "source": [
    "Kun kutsumme `interact`:ia, syötämme siihen q-argumentin arvona `fixed(20)` pitääksemme kiinteänä arvona `20`."
   ]
  },
  {
   "cell_type": "code",
   "execution_count": 10,
   "metadata": {},
   "outputs": [
    {
     "data": {
      "application/vnd.jupyter.widget-view+json": {
       "model_id": "394d6729976942fe978432607637830d",
       "version_major": 2,
       "version_minor": 0
      },
      "text/plain": [
       "interactive(children=(IntSlider(value=5, description='p', max=15, min=-5), Output()), _dom_classes=('widget-in…"
      ]
     },
     "metadata": {},
     "output_type": "display_data"
    }
   ],
   "source": [
    "interact(h, p=5, q=fixed(20));"
   ]
  },
  {
   "cell_type": "markdown",
   "metadata": {},
   "source": [
    "Huomaa, että slideri tuotetaan vain `p`:lle, koska `q` on asetettu kiinteaksi, jolloin ei tuoteta slideriä."
   ]
  },
  {
   "cell_type": "markdown",
   "metadata": {},
   "source": [
    "### Widgetti-lyhennykset"
   ]
  },
  {
   "cell_type": "markdown",
   "metadata": {},
   "source": [
    "Kun syötät kokonaislukuarvon kw-argumentille `10` (`x=10`)  `interact`:ille, se tuottaa sliderkontrollerin annetulla arvolla jossa raja-arvoina ovat $[-10,+3\\times10]$. Siinä tapauksessa, että `10` on *abbreviation* itse slider vidgetille:\n",
    "\n",
    "```python\n",
    "IntSlider(min=-10,max=30,step=1,value=10)\n",
    "```\n",
    "\n",
    "Voimme kuitenkin saada aikaan saman kun syötämme `IntSlider` kw-argumenttina `x`:lle:"
   ]
  },
  {
   "cell_type": "code",
   "execution_count": 11,
   "metadata": {},
   "outputs": [
    {
     "data": {
      "application/vnd.jupyter.widget-view+json": {
       "model_id": "05bf746fb4f54253922fa17cfc031e1c",
       "version_major": 2,
       "version_minor": 0
      },
      "text/plain": [
       "interactive(children=(IntSlider(value=10, description='x', max=30, min=-10), Output()), _dom_classes=('widget-…"
      ]
     },
     "metadata": {},
     "output_type": "display_data"
    }
   ],
   "source": [
    "# Can call the IntSlider to get more specific\n",
    "interact(f, x=widgets.IntSlider(min=-10,max=30,step=1,value=10));"
   ]
  },
  {
   "cell_type": "markdown",
   "metadata": {},
   "source": [
    "Tämä esimerkki selventänee sen miten `interact` prosessoi sille annetun k-argumentin:\n",
    "\n",
    "1. If the keyword argument is a `Widget` instance with a `value` attribute, that widget is used. Any widget with a `value` attribute can be used, even custom ones.\n",
    "2. Otherwise, the value is treated as a *widget abbreviation* that is converted to a widget before it is used.\n",
    "\n",
    "Alla oleva taulukko antaa listaa widgeteille käytetyistä lyhennyksisä:\n",
    "\n",
    "<table class=\"table table-condensed table-bordered\">\n",
    "  <tr><td><strong>Keyword argument</strong></td><td><strong>Widget</strong></td></tr>  \n",
    "  <tr><td>`True` or `False`</td><td>Rasti-ruutuun-boxi</td></tr>  \n",
    "  <tr><td>`'Hi there'`</td><td>Tekstinsyöttöalue</td></tr>\n",
    "  <tr><td>`value` or `(min,max)` or `(min,max,step)` mikäli kok- luku syötetään</td><td>IntSlider</td></tr>\n",
    "  <tr><td>`value` or `(min,max)` or `(min,max,step)` mikäli murtoluku syötetään</td><td>FloatSlider</td></tr>\n",
    "  <tr><td>`['orange','apple']` or `{'one':1,'two':2}`</td><td>pudotusvalikko</td></tr>\n",
    "</table>"
   ]
  },
  {
   "cell_type": "markdown",
   "metadata": {},
   "source": [
    "Olet nyt nähnyt miten rasti-ruutuun-boxi- ja tekstinsyöttötoimintowidgetit toimivat yllä. Here, more details about the different abbreviations for sliders and drop-downs are given.\n",
    "\n",
    "If a 2-tuple of integers is passed `(min,max)`, an integer-valued slider is produced with those minimum and maximum values (inclusively). In this case, the default step size of `1` is used."
   ]
  },
  {
   "cell_type": "code",
   "execution_count": 12,
   "metadata": {},
   "outputs": [
    {
     "data": {
      "application/vnd.jupyter.widget-view+json": {
       "model_id": "240f15fc29bb44ba92d68c14e54264b5",
       "version_major": 2,
       "version_minor": 0
      },
      "text/plain": [
       "interactive(children=(IntSlider(value=2, description='x', max=4), Output()), _dom_classes=('widget-interact',)…"
      ]
     },
     "metadata": {},
     "output_type": "display_data"
    }
   ],
   "source": [
    "# Sliderin Min,Max arvot annetaan tuplena:\n",
    "interact(f, x=(0,4));"
   ]
  },
  {
   "cell_type": "markdown",
   "metadata": {},
   "source": [
    "Mikäli annetaan argumentin arvona kolme kokonaislukua sisältävän tuplen `(min,max,step)`, voidaan liukurille asettaa steppiarvo."
   ]
  },
  {
   "cell_type": "code",
   "execution_count": 13,
   "metadata": {},
   "outputs": [
    {
     "data": {
      "application/vnd.jupyter.widget-view+json": {
       "model_id": "5d438a40526b410cb0e55d691b19caef",
       "version_major": 2,
       "version_minor": 0
      },
      "text/plain": [
       "interactive(children=(IntSlider(value=4, description='x', max=8, step=2), Output()), _dom_classes=('widget-int…"
      ]
     },
     "metadata": {},
     "output_type": "display_data"
    }
   ],
   "source": [
    "# (min, max, steppiarvo)\n",
    "interact(f, x=(0,8,2));"
   ]
  },
  {
   "cell_type": "markdown",
   "metadata": {},
   "source": [
    "Jatkuva liuku-slideri saadaan aikaiseksi, kun tuplelle annetaan desimaaliarvoja. Tässä miniminä on `0.0`, ja maximinä on `10.0` sekä steppiarvona on `0.1` (oletusarvo)."
   ]
  },
  {
   "cell_type": "code",
   "execution_count": 14,
   "metadata": {},
   "outputs": [
    {
     "data": {
      "application/vnd.jupyter.widget-view+json": {
       "model_id": "3a65b82d6101432b9a4896266b48948a",
       "version_major": 2,
       "version_minor": 0
      },
      "text/plain": [
       "interactive(children=(FloatSlider(value=5.0, description='x', max=10.0), Output()), _dom_classes=('widget-inte…"
      ]
     },
     "metadata": {},
     "output_type": "display_data"
    }
   ],
   "source": [
    "interact(f, x=(0.0,10.0));"
   ]
  },
  {
   "cell_type": "markdown",
   "metadata": {},
   "source": [
    "steppiarvon voi muuttaa antamalla kolmantena alkiona tuplelle."
   ]
  },
  {
   "cell_type": "code",
   "execution_count": 15,
   "metadata": {},
   "outputs": [
    {
     "data": {
      "application/vnd.jupyter.widget-view+json": {
       "model_id": "b485e108996c45a4923fb92a30e6baf0",
       "version_major": 2,
       "version_minor": 0
      },
      "text/plain": [
       "interactive(children=(FloatSlider(value=5.0, description='x', max=10.0, step=0.01), Output()), _dom_classes=('…"
      ]
     },
     "metadata": {},
     "output_type": "display_data"
    }
   ],
   "source": [
    "interact(f, x=(0.0,10.0,0.01));"
   ]
  },
  {
   "cell_type": "markdown",
   "metadata": {},
   "source": [
    "Voit valita widgetin lähtöarvoiksi sekä kokonais- että liukulukuarvoja sliderille, syöttämällä ne oletuksena kw-argumenttina Python funktiolle. Tässä asetamme liukulukuiselle sliderille lähtöarvoksi `5.5`."
   ]
  },
  {
   "cell_type": "code",
   "execution_count": 16,
   "metadata": {},
   "outputs": [
    {
     "data": {
      "application/vnd.jupyter.widget-view+json": {
       "model_id": "72f25759426b4a8ebdcce6ba62c4599a",
       "version_major": 2,
       "version_minor": 0
      },
      "text/plain": [
       "interactive(children=(FloatSlider(value=5.5, description='x', max=20.0, step=0.5), Output()), _dom_classes=('w…"
      ]
     },
     "metadata": {},
     "output_type": "display_data"
    }
   ],
   "source": [
    "@interact(x=(0.0,20.0,0.5))\n",
    "def h(x=5.5):\n",
    "    return x"
   ]
  },
  {
   "cell_type": "markdown",
   "metadata": {},
   "source": [
    "Pudotusvalikko muodostetaan antamalla listalle arvoina merkkijonoja. Tässä tapauksessa merkkijonoja käytetään sekä pudotusvalikko-UI:n niminä että syötetään arvoina dekoderaattorin alla olevalle Python-funktiolle."
   ]
  },
  {
   "cell_type": "code",
   "execution_count": 17,
   "metadata": {},
   "outputs": [
    {
     "data": {
      "application/vnd.jupyter.widget-view+json": {
       "model_id": "229f51cba9e0466a9dc3e10c67349c74",
       "version_major": 2,
       "version_minor": 0
      },
      "text/plain": [
       "interactive(children=(Dropdown(description='x', options=('omena', 'appelsiini', 'päärynä'), value='omena'), Ou…"
      ]
     },
     "metadata": {},
     "output_type": "display_data"
    }
   ],
   "source": [
    "interact(f, x=['omena','appelsiini', 'päärynä']);"
   ]
  },
  {
   "cell_type": "markdown",
   "metadata": {},
   "source": [
    "Mikäli pudotusvalikko halutaan jonain muuna kuin merkkijonoina, voidaan antaa argumentteina sanakirja, jossa avainarvot ovat pudotusvalikon niminä ja arvo-alkiot syötetään allaolevalle funktiolle."
   ]
  },
  {
   "cell_type": "code",
   "execution_count": 18,
   "metadata": {},
   "outputs": [
    {
     "data": {
      "application/vnd.jupyter.widget-view+json": {
       "model_id": "1f94fe71e0104adb92e3ffba65645e2e",
       "version_major": 2,
       "version_minor": 0
      },
      "text/plain": [
       "interactive(children=(Dropdown(description='x', options={'one': 10, 'two': 20}, value=10), Output()), _dom_cla…"
      ]
     },
     "metadata": {},
     "output_type": "display_data"
    }
   ],
   "source": [
    "interact(f, x={'one': 10, 'two': 20});"
   ]
  },
  {
   "cell_type": "markdown",
   "metadata": {},
   "source": [
    "### Using function annotations with `interact`"
   ]
  },
  {
   "cell_type": "markdown",
   "metadata": {},
   "source": [
    "Mikäli käytät Python 3, you can also specify widget abbreviations using [function annotations](https://docs.python.org/3/tutorial/controlflow.html#function-annotations).\n",
    "\n",
    "\n",
    "### PYTHON 3\n",
    "Define a function with a checkbox widget abbreviation for the argument `x`."
   ]
  },
  {
   "cell_type": "code",
   "execution_count": 19,
   "metadata": {},
   "outputs": [],
   "source": [
    "def f(x:True): # python 3 ainoastaan\n",
    "    return x"
   ]
  },
  {
   "cell_type": "markdown",
   "metadata": {},
   "source": [
    "Koska widget abbreviation on jo määritetty, voit kutsua `interact` yhdellä argumentillä."
   ]
  },
  {
   "cell_type": "code",
   "execution_count": 20,
   "metadata": {},
   "outputs": [
    {
     "data": {
      "application/vnd.jupyter.widget-view+json": {
       "model_id": "6a4eac96812d4ab69e354464f9c504dd",
       "version_major": 2,
       "version_minor": 0
      },
      "text/plain": [
       "interactive(children=(Checkbox(value=True, description='x'), Output()), _dom_classes=('widget-interact',))"
      ]
     },
     "metadata": {},
     "output_type": "display_data"
    }
   ],
   "source": [
    "interact(f);"
   ]
  },
  {
   "cell_type": "markdown",
   "metadata": {},
   "source": [
    "### interactive"
   ]
  },
  {
   "cell_type": "markdown",
   "metadata": {},
   "source": [
    "`interact` lisäksi, IPython tarjoaa toisen funktion, `interactive`, joka on hyödyllinen kun halutaan käyttää luotuja widgetteja uudelleen tai päästä käsiksi dataan jotka ovat sidottu UI kontrollorehin."
   ]
  },
  {
   "cell_type": "markdown",
   "metadata": {},
   "source": [
    "Tässä funktio joka palauttaa 2 argumentin summan."
   ]
  },
  {
   "cell_type": "code",
   "execution_count": 21,
   "metadata": {},
   "outputs": [],
   "source": [
    "from IPython.display import display\n",
    "def f(a, b):\n",
    "    return a+b"
   ]
  },
  {
   "cell_type": "markdown",
   "metadata": {},
   "source": [
    "Toisin kuin `interact`, `interactive` palauttaa `Widget` instance rather than immediately displaying the widget."
   ]
  },
  {
   "cell_type": "code",
   "execution_count": 22,
   "metadata": {},
   "outputs": [],
   "source": [
    "w = interactive(f, a=10, b=20)"
   ]
  },
  {
   "cell_type": "markdown",
   "metadata": {},
   "source": [
    "Widget on `Box`, which is a container for other widgets."
   ]
  },
  {
   "cell_type": "code",
   "execution_count": 23,
   "metadata": {},
   "outputs": [
    {
     "data": {
      "text/plain": [
       "ipywidgets.widgets.interaction.interactive"
      ]
     },
     "execution_count": 23,
     "metadata": {},
     "output_type": "execute_result"
    }
   ],
   "source": [
    "type(w)"
   ]
  },
  {
   "cell_type": "markdown",
   "metadata": {},
   "source": [
    "The children of the `Box` are two integer-valued sliders produced by the widget abbreviations above."
   ]
  },
  {
   "cell_type": "code",
   "execution_count": 24,
   "metadata": {},
   "outputs": [
    {
     "data": {
      "text/plain": [
       "(IntSlider(value=10, description='a', max=30, min=-10),\n",
       " IntSlider(value=20, description='b', max=60, min=-20),\n",
       " Output())"
      ]
     },
     "execution_count": 24,
     "metadata": {},
     "output_type": "execute_result"
    }
   ],
   "source": [
    "w.children"
   ]
  },
  {
   "cell_type": "markdown",
   "metadata": {},
   "source": [
    "To actually display the widgets, you can use IPython's `display` function."
   ]
  },
  {
   "cell_type": "code",
   "execution_count": 25,
   "metadata": {},
   "outputs": [
    {
     "data": {
      "application/vnd.jupyter.widget-view+json": {
       "model_id": "50d7177bb1f94b9cb759ee0b6be27196",
       "version_major": 2,
       "version_minor": 0
      },
      "text/plain": [
       "interactive(children=(IntSlider(value=10, description='a', max=30, min=-10), IntSlider(value=20, description='…"
      ]
     },
     "metadata": {},
     "output_type": "display_data"
    }
   ],
   "source": [
    "from IPython.display import display\n",
    "display(w)"
   ]
  },
  {
   "cell_type": "markdown",
   "metadata": {},
   "source": [
    "At this point, the UI controls work just like they would if `interact` had been used. You can manipulate them interactively and the function will be called. However, the widget instance returned by `interactive` also give you access to the current keyword arguments and return value of the underlying Python function.\n",
    "\n",
    "Here are the current keyword arguments. If you rerun this cell after manipulating the sliders, the values will have changed."
   ]
  },
  {
   "cell_type": "code",
   "execution_count": 26,
   "metadata": {},
   "outputs": [
    {
     "data": {
      "text/plain": [
       "{'a': 10, 'b': 20}"
      ]
     },
     "execution_count": 26,
     "metadata": {},
     "output_type": "execute_result"
    }
   ],
   "source": [
    "w.kwargs"
   ]
  },
  {
   "cell_type": "markdown",
   "metadata": {},
   "source": [
    "Here is the current return value of the function."
   ]
  },
  {
   "cell_type": "code",
   "execution_count": 27,
   "metadata": {},
   "outputs": [
    {
     "data": {
      "text/plain": [
       "30"
      ]
     },
     "execution_count": 27,
     "metadata": {},
     "output_type": "execute_result"
    }
   ],
   "source": [
    "w.result"
   ]
  },
  {
   "cell_type": "markdown",
   "metadata": {},
   "source": [
    "# Conclusion\n",
    "\n",
    "You should now have a basic understanding of how to use Interact in Jupyter Notebooks!"
   ]
  },
  {
   "cell_type": "markdown",
   "metadata": {},
   "source": [
    "## 17.106 GUI Widget Basics"
   ]
  },
  {
   "cell_type": "markdown",
   "metadata": {},
   "source": [
    "Tässä luennossa kehität edelleen osaamistasi **interact** ja **interactive** moduleista jotka ovat hyödyllisiä widget paketteja!"
   ]
  },
  {
   "cell_type": "markdown",
   "metadata": {},
   "source": [
    "### Mitä ovat widgetit?"
   ]
  },
  {
   "cell_type": "markdown",
   "metadata": {},
   "source": [
    "Widgets are eventful python objects that have a representation in the browser, often as a control like a slider, text-box, etc."
   ]
  },
  {
   "cell_type": "markdown",
   "metadata": {},
   "source": [
    "### Mihin widgettejä voidaan käyttää?"
   ]
  },
  {
   "cell_type": "markdown",
   "metadata": {},
   "source": [
    "Voit rakentaa widgeteillä **interactive GUIn** notebookkeihisi.  \n",
    "Voit käyttää widgettejä myös **synchronize stateful and stateless information** Pythonin ja JavaScriptin välillä."
   ]
  },
  {
   "cell_type": "markdown",
   "metadata": {},
   "source": [
    "### Widgettien käyttäminen"
   ]
  },
  {
   "cell_type": "markdown",
   "metadata": {},
   "source": [
    "To use the widget framework, you need to import `ipywidgets`."
   ]
  },
  {
   "cell_type": "code",
   "execution_count": 28,
   "metadata": {},
   "outputs": [],
   "source": [
    "from ipywidgets import *"
   ]
  },
  {
   "cell_type": "markdown",
   "metadata": {},
   "source": [
    "### repr"
   ]
  },
  {
   "cell_type": "markdown",
   "metadata": {},
   "source": [
    "Widgeteillä on oma näyttö nimeltä `repr` , joka mahdollistaa widgettien näkymisen IPythonin framework näkymässä.  Ohjelmoimalla ja palauttamalla `IntSlider` automaattisesti näyttää widgetit (katso alla).  Widgetit näytetään widget-alueen sisällä, joka sijaitsee koodisolun ja output-solun välissä.  Voit piilottaa kaikki widgetit tällä alueella klikkaamalla harmaata *x*:ää marginaalissa."
   ]
  },
  {
   "cell_type": "code",
   "execution_count": 29,
   "metadata": {},
   "outputs": [
    {
     "data": {
      "application/vnd.jupyter.widget-view+json": {
       "model_id": "2f78e0156fa94c8280c93a0a9b18278c",
       "version_major": 2,
       "version_minor": 0
      },
      "text/plain": [
       "IntSlider(value=0)"
      ]
     },
     "metadata": {},
     "output_type": "display_data"
    }
   ],
   "source": [
    "IntSlider()"
   ]
  },
  {
   "cell_type": "markdown",
   "metadata": {},
   "source": [
    "### display()"
   ]
  },
  {
   "cell_type": "markdown",
   "metadata": {},
   "source": [
    "Voit myöskin saada widgetit näkymään käyttämällä `display(...)`."
   ]
  },
  {
   "cell_type": "code",
   "execution_count": 30,
   "metadata": {},
   "outputs": [
    {
     "data": {
      "application/vnd.jupyter.widget-view+json": {
       "model_id": "4621d92499054b22b81a7100c354bb3a",
       "version_major": 2,
       "version_minor": 0
      },
      "text/plain": [
       "IntSlider(value=0)"
      ]
     },
     "metadata": {},
     "output_type": "display_data"
    }
   ],
   "source": [
    "from IPython.display import display\n",
    "w = IntSlider()\n",
    "display(w)"
   ]
  },
  {
   "cell_type": "markdown",
   "metadata": {},
   "source": [
    "### Multiple display() calls"
   ]
  },
  {
   "cell_type": "markdown",
   "metadata": {},
   "source": [
    "If you display the same widget twice, the displayed instances in the front-end will remain in sync with each other. Try dragging the slider below and watch the slider above."
   ]
  },
  {
   "cell_type": "code",
   "execution_count": 31,
   "metadata": {},
   "outputs": [
    {
     "data": {
      "application/vnd.jupyter.widget-view+json": {
       "model_id": "4621d92499054b22b81a7100c354bb3a",
       "version_major": 2,
       "version_minor": 0
      },
      "text/plain": [
       "IntSlider(value=0)"
      ]
     },
     "metadata": {},
     "output_type": "display_data"
    }
   ],
   "source": [
    "display(w)"
   ]
  },
  {
   "cell_type": "markdown",
   "metadata": {},
   "source": [
    "### Closing widgets"
   ]
  },
  {
   "cell_type": "markdown",
   "metadata": {},
   "source": [
    "Voit sulkea widgetin kutsumalla `close()` methodia."
   ]
  },
  {
   "cell_type": "code",
   "execution_count": 32,
   "metadata": {},
   "outputs": [
    {
     "data": {
      "application/vnd.jupyter.widget-view+json": {
       "model_id": "",
       "version_major": 2,
       "version_minor": 0
      },
      "text/plain": [
       "IntSlider(value=0)"
      ]
     },
     "metadata": {},
     "output_type": "display_data"
    }
   ],
   "source": [
    "display(w)"
   ]
  },
  {
   "cell_type": "code",
   "execution_count": 33,
   "metadata": {},
   "outputs": [],
   "source": [
    "w.close()"
   ]
  },
  {
   "cell_type": "markdown",
   "metadata": {},
   "source": [
    "## Widget properties"
   ]
  },
  {
   "cell_type": "markdown",
   "metadata": {},
   "source": [
    "Kaikki IPython widgetit jakavat saman nimeämistavan. Widgetin arvon lukemiseksi, kutsu `value`:tä."
   ]
  },
  {
   "cell_type": "code",
   "execution_count": 32,
   "metadata": {},
   "outputs": [
    {
     "data": {
      "application/vnd.jupyter.widget-view+json": {
       "model_id": "77f43262e9654c73815209d40b5ab6ea",
       "version_major": 2,
       "version_minor": 0
      },
      "text/plain": [
       "IntSlider(value=0)"
      ]
     },
     "metadata": {},
     "output_type": "display_data"
    }
   ],
   "source": [
    "w = IntSlider()\n",
    "display(w)"
   ]
  },
  {
   "cell_type": "code",
   "execution_count": 33,
   "metadata": {},
   "outputs": [
    {
     "data": {
      "text/plain": [
       "0"
      ]
     },
     "execution_count": 33,
     "metadata": {},
     "output_type": "execute_result"
    }
   ],
   "source": [
    "w.value"
   ]
  },
  {
   "cell_type": "markdown",
   "metadata": {},
   "source": [
    "Samalla tavalla, widgetille voi asettaa arvon asettamalla `value`:lle arvo."
   ]
  },
  {
   "cell_type": "code",
   "execution_count": 34,
   "metadata": {},
   "outputs": [],
   "source": [
    "w.value = 50"
   ]
  },
  {
   "cell_type": "markdown",
   "metadata": {},
   "source": [
    "### Keys"
   ]
  },
  {
   "cell_type": "markdown",
   "metadata": {},
   "source": [
    "`value`-attribuutin lisäksi useimmilla widgeteillä on `keys`, `description`, `disabled`, `visible` attribuutti. To see the entire list of synchronized, stateful properties of any specific widget, you can query the `keys` property."
   ]
  },
  {
   "cell_type": "code",
   "execution_count": 35,
   "metadata": {},
   "outputs": [
    {
     "data": {
      "text/plain": [
       "['_dom_classes',\n",
       " '_model_module',\n",
       " '_model_module_version',\n",
       " '_model_name',\n",
       " '_view_count',\n",
       " '_view_module',\n",
       " '_view_module_version',\n",
       " '_view_name',\n",
       " 'continuous_update',\n",
       " 'description',\n",
       " 'description_tooltip',\n",
       " 'disabled',\n",
       " 'layout',\n",
       " 'max',\n",
       " 'min',\n",
       " 'orientation',\n",
       " 'readout',\n",
       " 'readout_format',\n",
       " 'step',\n",
       " 'style',\n",
       " 'value']"
      ]
     },
     "execution_count": 35,
     "metadata": {},
     "output_type": "execute_result"
    }
   ],
   "source": [
    "w.keys"
   ]
  },
  {
   "cell_type": "code",
   "execution_count": 36,
   "metadata": {},
   "outputs": [],
   "source": [
    "w.max = 200"
   ]
  },
  {
   "cell_type": "code",
   "execution_count": 37,
   "metadata": {},
   "outputs": [],
   "source": [
    "w.step = 10"
   ]
  },
  {
   "cell_type": "code",
   "execution_count": 38,
   "metadata": {},
   "outputs": [
    {
     "data": {
      "application/vnd.jupyter.widget-view+json": {
       "model_id": "77f43262e9654c73815209d40b5ab6ea",
       "version_major": 2,
       "version_minor": 0
      },
      "text/plain": [
       "IntSlider(value=50, max=200, step=10)"
      ]
     },
     "metadata": {},
     "output_type": "display_data"
    }
   ],
   "source": [
    "display(w)"
   ]
  },
  {
   "cell_type": "markdown",
   "metadata": {},
   "source": [
    "### Shorthand for setting the initial values of widget properties"
   ]
  },
  {
   "cell_type": "markdown",
   "metadata": {},
   "source": [
    "Widgettiä luotaessa voit asettaa joitain tai kaikki lähtöarvot widgetille määrittämällä ne kw-argumentteina widgetin konstructorissa (ks. alla):"
   ]
  },
  {
   "cell_type": "code",
   "execution_count": 39,
   "metadata": {},
   "outputs": [
    {
     "data": {
      "application/vnd.jupyter.widget-view+json": {
       "model_id": "7f344c00ebd34754af286717018dc1b0",
       "version_major": 2,
       "version_minor": 0
      },
      "text/plain": [
       "Text(value='Hello World!', disabled=True)"
      ]
     },
     "metadata": {},
     "output_type": "display_data"
    }
   ],
   "source": [
    "Text(value='Hello World!', disabled=True)"
   ]
  },
  {
   "cell_type": "markdown",
   "metadata": {},
   "source": [
    "## Linking two similar widgets"
   ]
  },
  {
   "cell_type": "markdown",
   "metadata": {},
   "source": [
    "If you need to display the same value two different ways, you'll have to use two different widgets. Instead of attempting to manually synchronize the values of the two widgets, you can use the `traitlet` `link` function to link two properties together.  Below, the values of two widgets are linked together."
   ]
  },
  {
   "cell_type": "code",
   "execution_count": 40,
   "metadata": {},
   "outputs": [
    {
     "data": {
      "application/vnd.jupyter.widget-view+json": {
       "model_id": "9efac310908e4499a87082afdf61738c",
       "version_major": 2,
       "version_minor": 0
      },
      "text/plain": [
       "FloatText(value=0.0)"
      ]
     },
     "metadata": {},
     "output_type": "display_data"
    },
    {
     "data": {
      "application/vnd.jupyter.widget-view+json": {
       "model_id": "c2cc0ae514904475ab834640dd9b4c80",
       "version_major": 2,
       "version_minor": 0
      },
      "text/plain": [
       "FloatSlider(value=0.0)"
      ]
     },
     "metadata": {},
     "output_type": "display_data"
    }
   ],
   "source": [
    "from traitlets import link\n",
    "a = FloatText()\n",
    "b = FloatSlider()\n",
    "display(a,b)\n",
    "\n",
    "mylink = link((a, 'value'), (b, 'value'))"
   ]
  },
  {
   "cell_type": "markdown",
   "metadata": {},
   "source": [
    "### Unlinking widgets"
   ]
  },
  {
   "cell_type": "markdown",
   "metadata": {},
   "source": [
    "Unlinking the widgets is simple.  All you have to do is call `.unlink` on the link object. Try changing one of the widgets above after unlinking to see that they can be independently changed."
   ]
  },
  {
   "cell_type": "code",
   "execution_count": null,
   "metadata": {},
   "outputs": [],
   "source": [
    "# mylink.unlink()"
   ]
  },
  {
   "cell_type": "markdown",
   "metadata": {},
   "source": [
    "# Conclusion\n",
    "\n",
    "You should now be beginning to have an understanding of how Widgets can interact with each other and how you can begin to specify widget details."
   ]
  },
  {
   "cell_type": "markdown",
   "metadata": {},
   "source": [
    "## 17.107 Widget List"
   ]
  },
  {
   "cell_type": "markdown",
   "metadata": {},
   "source": [
    "Tämä luento palvelee referenssinä widgetteihin, joka tarjoaa listan käytettävissäoleviin GUI widgetteihin."
   ]
  },
  {
   "cell_type": "markdown",
   "metadata": {},
   "source": [
    "## Complete list"
   ]
  },
  {
   "cell_type": "markdown",
   "metadata": {},
   "source": [
    "For a complete list of the GUI widgets available to you, you can list the registered widget types. `Widget` and `DOMWidget`, not listed below, are base classes."
   ]
  },
  {
   "cell_type": "code",
   "execution_count": 41,
   "metadata": {},
   "outputs": [],
   "source": [
    "import ipywidgets as widgets"
   ]
  },
  {
   "cell_type": "code",
   "execution_count": 42,
   "metadata": {},
   "outputs": [
    {
     "data": {
      "text/plain": [
       "['Accordion',\n",
       " 'AppLayout',\n",
       " 'Audio',\n",
       " 'BoundedFloatText',\n",
       " 'BoundedIntText',\n",
       " 'Box',\n",
       " 'Button',\n",
       " 'ButtonStyle',\n",
       " 'CallbackDispatcher',\n",
       " 'Checkbox',\n",
       " 'Color',\n",
       " 'ColorPicker',\n",
       " 'Combobox',\n",
       " 'Controller',\n",
       " 'DatePicker',\n",
       " 'Datetime',\n",
       " 'Dropdown',\n",
       " 'FileUpload',\n",
       " 'FloatLogSlider',\n",
       " 'FloatProgress',\n",
       " 'FloatRangeSlider',\n",
       " 'FloatSlider',\n",
       " 'FloatText',\n",
       " 'GridBox',\n",
       " 'GridspecLayout',\n",
       " 'HBox',\n",
       " 'HTML',\n",
       " 'HTMLMath',\n",
       " 'Image',\n",
       " 'IntProgress',\n",
       " 'IntRangeSlider',\n",
       " 'IntSlider',\n",
       " 'IntText',\n",
       " 'Label',\n",
       " 'Layout',\n",
       " 'NumberFormat',\n",
       " 'Output',\n",
       " 'Password',\n",
       " 'Play',\n",
       " 'RadioButtons',\n",
       " 'Select',\n",
       " 'SelectMultiple',\n",
       " 'SelectionRangeSlider',\n",
       " 'SelectionSlider',\n",
       " 'SliderStyle',\n",
       " 'Style',\n",
       " 'Tab',\n",
       " 'Text',\n",
       " 'Textarea',\n",
       " 'ToggleButton',\n",
       " 'ToggleButtons',\n",
       " 'ToggleButtonsStyle',\n",
       " 'TwoByTwoLayout',\n",
       " 'VBox',\n",
       " 'Valid',\n",
       " 'Video']"
      ]
     },
     "execution_count": 42,
     "metadata": {},
     "output_type": "execute_result"
    }
   ],
   "source": [
    "# Näyttää kaikki saatavillaolevat widgetit!\n",
    "[n for n in dir(widgets) if not n.endswith('Widget') and n[0] == n[0].upper() and not n[0] == '_']"
   ]
  },
  {
   "cell_type": "markdown",
   "metadata": {},
   "source": [
    "## Numeeriset Widgetit"
   ]
  },
  {
   "cell_type": "markdown",
   "metadata": {},
   "source": [
    "8 IPython widgetiä näyttävät numeerisiä arvoja. Widgets löytyy integers and floats näyttöön, sekä sidottuna että sitomattomana.  Kokonaisluku widgetit jakavat saman nimeämistavan kuin murtoluku widgeteillä. By replacing `Float` with `Int` in the widget name, you can find the Integer equivalent."
   ]
  },
  {
   "cell_type": "code",
   "execution_count": 43,
   "metadata": {},
   "outputs": [
    {
     "data": {
      "application/vnd.jupyter.widget-view+json": {
       "model_id": "a266c22d14bd4209ac07bd430e8c0513",
       "version_major": 2,
       "version_minor": 0
      },
      "text/plain": [
       "FloatSlider(value=7.5, description='Test:', max=10.0, min=5.0)"
      ]
     },
     "metadata": {},
     "output_type": "display_data"
    }
   ],
   "source": [
    "widgets.FloatSlider(\n",
    "    value=7.5,\n",
    "    min=5.0,\n",
    "    max=10.0,\n",
    "    step=0.1,\n",
    "    description='Test:',\n",
    ")"
   ]
  },
  {
   "cell_type": "markdown",
   "metadata": {},
   "source": [
    "Slidereitä voidaan näyttää myös pystysuunnassa:"
   ]
  },
  {
   "cell_type": "code",
   "execution_count": 44,
   "metadata": {},
   "outputs": [
    {
     "data": {
      "application/vnd.jupyter.widget-view+json": {
       "model_id": "01fa3890995149208810584cf31677d0",
       "version_major": 2,
       "version_minor": 0
      },
      "text/plain": [
       "FloatSlider(value=7.5, description='Test', max=10.0, min=5.0, orientation='vertical')"
      ]
     },
     "metadata": {},
     "output_type": "display_data"
    }
   ],
   "source": [
    "widgets.FloatSlider(\n",
    "    value=7.5,\n",
    "    min=5.0,\n",
    "    max=10.0,\n",
    "    step=0.1,\n",
    "    description='Test',\n",
    "    orientation='vertical',\n",
    ")"
   ]
  },
  {
   "cell_type": "markdown",
   "metadata": {},
   "source": [
    "## FloatProgress"
   ]
  },
  {
   "cell_type": "code",
   "execution_count": 45,
   "metadata": {},
   "outputs": [
    {
     "data": {
      "application/vnd.jupyter.widget-view+json": {
       "model_id": "0540fa7dfeb94429bd021c45a4b43631",
       "version_major": 2,
       "version_minor": 0
      },
      "text/plain": [
       "FloatProgress(value=7.5, description='Loading:', max=10.0, min=5.0)"
      ]
     },
     "metadata": {},
     "output_type": "display_data"
    }
   ],
   "source": [
    "widgets.FloatProgress(\n",
    "    value=7.5,\n",
    "    min=5.0,\n",
    "    max=10.0,\n",
    "    step=0.1,\n",
    "    description='Loading:',\n",
    ")"
   ]
  },
  {
   "cell_type": "markdown",
   "metadata": {},
   "source": [
    "## BondedFloatText"
   ]
  },
  {
   "cell_type": "code",
   "execution_count": 46,
   "metadata": {},
   "outputs": [
    {
     "data": {
      "application/vnd.jupyter.widget-view+json": {
       "model_id": "ac06d1abe3354a55a99d456da20ca486",
       "version_major": 2,
       "version_minor": 0
      },
      "text/plain": [
       "BoundedFloatText(value=7.5, description='Text:', max=10.0, min=5.0)"
      ]
     },
     "metadata": {},
     "output_type": "display_data"
    }
   ],
   "source": [
    "widgets.BoundedFloatText(\n",
    "    value=7.5,\n",
    "    min=5.0,\n",
    "    max=10.0,\n",
    "    description='Text:',\n",
    ")"
   ]
  },
  {
   "cell_type": "markdown",
   "metadata": {},
   "source": [
    "## FloatText"
   ]
  },
  {
   "cell_type": "code",
   "execution_count": 47,
   "metadata": {},
   "outputs": [
    {
     "data": {
      "application/vnd.jupyter.widget-view+json": {
       "model_id": "7ee46ecc1c9f4a5a8e71b6c08a124c16",
       "version_major": 2,
       "version_minor": 0
      },
      "text/plain": [
       "FloatText(value=7.5, description='Any:')"
      ]
     },
     "metadata": {},
     "output_type": "display_data"
    }
   ],
   "source": [
    "widgets.FloatText(\n",
    "    value=7.5,\n",
    "    description='Any:',\n",
    ")"
   ]
  },
  {
   "cell_type": "markdown",
   "metadata": {},
   "source": [
    "## Boolean Widgets"
   ]
  },
  {
   "cell_type": "markdown",
   "metadata": {},
   "source": [
    "3 widgettiä on suunniteltu näyttämään boolean-arvoja:"
   ]
  },
  {
   "cell_type": "markdown",
   "metadata": {},
   "source": [
    "### ToggleButton"
   ]
  },
  {
   "cell_type": "code",
   "execution_count": 48,
   "metadata": {},
   "outputs": [
    {
     "data": {
      "application/vnd.jupyter.widget-view+json": {
       "model_id": "475c6e1f2a0646b182982dea0a659a51",
       "version_major": 2,
       "version_minor": 0
      },
      "text/plain": [
       "ToggleButton(value=False, description='Klikkaa mua')"
      ]
     },
     "metadata": {},
     "output_type": "display_data"
    }
   ],
   "source": [
    "widgets.ToggleButton(\n",
    "    description='Klikkaa mua',\n",
    "    value=False,\n",
    ")"
   ]
  },
  {
   "cell_type": "markdown",
   "metadata": {},
   "source": [
    "### Checkbox"
   ]
  },
  {
   "cell_type": "code",
   "execution_count": 49,
   "metadata": {},
   "outputs": [
    {
     "data": {
      "application/vnd.jupyter.widget-view+json": {
       "model_id": "f7d49252f17b4d5abedf13a42a6c600b",
       "version_major": 2,
       "version_minor": 0
      },
      "text/plain": [
       "Checkbox(value=True, description='Rasti ruutuun')"
      ]
     },
     "metadata": {},
     "output_type": "display_data"
    }
   ],
   "source": [
    "widgets.Checkbox(\n",
    "    description='Rasti ruutuun',\n",
    "    value=True,\n",
    ")"
   ]
  },
  {
   "cell_type": "markdown",
   "metadata": {},
   "source": [
    "### Valid\n",
    "\n",
    "The valid widget provides a read-only indicator."
   ]
  },
  {
   "cell_type": "code",
   "execution_count": 50,
   "metadata": {},
   "outputs": [
    {
     "data": {
      "application/vnd.jupyter.widget-view+json": {
       "model_id": "99c50d421d9743acbe9af30dc90352da",
       "version_major": 2,
       "version_minor": 0
      },
      "text/plain": [
       "Valid(value=True)"
      ]
     },
     "metadata": {},
     "output_type": "display_data"
    }
   ],
   "source": [
    "widgets.Valid(\n",
    "    value=True,\n",
    ")"
   ]
  },
  {
   "cell_type": "markdown",
   "metadata": {},
   "source": [
    "### Valintawidgetit"
   ]
  },
  {
   "cell_type": "markdown",
   "metadata": {},
   "source": [
    "There are four widgets that can be used to display single selection lists, and one that can be used to display multiple selection lists. All inherit from the same base class. You can specify the **enumeration of selectable options by passing a list**. You can **also specify the enumeration as a dictionary**, in which case the **keys will be used as the item displayed** in the list and the corresponding **value will be returned** when an item is selected."
   ]
  },
  {
   "cell_type": "markdown",
   "metadata": {},
   "source": [
    "### Dropdown"
   ]
  },
  {
   "cell_type": "code",
   "execution_count": 51,
   "metadata": {},
   "outputs": [
    {
     "data": {
      "application/vnd.jupyter.widget-view+json": {
       "model_id": "f590f0e51bd24e0aba7e6c83a6170aa7",
       "version_major": 2,
       "version_minor": 0
      },
      "text/plain": [
       "Dropdown(description='Numero:', index=1, options=('1', '2', '3', '4', '5'), value='2')"
      ]
     },
     "metadata": {},
     "output_type": "display_data"
    }
   ],
   "source": [
    "from IPython.display import display\n",
    "\n",
    "w = widgets.Dropdown(\n",
    "    options=['1', '2', '3', '4', '5'],\n",
    "    value='2',\n",
    "    description='Numero:',\n",
    ")\n",
    "display(w)"
   ]
  },
  {
   "cell_type": "code",
   "execution_count": 52,
   "metadata": {},
   "outputs": [
    {
     "data": {
      "text/plain": [
       "'2'"
      ]
     },
     "execution_count": 52,
     "metadata": {},
     "output_type": "execute_result"
    }
   ],
   "source": [
    "# Näytä arvo:\n",
    "w.value"
   ]
  },
  {
   "cell_type": "markdown",
   "metadata": {},
   "source": [
    "Seuraava on validi myös:"
   ]
  },
  {
   "cell_type": "code",
   "execution_count": 53,
   "metadata": {},
   "outputs": [
    {
     "data": {
      "application/vnd.jupyter.widget-view+json": {
       "model_id": "553d9f1b1e85478fb276a403824468db",
       "version_major": 2,
       "version_minor": 0
      },
      "text/plain": [
       "Dropdown(description='Number:', index=1, options={'One': 1, 'Two': 2, 'Three': 3}, value=2)"
      ]
     },
     "metadata": {},
     "output_type": "display_data"
    }
   ],
   "source": [
    "w = widgets.Dropdown(\n",
    "    options={'One': 1, 'Two': 2, 'Three': 3},\n",
    "    value=2,\n",
    "    description='Number:')\n",
    "\n",
    "display(w)"
   ]
  },
  {
   "cell_type": "code",
   "execution_count": 54,
   "metadata": {},
   "outputs": [
    {
     "data": {
      "text/plain": [
       "2"
      ]
     },
     "execution_count": 54,
     "metadata": {},
     "output_type": "execute_result"
    }
   ],
   "source": [
    "w.value"
   ]
  },
  {
   "cell_type": "markdown",
   "metadata": {},
   "source": [
    "### RadioButtons"
   ]
  },
  {
   "cell_type": "code",
   "execution_count": 55,
   "metadata": {},
   "outputs": [
    {
     "data": {
      "application/vnd.jupyter.widget-view+json": {
       "model_id": "86b47aceda6944e78e7bc34bf2c46dba",
       "version_major": 2,
       "version_minor": 0
      },
      "text/plain": [
       "RadioButtons(description='Pizzantäyte:', options=('pepperoni', 'ananas', 'juusto'), value='pepperoni')"
      ]
     },
     "metadata": {},
     "output_type": "display_data"
    }
   ],
   "source": [
    "widgets.RadioButtons(\n",
    "    description='Pizzantäyte:',\n",
    "    options=['pepperoni', 'ananas', 'juusto'],\n",
    ")"
   ]
  },
  {
   "cell_type": "markdown",
   "metadata": {},
   "source": [
    "### Select"
   ]
  },
  {
   "cell_type": "code",
   "execution_count": 56,
   "metadata": {},
   "outputs": [
    {
     "data": {
      "application/vnd.jupyter.widget-view+json": {
       "model_id": "0c4962ed8fb54ac080efb53444d606df",
       "version_major": 2,
       "version_minor": 0
      },
      "text/plain": [
       "Select(description='Käyttis:', options=('Linux', 'Windows', 'OSX'), value='Linux')"
      ]
     },
     "metadata": {},
     "output_type": "display_data"
    }
   ],
   "source": [
    "widgets.Select(\n",
    "    description='Käyttis:',\n",
    "    options=['Linux', 'Windows', 'OSX'],\n",
    ")"
   ]
  },
  {
   "cell_type": "markdown",
   "metadata": {},
   "source": [
    "### ToggleButton"
   ]
  },
  {
   "cell_type": "code",
   "execution_count": 57,
   "metadata": {},
   "outputs": [
    {
     "data": {
      "application/vnd.jupyter.widget-view+json": {
       "model_id": "c7df4c1fdd334157a3c6578ec2ab4f68",
       "version_major": 2,
       "version_minor": 0
      },
      "text/plain": [
       "ToggleButtons(description='Nopeus:', options=('Hidas', 'Normi', 'Nopea'), value='Hidas')"
      ]
     },
     "metadata": {},
     "output_type": "display_data"
    }
   ],
   "source": [
    "widgets.ToggleButtons(\n",
    "    description='Nopeus:',\n",
    "    options=['Hidas', 'Normi', 'Nopea'],\n",
    ")"
   ]
  },
  {
   "cell_type": "markdown",
   "metadata": {},
   "source": [
    "### SelectMultiple\n",
    "Multiple values can be selected with <kbd>shift</kbd> and/or <kbd>ctrl</kbd> (or <kbd>command</kbd>) pressed and mouse clicks or arrow keys."
   ]
  },
  {
   "cell_type": "code",
   "execution_count": 58,
   "metadata": {},
   "outputs": [
    {
     "data": {
      "application/vnd.jupyter.widget-view+json": {
       "model_id": "afd25bc4e6c048c098d441c778f8a6f0",
       "version_major": 2,
       "version_minor": 0
      },
      "text/plain": [
       "SelectMultiple(description='Hedelmät', options=('Omenat', 'Appelsiinit', 'Päärynät'), value=())"
      ]
     },
     "metadata": {},
     "output_type": "display_data"
    }
   ],
   "source": [
    "w = widgets.SelectMultiple(\n",
    "    description=\"Hedelmät\",\n",
    "    options=['Omenat', 'Appelsiinit', 'Päärynät'])\n",
    "\n",
    "display(w)"
   ]
  },
  {
   "cell_type": "code",
   "execution_count": 59,
   "metadata": {},
   "outputs": [
    {
     "data": {
      "text/plain": [
       "()"
      ]
     },
     "execution_count": 59,
     "metadata": {},
     "output_type": "execute_result"
    }
   ],
   "source": [
    "w.value"
   ]
  },
  {
   "cell_type": "markdown",
   "metadata": {},
   "source": [
    "## Merkkijono widgettejä:"
   ]
  },
  {
   "cell_type": "markdown",
   "metadata": {},
   "source": [
    "There are 4 widgets that can be used to display a string value. Of those, the `Text` and `Textarea` widgets accept input. The `Latex` and `HTML` widgets display the string as either Latex or HTML respectively, but do not accept input."
   ]
  },
  {
   "cell_type": "markdown",
   "metadata": {},
   "source": [
    "### Text"
   ]
  },
  {
   "cell_type": "code",
   "execution_count": 60,
   "metadata": {},
   "outputs": [
    {
     "data": {
      "application/vnd.jupyter.widget-view+json": {
       "model_id": "6ad35fdcdd5a4d68a672de18c77e9a8b",
       "version_major": 2,
       "version_minor": 0
      },
      "text/plain": [
       "Text(value='Hello World', description='String:')"
      ]
     },
     "metadata": {},
     "output_type": "display_data"
    }
   ],
   "source": [
    "widgets.Text(\n",
    "    description='String:',\n",
    "    value='Hello World',\n",
    ")"
   ]
  },
  {
   "cell_type": "markdown",
   "metadata": {},
   "source": [
    "### Textarea"
   ]
  },
  {
   "cell_type": "code",
   "execution_count": 61,
   "metadata": {},
   "outputs": [
    {
     "data": {
      "application/vnd.jupyter.widget-view+json": {
       "model_id": "4eb7b43b0c164d359ac6b8e5d13fc098",
       "version_major": 2,
       "version_minor": 0
      },
      "text/plain": [
       "Textarea(value='Hello World', description='String:')"
      ]
     },
     "metadata": {},
     "output_type": "display_data"
    }
   ],
   "source": [
    "widgets.Textarea(\n",
    "    description='String:',\n",
    "    value='Hello World',\n",
    ")"
   ]
  },
  {
   "cell_type": "markdown",
   "metadata": {},
   "source": [
    "### Latex"
   ]
  },
  {
   "cell_type": "code",
   "execution_count": 79,
   "metadata": {},
   "outputs": [
    {
     "ename": "AttributeError",
     "evalue": "module 'ipywidgets' has no attribute 'Latex'",
     "output_type": "error",
     "traceback": [
      "\u001b[0;31m---------------------------------------------------------------------------\u001b[0m",
      "\u001b[0;31mAttributeError\u001b[0m                            Traceback (most recent call last)",
      "\u001b[0;32m<ipython-input-79-67267ea0030c>\u001b[0m in \u001b[0;36m<module>\u001b[0;34m\u001b[0m\n\u001b[0;32m----> 1\u001b[0;31m widgets.Latex(\n\u001b[0m\u001b[1;32m      2\u001b[0m     \u001b[0mvalue\u001b[0m\u001b[0;34m=\u001b[0m\u001b[0;34m\"$$\\\\frac{n!}{k!(n-k)!} = \\\\binom{n}{k}$$\"\u001b[0m\u001b[0;34m,\u001b[0m\u001b[0;34m\u001b[0m\u001b[0;34m\u001b[0m\u001b[0m\n\u001b[1;32m      3\u001b[0m )\n",
      "\u001b[0;31mAttributeError\u001b[0m: module 'ipywidgets' has no attribute 'Latex'"
     ]
    }
   ],
   "source": [
    "widgets.Latex(\n",
    "    value=\"$$\\\\frac{n!}{k!(n-k)!} = \\\\binom{n}{k}$$\",\n",
    ")"
   ]
  },
  {
   "cell_type": "markdown",
   "metadata": {},
   "source": [
    "### HTML"
   ]
  },
  {
   "cell_type": "code",
   "execution_count": 62,
   "metadata": {},
   "outputs": [
    {
     "data": {
      "application/vnd.jupyter.widget-view+json": {
       "model_id": "c22dc509e77248279411ededc62cc369",
       "version_major": 2,
       "version_minor": 0
      },
      "text/plain": [
       "HTML(value='Hello <b>World</b>')"
      ]
     },
     "metadata": {},
     "output_type": "display_data"
    }
   ],
   "source": [
    "widgets.HTML(\n",
    "    value=\"Hello <b>World</b>\"\n",
    ")"
   ]
  },
  {
   "cell_type": "markdown",
   "metadata": {},
   "source": [
    "### Button"
   ]
  },
  {
   "cell_type": "code",
   "execution_count": 63,
   "metadata": {},
   "outputs": [
    {
     "data": {
      "application/vnd.jupyter.widget-view+json": {
       "model_id": "79b72e13f3d84d63add82dce18b0f1ca",
       "version_major": 2,
       "version_minor": 0
      },
      "text/plain": [
       "Button(description='Klikkaa mua', style=ButtonStyle())"
      ]
     },
     "metadata": {},
     "output_type": "display_data"
    }
   ],
   "source": [
    "widgets.Button(description='Klikkaa mua')"
   ]
  },
  {
   "cell_type": "markdown",
   "metadata": {},
   "source": [
    "# Conclusion\n",
    "\n",
    "Käytä ylläolevaa listaa itsellesi referenssinä!\n",
    "Use this as a future reference for yourself!"
   ]
  },
  {
   "cell_type": "markdown",
   "metadata": {},
   "source": [
    "## 17.108 Widget Styling and Layouts"
   ]
  },
  {
   "cell_type": "markdown",
   "metadata": {},
   "source": [
    "Tässä luennossa käymme läpi widget-tyylijuttuja!"
   ]
  },
  {
   "cell_type": "markdown",
   "metadata": {},
   "source": []
  },
  {
   "cell_type": "raw",
   "metadata": {},
   "source": [
    "%%html\n",
    "<style>\n",
    ".example-container { background: #999999; padding: 2px; min-height: 100px; }\n",
    ".example-container.sm { min-height: 50px; }\n",
    ".example-box { background: #9999FF; width: 50px; height: 50px; text-align: center; vertical-align: middle; color: white; font-weight: bold; margin: 2px;}\n",
    ".example-box.med { width: 65px; height: 65px; }   \n",
    ".example-box.lrg { width: 80px; height: 80px; }   \n",
    "</style>"
   ]
  },
  {
   "cell_type": "code",
   "execution_count": 66,
   "metadata": {},
   "outputs": [],
   "source": [
    "import ipywidgets as widgets\n",
    "from IPython.display import display"
   ]
  },
  {
   "cell_type": "code",
   "execution_count": 82,
   "metadata": {},
   "outputs": [
    {
     "data": {
      "application/vnd.jupyter.widget-view+json": {
       "model_id": "5db43e607b8b4e21984edee7ee3c9414",
       "version_major": 2,
       "version_minor": 0
      },
      "text/plain": [
       "IntSlider(value=0)"
      ]
     },
     "metadata": {},
     "output_type": "display_data"
    }
   ],
   "source": [
    "w = widgets.IntSlider()\n",
    "display(w)"
   ]
  },
  {
   "cell_type": "code",
   "execution_count": 83,
   "metadata": {},
   "outputs": [],
   "source": [
    "w.layout.margin = 'auto'\n",
    "w.layout.height = '75px'"
   ]
  },
  {
   "cell_type": "code",
   "execution_count": 84,
   "metadata": {},
   "outputs": [
    {
     "data": {
      "application/vnd.jupyter.widget-view+json": {
       "model_id": "ba9b6973e22f486da633bf63d19c49db",
       "version_major": 2,
       "version_minor": 0
      },
      "text/plain": [
       "IntSlider(value=15, description='New Slider')"
      ]
     },
     "metadata": {},
     "output_type": "display_data"
    }
   ],
   "source": [
    "x = widgets.IntSlider(value=15,description='New Slider')\n",
    "display(x)"
   ]
  },
  {
   "cell_type": "code",
   "execution_count": 85,
   "metadata": {},
   "outputs": [],
   "source": [
    "# Muutan x:ään w:n layoutin:\n",
    "x.layout = w.layout"
   ]
  },
  {
   "cell_type": "code",
   "execution_count": 87,
   "metadata": {},
   "outputs": [
    {
     "data": {
      "application/vnd.jupyter.widget-view+json": {
       "model_id": "dfd45e066e9c4369a661746d72bac566",
       "version_major": 2,
       "version_minor": 0
      },
      "text/plain": [
       "Button(button_style='warning', description='Tavallinen nappula', style=ButtonStyle())"
      ]
     },
     "metadata": {},
     "output_type": "display_data"
    }
   ],
   "source": [
    "widgets.Button(description='Tavallinen nappula',button_style='warning')"
   ]
  },
  {
   "cell_type": "code",
   "execution_count": 89,
   "metadata": {},
   "outputs": [
    {
     "data": {
      "application/vnd.jupyter.widget-view+json": {
       "model_id": "7f37c6eeaf4f42bca3d75e64bbff8367",
       "version_major": 2,
       "version_minor": 0
      },
      "text/plain": [
       "Button(description='Kustomi Färi', style=ButtonStyle(button_color='lightgreen'))"
      ]
     },
     "metadata": {},
     "output_type": "display_data"
    }
   ],
   "source": [
    "b1 = widgets.Button(description='Kustomi Färi')\n",
    "b1.style.button_color = 'lightgreen'\n",
    "b1"
   ]
  },
  {
   "cell_type": "code",
   "execution_count": 91,
   "metadata": {},
   "outputs": [
    {
     "data": {
      "text/plain": [
       "['_model_module',\n",
       " '_model_module_version',\n",
       " '_model_name',\n",
       " '_view_count',\n",
       " '_view_module',\n",
       " '_view_module_version',\n",
       " '_view_name',\n",
       " 'button_color',\n",
       " 'font_weight']"
      ]
     },
     "execution_count": 91,
     "metadata": {},
     "output_type": "execute_result"
    }
   ],
   "source": [
    "b1.style.keys"
   ]
  },
  {
   "cell_type": "code",
   "execution_count": 94,
   "metadata": {},
   "outputs": [
    {
     "data": {
      "application/vnd.jupyter.widget-view+json": {
       "model_id": "a303a348ae354e19afc86c88c89c1078",
       "version_major": 2,
       "version_minor": 0
      },
      "text/plain": [
       "Button(description='Sissos Sen Tähäre!', style=ButtonStyle(button_color='lightgreen'))"
      ]
     },
     "metadata": {},
     "output_type": "display_data"
    }
   ],
   "source": [
    "b2 = widgets.Button(description='Sissos Sen Tähäre!')\n",
    "b2.style = b1.style\n",
    "b2"
   ]
  },
  {
   "cell_type": "code",
   "execution_count": 96,
   "metadata": {},
   "outputs": [
    {
     "data": {
      "application/vnd.jupyter.widget-view+json": {
       "model_id": "2716796632f3481fa7359a2a45f971eb",
       "version_major": 2,
       "version_minor": 0
      },
      "text/plain": [
       "IntSlider(value=0, description='Kahava', style=SliderStyle(handle_color='pink'))"
      ]
     },
     "metadata": {},
     "output_type": "display_data"
    }
   ],
   "source": [
    "s2 = widgets.IntSlider(description='Kahava')\n",
    "s2.style.handle_color = 'pink'\n",
    "s2"
   ]
  },
  {
   "cell_type": "code",
   "execution_count": null,
   "metadata": {},
   "outputs": [],
   "source": []
  },
  {
   "cell_type": "code",
   "execution_count": null,
   "metadata": {},
   "outputs": [],
   "source": []
  },
  {
   "cell_type": "markdown",
   "metadata": {},
   "source": [
    "## Basic styling"
   ]
  },
  {
   "cell_type": "markdown",
   "metadata": {},
   "source": [
    "IPythonin mukana tulevien widgettien tyyliä voi muokata seuraavasti:\n",
    "\n",
    "- leveys  \n",
    "- korkeus  \n",
    "- taustaväri  \n",
    "- reunaväri  \n",
    "- reunaviivan leveys  \n",
    "- reunaviivan tyyli \n",
    "- fontti tyyli  \n",
    "- fontin paksuus  \n",
    "- fontin koko  \n",
    "- fonttifamily  \n",
    "\n",
    "A.o. esimerkistä näkyy miten `Button` widgettiä voi muokata:"
   ]
  },
  {
   "cell_type": "code",
   "execution_count": 69,
   "metadata": {},
   "outputs": [
    {
     "data": {
      "application/vnd.jupyter.widget-view+json": {
       "model_id": "13ab2986cafe4b658e180f773ccc4545",
       "version_major": 2,
       "version_minor": 0
      },
      "text/plain": [
       "Button(description='Hello World!', style=ButtonStyle())"
      ]
     },
     "metadata": {},
     "output_type": "display_data"
    }
   ],
   "source": [
    "button = widgets.Button(\n",
    "    description='Hello World!',\n",
    "    width=100, # Integers are interpreted as pixel measurements.\n",
    "    height='2em', # em is valid HTML unit of measurement.\n",
    "    color='lime', # Colors can be set by name,\n",
    "    background_color='#0022FF', # and also by color code.\n",
    "    border_color='cyan')\n",
    "display(button)"
   ]
  },
  {
   "cell_type": "markdown",
   "metadata": {},
   "source": [
    "## Parent/child relationships"
   ]
  },
  {
   "cell_type": "markdown",
   "metadata": {},
   "source": [
    "Widget A näyttämiseksi widget B sisällä, widget A täytyy olla widget B lapsi-widgetti. Sisäkkäin olevilla widgeteillä täytyy olla `children` attribuutti. Se voidaan asettaa kw-argumentilla widget-constructorilla tai sen jälkeen. Calling display on an object with children automatically displays the children."
   ]
  },
  {
   "cell_type": "code",
   "execution_count": 70,
   "metadata": {},
   "outputs": [
    {
     "data": {
      "application/vnd.jupyter.widget-view+json": {
       "model_id": "d281b7b116054a228b2131652f55321b",
       "version_major": 2,
       "version_minor": 0
      },
      "text/plain": [
       "Box(children=(FloatSlider(value=0.0), Text(value='Terve!')))"
      ]
     },
     "metadata": {},
     "output_type": "display_data"
    }
   ],
   "source": [
    "from IPython.display import display\n",
    "\n",
    "float_range = widgets.FloatSlider()\n",
    "string = widgets.Text(value='Terve!')\n",
    "container = widgets.Box(children=[float_range, string])\n",
    "\n",
    "container.border_color = 'red'\n",
    "container.border_style = 'dotted'\n",
    "container.border_width = 3\n",
    "display(container) # Displays the `container` and all of it's children."
   ]
  },
  {
   "cell_type": "markdown",
   "metadata": {},
   "source": [
    "### After the parent is displayed"
   ]
  },
  {
   "cell_type": "markdown",
   "metadata": {},
   "source": [
    "Children can be added to parents after the parent has been displayed. The parent is responsible for rendering its children."
   ]
  },
  {
   "cell_type": "markdown",
   "metadata": {},
   "source": [
    "## Fancy Boxes"
   ]
  },
  {
   "cell_type": "markdown",
   "metadata": {},
   "source": [
    "If you need to display a more complicated set of widgets, there are specialized containers that you can use. To display multiple sets of widgets, you can use an `Accordion` or a `Tab` in combination with one `Box` per set of widgets (as seen below). The \"pages\" of these widgets are their children.  To set the titles of the pages, use `set_title`."
   ]
  },
  {
   "cell_type": "markdown",
   "metadata": {},
   "source": [
    "### Accordion"
   ]
  },
  {
   "cell_type": "code",
   "execution_count": 71,
   "metadata": {},
   "outputs": [
    {
     "data": {
      "application/vnd.jupyter.widget-view+json": {
       "model_id": "0ac30a6157f44ca7aeb29d5519ec4a3f",
       "version_major": 2,
       "version_minor": 0
      },
      "text/plain": [
       "Accordion(children=(Box(children=(Text(value='', description='Location:'), BoundedIntText(value=0, description…"
      ]
     },
     "metadata": {},
     "output_type": "display_data"
    }
   ],
   "source": [
    "name1 = widgets.Text(description='Location:')\n",
    "zip1 = widgets.BoundedIntText(description='Zip:', min=0, max=99999)\n",
    "page1 = widgets.Box(children=[name1, zip1])\n",
    "\n",
    "name2 = widgets.Text(description='Location:')\n",
    "zip2 = widgets.BoundedIntText(description='Zip:', min=0, max=99999)\n",
    "page2 = widgets.Box(children=[name2, zip2])\n",
    "\n",
    "accord = widgets.Accordion(children=[page1, page2], width=400)\n",
    "display(accord)\n",
    "\n",
    "accord.set_title(0, 'From')\n",
    "accord.set_title(1, 'To')"
   ]
  },
  {
   "cell_type": "markdown",
   "metadata": {},
   "source": [
    "### TabWidget"
   ]
  },
  {
   "cell_type": "code",
   "execution_count": 72,
   "metadata": {},
   "outputs": [
    {
     "data": {
      "application/vnd.jupyter.widget-view+json": {
       "model_id": "76edade19c8441648a46a07896f3712d",
       "version_major": 2,
       "version_minor": 0
      },
      "text/plain": [
       "Tab(children=(Box(children=(Text(value='', description='Name:'), Dropdown(description='Color:', options=('red'…"
      ]
     },
     "metadata": {},
     "output_type": "display_data"
    }
   ],
   "source": [
    "name = widgets.Text(description='Name:', padding=4)\n",
    "color = widgets.Dropdown(description='Color:', padding=4, options=['red', 'orange', 'yellow', 'green', 'blue', 'indigo', 'violet'])\n",
    "page1 = widgets.Box(children=[name, color], padding=4)\n",
    "\n",
    "age = widgets.IntSlider(description='Age:', padding=4, min=0, max=120, value=50)\n",
    "gender = widgets.RadioButtons(description='Gender:', padding=4, options=['male', 'female'])\n",
    "page2 = widgets.Box(children=[age, gender], padding=4)\n",
    "\n",
    "tabs = widgets.Tab(children=[page1, page2])\n",
    "display(tabs)\n",
    "\n",
    "tabs.set_title(0, 'Name')\n",
    "tabs.set_title(1, 'Details')"
   ]
  },
  {
   "cell_type": "markdown",
   "metadata": {},
   "source": [
    "## Alignment"
   ]
  },
  {
   "cell_type": "markdown",
   "metadata": {},
   "source": [
    "Most widgets have a `description` attribute, which allows a label for the widget to be defined.\n",
    "The label of the widget has a fixed minimum width.\n",
    "The text of the label is always right aligned and the widget is left aligned:"
   ]
  },
  {
   "cell_type": "code",
   "execution_count": 73,
   "metadata": {},
   "outputs": [
    {
     "data": {
      "application/vnd.jupyter.widget-view+json": {
       "model_id": "b995f590aafe448283f7b1ab10f99b5c",
       "version_major": 2,
       "version_minor": 0
      },
      "text/plain": [
       "Text(value='', description='a:')"
      ]
     },
     "metadata": {},
     "output_type": "display_data"
    },
    {
     "data": {
      "application/vnd.jupyter.widget-view+json": {
       "model_id": "0424aa919c8a439d99534c19b148d5b1",
       "version_major": 2,
       "version_minor": 0
      },
      "text/plain": [
       "Text(value='', description='aa:')"
      ]
     },
     "metadata": {},
     "output_type": "display_data"
    },
    {
     "data": {
      "application/vnd.jupyter.widget-view+json": {
       "model_id": "00d38107c89a4be5a60e613dd47a1b6e",
       "version_major": 2,
       "version_minor": 0
      },
      "text/plain": [
       "Text(value='', description='aaa:')"
      ]
     },
     "metadata": {},
     "output_type": "display_data"
    }
   ],
   "source": [
    "display(widgets.Text(description=\"a:\"))\n",
    "display(widgets.Text(description=\"aa:\"))\n",
    "display(widgets.Text(description=\"aaa:\"))"
   ]
  },
  {
   "cell_type": "markdown",
   "metadata": {},
   "source": [
    "If a label is longer than the minimum width, the widget is shifted to the right:"
   ]
  },
  {
   "cell_type": "code",
   "execution_count": 74,
   "metadata": {},
   "outputs": [
    {
     "data": {
      "application/vnd.jupyter.widget-view+json": {
       "model_id": "e33deb3321c54652ad93497374fb3568",
       "version_major": 2,
       "version_minor": 0
      },
      "text/plain": [
       "Text(value='', description='a:')"
      ]
     },
     "metadata": {},
     "output_type": "display_data"
    },
    {
     "data": {
      "application/vnd.jupyter.widget-view+json": {
       "model_id": "19515bc95c29458c9d31cb941b6f0c9e",
       "version_major": 2,
       "version_minor": 0
      },
      "text/plain": [
       "Text(value='', description='aa:')"
      ]
     },
     "metadata": {},
     "output_type": "display_data"
    },
    {
     "data": {
      "application/vnd.jupyter.widget-view+json": {
       "model_id": "3125e0a92fea467792a0e76f149df168",
       "version_major": 2,
       "version_minor": 0
      },
      "text/plain": [
       "Text(value='', description='aaa:')"
      ]
     },
     "metadata": {},
     "output_type": "display_data"
    },
    {
     "data": {
      "application/vnd.jupyter.widget-view+json": {
       "model_id": "4930a2fa226a4007b1ac313014e4be55",
       "version_major": 2,
       "version_minor": 0
      },
      "text/plain": [
       "Text(value='', description='aaaaaaaaaaaaaaaaaa:')"
      ]
     },
     "metadata": {},
     "output_type": "display_data"
    }
   ],
   "source": [
    "display(widgets.Text(description=\"a:\"))\n",
    "display(widgets.Text(description=\"aa:\"))\n",
    "display(widgets.Text(description=\"aaa:\"))\n",
    "display(widgets.Text(description=\"aaaaaaaaaaaaaaaaaa:\"))"
   ]
  },
  {
   "cell_type": "markdown",
   "metadata": {},
   "source": [
    "If a `description` is not set for the widget, the label is not displayed:"
   ]
  },
  {
   "cell_type": "code",
   "execution_count": 75,
   "metadata": {},
   "outputs": [
    {
     "data": {
      "application/vnd.jupyter.widget-view+json": {
       "model_id": "a06b0b45e72a485db622e2604feae03e",
       "version_major": 2,
       "version_minor": 0
      },
      "text/plain": [
       "Text(value='', description='a:')"
      ]
     },
     "metadata": {},
     "output_type": "display_data"
    },
    {
     "data": {
      "application/vnd.jupyter.widget-view+json": {
       "model_id": "a1a54484445441bdb252d1636341a5f2",
       "version_major": 2,
       "version_minor": 0
      },
      "text/plain": [
       "Text(value='', description='aa:')"
      ]
     },
     "metadata": {},
     "output_type": "display_data"
    },
    {
     "data": {
      "application/vnd.jupyter.widget-view+json": {
       "model_id": "8543c82fc2be42319232e98670583a1c",
       "version_major": 2,
       "version_minor": 0
      },
      "text/plain": [
       "Text(value='', description='aaa:')"
      ]
     },
     "metadata": {},
     "output_type": "display_data"
    },
    {
     "data": {
      "application/vnd.jupyter.widget-view+json": {
       "model_id": "c4382a9935b74c68835c66fcf4951734",
       "version_major": 2,
       "version_minor": 0
      },
      "text/plain": [
       "Text(value='')"
      ]
     },
     "metadata": {},
     "output_type": "display_data"
    }
   ],
   "source": [
    "display(widgets.Text(description=\"a:\"))\n",
    "display(widgets.Text(description=\"aa:\"))\n",
    "display(widgets.Text(description=\"aaa:\"))\n",
    "display(widgets.Text())"
   ]
  },
  {
   "cell_type": "markdown",
   "metadata": {},
   "source": [
    "## Flex boxes"
   ]
  },
  {
   "cell_type": "markdown",
   "metadata": {},
   "source": [
    "Widgets can be aligned using the `FlexBox`, `HBox`, and `VBox` widgets."
   ]
  },
  {
   "cell_type": "markdown",
   "metadata": {},
   "source": [
    "### Application to widgets"
   ]
  },
  {
   "cell_type": "markdown",
   "metadata": {},
   "source": [
    "Widgets display vertically by default:"
   ]
  },
  {
   "cell_type": "code",
   "execution_count": 76,
   "metadata": {},
   "outputs": [
    {
     "data": {
      "application/vnd.jupyter.widget-view+json": {
       "model_id": "2c17771f87f14b709e8f805c445d427b",
       "version_major": 2,
       "version_minor": 0
      },
      "text/plain": [
       "Button(description='0', style=ButtonStyle())"
      ]
     },
     "metadata": {},
     "output_type": "display_data"
    },
    {
     "data": {
      "application/vnd.jupyter.widget-view+json": {
       "model_id": "99b06c40ef15414cb025c2213af78295",
       "version_major": 2,
       "version_minor": 0
      },
      "text/plain": [
       "Button(description='1', style=ButtonStyle())"
      ]
     },
     "metadata": {},
     "output_type": "display_data"
    },
    {
     "data": {
      "application/vnd.jupyter.widget-view+json": {
       "model_id": "6624d332294c498f9eb625eb90317880",
       "version_major": 2,
       "version_minor": 0
      },
      "text/plain": [
       "Button(description='2', style=ButtonStyle())"
      ]
     },
     "metadata": {},
     "output_type": "display_data"
    }
   ],
   "source": [
    "buttons = [widgets.Button(description=str(i)) for i in range(3)]\n",
    "display(*buttons)"
   ]
  },
  {
   "cell_type": "markdown",
   "metadata": {},
   "source": [
    "### Using hbox"
   ]
  },
  {
   "cell_type": "markdown",
   "metadata": {},
   "source": [
    "To make widgets display horizontally, they can be children of an `HBox` widget."
   ]
  },
  {
   "cell_type": "code",
   "execution_count": 77,
   "metadata": {},
   "outputs": [
    {
     "data": {
      "application/vnd.jupyter.widget-view+json": {
       "model_id": "01ca108ec2384c51ae1fc6a1ce414378",
       "version_major": 2,
       "version_minor": 0
      },
      "text/plain": [
       "HBox(children=(Button(description='0', style=ButtonStyle()), Button(description='1', style=ButtonStyle()), But…"
      ]
     },
     "metadata": {},
     "output_type": "display_data"
    }
   ],
   "source": [
    "container = widgets.HBox(children=buttons)\n",
    "display(container)"
   ]
  },
  {
   "cell_type": "markdown",
   "metadata": {},
   "source": [
    "## Visibility"
   ]
  },
  {
   "cell_type": "markdown",
   "metadata": {},
   "source": [
    "The `visible` property of widgets can be used to hide or show widgets that have already been displayed (as seen below). The `visible` property can be:\n",
    "* `True` - the widget is displayed\n",
    "* `False` - the widget is hidden, and the empty space where the widget would be is collapsed\n",
    "* `None` - the widget is hidden, and the empty space where the widget would be is shown"
   ]
  },
  {
   "cell_type": "code",
   "execution_count": 78,
   "metadata": {},
   "outputs": [
    {
     "ename": "AttributeError",
     "evalue": "module 'ipywidgets' has no attribute 'Latex'",
     "output_type": "error",
     "traceback": [
      "\u001b[0;31m---------------------------------------------------------------------------\u001b[0m",
      "\u001b[0;31mAttributeError\u001b[0m                            Traceback (most recent call last)",
      "\u001b[0;32m<ipython-input-78-4d34a847a192>\u001b[0m in \u001b[0;36m<module>\u001b[0;34m\u001b[0m\n\u001b[0;32m----> 1\u001b[0;31m \u001b[0mw1\u001b[0m \u001b[0;34m=\u001b[0m \u001b[0mwidgets\u001b[0m\u001b[0;34m.\u001b[0m\u001b[0mLatex\u001b[0m\u001b[0;34m(\u001b[0m\u001b[0mvalue\u001b[0m\u001b[0;34m=\u001b[0m\u001b[0;34m\"First line\"\u001b[0m\u001b[0;34m)\u001b[0m\u001b[0;34m\u001b[0m\u001b[0;34m\u001b[0m\u001b[0m\n\u001b[0m\u001b[1;32m      2\u001b[0m \u001b[0mw2\u001b[0m \u001b[0;34m=\u001b[0m \u001b[0mwidgets\u001b[0m\u001b[0;34m.\u001b[0m\u001b[0mLatex\u001b[0m\u001b[0;34m(\u001b[0m\u001b[0mvalue\u001b[0m\u001b[0;34m=\u001b[0m\u001b[0;34m\"Second line\"\u001b[0m\u001b[0;34m)\u001b[0m\u001b[0;34m\u001b[0m\u001b[0;34m\u001b[0m\u001b[0m\n\u001b[1;32m      3\u001b[0m \u001b[0mw3\u001b[0m \u001b[0;34m=\u001b[0m \u001b[0mwidgets\u001b[0m\u001b[0;34m.\u001b[0m\u001b[0mLatex\u001b[0m\u001b[0;34m(\u001b[0m\u001b[0mvalue\u001b[0m\u001b[0;34m=\u001b[0m\u001b[0;34m\"Third line\"\u001b[0m\u001b[0;34m)\u001b[0m\u001b[0;34m\u001b[0m\u001b[0;34m\u001b[0m\u001b[0m\n\u001b[1;32m      4\u001b[0m \u001b[0mdisplay\u001b[0m\u001b[0;34m(\u001b[0m\u001b[0mw1\u001b[0m\u001b[0;34m,\u001b[0m \u001b[0mw2\u001b[0m\u001b[0;34m,\u001b[0m \u001b[0mw3\u001b[0m\u001b[0;34m)\u001b[0m\u001b[0;34m\u001b[0m\u001b[0;34m\u001b[0m\u001b[0m\n",
      "\u001b[0;31mAttributeError\u001b[0m: module 'ipywidgets' has no attribute 'Latex'"
     ]
    }
   ],
   "source": [
    "w1 = widgets.Latex(value=\"First line\")\n",
    "w2 = widgets.Latex(value=\"Second line\")\n",
    "w3 = widgets.Latex(value=\"Third line\")\n",
    "display(w1, w2, w3)"
   ]
  },
  {
   "cell_type": "code",
   "execution_count": 79,
   "metadata": {},
   "outputs": [
    {
     "ename": "AttributeError",
     "evalue": "module 'ipywidgets' has no attribute 'Latex'",
     "output_type": "error",
     "traceback": [
      "\u001b[0;31m---------------------------------------------------------------------------\u001b[0m",
      "\u001b[0;31mAttributeError\u001b[0m                            Traceback (most recent call last)",
      "\u001b[0;32m<ipython-input-79-4d34a847a192>\u001b[0m in \u001b[0;36m<module>\u001b[0;34m\u001b[0m\n\u001b[0;32m----> 1\u001b[0;31m \u001b[0mw1\u001b[0m \u001b[0;34m=\u001b[0m \u001b[0mwidgets\u001b[0m\u001b[0;34m.\u001b[0m\u001b[0mLatex\u001b[0m\u001b[0;34m(\u001b[0m\u001b[0mvalue\u001b[0m\u001b[0;34m=\u001b[0m\u001b[0;34m\"First line\"\u001b[0m\u001b[0;34m)\u001b[0m\u001b[0;34m\u001b[0m\u001b[0;34m\u001b[0m\u001b[0m\n\u001b[0m\u001b[1;32m      2\u001b[0m \u001b[0mw2\u001b[0m \u001b[0;34m=\u001b[0m \u001b[0mwidgets\u001b[0m\u001b[0;34m.\u001b[0m\u001b[0mLatex\u001b[0m\u001b[0;34m(\u001b[0m\u001b[0mvalue\u001b[0m\u001b[0;34m=\u001b[0m\u001b[0;34m\"Second line\"\u001b[0m\u001b[0;34m)\u001b[0m\u001b[0;34m\u001b[0m\u001b[0;34m\u001b[0m\u001b[0m\n\u001b[1;32m      3\u001b[0m \u001b[0mw3\u001b[0m \u001b[0;34m=\u001b[0m \u001b[0mwidgets\u001b[0m\u001b[0;34m.\u001b[0m\u001b[0mLatex\u001b[0m\u001b[0;34m(\u001b[0m\u001b[0mvalue\u001b[0m\u001b[0;34m=\u001b[0m\u001b[0;34m\"Third line\"\u001b[0m\u001b[0;34m)\u001b[0m\u001b[0;34m\u001b[0m\u001b[0;34m\u001b[0m\u001b[0m\n\u001b[1;32m      4\u001b[0m \u001b[0mdisplay\u001b[0m\u001b[0;34m(\u001b[0m\u001b[0mw1\u001b[0m\u001b[0;34m,\u001b[0m \u001b[0mw2\u001b[0m\u001b[0;34m,\u001b[0m \u001b[0mw3\u001b[0m\u001b[0;34m)\u001b[0m\u001b[0;34m\u001b[0m\u001b[0;34m\u001b[0m\u001b[0m\n",
      "\u001b[0;31mAttributeError\u001b[0m: module 'ipywidgets' has no attribute 'Latex'"
     ]
    }
   ],
   "source": [
    "w1 = widgets.Latex(value=\"First line\")\n",
    "w2 = widgets.Latex(value=\"Second line\")\n",
    "w3 = widgets.Latex(value=\"Third line\")\n",
    "display(w1, w2, w3)"
   ]
  },
  {
   "cell_type": "markdown",
   "metadata": {},
   "source": [
    "### Toinen esimerkki:\n",
    "\n",
    "In the example below, a form is rendered, which conditionally displays widgets depending on the state of other widgets. Try toggling the student check-box."
   ]
  },
  {
   "cell_type": "code",
   "execution_count": 81,
   "metadata": {},
   "outputs": [
    {
     "data": {
      "application/vnd.jupyter.widget-view+json": {
       "model_id": "b18f3fd328744b65b65f76f32079dc7a",
       "version_major": 2,
       "version_minor": 0
      },
      "text/plain": [
       "VBox(children=(Text(value='', description='First:'), Text(value='', description='Last:'), Checkbox(value=False…"
      ]
     },
     "metadata": {},
     "output_type": "display_data"
    }
   ],
   "source": [
    "form = widgets.VBox()\n",
    "first = widgets.Text(description=\"First:\")\n",
    "last = widgets.Text(description=\"Last:\")\n",
    "\n",
    "student = widgets.Checkbox(description=\"Student:\", value=False)\n",
    "school_info = widgets.VBox(visible=False, children=[\n",
    "    widgets.Text(description=\"School:\"),\n",
    "    widgets.IntText(description=\"Grade:\", min=0, max=12)\n",
    "    ])\n",
    "\n",
    "pet = widgets.Text(description=\"Pet:\")\n",
    "form.children = [first, last, student, school_info, pet]\n",
    "display(form)\n",
    "\n",
    "def on_student_toggle(name, value):\n",
    "    if value:\n",
    "        school_info.visible = True\n",
    "    else:\n",
    "        school_info.visible = False\n",
    "student.observe(on_student_toggle, 'value')\n"
   ]
  },
  {
   "cell_type": "markdown",
   "metadata": {},
   "source": [
    "# Conclusion\n",
    "\n",
    "You should now have an understanding of how to style widgets!"
   ]
  },
  {
   "cell_type": "markdown",
   "metadata": {},
   "source": [
    "# Custom Widget"
   ]
  },
  {
   "cell_type": "markdown",
   "metadata": {},
   "source": [
    "## Exploring the Lorenz System of Differential Equations\n",
    "\n",
    "In this Notebook we explore the Lorenz system of differential equations:\n",
    "\n",
    "$$\n",
    "\\begin{aligned}\n",
    "\\dot{x} & = \\sigma(y-x) \\\\\n",
    "\\dot{y} & = \\rho x - y - xz \\\\\n",
    "\\dot{z} & = -\\beta z + xy\n",
    "\\end{aligned}\n",
    "$$\n",
    "\n",
    "This is one of the classic systems in non-linear differential equations. It exhibits a range of different behaviors as the parameters ($\\sigma$, $\\beta$, $\\rho$) are varied.\n",
    "\n",
    "## Imports\n",
    "\n",
    "First, we import the needed things from IPython, [NumPy](http://www.numpy.org/), [Matplotlib](http://matplotlib.org/index.html) and [SciPy](http://www.scipy.org/). Check out the class [Learning Python for Data Analysis and Visualization]() if your interested in learning more about this part of Python!"
   ]
  },
  {
   "cell_type": "code",
   "execution_count": 97,
   "metadata": {},
   "outputs": [],
   "source": [
    "%matplotlib inline"
   ]
  },
  {
   "cell_type": "code",
   "execution_count": 98,
   "metadata": {},
   "outputs": [],
   "source": [
    "from ipywidgets import interact, interactive\n",
    "from IPython.display import clear_output, display, HTML"
   ]
  },
  {
   "cell_type": "code",
   "execution_count": 99,
   "metadata": {},
   "outputs": [],
   "source": [
    "import numpy as np\n",
    "from scipy import integrate\n",
    "\n",
    "from matplotlib import pyplot as plt\n",
    "from mpl_toolkits.mplot3d import Axes3D\n",
    "from matplotlib.colors import cnames\n",
    "from matplotlib import animation"
   ]
  },
  {
   "cell_type": "markdown",
   "metadata": {},
   "source": [
    "## Computing the trajectories and plotting the result\n",
    "\n",
    "We define a function that can integrate the differential equations numerically and then plot the solutions. This function has arguments that control the parameters of the differential equation ($\\sigma$, $\\beta$, $\\rho$), the numerical integration (`N`, `max_time`) and the visualization (`angle`)."
   ]
  },
  {
   "cell_type": "code",
   "execution_count": 100,
   "metadata": {},
   "outputs": [],
   "source": [
    "def solve_lorenz(N=10, angle=0.0, max_time=4.0, sigma=10.0, beta=8./3, rho=28.0):\n",
    "\n",
    "    fig = plt.figure();\n",
    "    ax = fig.add_axes([0, 0, 1, 1], projection='3d');\n",
    "    ax.axis('off')\n",
    "\n",
    "    # prepare the axes limits\n",
    "    ax.set_xlim((-25, 25))\n",
    "    ax.set_ylim((-35, 35))\n",
    "    ax.set_zlim((5, 55))\n",
    "    \n",
    "    def lorenz_deriv(x_y_z, t0, sigma=sigma, beta=beta, rho=rho):\n",
    "        \"\"\"Compute the time-derivative of a Lorenz system.\"\"\"\n",
    "        x, y, z = x_y_z\n",
    "        return [sigma * (y - x), x * (rho - z) - y, x * y - beta * z]\n",
    "\n",
    "    # Choose random starting points, uniformly distributed from -15 to 15\n",
    "    np.random.seed(1)\n",
    "    x0 = -15 + 30 * np.random.random((N, 3))\n",
    "\n",
    "    # Solve for the trajectories\n",
    "    t = np.linspace(0, max_time, int(250*max_time))\n",
    "    x_t = np.asarray([integrate.odeint(lorenz_deriv, x0i, t)\n",
    "                      for x0i in x0])\n",
    "    \n",
    "    # choose a different color for each trajectory\n",
    "    colors = plt.cm.jet(np.linspace(0, 1, N));\n",
    "\n",
    "    for i in range(N):\n",
    "        x, y, z = x_t[i,:,:].T\n",
    "        lines = ax.plot(x, y, z, '-', c=colors[i])\n",
    "        _ = plt.setp(lines, linewidth=2);\n",
    "\n",
    "    ax.view_init(30, angle)\n",
    "    _ = plt.show();\n",
    "\n",
    "    return t, x_t"
   ]
  },
  {
   "cell_type": "markdown",
   "metadata": {},
   "source": [
    "Let's call the function once to view the solutions. For this set of parameters, we see the trajectories swirling around two points, called attractors. "
   ]
  },
  {
   "cell_type": "code",
   "execution_count": 101,
   "metadata": {},
   "outputs": [
    {
     "data": {
      "image/png": "[encoded data removed]",
      "text/plain": [
       "<Figure size 432x288 with 1 Axes>"
      ]
     },
     "metadata": {
      "needs_background": "light"
     },
     "output_type": "display_data"
    }
   ],
   "source": [
    "t, x_t = solve_lorenz(angle=0, N=10)"
   ]
  },
  {
   "cell_type": "markdown",
   "metadata": {},
   "source": [
    "Using IPython's `interactive` function, we can explore how the trajectories behave as we change the various parameters."
   ]
  },
  {
   "cell_type": "code",
   "execution_count": 102,
   "metadata": {},
   "outputs": [
    {
     "data": {
      "application/vnd.jupyter.widget-view+json": {
       "model_id": "dac614570dde4b459dad0fc79a0bfe00",
       "version_major": 2,
       "version_minor": 0
      },
      "text/plain": [
       "interactive(children=(IntSlider(value=10, description='N', max=50), FloatSlider(value=0.0, description='angle'…"
      ]
     },
     "metadata": {},
     "output_type": "display_data"
    },
    {
     "data": {
      "image/png": "[encoded data removed]",
      "text/plain": [
       "<Figure size 432x288 with 1 Axes>"
      ]
     },
     "metadata": {
      "needs_background": "light"
     },
     "output_type": "display_data"
    },
    {
     "data": {
      "image/png": "[encoded data removed]",
      "text/plain": [
       "<Figure size 432x288 with 1 Axes>"
      ]
     },
     "metadata": {
      "needs_background": "light"
     },
     "output_type": "display_data"
    },
    {
     "data": {
      "image/png": "[encoded data removed]",
      "text/plain": [
       "<Figure size 432x288 with 1 Axes>"
      ]
     },
     "metadata": {
      "needs_background": "light"
     },
     "output_type": "display_data"
    },
    {
     "data": {
      "image/png": "[encoded data removed]",
      "text/plain": [
       "<Figure size 432x288 with 1 Axes>"
      ]
     },
     "metadata": {
      "needs_background": "light"
     },
     "output_type": "display_data"
    },
    {
     "data": {
      "image/png": "[encoded data removed]",
      "text/plain": [
       "<Figure size 432x288 with 1 Axes>"
      ]
     },
     "metadata": {
      "needs_background": "light"
     },
     "output_type": "display_data"
    },
    {
     "data": {
      "image/png": "[encoded data removed]",
      "text/plain": [
       "<Figure size 432x288 with 1 Axes>"
      ]
     },
     "metadata": {
      "needs_background": "light"
     },
     "output_type": "display_data"
    },
    {
     "data": {
      "image/png": "[encoded data removed]",
      "text/plain": [
       "<Figure size 432x288 with 1 Axes>"
      ]
     },
     "metadata": {
      "needs_background": "light"
     },
     "output_type": "display_data"
    },
    {
     "data": {
      "image/png": "[encoded data removed]",
      "text/plain": [
       "<Figure size 432x288 with 1 Axes>"
      ]
     },
     "metadata": {
      "needs_background": "light"
     },
     "output_type": "display_data"
    }
   ],
   "source": [
    "w = interactive(solve_lorenz, angle=(0.,360.), N=(0,50), sigma=(0.0,50.0), rho=(0.0,50.0))\n",
    "display(w);"
   ]
  },
  {
   "cell_type": "markdown",
   "metadata": {},
   "source": [
    "The object returned by `interactive` is a `Widget` object and it has attributes that contain the current result and arguments:"
   ]
  },
  {
   "cell_type": "code",
   "execution_count": 103,
   "metadata": {},
   "outputs": [
    {
     "data": {
      "text/plain": [
       "{'N': 46,\n",
       " 'angle': 144.4,\n",
       " 'max_time': 5.3,\n",
       " 'sigma': 10.0,\n",
       " 'beta': 2.93333,\n",
       " 'rho': 27.3}"
      ]
     },
     "execution_count": 103,
     "metadata": {},
     "output_type": "execute_result"
    }
   ],
   "source": [
    "t, x_t = w.result\n",
    "\n",
    "w.kwargs"
   ]
  },
  {
   "cell_type": "markdown",
   "metadata": {},
   "source": [
    "After interacting with the system, we can take the result and perform further computations. In this case, we compute the average positions in $x$, $y$ and $z$."
   ]
  },
  {
   "cell_type": "code",
   "execution_count": 104,
   "metadata": {},
   "outputs": [
    {
     "data": {
      "text/plain": [
       "(46, 3)"
      ]
     },
     "execution_count": 104,
     "metadata": {},
     "output_type": "execute_result"
    }
   ],
   "source": [
    "xyz_avg = x_t.mean(axis=1)\n",
    "\n",
    "xyz_avg.shape"
   ]
  },
  {
   "cell_type": "markdown",
   "metadata": {},
   "source": [
    "Creating histograms of the average positions (across different trajectories) show that on average the trajectories swirl about the attractors."
   ]
  },
  {
   "cell_type": "markdown",
   "metadata": {},
   "source": [
    "# Conclusion\n",
    "\n",
    "Hopefully you've enjoyed using widgets in the Jupyter Notebook system and have begun to explore the other GUI possibilities for Python!"
   ]
  },
  {
   "cell_type": "markdown",
   "metadata": {},
   "source": [
    "# Python Bootcamp completed 29th May 2020.\n",
    "\n",
    "Regards,\n",
    "\n",
    "Dr. Jari Jokela"
   ]
  },
  {
   "cell_type": "markdown",
   "metadata": {},
   "source": [
    "Nurmijärvi\n",
    "Finland"
   ]
  }
 ],
 "metadata": {
  "kernelspec": {
   "display_name": "Python 3",
   "language": "python",
   "name": "python3"
  },
  "language_info": {
   "codemirror_mode": {
    "name": "ipython",
    "version": 3
   },
   "file_extension": ".py",
   "mimetype": "text/x-python",
   "name": "python",
   "nbconvert_exporter": "python",
   "pygments_lexer": "ipython3",
   "version": "3.7.7"
  }
 },
 "nbformat": 4,
 "nbformat_minor": 4
}
